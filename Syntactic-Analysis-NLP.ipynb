{
 "cells": [
  {
   "cell_type": "markdown",
   "metadata": {},
   "source": [
    "####################################\n",
    "### Data Preparation\n",
    "####################################"
   ]
  },
  {
   "cell_type": "code",
   "execution_count": 1,
   "metadata": {},
   "outputs": [],
   "source": [
    "#Importing required libraries\n",
    "import nltk\n",
    "import numpy as np\n",
    "import pandas as pd\n",
    "import random\n",
    "from sklearn.model_selection import train_test_split\n",
    "import matplotlib.pyplot as plt\n",
    "import seaborn as sns\n",
    "import pprint, time\n",
    "from collections import Counter"
   ]
  },
  {
   "cell_type": "code",
   "execution_count": 2,
   "metadata": {},
   "outputs": [],
   "source": [
    "# reading the Treebank tagged sentences\n",
    "nltk_data = list(nltk.corpus.treebank.tagged_sents(tagset='universal'))"
   ]
  },
  {
   "cell_type": "code",
   "execution_count": 3,
   "metadata": {},
   "outputs": [
    {
     "name": "stdout",
     "output_type": "stream",
     "text": [
      "[[('Mr.', 'NOUN'), ('Vinken', 'NOUN'), ('is', 'VERB'), ('chairman', 'NOUN'), ('of', 'ADP'), ('Elsevier', 'NOUN'), ('N.V.', 'NOUN'), (',', '.'), ('the', 'DET'), ('Dutch', 'NOUN'), ('publishing', 'VERB'), ('group', 'NOUN'), ('.', '.')], [('Rudolph', 'NOUN'), ('Agnew', 'NOUN'), (',', '.'), ('55', 'NUM'), ('years', 'NOUN'), ('old', 'ADJ'), ('and', 'CONJ'), ('former', 'ADJ'), ('chairman', 'NOUN'), ('of', 'ADP'), ('Consolidated', 'NOUN'), ('Gold', 'NOUN'), ('Fields', 'NOUN'), ('PLC', 'NOUN'), (',', '.'), ('was', 'VERB'), ('named', 'VERB'), ('*-1', 'X'), ('a', 'DET'), ('nonexecutive', 'ADJ'), ('director', 'NOUN'), ('of', 'ADP'), ('this', 'DET'), ('British', 'ADJ'), ('industrial', 'ADJ'), ('conglomerate', 'NOUN'), ('.', '.')], [('A', 'DET'), ('form', 'NOUN'), ('of', 'ADP'), ('asbestos', 'NOUN'), ('once', 'ADV'), ('used', 'VERB'), ('*', 'X'), ('*', 'X'), ('to', 'PRT'), ('make', 'VERB'), ('Kent', 'NOUN'), ('cigarette', 'NOUN'), ('filters', 'NOUN'), ('has', 'VERB'), ('caused', 'VERB'), ('a', 'DET'), ('high', 'ADJ'), ('percentage', 'NOUN'), ('of', 'ADP'), ('cancer', 'NOUN'), ('deaths', 'NOUN'), ('among', 'ADP'), ('a', 'DET'), ('group', 'NOUN'), ('of', 'ADP'), ('workers', 'NOUN'), ('exposed', 'VERB'), ('*', 'X'), ('to', 'PRT'), ('it', 'PRON'), ('more', 'ADV'), ('than', 'ADP'), ('30', 'NUM'), ('years', 'NOUN'), ('ago', 'ADP'), (',', '.'), ('researchers', 'NOUN'), ('reported', 'VERB'), ('0', 'X'), ('*T*-1', 'X'), ('.', '.')], [('The', 'DET'), ('asbestos', 'NOUN'), ('fiber', 'NOUN'), (',', '.'), ('crocidolite', 'NOUN'), (',', '.'), ('is', 'VERB'), ('unusually', 'ADV'), ('resilient', 'ADJ'), ('once', 'ADP'), ('it', 'PRON'), ('enters', 'VERB'), ('the', 'DET'), ('lungs', 'NOUN'), (',', '.'), ('with', 'ADP'), ('even', 'ADV'), ('brief', 'ADJ'), ('exposures', 'NOUN'), ('to', 'PRT'), ('it', 'PRON'), ('causing', 'VERB'), ('symptoms', 'NOUN'), ('that', 'DET'), ('*T*-1', 'X'), ('show', 'VERB'), ('up', 'PRT'), ('decades', 'NOUN'), ('later', 'ADJ'), (',', '.'), ('researchers', 'NOUN'), ('said', 'VERB'), ('0', 'X'), ('*T*-2', 'X'), ('.', '.')], [('Lorillard', 'NOUN'), ('Inc.', 'NOUN'), (',', '.'), ('the', 'DET'), ('unit', 'NOUN'), ('of', 'ADP'), ('New', 'ADJ'), ('York-based', 'ADJ'), ('Loews', 'NOUN'), ('Corp.', 'NOUN'), ('that', 'DET'), ('*T*-2', 'X'), ('makes', 'VERB'), ('Kent', 'NOUN'), ('cigarettes', 'NOUN'), (',', '.'), ('stopped', 'VERB'), ('using', 'VERB'), ('crocidolite', 'NOUN'), ('in', 'ADP'), ('its', 'PRON'), ('Micronite', 'NOUN'), ('cigarette', 'NOUN'), ('filters', 'NOUN'), ('in', 'ADP'), ('1956', 'NUM'), ('.', '.')], [('Although', 'ADP'), ('preliminary', 'ADJ'), ('findings', 'NOUN'), ('were', 'VERB'), ('reported', 'VERB'), ('*-2', 'X'), ('more', 'ADV'), ('than', 'ADP'), ('a', 'DET'), ('year', 'NOUN'), ('ago', 'ADP'), (',', '.'), ('the', 'DET'), ('latest', 'ADJ'), ('results', 'NOUN'), ('appear', 'VERB'), ('in', 'ADP'), ('today', 'NOUN'), (\"'s\", 'PRT'), ('New', 'NOUN'), ('England', 'NOUN'), ('Journal', 'NOUN'), ('of', 'ADP'), ('Medicine', 'NOUN'), (',', '.'), ('a', 'DET'), ('forum', 'NOUN'), ('likely', 'ADJ'), ('*', 'X'), ('to', 'PRT'), ('bring', 'VERB'), ('new', 'ADJ'), ('attention', 'NOUN'), ('to', 'PRT'), ('the', 'DET'), ('problem', 'NOUN'), ('.', '.')], [('A', 'DET'), ('Lorillard', 'NOUN'), ('spokewoman', 'NOUN'), ('said', 'VERB'), (',', '.'), ('``', '.'), ('This', 'DET'), ('is', 'VERB'), ('an', 'DET'), ('old', 'ADJ'), ('story', 'NOUN'), ('.', '.')], [('We', 'PRON'), (\"'re\", 'VERB'), ('talking', 'VERB'), ('about', 'ADP'), ('years', 'NOUN'), ('ago', 'ADP'), ('before', 'ADP'), ('anyone', 'NOUN'), ('heard', 'VERB'), ('of', 'ADP'), ('asbestos', 'NOUN'), ('having', 'VERB'), ('any', 'DET'), ('questionable', 'ADJ'), ('properties', 'NOUN'), ('.', '.')], [('There', 'DET'), ('is', 'VERB'), ('no', 'DET'), ('asbestos', 'NOUN'), ('in', 'ADP'), ('our', 'PRON'), ('products', 'NOUN'), ('now', 'ADV'), ('.', '.'), (\"''\", '.')], [('Neither', 'DET'), ('Lorillard', 'NOUN'), ('nor', 'CONJ'), ('the', 'DET'), ('researchers', 'NOUN'), ('who', 'PRON'), ('*T*-3', 'X'), ('studied', 'VERB'), ('the', 'DET'), ('workers', 'NOUN'), ('were', 'VERB'), ('aware', 'ADJ'), ('of', 'ADP'), ('any', 'DET'), ('research', 'NOUN'), ('on', 'ADP'), ('smokers', 'NOUN'), ('of', 'ADP'), ('the', 'DET'), ('Kent', 'NOUN'), ('cigarettes', 'NOUN'), ('.', '.')], [('``', '.'), ('We', 'PRON'), ('have', 'VERB'), ('no', 'DET'), ('useful', 'ADJ'), ('information', 'NOUN'), ('on', 'ADP'), ('whether', 'ADP'), ('users', 'NOUN'), ('are', 'VERB'), ('at', 'ADP'), ('risk', 'NOUN'), (',', '.'), (\"''\", '.'), ('said', 'VERB'), ('*T*-1', 'X'), ('James', 'NOUN'), ('A.', 'NOUN'), ('Talcott', 'NOUN'), ('of', 'ADP'), ('Boston', 'NOUN'), (\"'s\", 'PRT'), ('Dana-Farber', 'NOUN'), ('Cancer', 'NOUN'), ('Institute', 'NOUN'), ('.', '.')], [('Dr.', 'NOUN'), ('Talcott', 'NOUN'), ('led', 'VERB'), ('a', 'DET'), ('team', 'NOUN'), ('of', 'ADP'), ('researchers', 'NOUN'), ('from', 'ADP'), ('the', 'DET'), ('National', 'NOUN'), ('Cancer', 'NOUN'), ('Institute', 'NOUN'), ('and', 'CONJ'), ('the', 'DET'), ('medical', 'ADJ'), ('schools', 'NOUN'), ('of', 'ADP'), ('Harvard', 'NOUN'), ('University', 'NOUN'), ('and', 'CONJ'), ('Boston', 'NOUN'), ('University', 'NOUN'), ('.', '.')], [('The', 'DET'), ('Lorillard', 'NOUN'), ('spokeswoman', 'NOUN'), ('said', 'VERB'), ('0', 'X'), ('asbestos', 'NOUN'), ('was', 'VERB'), ('used', 'VERB'), ('*-1', 'X'), ('in', 'ADP'), ('``', '.'), ('very', 'ADV'), ('modest', 'ADJ'), ('amounts', 'NOUN'), (\"''\", '.'), ('in', 'ADP'), ('*', 'X'), ('making', 'VERB'), ('paper', 'NOUN'), ('for', 'ADP'), ('the', 'DET'), ('filters', 'NOUN'), ('in', 'ADP'), ('the', 'DET'), ('early', 'ADJ'), ('1950s', 'NUM'), ('and', 'CONJ'), ('replaced', 'VERB'), ('*-1', 'X'), ('with', 'ADP'), ('a', 'DET'), ('different', 'ADJ'), ('type', 'NOUN'), ('of', 'ADP'), ('filter', 'NOUN'), ('in', 'ADP'), ('1956', 'NUM'), ('.', '.')], [('From', 'ADP'), ('1953', 'NUM'), ('to', 'PRT'), ('1955', 'NUM'), (',', '.'), ('9.8', 'NUM'), ('billion', 'NUM'), ('Kent', 'NOUN'), ('cigarettes', 'NOUN'), ('with', 'ADP'), ('the', 'DET'), ('filters', 'NOUN'), ('were', 'VERB'), ('sold', 'VERB'), ('*-3', 'X'), (',', '.'), ('the', 'DET'), ('company', 'NOUN'), ('said', 'VERB'), ('0', 'X'), ('*T*-1', 'X'), ('.', '.')]]\n"
     ]
    }
   ],
   "source": [
    "# First few tagged sentences\n",
    "print(nltk_data[1:15])"
   ]
  },
  {
   "cell_type": "markdown",
   "metadata": {},
   "source": [
    "################################################# \n",
    "### Splitting into Train-Test Data\n",
    "#################################################"
   ]
  },
  {
   "cell_type": "code",
   "execution_count": 4,
   "metadata": {},
   "outputs": [],
   "source": [
    "# Train-Test split\n",
    "# 95% train sizr and 5% test size\n",
    "train_set,test_set = train_test_split(nltk_data,train_size=0.95,test_size=0.05,random_state = 42)"
   ]
  },
  {
   "cell_type": "code",
   "execution_count": 5,
   "metadata": {},
   "outputs": [
    {
     "data": {
      "text/plain": [
       "[('of', 'ADP'),\n",
       " ('New', 'NOUN'),\n",
       " ('England', 'NOUN'),\n",
       " (\"'s\", 'PRT'),\n",
       " ('shares', 'NOUN'),\n",
       " ('are', 'VERB'),\n",
       " ('traded', 'VERB'),\n",
       " ('*-1', 'X'),\n",
       " ('on', 'ADP'),\n",
       " ('the', 'DET'),\n",
       " ('New', 'NOUN'),\n",
       " ('York', 'NOUN'),\n",
       " ('Stock', 'NOUN'),\n",
       " ('Exchange', 'NOUN'),\n",
       " ('.', '.')]"
      ]
     },
     "execution_count": 5,
     "metadata": {},
     "output_type": "execute_result"
    }
   ],
   "source": [
    "# Getting list of train tagged words\n",
    "train_tagged_words = [tup for sent in train_set for tup in sent]\n",
    "train_tagged_words[1:16]"
   ]
  },
  {
   "cell_type": "code",
   "execution_count": 6,
   "metadata": {},
   "outputs": [
    {
     "data": {
      "text/plain": [
       "95589"
      ]
     },
     "execution_count": 6,
     "metadata": {},
     "output_type": "execute_result"
    }
   ],
   "source": [
    "# Total number of train tagged words\n",
    "len(train_tagged_words)"
   ]
  },
  {
   "cell_type": "code",
   "execution_count": 7,
   "metadata": {},
   "outputs": [
    {
     "data": {
      "text/plain": [
       "[('of', 'ADP'),\n",
       " ('New', 'NOUN'),\n",
       " ('England', 'NOUN'),\n",
       " (\"'s\", 'PRT'),\n",
       " ('shares', 'NOUN'),\n",
       " ('are', 'VERB'),\n",
       " ('traded', 'VERB'),\n",
       " ('*-1', 'X'),\n",
       " ('on', 'ADP'),\n",
       " ('the', 'DET'),\n",
       " ('New', 'NOUN'),\n",
       " ('York', 'NOUN'),\n",
       " ('Stock', 'NOUN'),\n",
       " ('Exchange', 'NOUN'),\n",
       " ('.', '.')]"
      ]
     },
     "execution_count": 7,
     "metadata": {},
     "output_type": "execute_result"
    }
   ],
   "source": [
    "# Getting list of test tagged words\n",
    "test_tagged_words = [tup for sent in test_set for tup in sent]\n",
    "train_tagged_words[1:16]"
   ]
  },
  {
   "cell_type": "code",
   "execution_count": 8,
   "metadata": {},
   "outputs": [
    {
     "data": {
      "text/plain": [
       "5087"
      ]
     },
     "execution_count": 8,
     "metadata": {},
     "output_type": "execute_result"
    }
   ],
   "source": [
    "# Total number of test tagged words\n",
    "len(test_tagged_words)"
   ]
  },
  {
   "cell_type": "markdown",
   "metadata": {},
   "source": [
    "##########################################\n",
    "### Displaying the tags\n",
    "##########################################"
   ]
  },
  {
   "cell_type": "code",
   "execution_count": 9,
   "metadata": {},
   "outputs": [
    {
     "data": {
      "text/plain": [
       "12"
      ]
     },
     "execution_count": 9,
     "metadata": {},
     "output_type": "execute_result"
    }
   ],
   "source": [
    "# number of tags\n",
    "T = set([pair[1] for pair in train_tagged_words])\n",
    "len(T)"
   ]
  },
  {
   "cell_type": "code",
   "execution_count": 10,
   "metadata": {},
   "outputs": [
    {
     "name": "stdout",
     "output_type": "stream",
     "text": [
      "{'CONJ', 'VERB', 'ADP', '.', 'PRON', 'DET', 'ADJ', 'PRT', 'NUM', 'ADV', 'NOUN', 'X'}\n"
     ]
    }
   ],
   "source": [
    "print(T)"
   ]
  },
  {
   "cell_type": "markdown",
   "metadata": {},
   "source": [
    "###############################################\n",
    "### Total Vacabulary\n",
    "###############################################"
   ]
  },
  {
   "cell_type": "code",
   "execution_count": 11,
   "metadata": {},
   "outputs": [
    {
     "data": {
      "text/plain": [
       "['Bank', 'of', 'New', 'England', \"'s\", 'shares', 'are', 'traded', '*-1', 'on']"
      ]
     },
     "execution_count": 11,
     "metadata": {},
     "output_type": "execute_result"
    }
   ],
   "source": [
    "# Displaying Tokens in Train Data Set\n",
    "tokens_train = [pair[0] for pair in train_tagged_words]\n",
    "tokens_train[:10]"
   ]
  },
  {
   "cell_type": "code",
   "execution_count": 12,
   "metadata": {},
   "outputs": [
    {
     "name": "stdout",
     "output_type": "stream",
     "text": [
      "12109\n"
     ]
    }
   ],
   "source": [
    "# Total Tokens in Train Data Set\n",
    "V_train = set(tokens_train)\n",
    "print(len(V_train))"
   ]
  },
  {
   "cell_type": "code",
   "execution_count": 13,
   "metadata": {},
   "outputs": [
    {
     "data": {
      "text/plain": [
       "['For',\n",
       " 'the',\n",
       " 'Agency',\n",
       " 'for',\n",
       " 'International',\n",
       " 'Development',\n",
       " ',',\n",
       " 'appropriators',\n",
       " 'approved',\n",
       " '$']"
      ]
     },
     "execution_count": 13,
     "metadata": {},
     "output_type": "execute_result"
    }
   ],
   "source": [
    "# Displaying Tokens in Test Data Set\n",
    "tokens_test = [pair[0] for pair in test_tagged_words]\n",
    "tokens_test[:10]"
   ]
  },
  {
   "cell_type": "code",
   "execution_count": 14,
   "metadata": {},
   "outputs": [
    {
     "name": "stdout",
     "output_type": "stream",
     "text": [
      "1872\n"
     ]
    }
   ],
   "source": [
    "# Total Tokens in Test Data Set\n",
    "V_test = set(tokens_test)\n",
    "print(len(V_test))"
   ]
  },
  {
   "cell_type": "markdown",
   "metadata": {},
   "source": [
    "#################################################################################\n",
    "### Build the vanilla Viterbi based POS tagger\n",
    "#################################################################################"
   ]
  },
  {
   "cell_type": "markdown",
   "metadata": {},
   "source": [
    "### POS Tagging Algorithm - HMM\n",
    "\n",
    "We'll use the HMM algorithm to tag the words. Given a sequence of words to be tagged, the task is to assign the most probable tag to the word. \n",
    "\n",
    "In other words, to every word w, assign the tag t that maximises the likelihood P(t/w). Since P(t/w) = P(w/t). P(t) / P(w), after ignoring P(w), we have to compute P(w/t) and P(t).\n",
    "\n",
    "\n",
    "P(w/t) is basically the probability that given a tag (say NN), what is the probability of it being w (say 'building'). This can be computed by computing the fraction of all NNs which are equal to w, i.e. \n",
    "\n",
    "P(w/t) = count(w, t) / count(t). \n",
    "\n",
    "\n",
    "The term P(t) is the probability of tag t, and in a tagging task, we assume that a tag will depend only on the previous tag. In other words, the probability of a tag being NN will depend only on the previous tag t(n-1). So for e.g. if t(n-1) is a JJ, then t(n) is likely to be an NN since adjectives often precede a noun (blue coat, tall building etc.).\n",
    "\n",
    "\n",
    "Given the penn treebank tagged dataset, we can compute the two terms P(w/t) and P(t) and store them in two large matrices. The matrix of P(w/t) will be sparse, since each word will not be seen with most tags ever, and those terms will thus be zero. "
   ]
  },
  {
   "cell_type": "markdown",
   "metadata": {},
   "source": [
    "### Emission Probabilities"
   ]
  },
  {
   "cell_type": "code",
   "execution_count": 15,
   "metadata": {},
   "outputs": [],
   "source": [
    "# computing P(w/t) and storing in T x V matrix\n",
    "t = len(T)\n",
    "v_train = len(V_train)\n",
    "w_given_t = np.zeros((t, v_train))"
   ]
  },
  {
   "cell_type": "code",
   "execution_count": 16,
   "metadata": {},
   "outputs": [],
   "source": [
    "# compute word given tag: Emission Probability\n",
    "def word_given_tag(word, tag, train_bag = train_tagged_words):\n",
    "    tag_list = [pair for pair in train_bag if pair[1]==tag]\n",
    "    count_tag = len(tag_list)\n",
    "    w_given_tag_list = [pair[0] for pair in tag_list if pair[0]==word]\n",
    "    count_w_given_tag = len(w_given_tag_list)\n",
    "    return (count_w_given_tag, count_tag)"
   ]
  },
  {
   "cell_type": "markdown",
   "metadata": {},
   "source": [
    "### Transition Probabilities"
   ]
  },
  {
   "cell_type": "code",
   "execution_count": 17,
   "metadata": {},
   "outputs": [],
   "source": [
    "# compute tag given tag: tag2(t2) given tag1 (t1), i.e. Transition Probability\n",
    "def t2_given_t1(t2, t1, train_bag = train_tagged_words):\n",
    "    tags = [pair[1] for pair in train_bag]\n",
    "    count_t1 = len([t for t in tags if t==t1])\n",
    "    count_t2_t1 = 0\n",
    "    for index in range(len(tags)-1):\n",
    "        if tags[index]==t1 and tags[index+1] == t2:\n",
    "            count_t2_t1 += 1\n",
    "    return (count_t2_t1, count_t1)"
   ]
  },
  {
   "cell_type": "code",
   "execution_count": 18,
   "metadata": {},
   "outputs": [],
   "source": [
    "# creating t x t transition matrix of tags\n",
    "# each column is t2, each row is t1\n",
    "# thus M(i, j) represents P(tj given ti)\n",
    "tags_matrix = np.zeros((len(T), len(T)), dtype='float32')\n",
    "for i, t1 in enumerate(list(T)):\n",
    "    for j, t2 in enumerate(list(T)): \n",
    "        tags_matrix[i, j] = t2_given_t1(t2, t1)[0]/t2_given_t1(t2, t1)[1]"
   ]
  },
  {
   "cell_type": "code",
   "execution_count": 19,
   "metadata": {},
   "outputs": [
    {
     "data": {
      "text/html": [
       "<div>\n",
       "<style scoped>\n",
       "    .dataframe tbody tr th:only-of-type {\n",
       "        vertical-align: middle;\n",
       "    }\n",
       "\n",
       "    .dataframe tbody tr th {\n",
       "        vertical-align: top;\n",
       "    }\n",
       "\n",
       "    .dataframe thead th {\n",
       "        text-align: right;\n",
       "    }\n",
       "</style>\n",
       "<table border=\"1\" class=\"dataframe\">\n",
       "  <thead>\n",
       "    <tr style=\"text-align: right;\">\n",
       "      <th></th>\n",
       "      <th>CONJ</th>\n",
       "      <th>VERB</th>\n",
       "      <th>ADP</th>\n",
       "      <th>.</th>\n",
       "      <th>PRON</th>\n",
       "      <th>DET</th>\n",
       "      <th>ADJ</th>\n",
       "      <th>PRT</th>\n",
       "      <th>NUM</th>\n",
       "      <th>ADV</th>\n",
       "      <th>NOUN</th>\n",
       "      <th>X</th>\n",
       "    </tr>\n",
       "  </thead>\n",
       "  <tbody>\n",
       "    <tr>\n",
       "      <th>CONJ</th>\n",
       "      <td>0.000469</td>\n",
       "      <td>0.153918</td>\n",
       "      <td>0.054435</td>\n",
       "      <td>0.034256</td>\n",
       "      <td>0.058658</td>\n",
       "      <td>0.121539</td>\n",
       "      <td>0.116847</td>\n",
       "      <td>0.004693</td>\n",
       "      <td>0.042234</td>\n",
       "      <td>0.055842</td>\n",
       "      <td>0.349132</td>\n",
       "      <td>0.007977</td>\n",
       "    </tr>\n",
       "    <tr>\n",
       "      <th>VERB</th>\n",
       "      <td>0.005588</td>\n",
       "      <td>0.169189</td>\n",
       "      <td>0.090493</td>\n",
       "      <td>0.035312</td>\n",
       "      <td>0.036244</td>\n",
       "      <td>0.133101</td>\n",
       "      <td>0.064649</td>\n",
       "      <td>0.031121</td>\n",
       "      <td>0.022817</td>\n",
       "      <td>0.082577</td>\n",
       "      <td>0.110904</td>\n",
       "      <td>0.218005</td>\n",
       "    </tr>\n",
       "    <tr>\n",
       "      <th>ADP</th>\n",
       "      <td>0.000856</td>\n",
       "      <td>0.008240</td>\n",
       "      <td>0.017228</td>\n",
       "      <td>0.039486</td>\n",
       "      <td>0.069128</td>\n",
       "      <td>0.326378</td>\n",
       "      <td>0.105297</td>\n",
       "      <td>0.001498</td>\n",
       "      <td>0.062921</td>\n",
       "      <td>0.013162</td>\n",
       "      <td>0.321776</td>\n",
       "      <td>0.034029</td>\n",
       "    </tr>\n",
       "    <tr>\n",
       "      <th>.</th>\n",
       "      <td>0.057924</td>\n",
       "      <td>0.088505</td>\n",
       "      <td>0.091114</td>\n",
       "      <td>0.093812</td>\n",
       "      <td>0.065389</td>\n",
       "      <td>0.173502</td>\n",
       "      <td>0.044972</td>\n",
       "      <td>0.002339</td>\n",
       "      <td>0.080500</td>\n",
       "      <td>0.052078</td>\n",
       "      <td>0.223152</td>\n",
       "      <td>0.026623</td>\n",
       "    </tr>\n",
       "    <tr>\n",
       "      <th>PRON</th>\n",
       "      <td>0.004966</td>\n",
       "      <td>0.480901</td>\n",
       "      <td>0.022918</td>\n",
       "      <td>0.041253</td>\n",
       "      <td>0.008021</td>\n",
       "      <td>0.009549</td>\n",
       "      <td>0.074866</td>\n",
       "      <td>0.012223</td>\n",
       "      <td>0.007257</td>\n",
       "      <td>0.033995</td>\n",
       "      <td>0.211230</td>\n",
       "      <td>0.092819</td>\n",
       "    </tr>\n",
       "    <tr>\n",
       "      <th>DET</th>\n",
       "      <td>0.000483</td>\n",
       "      <td>0.038387</td>\n",
       "      <td>0.009054</td>\n",
       "      <td>0.017986</td>\n",
       "      <td>0.003742</td>\n",
       "      <td>0.005311</td>\n",
       "      <td>0.204973</td>\n",
       "      <td>0.000241</td>\n",
       "      <td>0.021970</td>\n",
       "      <td>0.012313</td>\n",
       "      <td>0.640029</td>\n",
       "      <td>0.045509</td>\n",
       "    </tr>\n",
       "    <tr>\n",
       "      <th>ADJ</th>\n",
       "      <td>0.016949</td>\n",
       "      <td>0.012342</td>\n",
       "      <td>0.078986</td>\n",
       "      <td>0.065328</td>\n",
       "      <td>0.000658</td>\n",
       "      <td>0.005101</td>\n",
       "      <td>0.066645</td>\n",
       "      <td>0.010861</td>\n",
       "      <td>0.020405</td>\n",
       "      <td>0.004608</td>\n",
       "      <td>0.696725</td>\n",
       "      <td>0.021392</td>\n",
       "    </tr>\n",
       "    <tr>\n",
       "      <th>PRT</th>\n",
       "      <td>0.002288</td>\n",
       "      <td>0.402746</td>\n",
       "      <td>0.021576</td>\n",
       "      <td>0.041517</td>\n",
       "      <td>0.018960</td>\n",
       "      <td>0.100360</td>\n",
       "      <td>0.086303</td>\n",
       "      <td>0.001635</td>\n",
       "      <td>0.058516</td>\n",
       "      <td>0.010134</td>\n",
       "      <td>0.242563</td>\n",
       "      <td>0.013403</td>\n",
       "    </tr>\n",
       "    <tr>\n",
       "      <th>NUM</th>\n",
       "      <td>0.013381</td>\n",
       "      <td>0.017544</td>\n",
       "      <td>0.034790</td>\n",
       "      <td>0.118347</td>\n",
       "      <td>0.001487</td>\n",
       "      <td>0.003271</td>\n",
       "      <td>0.034196</td>\n",
       "      <td>0.027951</td>\n",
       "      <td>0.184062</td>\n",
       "      <td>0.002974</td>\n",
       "      <td>0.355338</td>\n",
       "      <td>0.206661</td>\n",
       "    </tr>\n",
       "    <tr>\n",
       "      <th>ADV</th>\n",
       "      <td>0.006312</td>\n",
       "      <td>0.344518</td>\n",
       "      <td>0.119601</td>\n",
       "      <td>0.136877</td>\n",
       "      <td>0.015615</td>\n",
       "      <td>0.067110</td>\n",
       "      <td>0.130233</td>\n",
       "      <td>0.013621</td>\n",
       "      <td>0.030565</td>\n",
       "      <td>0.081063</td>\n",
       "      <td>0.030897</td>\n",
       "      <td>0.023588</td>\n",
       "    </tr>\n",
       "    <tr>\n",
       "      <th>NOUN</th>\n",
       "      <td>0.041936</td>\n",
       "      <td>0.147978</td>\n",
       "      <td>0.176275</td>\n",
       "      <td>0.239179</td>\n",
       "      <td>0.004923</td>\n",
       "      <td>0.013310</td>\n",
       "      <td>0.012289</td>\n",
       "      <td>0.043832</td>\n",
       "      <td>0.009627</td>\n",
       "      <td>0.016884</td>\n",
       "      <td>0.264632</td>\n",
       "      <td>0.029136</td>\n",
       "    </tr>\n",
       "    <tr>\n",
       "      <th>X</th>\n",
       "      <td>0.010357</td>\n",
       "      <td>0.203633</td>\n",
       "      <td>0.142925</td>\n",
       "      <td>0.163799</td>\n",
       "      <td>0.056087</td>\n",
       "      <td>0.055131</td>\n",
       "      <td>0.016571</td>\n",
       "      <td>0.185787</td>\n",
       "      <td>0.002709</td>\n",
       "      <td>0.025175</td>\n",
       "      <td>0.061345</td>\n",
       "      <td>0.076482</td>\n",
       "    </tr>\n",
       "  </tbody>\n",
       "</table>\n",
       "</div>"
      ],
      "text/plain": [
       "          CONJ      VERB       ADP         .      PRON       DET       ADJ  \\\n",
       "CONJ  0.000469  0.153918  0.054435  0.034256  0.058658  0.121539  0.116847   \n",
       "VERB  0.005588  0.169189  0.090493  0.035312  0.036244  0.133101  0.064649   \n",
       "ADP   0.000856  0.008240  0.017228  0.039486  0.069128  0.326378  0.105297   \n",
       ".     0.057924  0.088505  0.091114  0.093812  0.065389  0.173502  0.044972   \n",
       "PRON  0.004966  0.480901  0.022918  0.041253  0.008021  0.009549  0.074866   \n",
       "DET   0.000483  0.038387  0.009054  0.017986  0.003742  0.005311  0.204973   \n",
       "ADJ   0.016949  0.012342  0.078986  0.065328  0.000658  0.005101  0.066645   \n",
       "PRT   0.002288  0.402746  0.021576  0.041517  0.018960  0.100360  0.086303   \n",
       "NUM   0.013381  0.017544  0.034790  0.118347  0.001487  0.003271  0.034196   \n",
       "ADV   0.006312  0.344518  0.119601  0.136877  0.015615  0.067110  0.130233   \n",
       "NOUN  0.041936  0.147978  0.176275  0.239179  0.004923  0.013310  0.012289   \n",
       "X     0.010357  0.203633  0.142925  0.163799  0.056087  0.055131  0.016571   \n",
       "\n",
       "           PRT       NUM       ADV      NOUN         X  \n",
       "CONJ  0.004693  0.042234  0.055842  0.349132  0.007977  \n",
       "VERB  0.031121  0.022817  0.082577  0.110904  0.218005  \n",
       "ADP   0.001498  0.062921  0.013162  0.321776  0.034029  \n",
       ".     0.002339  0.080500  0.052078  0.223152  0.026623  \n",
       "PRON  0.012223  0.007257  0.033995  0.211230  0.092819  \n",
       "DET   0.000241  0.021970  0.012313  0.640029  0.045509  \n",
       "ADJ   0.010861  0.020405  0.004608  0.696725  0.021392  \n",
       "PRT   0.001635  0.058516  0.010134  0.242563  0.013403  \n",
       "NUM   0.027951  0.184062  0.002974  0.355338  0.206661  \n",
       "ADV   0.013621  0.030565  0.081063  0.030897  0.023588  \n",
       "NOUN  0.043832  0.009627  0.016884  0.264632  0.029136  \n",
       "X     0.185787  0.002709  0.025175  0.061345  0.076482  "
      ]
     },
     "execution_count": 19,
     "metadata": {},
     "output_type": "execute_result"
    }
   ],
   "source": [
    "# convert the matrix to a df for better readability\n",
    "tags_df = pd.DataFrame(tags_matrix, columns = list(T), index=list(T))\n",
    "tags_df"
   ]
  },
  {
   "cell_type": "code",
   "execution_count": 20,
   "metadata": {},
   "outputs": [
    {
     "data": {
      "text/plain": [
       "CONJ    0.057924\n",
       "VERB    0.088505\n",
       "ADP     0.091114\n",
       ".       0.093812\n",
       "PRON    0.065389\n",
       "DET     0.173502\n",
       "ADJ     0.044972\n",
       "PRT     0.002339\n",
       "NUM     0.080500\n",
       "ADV     0.052078\n",
       "NOUN    0.223152\n",
       "X       0.026623\n",
       "Name: ., dtype: float32"
      ]
     },
     "execution_count": 20,
     "metadata": {},
     "output_type": "execute_result"
    }
   ],
   "source": [
    "tags_df.loc['.', :]"
   ]
  },
  {
   "cell_type": "code",
   "execution_count": 21,
   "metadata": {},
   "outputs": [
    {
     "data": {
      "image/png": "[encoded data removed]",
      "text/plain": [
       "<Figure size 1296x864 with 2 Axes>"
      ]
     },
     "metadata": {
      "needs_background": "light"
     },
     "output_type": "display_data"
    }
   ],
   "source": [
    "# heatmap of tags matrix\n",
    "# T(i, j) means P(tag j given tag i)\n",
    "plt.figure(figsize=(18, 12))\n",
    "sns.heatmap(tags_df)\n",
    "plt.show()"
   ]
  },
  {
   "cell_type": "code",
   "execution_count": 22,
   "metadata": {},
   "outputs": [
    {
     "data": {
      "image/png": "[encoded data removed]",
      "text/plain": [
       "<Figure size 1296x864 with 2 Axes>"
      ]
     },
     "metadata": {
      "needs_background": "light"
     },
     "output_type": "display_data"
    }
   ],
   "source": [
    "# frequent tags\n",
    "# filter the df to get P(t2, t1) > 0.5\n",
    "tags_frequent = tags_df[tags_df>0.5]\n",
    "plt.figure(figsize=(18, 12))\n",
    "sns.heatmap(tags_frequent)\n",
    "plt.show()"
   ]
  },
  {
   "cell_type": "markdown",
   "metadata": {},
   "source": [
    "### Viterbi Algorithm\n",
    "\n",
    "Let's now use the computed probabilities P(w, tag) and P(t2, t1) to assign tags to each word in the document. We'll run through each word w and compute P(tag/w)=P(w/tag).P(tag) for each tag in the tag set, and then assign the tag having the max P(tag/w).\n",
    "\n",
    "We'll store the assigned tags in a list of tuples, similar to the list 'train_tagged_words'. Each tuple will be a (token, assigned_tag). As we progress further in the list, each tag to be assigned will use the tag of the previous token.\n",
    "\n",
    "Note: P(tag|start) = P(tag|'.') "
   ]
  },
  {
   "cell_type": "code",
   "execution_count": 23,
   "metadata": {},
   "outputs": [],
   "source": [
    "# Viterbi Heuristic\n",
    "def Viterbi(words, train_bag = train_tagged_words):\n",
    "    state = []\n",
    "    T = list(set([pair[1] for pair in train_bag]))\n",
    "    \n",
    "    for key, word in enumerate(words):\n",
    "        #initialise list of probability column for a given observation\n",
    "        p = [] \n",
    "        for tag in T:\n",
    "            if key == 0:\n",
    "                transition_p = tags_df.loc['.', tag]\n",
    "            else:\n",
    "                transition_p = tags_df.loc[state[-1], tag]\n",
    "                \n",
    "            # compute emission and state probabilities\n",
    "            emission_p = word_given_tag(words[key], tag)[0]/word_given_tag(words[key], tag)[1]\n",
    "            state_probability = emission_p * transition_p    \n",
    "            p.append(state_probability)\n",
    "            \n",
    "        pmax = max(p)\n",
    "        # getting state for which probability is maximum\n",
    "        state_max = T[p.index(pmax)] \n",
    "        state.append(state_max)\n",
    "    return list(zip(words, state))"
   ]
  },
  {
   "cell_type": "markdown",
   "metadata": {},
   "source": [
    "### Evaluating on Test Set"
   ]
  },
  {
   "cell_type": "code",
   "execution_count": 24,
   "metadata": {},
   "outputs": [
    {
     "data": {
      "text/plain": [
       "[[('Shearson', 'NOUN'),\n",
       "  ('``', '.'),\n",
       "  ('really', 'ADV'),\n",
       "  ('only', 'ADV'),\n",
       "  ('has', 'VERB'),\n",
       "  ('$', '.'),\n",
       "  ('300', 'NUM'),\n",
       "  ('million', 'NUM'),\n",
       "  ('*U*', 'X'),\n",
       "  ('of', 'ADP'),\n",
       "  ('capital', 'NOUN'),\n",
       "  (',', '.'),\n",
       "  (\"''\", '.'),\n",
       "  ('says', 'VERB'),\n",
       "  ('*T*-1', 'X'),\n",
       "  ('Mr.', 'NOUN'),\n",
       "  ('Bowman', 'NOUN'),\n",
       "  ('of', 'ADP'),\n",
       "  ('S&P', 'NOUN'),\n",
       "  ('.', '.')],\n",
       " [('ShareData', 'NOUN'),\n",
       "  ('develops', 'VERB'),\n",
       "  ('and', 'CONJ'),\n",
       "  ('markets', 'VERB'),\n",
       "  ('low-cost', 'ADJ'),\n",
       "  ('software', 'NOUN'),\n",
       "  (',', '.'),\n",
       "  ('peripheral', 'ADJ'),\n",
       "  ('equipment', 'NOUN'),\n",
       "  ('and', 'CONJ'),\n",
       "  ('accessories', 'NOUN'),\n",
       "  ('for', 'ADP'),\n",
       "  ('computers', 'NOUN'),\n",
       "  ('.', '.')],\n",
       " [('Moscow', 'NOUN'),\n",
       "  ('has', 'VERB'),\n",
       "  ('settled', 'VERB'),\n",
       "  ('pre-1917', 'ADJ'),\n",
       "  ('debts', 'NOUN'),\n",
       "  ('with', 'ADP'),\n",
       "  ('other', 'ADJ'),\n",
       "  ('countries', 'NOUN'),\n",
       "  ('in', 'ADP'),\n",
       "  ('recent', 'ADJ'),\n",
       "  ('years', 'NOUN'),\n",
       "  ('at', 'ADP'),\n",
       "  ('less', 'ADJ'),\n",
       "  ('than', 'ADP'),\n",
       "  ('face', 'NOUN'),\n",
       "  ('value', 'NOUN'),\n",
       "  ('.', '.')],\n",
       " [('When', 'ADV'),\n",
       "  ('test', 'NOUN'),\n",
       "  ('booklets', 'NOUN'),\n",
       "  ('were', 'VERB'),\n",
       "  ('passed', 'VERB'),\n",
       "  ('*-1', 'X'),\n",
       "  ('out', 'ADV'),\n",
       "  ('48', 'NUM'),\n",
       "  ('hours', 'NOUN'),\n",
       "  ('ahead', 'ADV'),\n",
       "  ('of', 'ADP'),\n",
       "  ('time', 'NOUN'),\n",
       "  ('*T*-2', 'X'),\n",
       "  (',', '.'),\n",
       "  ('she', 'PRON'),\n",
       "  ('says', 'VERB'),\n",
       "  ('0', 'X'),\n",
       "  ('she', 'PRON'),\n",
       "  ('copied', 'VERB'),\n",
       "  ('questions', 'NOUN'),\n",
       "  ('in', 'ADP'),\n",
       "  ('the', 'DET'),\n",
       "  ('social', 'ADJ'),\n",
       "  ('studies', 'NOUN'),\n",
       "  ('section', 'NOUN'),\n",
       "  ('and', 'CONJ'),\n",
       "  ('gave', 'VERB'),\n",
       "  ('the', 'DET'),\n",
       "  ('answers', 'NOUN'),\n",
       "  ('to', 'PRT'),\n",
       "  ('students', 'NOUN'),\n",
       "  ('.', '.')],\n",
       " [('The', 'DET'),\n",
       "  ('Life', 'NOUN'),\n",
       "  ('Insurance', 'NOUN'),\n",
       "  ('Co.', 'NOUN'),\n",
       "  ('of', 'ADP'),\n",
       "  ('Georgia', 'NOUN'),\n",
       "  ('has', 'VERB'),\n",
       "  ('officially', 'ADV'),\n",
       "  ('opened', 'VERB'),\n",
       "  ('an', 'DET'),\n",
       "  ('office', 'NOUN'),\n",
       "  ('in', 'ADP'),\n",
       "  ('Taipei', 'NOUN'),\n",
       "  ('.', '.')],\n",
       " [('Big', 'NOUN'),\n",
       "  ('Board', 'NOUN'),\n",
       "  ('volume', 'NOUN'),\n",
       "  ('totaled', 'VERB'),\n",
       "  ('154.2', 'NUM'),\n",
       "  ('million', 'NUM'),\n",
       "  ('shares', 'NOUN'),\n",
       "  ('.', '.')],\n",
       " [('All', 'DET'),\n",
       "  ('of', 'ADP'),\n",
       "  ('this', 'DET'),\n",
       "  ('must', 'VERB'),\n",
       "  ('have', 'VERB'),\n",
       "  ('been', 'VERB'),\n",
       "  ('enormously', 'ADV'),\n",
       "  ('frustrating', 'VERB'),\n",
       "  ('to', 'PRT'),\n",
       "  ('Mr.', 'NOUN'),\n",
       "  ('Katzenstein', 'NOUN'),\n",
       "  (',', '.'),\n",
       "  ('who', 'PRON'),\n",
       "  ('*T*-59', 'X'),\n",
       "  ('went', 'VERB'),\n",
       "  ('to', 'PRT'),\n",
       "  ('Sony', 'NOUN'),\n",
       "  ('with', 'ADP'),\n",
       "  ('degrees', 'NOUN'),\n",
       "  ('in', 'ADP'),\n",
       "  ('business', 'NOUN'),\n",
       "  ('and', 'CONJ'),\n",
       "  ('computer', 'NOUN'),\n",
       "  ('science', 'NOUN'),\n",
       "  ('and', 'CONJ'),\n",
       "  ('was', 'VERB'),\n",
       "  ('raring', 'ADJ'),\n",
       "  ('*-1', 'X'),\n",
       "  ('to', 'PRT'),\n",
       "  ('invent', 'VERB'),\n",
       "  ('another', 'DET'),\n",
       "  ('Walkman', 'NOUN'),\n",
       "  ('.', '.')],\n",
       " [('USX', 'NOUN'),\n",
       "  ('announced', 'VERB'),\n",
       "  ('in', 'ADP'),\n",
       "  ('October', 'NOUN'),\n",
       "  ('that', 'ADP'),\n",
       "  ('it', 'PRON'),\n",
       "  ('was', 'VERB'),\n",
       "  ('soliciting', 'VERB'),\n",
       "  ('bids', 'NOUN'),\n",
       "  ('*', 'X'),\n",
       "  ('to', 'PRT'),\n",
       "  ('sell', 'VERB'),\n",
       "  ('TXO', 'NOUN'),\n",
       "  (\"'s\", 'PRT'),\n",
       "  ('oil', 'NOUN'),\n",
       "  ('and', 'CONJ'),\n",
       "  ('gas', 'NOUN'),\n",
       "  ('reserves', 'NOUN'),\n",
       "  ('.', '.')],\n",
       " [('That', 'DET'),\n",
       "  ('followed', 'VERB'),\n",
       "  ('four', 'NUM'),\n",
       "  ('straight', 'ADJ'),\n",
       "  ('months', 'NOUN'),\n",
       "  ('in', 'ADP'),\n",
       "  ('which', 'DET'),\n",
       "  ('the', 'DET'),\n",
       "  ('number', 'NOUN'),\n",
       "  ('of', 'ADP'),\n",
       "  ('increases', 'NOUN'),\n",
       "  ('trailed', 'VERB'),\n",
       "  ('the', 'DET'),\n",
       "  ('year-earlier', 'ADJ'),\n",
       "  ('pace', 'NOUN'),\n",
       "  ('*T*-1', 'X'),\n",
       "  ('.', '.')],\n",
       " [('Imports', 'NOUN'),\n",
       "  ('of', 'ADP'),\n",
       "  ('manmade-fiber', 'ADJ'),\n",
       "  ('sweaters', 'NOUN'),\n",
       "  ('in', 'ADP'),\n",
       "  ('1988', 'NUM'),\n",
       "  ('totaled', 'VERB'),\n",
       "  ('about', 'ADP'),\n",
       "  ('$', '.'),\n",
       "  ('405', 'NUM'),\n",
       "  ('million', 'NUM'),\n",
       "  ('*U*', 'X'),\n",
       "  ('from', 'ADP'),\n",
       "  ('Taiwan', 'NOUN'),\n",
       "  (',', '.'),\n",
       "  ('$', '.'),\n",
       "  ('400', 'NUM'),\n",
       "  ('million', 'NUM'),\n",
       "  ('*U*', 'X'),\n",
       "  ('from', 'ADP'),\n",
       "  ('South', 'NOUN'),\n",
       "  ('Korea', 'NOUN'),\n",
       "  ('and', 'CONJ'),\n",
       "  ('$', '.'),\n",
       "  ('125', 'NUM'),\n",
       "  ('million', 'NUM'),\n",
       "  ('*U*', 'X'),\n",
       "  ('from', 'ADP'),\n",
       "  ('Hong', 'NOUN'),\n",
       "  ('Kong', 'NOUN'),\n",
       "  (',', '.'),\n",
       "  ('according', 'VERB'),\n",
       "  ('to', 'PRT'),\n",
       "  ('the', 'DET'),\n",
       "  ('ITC', 'NOUN'),\n",
       "  ('.', '.')],\n",
       " [('A', 'DET'),\n",
       "  ('White', 'NOUN'),\n",
       "  ('House', 'NOUN'),\n",
       "  ('spokesman', 'NOUN'),\n",
       "  ('condemned', 'VERB'),\n",
       "  ('the', 'DET'),\n",
       "  ('truce', 'NOUN'),\n",
       "  ('suspension', 'NOUN'),\n",
       "  ('as', 'ADP'),\n",
       "  ('``', '.'),\n",
       "  ('deplorable', 'ADJ'),\n",
       "  (\"''\", '.'),\n",
       "  ('but', 'CONJ'),\n",
       "  ('brushed', 'VERB'),\n",
       "  ('off', 'PRT'),\n",
       "  ('talk', 'NOUN'),\n",
       "  ('of', 'ADP'),\n",
       "  ('*', 'X'),\n",
       "  ('renewing', 'VERB'),\n",
       "  ('military', 'ADJ'),\n",
       "  ('funding', 'NOUN'),\n",
       "  ('for', 'ADP'),\n",
       "  ('the', 'DET'),\n",
       "  ('insurgents', 'NOUN'),\n",
       "  ('.', '.')],\n",
       " [('This', 'DET'),\n",
       "  ('interpretation', 'NOUN'),\n",
       "  ('was', 'VERB'),\n",
       "  ('officially', 'ADV'),\n",
       "  ('endorsed', 'VERB'),\n",
       "  ('*-1', 'X'),\n",
       "  ('by', 'ADP'),\n",
       "  ('Congress', 'NOUN'),\n",
       "  ('in', 'ADP'),\n",
       "  ('1987', 'NUM'),\n",
       "  ('in', 'ADP'),\n",
       "  ('the', 'DET'),\n",
       "  ('Iran-Contra', 'NOUN'),\n",
       "  ('Report', 'NOUN'),\n",
       "  ('.', '.')],\n",
       " [('*-1', 'X'),\n",
       "  ('Funded', 'VERB'),\n",
       "  ('*-2', 'X'),\n",
       "  ('by', 'ADP'),\n",
       "  ('a', 'DET'),\n",
       "  ('$', '.'),\n",
       "  ('1', 'NUM'),\n",
       "  ('million', 'NUM'),\n",
       "  ('*U*', 'X'),\n",
       "  ('gift', 'NOUN'),\n",
       "  ('from', 'ADP'),\n",
       "  ('Tokio', 'NOUN'),\n",
       "  ('Marine', 'NOUN'),\n",
       "  ('&', 'CONJ'),\n",
       "  ('Fire', 'NOUN'),\n",
       "  ('Insurance', 'NOUN'),\n",
       "  (',', '.'),\n",
       "  ('the', 'DET'),\n",
       "  ('service', 'NOUN'),\n",
       "  ('will', 'VERB'),\n",
       "  ('follow', 'VERB'),\n",
       "  ('Japanese', 'ADJ'),\n",
       "  ('medical', 'ADJ'),\n",
       "  ('protocols', 'NOUN'),\n",
       "  (',', '.'),\n",
       "  ('including', 'VERB'),\n",
       "  ('emphasis', 'NOUN'),\n",
       "  ('on', 'ADP'),\n",
       "  ('preventative', 'ADJ'),\n",
       "  ('medicine', 'NOUN'),\n",
       "  ('.', '.')],\n",
       " [('Though', 'ADP'),\n",
       "  ('some', 'DET'),\n",
       "  ('lawyers', 'NOUN'),\n",
       "  ('reported', 'VERB'),\n",
       "  ('that', 'ADP'),\n",
       "  ('prospective', 'ADJ'),\n",
       "  ('acquirers', 'NOUN'),\n",
       "  ('were', 'VERB'),\n",
       "  ('scrambling', 'VERB'),\n",
       "  ('*-1', 'X'),\n",
       "  ('to', 'PRT'),\n",
       "  ('make', 'VERB'),\n",
       "  ('filings', 'NOUN'),\n",
       "  ('before', 'ADP'),\n",
       "  ('the', 'DET'),\n",
       "  ('fees', 'NOUN'),\n",
       "  ('take', 'VERB'),\n",
       "  ('effect', 'NOUN'),\n",
       "  (',', '.'),\n",
       "  ('government', 'NOUN'),\n",
       "  ('officials', 'NOUN'),\n",
       "  ('said', 'VERB'),\n",
       "  ('0', 'X'),\n",
       "  ('they', 'PRON'),\n",
       "  ('had', 'VERB'),\n",
       "  (\"n't\", 'ADV'),\n",
       "  ('noticed', 'VERB'),\n",
       "  ('any', 'DET'),\n",
       "  ('surge', 'NOUN'),\n",
       "  ('in', 'ADP'),\n",
       "  ('filings', 'NOUN'),\n",
       "  ('.', '.')],\n",
       " [('*-1', 'X'),\n",
       "  ('Funded', 'VERB'),\n",
       "  ('*-2', 'X'),\n",
       "  ('by', 'ADP'),\n",
       "  ('a', 'DET'),\n",
       "  ('$', '.'),\n",
       "  ('1', 'NUM'),\n",
       "  ('million', 'NUM'),\n",
       "  ('*U*', 'X'),\n",
       "  ('gift', 'NOUN'),\n",
       "  ('from', 'ADP'),\n",
       "  ('Tokio', 'NOUN'),\n",
       "  ('Marine', 'NOUN'),\n",
       "  ('&', 'CONJ'),\n",
       "  ('Fire', 'NOUN'),\n",
       "  ('Insurance', 'NOUN'),\n",
       "  (',', '.'),\n",
       "  ('the', 'DET'),\n",
       "  ('service', 'NOUN'),\n",
       "  ('will', 'VERB'),\n",
       "  ('follow', 'VERB'),\n",
       "  ('Japanese', 'ADJ'),\n",
       "  ('medical', 'ADJ'),\n",
       "  ('protocols', 'NOUN'),\n",
       "  (',', '.'),\n",
       "  ('including', 'VERB'),\n",
       "  ('emphasis', 'NOUN'),\n",
       "  ('on', 'ADP'),\n",
       "  ('preventative', 'ADJ'),\n",
       "  ('medicine', 'NOUN'),\n",
       "  ('.', '.')]]"
      ]
     },
     "execution_count": 24,
     "metadata": {},
     "output_type": "execute_result"
    }
   ],
   "source": [
    "# Running on entire test dataset would take more than 3-4hrs. \n",
    "# Let's test our Viterbi algorithm on a few sample sentences of test dataset\n",
    "\n",
    "random.seed(1234)\n",
    "\n",
    "# choose random 15 sents\n",
    "rndom = [random.randint(1,len(test_set)) for x in range(15)]\n",
    "\n",
    "# list of sents\n",
    "test_run = [test_set[i] for i in rndom]\n",
    "\n",
    "# list of tagged words\n",
    "test_run_base = [tup for sent in test_run for tup in sent]\n",
    "\n",
    "# list of untagged words\n",
    "test_tagged_words = [tup[0] for sent in test_run for tup in sent]\n",
    "test_run"
   ]
  },
  {
   "cell_type": "code",
   "execution_count": 25,
   "metadata": {},
   "outputs": [
    {
     "name": "stdout",
     "output_type": "stream",
     "text": [
      "[('Shearson', 'NOUN'), ('``', '.'), ('really', 'ADV'), ('only', 'ADV'), ('has', 'VERB'), ('$', '.'), ('300', 'NUM'), ('million', 'NUM'), ('*U*', 'X'), ('of', 'ADP'), ('capital', 'NOUN'), (',', '.'), (\"''\", '.'), ('says', 'VERB'), ('*T*-1', 'X'), ('Mr.', 'NOUN'), ('Bowman', 'NOUN'), ('of', 'ADP'), ('S&P', 'NOUN'), ('.', '.'), ('ShareData', 'NOUN'), ('develops', 'CONJ'), ('and', 'CONJ'), ('markets', 'NOUN'), ('low-cost', 'CONJ'), ('software', 'NOUN'), (',', '.'), ('peripheral', 'ADJ'), ('equipment', 'NOUN'), ('and', 'CONJ'), ('accessories', 'NOUN'), ('for', 'ADP'), ('computers', 'NOUN'), ('.', '.'), ('Moscow', 'NOUN'), ('has', 'VERB'), ('settled', 'VERB'), ('pre-1917', 'CONJ'), ('debts', 'NOUN'), ('with', 'ADP'), ('other', 'ADJ'), ('countries', 'NOUN'), ('in', 'ADP'), ('recent', 'ADJ'), ('years', 'NOUN'), ('at', 'ADP'), ('less', 'ADJ'), ('than', 'ADP'), ('face', 'NOUN'), ('value', 'NOUN'), ('.', '.'), ('When', 'ADV'), ('test', 'VERB'), ('booklets', 'NOUN'), ('were', 'VERB'), ('passed', 'VERB'), ('*-1', 'X'), ('out', 'PRT'), ('48', 'NUM'), ('hours', 'NOUN'), ('ahead', 'ADV'), ('of', 'ADP'), ('time', 'NOUN'), ('*T*-2', 'X'), (',', '.'), ('she', 'PRON'), ('says', 'VERB'), ('0', 'X'), ('she', 'PRON'), ('copied', 'CONJ'), ('questions', 'NOUN'), ('in', 'ADP'), ('the', 'DET'), ('social', 'ADJ'), ('studies', 'NOUN'), ('section', 'NOUN'), ('and', 'CONJ'), ('gave', 'VERB'), ('the', 'DET'), ('answers', 'NOUN'), ('to', 'PRT'), ('students', 'NOUN'), ('.', '.'), ('The', 'DET'), ('Life', 'NOUN'), ('Insurance', 'NOUN'), ('Co.', 'NOUN'), ('of', 'ADP'), ('Georgia', 'NOUN'), ('has', 'VERB'), ('officially', 'ADV'), ('opened', 'VERB'), ('an', 'DET'), ('office', 'NOUN'), ('in', 'ADP'), ('Taipei', 'NOUN'), ('.', '.'), ('Big', 'NOUN'), ('Board', 'NOUN'), ('volume', 'NOUN'), ('totaled', 'VERB'), ('154.2', 'CONJ'), ('million', 'NUM'), ('shares', 'NOUN'), ('.', '.'), ('All', 'DET'), ('of', 'ADP'), ('this', 'DET'), ('must', 'VERB'), ('have', 'VERB'), ('been', 'VERB'), ('enormously', 'CONJ'), ('frustrating', 'CONJ'), ('to', 'PRT'), ('Mr.', 'NOUN'), ('Katzenstein', 'NOUN'), (',', '.'), ('who', 'PRON'), ('*T*-59', 'X'), ('went', 'VERB'), ('to', 'PRT'), ('Sony', 'NOUN'), ('with', 'ADP'), ('degrees', 'NOUN'), ('in', 'ADP'), ('business', 'NOUN'), ('and', 'CONJ'), ('computer', 'NOUN'), ('science', 'CONJ'), ('and', 'CONJ'), ('was', 'VERB'), ('raring', 'CONJ'), ('*-1', 'X'), ('to', 'PRT'), ('invent', 'CONJ'), ('another', 'DET'), ('Walkman', 'CONJ'), ('.', '.'), ('USX', 'NOUN'), ('announced', 'VERB'), ('in', 'ADP'), ('October', 'NOUN'), ('that', 'ADP'), ('it', 'PRON'), ('was', 'VERB'), ('soliciting', 'CONJ'), ('bids', 'NOUN'), ('*', 'X'), ('to', 'PRT'), ('sell', 'VERB'), ('TXO', 'CONJ'), (\"'s\", 'VERB'), ('oil', 'NOUN'), ('and', 'CONJ'), ('gas', 'NOUN'), ('reserves', 'NOUN'), ('.', '.'), ('That', 'DET'), ('followed', 'VERB'), ('four', 'NUM'), ('straight', 'ADJ'), ('months', 'NOUN'), ('in', 'ADP'), ('which', 'DET'), ('the', 'DET'), ('number', 'NOUN'), ('of', 'ADP'), ('increases', 'NOUN'), ('trailed', 'VERB'), ('the', 'DET'), ('year-earlier', 'ADJ'), ('pace', 'NOUN'), ('*T*-1', 'X'), ('.', '.'), ('Imports', 'NOUN'), ('of', 'ADP'), ('manmade-fiber', 'CONJ'), ('sweaters', 'NOUN'), ('in', 'ADP'), ('1988', 'NUM'), ('totaled', 'VERB'), ('about', 'ADP'), ('$', '.'), ('405', 'CONJ'), ('million', 'NUM'), ('*U*', 'X'), ('from', 'ADP'), ('Taiwan', 'NOUN'), (',', '.'), ('$', '.'), ('400', 'NUM'), ('million', 'NUM'), ('*U*', 'X'), ('from', 'ADP'), ('South', 'NOUN'), ('Korea', 'NOUN'), ('and', 'CONJ'), ('$', '.'), ('125', 'NUM'), ('million', 'NUM'), ('*U*', 'X'), ('from', 'ADP'), ('Hong', 'NOUN'), ('Kong', 'NOUN'), (',', '.'), ('according', 'VERB'), ('to', 'PRT'), ('the', 'DET'), ('ITC', 'NOUN'), ('.', '.'), ('A', 'DET'), ('White', 'NOUN'), ('House', 'NOUN'), ('spokesman', 'NOUN'), ('condemned', 'VERB'), ('the', 'DET'), ('truce', 'NOUN'), ('suspension', 'NOUN'), ('as', 'ADP'), ('``', '.'), ('deplorable', 'CONJ'), (\"''\", '.'), ('but', 'CONJ'), ('brushed', 'CONJ'), ('off', 'ADV'), ('talk', 'VERB'), ('of', 'ADP'), ('*', 'X'), ('renewing', 'CONJ'), ('military', 'ADJ'), ('funding', 'NOUN'), ('for', 'ADP'), ('the', 'DET'), ('insurgents', 'CONJ'), ('.', '.'), ('This', 'DET'), ('interpretation', 'NOUN'), ('was', 'VERB'), ('officially', 'ADV'), ('endorsed', 'VERB'), ('*-1', 'X'), ('by', 'ADP'), ('Congress', 'NOUN'), ('in', 'ADP'), ('1987', 'NUM'), ('in', 'ADP'), ('the', 'DET'), ('Iran-Contra', 'CONJ'), ('Report', 'NOUN'), ('.', '.'), ('*-1', 'X'), ('Funded', 'CONJ'), ('*-2', 'X'), ('by', 'ADP'), ('a', 'DET'), ('$', '.'), ('1', 'NUM'), ('million', 'NUM'), ('*U*', 'X'), ('gift', 'NOUN'), ('from', 'ADP'), ('Tokio', 'CONJ'), ('Marine', 'NOUN'), ('&', 'CONJ'), ('Fire', 'NOUN'), ('Insurance', 'NOUN'), (',', '.'), ('the', 'DET'), ('service', 'NOUN'), ('will', 'VERB'), ('follow', 'VERB'), ('Japanese', 'ADJ'), ('medical', 'ADJ'), ('protocols', 'CONJ'), (',', '.'), ('including', 'VERB'), ('emphasis', 'NOUN'), ('on', 'ADP'), ('preventative', 'CONJ'), ('medicine', 'NOUN'), ('.', '.'), ('Though', 'CONJ'), ('some', 'DET'), ('lawyers', 'NOUN'), ('reported', 'VERB'), ('that', 'ADP'), ('prospective', 'ADJ'), ('acquirers', 'CONJ'), ('were', 'VERB'), ('scrambling', 'VERB'), ('*-1', 'X'), ('to', 'PRT'), ('make', 'VERB'), ('filings', 'NOUN'), ('before', 'ADP'), ('the', 'DET'), ('fees', 'NOUN'), ('take', 'VERB'), ('effect', 'NOUN'), (',', '.'), ('government', 'NOUN'), ('officials', 'NOUN'), ('said', 'VERB'), ('0', 'X'), ('they', 'PRON'), ('had', 'VERB'), (\"n't\", 'ADV'), ('noticed', 'CONJ'), ('any', 'DET'), ('surge', 'NOUN'), ('in', 'ADP'), ('filings', 'NOUN'), ('.', '.'), ('*-1', 'X'), ('Funded', 'CONJ'), ('*-2', 'X'), ('by', 'ADP'), ('a', 'DET'), ('$', '.'), ('1', 'NUM'), ('million', 'NUM'), ('*U*', 'X'), ('gift', 'NOUN'), ('from', 'ADP'), ('Tokio', 'CONJ'), ('Marine', 'NOUN'), ('&', 'CONJ'), ('Fire', 'NOUN'), ('Insurance', 'NOUN'), (',', '.'), ('the', 'DET'), ('service', 'NOUN'), ('will', 'VERB'), ('follow', 'VERB'), ('Japanese', 'ADJ'), ('medical', 'ADJ'), ('protocols', 'CONJ'), (',', '.'), ('including', 'VERB'), ('emphasis', 'NOUN'), ('on', 'ADP'), ('preventative', 'CONJ'), ('medicine', 'NOUN'), ('.', '.')]\n"
     ]
    }
   ],
   "source": [
    "# tagging the test sentences\n",
    "start = time.time()\n",
    "tagged_seq = Viterbi(test_tagged_words)\n",
    "end = time.time()\n",
    "print(tagged_seq)"
   ]
  },
  {
   "cell_type": "code",
   "execution_count": 26,
   "metadata": {},
   "outputs": [
    {
     "name": "stdout",
     "output_type": "stream",
     "text": [
      "Time taken in seconds:  167.32692790031433\n"
     ]
    }
   ],
   "source": [
    "# Printing the time\n",
    "difference = end-start\n",
    "print(\"Time taken in seconds: \", difference)"
   ]
  },
  {
   "cell_type": "markdown",
   "metadata": {},
   "source": [
    "### Accuracy on Test Set"
   ]
  },
  {
   "cell_type": "code",
   "execution_count": 27,
   "metadata": {},
   "outputs": [],
   "source": [
    "# accuracy\n",
    "check = [i for i, j in zip(tagged_seq, test_run_base) if i == j]"
   ]
  },
  {
   "cell_type": "code",
   "execution_count": 28,
   "metadata": {},
   "outputs": [
    {
     "data": {
      "text/plain": [
       "0.8924418604651163"
      ]
     },
     "execution_count": 28,
     "metadata": {},
     "output_type": "execute_result"
    }
   ],
   "source": [
    "accuracy = len(check)/len(tagged_seq)\n",
    "accuracy"
   ]
  },
  {
   "cell_type": "markdown",
   "metadata": {},
   "source": [
    "### Incorrect tagged cases"
   ]
  },
  {
   "cell_type": "code",
   "execution_count": 30,
   "metadata": {},
   "outputs": [
    {
     "data": {
      "text/plain": [
       "[('develops', 'CONJ'),\n",
       " ('markets', 'NOUN'),\n",
       " ('low-cost', 'CONJ'),\n",
       " ('pre-1917', 'CONJ'),\n",
       " ('test', 'VERB'),\n",
       " ('out', 'PRT'),\n",
       " ('copied', 'CONJ'),\n",
       " ('154.2', 'CONJ'),\n",
       " ('enormously', 'CONJ'),\n",
       " ('frustrating', 'CONJ'),\n",
       " ('science', 'CONJ'),\n",
       " ('raring', 'CONJ'),\n",
       " ('invent', 'CONJ'),\n",
       " ('Walkman', 'CONJ'),\n",
       " ('soliciting', 'CONJ'),\n",
       " ('TXO', 'CONJ'),\n",
       " (\"'s\", 'VERB'),\n",
       " ('manmade-fiber', 'CONJ'),\n",
       " ('405', 'CONJ'),\n",
       " ('deplorable', 'CONJ'),\n",
       " ('brushed', 'CONJ'),\n",
       " ('off', 'ADV'),\n",
       " ('talk', 'VERB'),\n",
       " ('renewing', 'CONJ'),\n",
       " ('insurgents', 'CONJ'),\n",
       " ('Iran-Contra', 'CONJ'),\n",
       " ('Funded', 'CONJ'),\n",
       " ('Tokio', 'CONJ'),\n",
       " ('protocols', 'CONJ'),\n",
       " ('preventative', 'CONJ'),\n",
       " ('Though', 'CONJ'),\n",
       " ('acquirers', 'CONJ'),\n",
       " ('noticed', 'CONJ'),\n",
       " ('Funded', 'CONJ'),\n",
       " ('Tokio', 'CONJ'),\n",
       " ('protocols', 'CONJ'),\n",
       " ('preventative', 'CONJ')]"
      ]
     },
     "execution_count": 30,
     "metadata": {},
     "output_type": "execute_result"
    }
   ],
   "source": [
    "incorrect_tagged_cases = [i for i, j in zip(tagged_seq, test_run_base) if i != j] \n",
    "incorrect_tagged_cases"
   ]
  },
  {
   "cell_type": "markdown",
   "metadata": {},
   "source": [
    "##################################################################\n",
    "### Solve the problem of unknown words\n",
    "##################################################################"
   ]
  },
  {
   "cell_type": "markdown",
   "metadata": {},
   "source": [
    "### Solution 1 - Probability Based\n",
    "### For words in the corpus, state probability = transition probability * emission probaility\n",
    "### For words not in the corpus, state probability = transition probability"
   ]
  },
  {
   "cell_type": "code",
   "execution_count": 31,
   "metadata": {},
   "outputs": [],
   "source": [
    "# If Emission probability is zero than use Transistion probability only\n",
    "\n",
    "# Viterbi Heuristic\n",
    "def Viterbi_modified1(words, train_bag = train_tagged_words):\n",
    "    state = []\n",
    "    T = list(set([pair[1] for pair in train_bag]))\n",
    "    \n",
    "    for key, word in enumerate(words):\n",
    "        #initialise list of probability column for a given observation\n",
    "        p_state_probability = [] \n",
    "        p_transition_probability = [] \n",
    "        for tag in T:\n",
    "            if key == 0:\n",
    "                transition_p = tags_df.loc['.', tag]\n",
    "            else:\n",
    "                transition_p = tags_df.loc[state[-1], tag]\n",
    "                \n",
    "            # compute emission and state probabilities\n",
    "            emission_p = word_given_tag(words[key], tag)[0]/word_given_tag(words[key], tag)[1]\n",
    "            state_probability = emission_p * transition_p    \n",
    "            p_state_probability.append(state_probability)\n",
    "            p_transition_probability.append(transition_p)\n",
    "            \n",
    "        pmax = max(p_state_probability)\n",
    "        # getting state for which probability is maximum\n",
    "        state_max = T[p_state_probability.index(pmax)]\n",
    "        \n",
    "        # If Emission probability is zero, than use transistion probability\n",
    "        if pmax == 0:\n",
    "            pmax = max(p_transition_probability)\n",
    "            # getting state for which probability is maximum\n",
    "            state_max = T[p_transition_probability.index(pmax)]\n",
    "        else:\n",
    "            pmax = max(p_state_probability)\n",
    "            # getting state for which probability is maximum\n",
    "            state_max = T[p_state_probability.index(pmax)]                     \n",
    "            \n",
    "        state.append(state_max)\n",
    "    return list(zip(words, state))"
   ]
  },
  {
   "cell_type": "code",
   "execution_count": 32,
   "metadata": {},
   "outputs": [
    {
     "name": "stdout",
     "output_type": "stream",
     "text": [
      "[('Shearson', 'NOUN'), ('``', '.'), ('really', 'ADV'), ('only', 'ADV'), ('has', 'VERB'), ('$', '.'), ('300', 'NUM'), ('million', 'NUM'), ('*U*', 'X'), ('of', 'ADP'), ('capital', 'NOUN'), (',', '.'), (\"''\", '.'), ('says', 'VERB'), ('*T*-1', 'X'), ('Mr.', 'NOUN'), ('Bowman', 'NOUN'), ('of', 'ADP'), ('S&P', 'NOUN'), ('.', '.'), ('ShareData', 'NOUN'), ('develops', 'NOUN'), ('and', 'CONJ'), ('markets', 'NOUN'), ('low-cost', 'NOUN'), ('software', 'NOUN'), (',', '.'), ('peripheral', 'ADJ'), ('equipment', 'NOUN'), ('and', 'CONJ'), ('accessories', 'NOUN'), ('for', 'ADP'), ('computers', 'NOUN'), ('.', '.'), ('Moscow', 'NOUN'), ('has', 'VERB'), ('settled', 'VERB'), ('pre-1917', 'X'), ('debts', 'NOUN'), ('with', 'ADP'), ('other', 'ADJ'), ('countries', 'NOUN'), ('in', 'ADP'), ('recent', 'ADJ'), ('years', 'NOUN'), ('at', 'ADP'), ('less', 'ADJ'), ('than', 'ADP'), ('face', 'NOUN'), ('value', 'NOUN'), ('.', '.'), ('When', 'ADV'), ('test', 'VERB'), ('booklets', 'NOUN'), ('were', 'VERB'), ('passed', 'VERB'), ('*-1', 'X'), ('out', 'PRT'), ('48', 'NUM'), ('hours', 'NOUN'), ('ahead', 'ADV'), ('of', 'ADP'), ('time', 'NOUN'), ('*T*-2', 'X'), (',', '.'), ('she', 'PRON'), ('says', 'VERB'), ('0', 'X'), ('she', 'PRON'), ('copied', 'VERB'), ('questions', 'NOUN'), ('in', 'ADP'), ('the', 'DET'), ('social', 'ADJ'), ('studies', 'NOUN'), ('section', 'NOUN'), ('and', 'CONJ'), ('gave', 'VERB'), ('the', 'DET'), ('answers', 'NOUN'), ('to', 'PRT'), ('students', 'NOUN'), ('.', '.'), ('The', 'DET'), ('Life', 'NOUN'), ('Insurance', 'NOUN'), ('Co.', 'NOUN'), ('of', 'ADP'), ('Georgia', 'NOUN'), ('has', 'VERB'), ('officially', 'ADV'), ('opened', 'VERB'), ('an', 'DET'), ('office', 'NOUN'), ('in', 'ADP'), ('Taipei', 'NOUN'), ('.', '.'), ('Big', 'NOUN'), ('Board', 'NOUN'), ('volume', 'NOUN'), ('totaled', 'VERB'), ('154.2', 'X'), ('million', 'NUM'), ('shares', 'NOUN'), ('.', '.'), ('All', 'DET'), ('of', 'ADP'), ('this', 'DET'), ('must', 'VERB'), ('have', 'VERB'), ('been', 'VERB'), ('enormously', 'X'), ('frustrating', 'VERB'), ('to', 'PRT'), ('Mr.', 'NOUN'), ('Katzenstein', 'NOUN'), (',', '.'), ('who', 'PRON'), ('*T*-59', 'X'), ('went', 'VERB'), ('to', 'PRT'), ('Sony', 'NOUN'), ('with', 'ADP'), ('degrees', 'NOUN'), ('in', 'ADP'), ('business', 'NOUN'), ('and', 'CONJ'), ('computer', 'NOUN'), ('science', 'NOUN'), ('and', 'CONJ'), ('was', 'VERB'), ('raring', 'X'), ('*-1', 'X'), ('to', 'PRT'), ('invent', 'VERB'), ('another', 'DET'), ('Walkman', 'NOUN'), ('.', '.'), ('USX', 'NOUN'), ('announced', 'VERB'), ('in', 'ADP'), ('October', 'NOUN'), ('that', 'ADP'), ('it', 'PRON'), ('was', 'VERB'), ('soliciting', 'X'), ('bids', 'NOUN'), ('*', 'X'), ('to', 'PRT'), ('sell', 'VERB'), ('TXO', 'X'), (\"'s\", 'PRT'), ('oil', 'NOUN'), ('and', 'CONJ'), ('gas', 'NOUN'), ('reserves', 'NOUN'), ('.', '.'), ('That', 'DET'), ('followed', 'VERB'), ('four', 'NUM'), ('straight', 'ADJ'), ('months', 'NOUN'), ('in', 'ADP'), ('which', 'DET'), ('the', 'DET'), ('number', 'NOUN'), ('of', 'ADP'), ('increases', 'NOUN'), ('trailed', 'VERB'), ('the', 'DET'), ('year-earlier', 'ADJ'), ('pace', 'NOUN'), ('*T*-1', 'X'), ('.', '.'), ('Imports', 'NOUN'), ('of', 'ADP'), ('manmade-fiber', 'DET'), ('sweaters', 'NOUN'), ('in', 'ADP'), ('1988', 'NUM'), ('totaled', 'VERB'), ('about', 'ADP'), ('$', '.'), ('405', 'NOUN'), ('million', 'NUM'), ('*U*', 'X'), ('from', 'ADP'), ('Taiwan', 'NOUN'), (',', '.'), ('$', '.'), ('400', 'NUM'), ('million', 'NUM'), ('*U*', 'X'), ('from', 'ADP'), ('South', 'NOUN'), ('Korea', 'NOUN'), ('and', 'CONJ'), ('$', '.'), ('125', 'NUM'), ('million', 'NUM'), ('*U*', 'X'), ('from', 'ADP'), ('Hong', 'NOUN'), ('Kong', 'NOUN'), (',', '.'), ('according', 'VERB'), ('to', 'PRT'), ('the', 'DET'), ('ITC', 'NOUN'), ('.', '.'), ('A', 'DET'), ('White', 'NOUN'), ('House', 'NOUN'), ('spokesman', 'NOUN'), ('condemned', 'VERB'), ('the', 'DET'), ('truce', 'NOUN'), ('suspension', 'NOUN'), ('as', 'ADP'), ('``', '.'), ('deplorable', 'NOUN'), (\"''\", '.'), ('but', 'CONJ'), ('brushed', 'NOUN'), ('off', 'PRT'), ('talk', 'VERB'), ('of', 'ADP'), ('*', 'X'), ('renewing', 'VERB'), ('military', 'ADJ'), ('funding', 'NOUN'), ('for', 'ADP'), ('the', 'DET'), ('insurgents', 'NOUN'), ('.', '.'), ('This', 'DET'), ('interpretation', 'NOUN'), ('was', 'VERB'), ('officially', 'ADV'), ('endorsed', 'VERB'), ('*-1', 'X'), ('by', 'ADP'), ('Congress', 'NOUN'), ('in', 'ADP'), ('1987', 'NUM'), ('in', 'ADP'), ('the', 'DET'), ('Iran-Contra', 'NOUN'), ('Report', 'NOUN'), ('.', '.'), ('*-1', 'X'), ('Funded', 'VERB'), ('*-2', 'X'), ('by', 'ADP'), ('a', 'DET'), ('$', '.'), ('1', 'NUM'), ('million', 'NUM'), ('*U*', 'X'), ('gift', 'NOUN'), ('from', 'ADP'), ('Tokio', 'DET'), ('Marine', 'NOUN'), ('&', 'CONJ'), ('Fire', 'NOUN'), ('Insurance', 'NOUN'), (',', '.'), ('the', 'DET'), ('service', 'NOUN'), ('will', 'VERB'), ('follow', 'VERB'), ('Japanese', 'ADJ'), ('medical', 'ADJ'), ('protocols', 'NOUN'), (',', '.'), ('including', 'VERB'), ('emphasis', 'NOUN'), ('on', 'ADP'), ('preventative', 'DET'), ('medicine', 'NOUN'), ('.', '.'), ('Though', 'NOUN'), ('some', 'DET'), ('lawyers', 'NOUN'), ('reported', 'VERB'), ('that', 'ADP'), ('prospective', 'ADJ'), ('acquirers', 'NOUN'), ('were', 'VERB'), ('scrambling', 'VERB'), ('*-1', 'X'), ('to', 'PRT'), ('make', 'VERB'), ('filings', 'NOUN'), ('before', 'ADP'), ('the', 'DET'), ('fees', 'NOUN'), ('take', 'VERB'), ('effect', 'NOUN'), (',', '.'), ('government', 'NOUN'), ('officials', 'NOUN'), ('said', 'VERB'), ('0', 'X'), ('they', 'PRON'), ('had', 'VERB'), (\"n't\", 'ADV'), ('noticed', 'VERB'), ('any', 'DET'), ('surge', 'NOUN'), ('in', 'ADP'), ('filings', 'NOUN'), ('.', '.'), ('*-1', 'X'), ('Funded', 'VERB'), ('*-2', 'X'), ('by', 'ADP'), ('a', 'DET'), ('$', '.'), ('1', 'NUM'), ('million', 'NUM'), ('*U*', 'X'), ('gift', 'NOUN'), ('from', 'ADP'), ('Tokio', 'DET'), ('Marine', 'NOUN'), ('&', 'CONJ'), ('Fire', 'NOUN'), ('Insurance', 'NOUN'), (',', '.'), ('the', 'DET'), ('service', 'NOUN'), ('will', 'VERB'), ('follow', 'VERB'), ('Japanese', 'ADJ'), ('medical', 'ADJ'), ('protocols', 'NOUN'), (',', '.'), ('including', 'VERB'), ('emphasis', 'NOUN'), ('on', 'ADP'), ('preventative', 'DET'), ('medicine', 'NOUN'), ('.', '.')]\n"
     ]
    }
   ],
   "source": [
    "# tagging the test sentences\n",
    "start = time.time()\n",
    "tagged_seq = Viterbi_modified1(test_tagged_words)\n",
    "end = time.time()\n",
    "print(tagged_seq)"
   ]
  },
  {
   "cell_type": "code",
   "execution_count": 33,
   "metadata": {},
   "outputs": [
    {
     "name": "stdout",
     "output_type": "stream",
     "text": [
      "Time taken in seconds:  192.85361766815186\n"
     ]
    }
   ],
   "source": [
    "# Printing the time\n",
    "difference = end-start\n",
    "print(\"Time taken in seconds: \", difference)"
   ]
  },
  {
   "cell_type": "markdown",
   "metadata": {},
   "source": [
    "### Accuracy on Test Set - Viterbi Modified 1"
   ]
  },
  {
   "cell_type": "code",
   "execution_count": 34,
   "metadata": {},
   "outputs": [],
   "source": [
    "# accuracy\n",
    "check = [i for i, j in zip(tagged_seq, test_run_base) if i == j] "
   ]
  },
  {
   "cell_type": "code",
   "execution_count": 35,
   "metadata": {},
   "outputs": [
    {
     "data": {
      "text/plain": [
       "0.938953488372093"
      ]
     },
     "execution_count": 35,
     "metadata": {},
     "output_type": "execute_result"
    }
   ],
   "source": [
    "accuracy = len(check)/len(tagged_seq)\n",
    "accuracy"
   ]
  },
  {
   "cell_type": "markdown",
   "metadata": {},
   "source": [
    "### Incorrect tagged cases"
   ]
  },
  {
   "cell_type": "code",
   "execution_count": 36,
   "metadata": {},
   "outputs": [
    {
     "data": {
      "text/plain": [
       "[('develops', 'NOUN'),\n",
       " ('markets', 'NOUN'),\n",
       " ('low-cost', 'NOUN'),\n",
       " ('pre-1917', 'X'),\n",
       " ('test', 'VERB'),\n",
       " ('out', 'PRT'),\n",
       " ('154.2', 'X'),\n",
       " ('enormously', 'X'),\n",
       " ('raring', 'X'),\n",
       " ('soliciting', 'X'),\n",
       " ('TXO', 'X'),\n",
       " ('manmade-fiber', 'DET'),\n",
       " ('405', 'NOUN'),\n",
       " ('deplorable', 'NOUN'),\n",
       " ('brushed', 'NOUN'),\n",
       " ('talk', 'VERB'),\n",
       " ('Tokio', 'DET'),\n",
       " ('preventative', 'DET'),\n",
       " ('Though', 'NOUN'),\n",
       " ('Tokio', 'DET'),\n",
       " ('preventative', 'DET')]"
      ]
     },
     "execution_count": 36,
     "metadata": {},
     "output_type": "execute_result"
    }
   ],
   "source": [
    "incorrect_tagged_cases = [i for i, j in zip(tagged_seq, test_run_base) if i != j] \n",
    "incorrect_tagged_cases"
   ]
  },
  {
   "cell_type": "markdown",
   "metadata": {},
   "source": [
    "### Solution 2 - Rule Based\n",
    "### Assign all unknown words the most frequent POS tag of the corpus"
   ]
  },
  {
   "cell_type": "code",
   "execution_count": 37,
   "metadata": {},
   "outputs": [
    {
     "data": {
      "text/plain": [
       "'NOUN'"
      ]
     },
     "execution_count": 37,
     "metadata": {},
     "output_type": "execute_result"
    }
   ],
   "source": [
    "# Maximum used tag in the complete corpus\n",
    "corpus_tagged_words = [tup for sent in nltk_data for tup in sent]\n",
    "tag_corpus = [pair[1] for pair in corpus_tagged_words]\n",
    "counts_tag = Counter(tag_corpus)\n",
    "most_common_tag_counts = counts_tag.most_common(1)\n",
    "most_common_tag = most_common_tag_counts[0]\n",
    "most_common_tag[0]"
   ]
  },
  {
   "cell_type": "code",
   "execution_count": 38,
   "metadata": {},
   "outputs": [],
   "source": [
    "# Replace the tag for unknown words with the most common occuring Tag in the complete Corpus\n",
    "\n",
    "# Viterbi Heuristic\n",
    "def Viterbi_modified2(words, train_bag = train_tagged_words):\n",
    "    state = []\n",
    "    T = list(set([pair[1] for pair in train_bag]))\n",
    "    \n",
    "    for key, word in enumerate(words):\n",
    "        #initialise list of probability column for a given observation\n",
    "        p_state_probability = [] \n",
    "        p_transition_probability = [] \n",
    "        for tag in T:\n",
    "            if key == 0:\n",
    "                transition_p = tags_df.loc['.', tag]\n",
    "            else:\n",
    "                transition_p = tags_df.loc[state[-1], tag]\n",
    "                \n",
    "            # compute emission and state probabilities\n",
    "            emission_p = word_given_tag(words[key], tag)[0]/word_given_tag(words[key], tag)[1]\n",
    "            state_probability = emission_p * transition_p    \n",
    "            p_state_probability.append(state_probability)\n",
    "            p_transition_probability.append(transition_p)\n",
    "            \n",
    "        pmax = max(p_state_probability)\n",
    "        # getting state for which probability is maximum\n",
    "        state_max = T[p_state_probability.index(pmax)]\n",
    "        \n",
    "        # If Emission probability is zero, than use transistion probability\n",
    "        if pmax == 0:\n",
    "            state_max = most_common_tag[0]\n",
    "        else:\n",
    "            pmax = max(p_state_probability)\n",
    "            # getting state for which probability is maximum\n",
    "            state_max = T[p_state_probability.index(pmax)]                     \n",
    "            \n",
    "        state.append(state_max)\n",
    "    return list(zip(words, state))"
   ]
  },
  {
   "cell_type": "code",
   "execution_count": 39,
   "metadata": {},
   "outputs": [
    {
     "name": "stdout",
     "output_type": "stream",
     "text": [
      "[('Shearson', 'NOUN'), ('``', '.'), ('really', 'ADV'), ('only', 'ADV'), ('has', 'VERB'), ('$', '.'), ('300', 'NUM'), ('million', 'NUM'), ('*U*', 'X'), ('of', 'ADP'), ('capital', 'NOUN'), (',', '.'), (\"''\", '.'), ('says', 'VERB'), ('*T*-1', 'X'), ('Mr.', 'NOUN'), ('Bowman', 'NOUN'), ('of', 'ADP'), ('S&P', 'NOUN'), ('.', '.'), ('ShareData', 'NOUN'), ('develops', 'NOUN'), ('and', 'CONJ'), ('markets', 'NOUN'), ('low-cost', 'NOUN'), ('software', 'NOUN'), (',', '.'), ('peripheral', 'ADJ'), ('equipment', 'NOUN'), ('and', 'CONJ'), ('accessories', 'NOUN'), ('for', 'ADP'), ('computers', 'NOUN'), ('.', '.'), ('Moscow', 'NOUN'), ('has', 'VERB'), ('settled', 'VERB'), ('pre-1917', 'NOUN'), ('debts', 'NOUN'), ('with', 'ADP'), ('other', 'ADJ'), ('countries', 'NOUN'), ('in', 'ADP'), ('recent', 'ADJ'), ('years', 'NOUN'), ('at', 'ADP'), ('less', 'ADJ'), ('than', 'ADP'), ('face', 'NOUN'), ('value', 'NOUN'), ('.', '.'), ('When', 'ADV'), ('test', 'VERB'), ('booklets', 'NOUN'), ('were', 'VERB'), ('passed', 'VERB'), ('*-1', 'X'), ('out', 'PRT'), ('48', 'NUM'), ('hours', 'NOUN'), ('ahead', 'ADV'), ('of', 'ADP'), ('time', 'NOUN'), ('*T*-2', 'X'), (',', '.'), ('she', 'PRON'), ('says', 'VERB'), ('0', 'X'), ('she', 'PRON'), ('copied', 'NOUN'), ('questions', 'NOUN'), ('in', 'ADP'), ('the', 'DET'), ('social', 'ADJ'), ('studies', 'NOUN'), ('section', 'NOUN'), ('and', 'CONJ'), ('gave', 'VERB'), ('the', 'DET'), ('answers', 'NOUN'), ('to', 'PRT'), ('students', 'NOUN'), ('.', '.'), ('The', 'DET'), ('Life', 'NOUN'), ('Insurance', 'NOUN'), ('Co.', 'NOUN'), ('of', 'ADP'), ('Georgia', 'NOUN'), ('has', 'VERB'), ('officially', 'ADV'), ('opened', 'VERB'), ('an', 'DET'), ('office', 'NOUN'), ('in', 'ADP'), ('Taipei', 'NOUN'), ('.', '.'), ('Big', 'NOUN'), ('Board', 'NOUN'), ('volume', 'NOUN'), ('totaled', 'VERB'), ('154.2', 'NOUN'), ('million', 'NUM'), ('shares', 'NOUN'), ('.', '.'), ('All', 'DET'), ('of', 'ADP'), ('this', 'DET'), ('must', 'VERB'), ('have', 'VERB'), ('been', 'VERB'), ('enormously', 'NOUN'), ('frustrating', 'NOUN'), ('to', 'PRT'), ('Mr.', 'NOUN'), ('Katzenstein', 'NOUN'), (',', '.'), ('who', 'PRON'), ('*T*-59', 'X'), ('went', 'VERB'), ('to', 'PRT'), ('Sony', 'NOUN'), ('with', 'ADP'), ('degrees', 'NOUN'), ('in', 'ADP'), ('business', 'NOUN'), ('and', 'CONJ'), ('computer', 'NOUN'), ('science', 'NOUN'), ('and', 'CONJ'), ('was', 'VERB'), ('raring', 'NOUN'), ('*-1', 'X'), ('to', 'PRT'), ('invent', 'NOUN'), ('another', 'DET'), ('Walkman', 'NOUN'), ('.', '.'), ('USX', 'NOUN'), ('announced', 'VERB'), ('in', 'ADP'), ('October', 'NOUN'), ('that', 'ADP'), ('it', 'PRON'), ('was', 'VERB'), ('soliciting', 'NOUN'), ('bids', 'NOUN'), ('*', 'X'), ('to', 'PRT'), ('sell', 'VERB'), ('TXO', 'NOUN'), (\"'s\", 'PRT'), ('oil', 'NOUN'), ('and', 'CONJ'), ('gas', 'NOUN'), ('reserves', 'NOUN'), ('.', '.'), ('That', 'DET'), ('followed', 'VERB'), ('four', 'NUM'), ('straight', 'ADJ'), ('months', 'NOUN'), ('in', 'ADP'), ('which', 'DET'), ('the', 'DET'), ('number', 'NOUN'), ('of', 'ADP'), ('increases', 'NOUN'), ('trailed', 'VERB'), ('the', 'DET'), ('year-earlier', 'ADJ'), ('pace', 'NOUN'), ('*T*-1', 'X'), ('.', '.'), ('Imports', 'NOUN'), ('of', 'ADP'), ('manmade-fiber', 'NOUN'), ('sweaters', 'NOUN'), ('in', 'ADP'), ('1988', 'NUM'), ('totaled', 'VERB'), ('about', 'ADP'), ('$', '.'), ('405', 'NOUN'), ('million', 'NUM'), ('*U*', 'X'), ('from', 'ADP'), ('Taiwan', 'NOUN'), (',', '.'), ('$', '.'), ('400', 'NUM'), ('million', 'NUM'), ('*U*', 'X'), ('from', 'ADP'), ('South', 'NOUN'), ('Korea', 'NOUN'), ('and', 'CONJ'), ('$', '.'), ('125', 'NUM'), ('million', 'NUM'), ('*U*', 'X'), ('from', 'ADP'), ('Hong', 'NOUN'), ('Kong', 'NOUN'), (',', '.'), ('according', 'VERB'), ('to', 'PRT'), ('the', 'DET'), ('ITC', 'NOUN'), ('.', '.'), ('A', 'DET'), ('White', 'NOUN'), ('House', 'NOUN'), ('spokesman', 'NOUN'), ('condemned', 'VERB'), ('the', 'DET'), ('truce', 'NOUN'), ('suspension', 'NOUN'), ('as', 'ADP'), ('``', '.'), ('deplorable', 'NOUN'), (\"''\", '.'), ('but', 'CONJ'), ('brushed', 'NOUN'), ('off', 'PRT'), ('talk', 'VERB'), ('of', 'ADP'), ('*', 'X'), ('renewing', 'NOUN'), ('military', 'ADJ'), ('funding', 'NOUN'), ('for', 'ADP'), ('the', 'DET'), ('insurgents', 'NOUN'), ('.', '.'), ('This', 'DET'), ('interpretation', 'NOUN'), ('was', 'VERB'), ('officially', 'ADV'), ('endorsed', 'VERB'), ('*-1', 'X'), ('by', 'ADP'), ('Congress', 'NOUN'), ('in', 'ADP'), ('1987', 'NUM'), ('in', 'ADP'), ('the', 'DET'), ('Iran-Contra', 'NOUN'), ('Report', 'NOUN'), ('.', '.'), ('*-1', 'X'), ('Funded', 'NOUN'), ('*-2', 'X'), ('by', 'ADP'), ('a', 'DET'), ('$', '.'), ('1', 'NUM'), ('million', 'NUM'), ('*U*', 'X'), ('gift', 'NOUN'), ('from', 'ADP'), ('Tokio', 'NOUN'), ('Marine', 'NOUN'), ('&', 'CONJ'), ('Fire', 'NOUN'), ('Insurance', 'NOUN'), (',', '.'), ('the', 'DET'), ('service', 'NOUN'), ('will', 'VERB'), ('follow', 'VERB'), ('Japanese', 'ADJ'), ('medical', 'ADJ'), ('protocols', 'NOUN'), (',', '.'), ('including', 'VERB'), ('emphasis', 'NOUN'), ('on', 'ADP'), ('preventative', 'NOUN'), ('medicine', 'NOUN'), ('.', '.'), ('Though', 'NOUN'), ('some', 'DET'), ('lawyers', 'NOUN'), ('reported', 'VERB'), ('that', 'ADP'), ('prospective', 'ADJ'), ('acquirers', 'NOUN'), ('were', 'VERB'), ('scrambling', 'VERB'), ('*-1', 'X'), ('to', 'PRT'), ('make', 'VERB'), ('filings', 'NOUN'), ('before', 'ADP'), ('the', 'DET'), ('fees', 'NOUN'), ('take', 'VERB'), ('effect', 'NOUN'), (',', '.'), ('government', 'NOUN'), ('officials', 'NOUN'), ('said', 'VERB'), ('0', 'X'), ('they', 'PRON'), ('had', 'VERB'), (\"n't\", 'ADV'), ('noticed', 'NOUN'), ('any', 'DET'), ('surge', 'NOUN'), ('in', 'ADP'), ('filings', 'NOUN'), ('.', '.'), ('*-1', 'X'), ('Funded', 'NOUN'), ('*-2', 'X'), ('by', 'ADP'), ('a', 'DET'), ('$', '.'), ('1', 'NUM'), ('million', 'NUM'), ('*U*', 'X'), ('gift', 'NOUN'), ('from', 'ADP'), ('Tokio', 'NOUN'), ('Marine', 'NOUN'), ('&', 'CONJ'), ('Fire', 'NOUN'), ('Insurance', 'NOUN'), (',', '.'), ('the', 'DET'), ('service', 'NOUN'), ('will', 'VERB'), ('follow', 'VERB'), ('Japanese', 'ADJ'), ('medical', 'ADJ'), ('protocols', 'NOUN'), (',', '.'), ('including', 'VERB'), ('emphasis', 'NOUN'), ('on', 'ADP'), ('preventative', 'NOUN'), ('medicine', 'NOUN'), ('.', '.')]\n"
     ]
    }
   ],
   "source": [
    "# tagging the test sentences\n",
    "start = time.time()\n",
    "tagged_seq = Viterbi_modified2(test_tagged_words)\n",
    "end = time.time()\n",
    "print(tagged_seq)"
   ]
  },
  {
   "cell_type": "code",
   "execution_count": 40,
   "metadata": {},
   "outputs": [
    {
     "name": "stdout",
     "output_type": "stream",
     "text": [
      "Time taken in seconds:  182.20974493026733\n"
     ]
    }
   ],
   "source": [
    "# Printing the time\n",
    "difference = end-start\n",
    "print(\"Time taken in seconds: \", difference)"
   ]
  },
  {
   "cell_type": "code",
   "execution_count": 41,
   "metadata": {},
   "outputs": [],
   "source": [
    "# accuracy\n",
    "check = [i for i, j in zip(tagged_seq, test_run_base) if i == j] "
   ]
  },
  {
   "cell_type": "code",
   "execution_count": 42,
   "metadata": {},
   "outputs": [
    {
     "data": {
      "text/plain": [
       "0.9273255813953488"
      ]
     },
     "execution_count": 42,
     "metadata": {},
     "output_type": "execute_result"
    }
   ],
   "source": [
    "accuracy = len(check)/len(tagged_seq)\n",
    "accuracy"
   ]
  },
  {
   "cell_type": "code",
   "execution_count": 43,
   "metadata": {},
   "outputs": [
    {
     "data": {
      "text/plain": [
       "[('develops', 'NOUN'),\n",
       " ('markets', 'NOUN'),\n",
       " ('low-cost', 'NOUN'),\n",
       " ('pre-1917', 'NOUN'),\n",
       " ('test', 'VERB'),\n",
       " ('out', 'PRT'),\n",
       " ('copied', 'NOUN'),\n",
       " ('154.2', 'NOUN'),\n",
       " ('enormously', 'NOUN'),\n",
       " ('frustrating', 'NOUN'),\n",
       " ('raring', 'NOUN'),\n",
       " ('invent', 'NOUN'),\n",
       " ('soliciting', 'NOUN'),\n",
       " ('manmade-fiber', 'NOUN'),\n",
       " ('405', 'NOUN'),\n",
       " ('deplorable', 'NOUN'),\n",
       " ('brushed', 'NOUN'),\n",
       " ('talk', 'VERB'),\n",
       " ('renewing', 'NOUN'),\n",
       " ('Funded', 'NOUN'),\n",
       " ('preventative', 'NOUN'),\n",
       " ('Though', 'NOUN'),\n",
       " ('noticed', 'NOUN'),\n",
       " ('Funded', 'NOUN'),\n",
       " ('preventative', 'NOUN')]"
      ]
     },
     "execution_count": 43,
     "metadata": {},
     "output_type": "execute_result"
    }
   ],
   "source": [
    "incorrect_tagged_cases = [i for i, j in zip(tagged_seq, test_run_base) if i != j] \n",
    "incorrect_tagged_cases"
   ]
  },
  {
   "cell_type": "markdown",
   "metadata": {},
   "source": [
    "###############################################################################################################################\n",
    "### Evaluating the complete Test Data Set on the Vanilla Viterbi Algorithm and modified Viterbi (Solution 1 and Solution 2)\n",
    "###############################################################################################################################"
   ]
  },
  {
   "cell_type": "code",
   "execution_count": 44,
   "metadata": {},
   "outputs": [],
   "source": [
    "# list of tagged words\n",
    "test_run_base = [tup for sent in test_set for tup in sent]"
   ]
  },
  {
   "cell_type": "code",
   "execution_count": 45,
   "metadata": {},
   "outputs": [],
   "source": [
    "# list of untagged words\n",
    "test_tagged_words = [tup[0] for sent in test_set for tup in sent]"
   ]
  },
  {
   "cell_type": "markdown",
   "metadata": {},
   "source": [
    "### Evaluating complete Test Data on the Vanilla Viterbi"
   ]
  },
  {
   "cell_type": "code",
   "execution_count": 46,
   "metadata": {},
   "outputs": [
    {
     "name": "stdout",
     "output_type": "stream",
     "text": [
      "[('For', 'ADP'), ('the', 'DET'), ('Agency', 'NOUN'), ('for', 'ADP'), ('International', 'NOUN'), ('Development', 'NOUN'), (',', '.'), ('appropriators', 'NOUN'), ('approved', 'VERB'), ('$', '.'), ('200', 'NUM'), ('million', 'NUM'), ('*U*', 'X'), ('in', 'ADP'), ('secondary', 'ADJ'), ('loan', 'NOUN'), ('guarantees', 'NOUN'), ('under', 'ADP'), ('an', 'DET'), ('expanded', 'VERB'), ('trade', 'VERB'), ('credit', 'NOUN'), ('insurance', 'NOUN'), ('program', 'NOUN'), (',', '.'), ('and', 'CONJ'), ('total', 'ADJ'), ('loan', 'NOUN'), ('guarantees', 'NOUN'), ('for', 'ADP'), ('the', 'DET'), ('Overseas', 'CONJ'), ('Private', 'ADJ'), ('Investment', 'NOUN'), ('Corp.', 'NOUN'), ('are', 'VERB'), ('increased', 'VERB'), ('*-3', 'X'), ('by', 'ADP'), ('$', '.'), ('40', 'NUM'), ('million', 'NUM'), ('*U*', 'X'), ('over', 'ADP'), ('fiscal', 'ADJ'), ('1989', 'NUM'), ('as', 'ADP'), ('part', 'NOUN'), ('of', 'ADP'), ('the', 'DET'), ('same', 'ADJ'), ('Poland', 'NOUN'), ('package', 'NOUN'), ('.', '.'), ('The', 'DET'), ('market', 'NOUN'), ('is', 'VERB'), ('just', 'ADV'), ('becoming', 'VERB'), ('more', 'ADV'), ('efficient', 'ADJ'), ('.', '.'), (\"''\", '.'), ('Moscow', 'NOUN'), ('has', 'VERB'), ('settled', 'VERB'), ('pre-1917', 'CONJ'), ('debts', 'NOUN'), ('with', 'ADP'), ('other', 'ADJ'), ('countries', 'NOUN'), ('in', 'ADP'), ('recent', 'ADJ'), ('years', 'NOUN'), ('at', 'ADP'), ('less', 'ADJ'), ('than', 'ADP'), ('face', 'NOUN'), ('value', 'NOUN'), ('.', '.'), ('``', '.'), ('Unemployment', 'CONJ'), ('continues', 'VERB'), ('at', 'ADP'), ('a', 'DET'), ('relatively', 'ADV'), ('low', 'ADJ'), ('level', 'NOUN'), (',', '.'), ('*', 'X'), ('providing', 'VERB'), ('a', 'DET'), ('sense', 'NOUN'), ('of', 'ADP'), ('job', 'NOUN'), ('security', 'NOUN'), (',', '.'), ('and', 'CONJ'), ('a', 'DET'), ('low', 'ADJ'), ('inflation', 'NOUN'), ('rate', 'NOUN'), ('has', 'VERB'), ('kept', 'VERB'), ('the', 'DET'), ('purchasing', 'NOUN'), ('power', 'NOUN'), ('of', 'ADP'), ('the', 'DET'), ('weekly', 'ADJ'), ('paycheck', 'CONJ'), ('reasonably', 'CONJ'), ('strong', 'ADJ'), ('.', '.'), (\"''\", '.'), ('At', 'ADP'), ('the', 'DET'), ('same', 'ADJ'), ('time', 'NOUN'), (',', '.'), ('though', 'ADP'), (',', '.'), ('he', 'PRON'), ('chastised', 'VERB'), ('the', 'DET'), ('media', 'NOUN'), ('for', 'ADP'), ('*', 'X'), ('paying', 'VERB'), ('such', 'ADJ'), ('close', 'NOUN'), ('attention', 'NOUN'), ('to', 'PRT'), ('Japanese', 'ADJ'), ('investment', 'NOUN'), ('when', 'ADV'), ('other', 'ADJ'), ('foreign', 'ADJ'), ('countries', 'NOUN'), (',', '.'), ('notably', 'ADV'), ('Britain', 'NOUN'), (',', '.'), ('are', 'VERB'), ('acquiring', 'VERB'), ('more', 'ADV'), ('American', 'ADJ'), ('assets', 'NOUN'), ('*T*-1', 'X'), ('.', '.'), ('*-1', 'X'), ('Funded', 'CONJ'), ('*-2', 'X'), ('by', 'ADP'), ('a', 'DET'), ('$', '.'), ('1', 'NUM'), ('million', 'NUM'), ('*U*', 'X'), ('gift', 'NOUN'), ('from', 'ADP'), ('Tokio', 'CONJ'), ('Marine', 'NOUN'), ('&', 'CONJ'), ('Fire', 'NOUN'), ('Insurance', 'NOUN'), (',', '.'), ('the', 'DET'), ('service', 'NOUN'), ('will', 'VERB'), ('follow', 'VERB'), ('Japanese', 'ADJ'), ('medical', 'ADJ'), ('protocols', 'CONJ'), (',', '.'), ('including', 'VERB'), ('emphasis', 'NOUN'), ('on', 'ADP'), ('preventative', 'CONJ'), ('medicine', 'NOUN'), ('.', '.'), ('On', 'ADP'), ('the', 'DET'), ('other', 'ADJ'), ('hand', 'NOUN'), (',', '.'), ('had', 'VERB'), ('it', 'PRON'), ('existed', 'CONJ'), ('then', 'ADV'), (',', '.'), ('Cray', 'NOUN'), ('Computer', 'NOUN'), ('would', 'VERB'), ('have', 'VERB'), ('incurred', 'VERB'), ('a', 'DET'), ('$', '.'), ('20.5', 'CONJ'), ('million', 'NUM'), ('*U*', 'X'), ('loss', 'NOUN'), ('.', '.'), ('``', '.'), ('The', 'DET'), ('disturbing', 'ADJ'), ('thing', 'NOUN'), ('about', 'ADP'), ('this', 'DET'), ('abortion', 'NOUN'), ('issue', 'NOUN'), ('is', 'VERB'), ('that', 'ADP'), ('the', 'DET'), ('debate', 'NOUN'), ('has', 'VERB'), ('become', 'VERB'), ('polarized', 'CONJ'), ('*-1', 'X'), (',', '.'), ('so', 'ADV'), ('that', 'ADP'), ('no', 'DET'), ('mechanism', 'NOUN'), ('*ICH*-2', 'X'), ('exists', 'CONJ'), (\"''\", '.'), ('for', 'ADP'), ('*', 'X'), ('finding', 'VERB'), ('a', 'DET'), ('middle', 'NOUN'), ('ground', 'NOUN'), ('.', '.'), ('Though', 'CONJ'), ('some', 'DET'), ('lawyers', 'NOUN'), ('reported', 'VERB'), ('that', 'ADP'), ('prospective', 'ADJ'), ('acquirers', 'CONJ'), ('were', 'VERB'), ('scrambling', 'VERB'), ('*-1', 'X'), ('to', 'PRT'), ('make', 'VERB'), ('filings', 'NOUN'), ('before', 'ADP'), ('the', 'DET'), ('fees', 'NOUN'), ('take', 'VERB'), ('effect', 'NOUN'), (',', '.'), ('government', 'NOUN'), ('officials', 'NOUN'), ('said', 'VERB'), ('0', 'X'), ('they', 'PRON'), ('had', 'VERB'), (\"n't\", 'ADV'), ('noticed', 'CONJ'), ('any', 'DET'), ('surge', 'NOUN'), ('in', 'ADP'), ('filings', 'NOUN'), ('.', '.'), ('Big', 'NOUN'), ('Board', 'NOUN'), ('volume', 'NOUN'), ('totaled', 'VERB'), ('154.2', 'CONJ'), ('million', 'NUM'), ('shares', 'NOUN'), ('.', '.'), ('Since', 'ADP'), ('chalk', 'CONJ'), ('first', 'ADJ'), ('touched', 'CONJ'), ('slate', 'CONJ'), (',', '.'), ('schoolchildren', 'CONJ'), ('have', 'VERB'), ('wanted', 'VERB'), ('*-1', 'X'), ('to', 'PRT'), ('know', 'VERB'), (':', '.'), ('What', 'PRON'), (\"'s\", 'VERB'), ('*T*-2', 'X'), ('on', 'ADP'), ('the', 'DET'), ('test', 'NOUN'), ('?', '.'), ('Moreover', 'ADV'), (',', '.'), ('they', 'PRON'), ('said', 'VERB'), ('0', 'X'), ('the', 'DET'), ('first', 'ADJ'), ('appropriations', 'NOUN'), ('bill', 'NOUN'), ('passed', 'VERB'), ('*', 'X'), ('200', 'NUM'), ('years', 'NOUN'), ('ago', 'ADP'), ('covered', 'VERB'), ('many', 'ADJ'), ('different', 'ADJ'), ('items', 'NOUN'), (',', '.'), ('and', 'CONJ'), ('there', 'DET'), ('was', 'VERB'), ('no', 'DET'), ('discussion', 'NOUN'), ('of', 'ADP'), ('a', 'DET'), ('line-item', 'ADJ'), ('veto', 'NOUN'), ('.', '.'), ('``', '.'), ('Wall', 'NOUN'), ('Street', 'NOUN'), ('is', 'VERB'), ('facing', 'VERB'), ('a', 'DET'), ('Catch-22', 'CONJ'), ('situation', 'NOUN'), (',', '.'), (\"''\", '.'), ('says', 'VERB'), ('*T*-1', 'X'), ('Mr.', 'NOUN'), ('Mahoney', 'NOUN'), ('of', 'ADP'), ('Moody', 'NOUN'), (\"'s\", 'PRT'), ('.', '.'), ('The', 'DET'), ('ban', 'NOUN'), ('on', 'ADP'), ('cross-border', 'CONJ'), ('movement', 'NOUN'), ('was', 'VERB'), ('imposed', 'VERB'), ('*-1', 'X'), ('last', 'ADJ'), ('month', 'NOUN'), ('after', 'ADP'), ('a', 'DET'), ('massive', 'ADJ'), ('exodus', 'NOUN'), ('of', 'ADP'), ('emigres', 'CONJ'), ('to', 'PRT'), ('West', 'NOUN'), ('Germany', 'NOUN'), ('.', '.'), ('Mr.', 'NOUN'), ('Ross', 'NOUN'), ('said', 'VERB'), ('0', 'X'), ('he', 'PRON'), ('met', 'VERB'), ('with', 'ADP'), ('officials', 'NOUN'), ('of', 'ADP'), ('the', 'DET'), ('IRS', 'NOUN'), ('and', 'CONJ'), ('the', 'DET'), ('Justice', 'NOUN'), ('Department', 'NOUN'), (',', '.'), ('which', 'DET'), ('*T*-133', 'CONJ'), ('would', 'VERB'), ('bring', 'VERB'), ('any', 'DET'), ('enforcement', 'NOUN'), ('actions', 'NOUN'), ('against', 'ADP'), ('taxpayers', 'NOUN'), (',', '.'), ('*-1', 'X'), ('to', 'PRT'), ('discuss', 'VERB'), ('the', 'DET'), ('issue', 'NOUN'), ('last', 'ADJ'), ('May', 'NOUN'), ('.', '.'), ('Among', 'ADP'), ('other', 'ADJ'), ('things', 'NOUN'), (',', '.'), ('it', 'PRON'), ('included', 'VERB'), ('checking', 'NOUN'), (',', '.'), ('safe', 'CONJ'), ('deposit', 'NOUN'), ('box', 'NOUN'), ('and', 'CONJ'), ('credit', 'NOUN'), ('card', 'NOUN'), ('--', '.'), ('all', 'DET'), ('for', 'ADP'), ('free', 'ADJ'), ('--', '.'), ('plus', 'CONJ'), ('a', 'DET'), ('good', 'ADJ'), ('deal', 'NOUN'), ('on', 'ADP'), ('installment', 'NOUN'), ('loans', 'NOUN'), ('.', '.'), ('Fujitsu', 'NOUN'), ('Ltd.', 'NOUN'), (\"'s\", 'PRT'), ('top', 'ADJ'), ('executive', 'NOUN'), ('took', 'VERB'), ('the', 'DET'), ('unusual', 'ADJ'), ('step', 'NOUN'), ('of', 'ADP'), ('*', 'X'), ('publicly', 'ADV'), ('apologizing', 'CONJ'), ('for', 'ADP'), ('his', 'PRON'), ('company', 'NOUN'), (\"'s\", 'PRT'), ('making', 'VERB'), ('bids', 'NOUN'), ('of', 'ADP'), ('just', 'ADV'), ('one', 'NUM'), ('yen', 'NOUN'), ('for', 'ADP'), ('several', 'ADJ'), ('local', 'ADJ'), ('government', 'NOUN'), ('projects', 'NOUN'), (',', '.'), ('while', 'ADP'), ('computer', 'NOUN'), ('rival', 'NOUN'), ('NEC', 'NOUN'), ('Corp.', 'NOUN'), ('made', 'VERB'), ('a', 'DET'), ('written', 'VERB'), ('apology', 'NOUN'), ('for', 'ADP'), ('*', 'X'), ('indulging', 'CONJ'), ('in', 'ADP'), ('the', 'DET'), ('same', 'ADJ'), ('practice', 'NOUN'), ('.', '.'), ('From', 'ADP'), ('1953', 'CONJ'), ('to', 'PRT'), ('1955', 'CONJ'), (',', '.'), ('9.8', 'NUM'), ('billion', 'NUM'), ('Kent', 'NOUN'), ('cigarettes', 'NOUN'), ('with', 'ADP'), ('the', 'DET'), ('filters', 'NOUN'), ('were', 'VERB'), ('sold', 'VERB'), ('*-3', 'X'), (',', '.'), ('the', 'DET'), ('company', 'NOUN'), ('said', 'VERB'), ('0', 'X'), ('*T*-1', 'X'), ('.', '.'), ('Some', 'DET'), ('of', 'ADP'), ('the', 'DET'), ('homeless', 'ADJ'), (',', '.'), ('obviously', 'ADV'), (',', '.'), ('had', 'VERB'), ('pre-existing', 'CONJ'), ('mental', 'ADJ'), ('illness', 'NOUN'), ('or', 'CONJ'), ('addiction', 'CONJ'), ('.', '.'), ('``', '.'), ('We', 'PRON'), (\"'re\", 'VERB'), ('gaining', 'VERB'), ('1,200', 'CONJ'), ('new', 'ADJ'), ('customers', 'NOUN'), ('each', 'DET'), ('week', 'NOUN'), (',', '.'), (\"''\", '.'), ('says', 'VERB'), ('*T*-1', 'X'), ('Jack', 'NOUN'), ('Mogavero', 'CONJ'), ('of', 'ADP'), ('General', 'NOUN'), ('Health', 'NOUN'), ('Care', 'NOUN'), ('Corp.', 'NOUN'), (',', '.'), ('Piscataway', 'CONJ'), (',', '.'), ('N.J', 'NOUN'), ('.', '.'), ('It', 'PRON'), ('all', 'DET'), ('adds', 'VERB'), ('up', 'ADV'), ('to', 'PRT'), ('a', 'DET'), ('barrier', 'NOUN'), ('to', 'PRT'), ('American-style', 'CONJ'), ('index', 'NOUN'), ('arbitrage', 'NOUN'), (',', '.'), ('the', 'DET'), ('most', 'ADJ'), ('popular', 'ADJ'), ('form', 'NOUN'), ('of', 'ADP'), ('U.S.', 'NOUN'), ('program', 'NOUN'), ('trading', 'NOUN'), ('that', 'ADP'), ('*T*-253', 'CONJ'), ('seeks', 'VERB'), ('*-1', 'X'), ('to', 'PRT'), ('exploit', 'CONJ'), ('brief', 'ADJ'), ('differences', 'NOUN'), ('between', 'ADP'), ('prices', 'NOUN'), ('of', 'ADP'), ('stocks', 'NOUN'), ('in', 'ADP'), ('New', 'NOUN'), ('York', 'NOUN'), ('and', 'CONJ'), ('the', 'DET'), ('price', 'NOUN'), ('of', 'ADP'), ('a', 'DET'), ('futures', 'NOUN'), ('contract', 'NOUN'), ('in', 'ADP'), ('Chicago', 'NOUN'), ('based', 'VERB'), ('on', 'ADP'), ('those', 'DET'), ('stocks', 'NOUN'), ('.', '.'), ('The', 'DET'), ('great', 'ADJ'), ('reds', 'CONJ'), ('of', 'ADP'), ('the', 'DET'), ('Rhone', 'CONJ'), ('Valley', 'NOUN'), ('have', 'VERB'), ('soared', 'VERB'), ('in', 'ADP'), ('price', 'NOUN'), ('as', 'ADP'), ('well', 'ADV'), ('.', '.'), ('That', 'DET'), ('followed', 'VERB'), ('four', 'NUM'), ('straight', 'ADJ'), ('months', 'NOUN'), ('in', 'ADP'), ('which', 'DET'), ('the', 'DET'), ('number', 'NOUN'), ('of', 'ADP'), ('increases', 'NOUN'), ('trailed', 'VERB'), ('the', 'DET'), ('year-earlier', 'ADJ'), ('pace', 'NOUN'), ('*T*-1', 'X'), ('.', '.'), ('Revenue', 'NOUN'), ('rose', 'VERB'), ('42', 'NUM'), ('%', 'NOUN'), ('to', 'PRT'), ('$', '.'), ('133.7', 'CONJ'), ('million', 'NUM'), ('*U*', 'X'), ('from', 'ADP'), ('$', '.'), ('94', 'CONJ'), ('million', 'NUM'), ('*U*', 'X'), ('.', '.'), ('When', 'ADV'), ('test', 'VERB'), ('booklets', 'NOUN'), ('were', 'VERB'), ('passed', 'VERB'), ('*-1', 'X'), ('out', 'PRT'), ('48', 'NUM'), ('hours', 'NOUN'), ('ahead', 'ADV'), ('of', 'ADP'), ('time', 'NOUN'), ('*T*-2', 'X'), (',', '.'), ('she', 'PRON'), ('says', 'VERB'), ('0', 'X'), ('she', 'PRON'), ('copied', 'CONJ'), ('questions', 'NOUN'), ('in', 'ADP'), ('the', 'DET'), ('social', 'ADJ'), ('studies', 'NOUN'), ('section', 'NOUN'), ('and', 'CONJ'), ('gave', 'VERB'), ('the', 'DET'), ('answers', 'NOUN'), ('to', 'PRT'), ('students', 'NOUN'), ('.', '.'), ('They', 'PRON'), ('belong', 'VERB'), ('to', 'PRT'), ('a', 'DET'), ('group', 'NOUN'), ('of', 'ADP'), ('15', 'NUM'), ('ringers', 'NOUN'), ('--', '.'), ('including', 'VERB'), ('two', 'NUM'), ('octogenarians', 'CONJ'), ('and', 'CONJ'), ('four', 'NUM'), ('youngsters', 'NOUN'), ('in', 'ADP'), ('training', 'NOUN'), ('--', '.'), ('who', 'PRON'), ('*T*-222', 'CONJ'), ('drive', 'VERB'), ('every', 'DET'), ('Sunday', 'NOUN'), ('from', 'ADP'), ('church', 'NOUN'), ('to', 'PRT'), ('church', 'NOUN'), ('in', 'ADP'), ('a', 'DET'), ('sometimes-exhausting', 'CONJ'), ('effort', 'NOUN'), ('*', 'X'), ('to', 'PRT'), ('keep', 'VERB'), ('the', 'DET'), ('bells', 'NOUN'), ('sounding', 'CONJ'), ('in', 'ADP'), ('the', 'DET'), ('many', 'ADJ'), ('belfries', 'CONJ'), ('of', 'ADP'), ('East', 'NOUN'), ('Anglia', 'CONJ'), ('.', '.'), ('Imports', 'NOUN'), ('of', 'ADP'), ('manmade-fiber', 'CONJ'), ('sweaters', 'NOUN'), ('in', 'ADP'), ('1988', 'NUM'), ('totaled', 'VERB'), ('about', 'ADP'), ('$', '.'), ('405', 'CONJ'), ('million', 'NUM'), ('*U*', 'X'), ('from', 'ADP'), ('Taiwan', 'NOUN'), (',', '.'), ('$', '.'), ('400', 'NUM'), ('million', 'NUM'), ('*U*', 'X'), ('from', 'ADP'), ('South', 'NOUN'), ('Korea', 'NOUN'), ('and', 'CONJ'), ('$', '.'), ('125', 'NUM'), ('million', 'NUM'), ('*U*', 'X'), ('from', 'ADP'), ('Hong', 'NOUN'), ('Kong', 'NOUN'), (',', '.'), ('according', 'VERB'), ('to', 'PRT'), ('the', 'DET'), ('ITC', 'NOUN'), ('.', '.'), ('What', 'PRON'), ('*T*-102', 'CONJ'), (\"'s\", 'VERB'), ('more', 'ADV'), (',', '.'), ('the', 'DET'), ('test', 'NOUN'), ('and', 'CONJ'), ('Learning', 'NOUN'), ('Materials', 'NOUN'), ('are', 'VERB'), ('both', 'DET'), ('produced', 'VERB'), ('*-1', 'X'), ('by', 'ADP'), ('the', 'DET'), ('same', 'ADJ'), ('company', 'NOUN'), (',', '.'), ('Macmillan\\\\/McGraw-Hill', 'NOUN'), (',', '.'), ('a', 'DET'), ('joint', 'ADJ'), ('venture', 'NOUN'), ('of', 'ADP'), ('McGraw-Hill', 'NOUN'), ('Inc.', 'NOUN'), ('and', 'CONJ'), ('Macmillan', 'NOUN'), (\"'s\", 'PRT'), ('parent', 'NOUN'), (',', '.'), ('Britain', 'NOUN'), (\"'s\", 'PRT'), ('Maxwell', 'NOUN'), ('Communication', 'CONJ'), ('Corp', 'NOUN'), ('.', '.'), ('This', 'DET'), ('year', 'NOUN'), ('it', 'PRON'), ('is', 'VERB'), ('expected', 'VERB'), ('*-1', 'X'), ('to', 'PRT'), ('be', 'VERB'), ('a', 'DET'), ('net', 'ADJ'), ('importer', 'CONJ'), ('and', 'CONJ'), ('is', 'VERB'), ('said', 'VERB'), ('*-1', 'X'), ('to', 'PRT'), ('be', 'VERB'), ('seeking', 'VERB'), ('*-2', 'X'), ('to', 'PRT'), ('buy', 'VERB'), ('about', 'ADP'), ('200,000', 'NUM'), ('tons', 'NOUN'), ('of', 'ADP'), ('sugar', 'NOUN'), ('*-3', 'X'), ('to', 'PRT'), ('meet', 'VERB'), ('internal', 'ADJ'), ('needs', 'NOUN'), (',', '.'), ('analysts', 'NOUN'), ('said', 'VERB'), ('0', 'X'), ('*T*-4', 'X'), ('.', '.'), ('This', 'DET'), ('trial', 'NOUN'), ('is', 'VERB'), ('expected', 'VERB'), ('*-1', 'X'), ('to', 'PRT'), ('last', 'ADJ'), ('five', 'NUM'), ('weeks', 'NOUN'), ('.', '.'), ('ShareData', 'NOUN'), ('develops', 'CONJ'), ('and', 'CONJ'), ('markets', 'NOUN'), ('low-cost', 'CONJ'), ('software', 'NOUN'), (',', '.'), ('peripheral', 'ADJ'), ('equipment', 'NOUN'), ('and', 'CONJ'), ('accessories', 'NOUN'), ('for', 'ADP'), ('computers', 'NOUN'), ('.', '.'), ('In', 'ADP'), ('separate', 'ADJ'), ('floor', 'NOUN'), ('action', 'NOUN'), (',', '.'), ('the', 'DET'), ('House', 'NOUN'), ('waived', 'CONJ'), ('budget', 'NOUN'), ('restrictions', 'NOUN'), ('and', 'CONJ'), ('gave', 'VERB'), ('quick', 'ADJ'), ('approval', 'NOUN'), ('to', 'PRT'), ('$', '.'), ('3.18', 'NUM'), ('billion', 'NUM'), ('*U*', 'X'), ('in', 'ADP'), ('supplemental', 'CONJ'), ('appropriations', 'NOUN'), ('for', 'ADP'), ('law', 'NOUN'), ('enforcement', 'NOUN'), ('and', 'CONJ'), ('anti-drug', 'CONJ'), ('programs', 'NOUN'), ('in', 'ADP'), ('fiscal', 'ADJ'), ('1990', 'NUM'), ('.', '.'), ('It', 'PRON'), ('has', 'VERB'), ('no', 'DET'), ('bearing', 'VERB'), ('on', 'ADP'), ('our', 'PRON'), ('work', 'VERB'), ('force', 'VERB'), ('today', 'NOUN'), ('.', '.'), ('But', 'CONJ'), ('he', 'PRON'), ('has', 'VERB'), ('not', 'ADV'), ('said', 'VERB'), ('before', 'ADP'), ('that', 'DET'), ('the', 'DET'), ('country', 'NOUN'), ('wants', 'VERB'), ('half', 'DET'), ('the', 'DET'), ('debt', 'NOUN'), ('forgiven', 'VERB'), ('*-2', 'X'), ('.', '.'), ('Also', 'ADV'), (',', '.'), ('Mr.', 'NOUN'), ('Canepa', 'NOUN'), ('received', 'VERB'), ('a', 'DET'), ('two-week', 'ADJ'), ('suspension', 'NOUN'), ('``', '.'), ('in', 'ADP'), ('a', 'DET'), ('principal', 'NOUN'), ('capacity', 'NOUN'), ('.', '.'), (\"''\", '.'), ('``', '.'), ('The', 'DET'), ('IRS', 'NOUN'), ('is', 'VERB'), ('asking', 'VERB'), ('lawyers', 'NOUN'), ('*-1', 'X'), ('to', 'PRT'), ('red-flag', 'CONJ'), ('a', 'DET'), ('criminal', 'ADJ'), ('problem', 'NOUN'), ('to', 'PRT'), ('the', 'DET'), ('government', 'NOUN'), (',', '.'), (\"''\", '.'), ('added', 'VERB'), ('Mr.', 'NOUN'), ('Sonnett', 'NOUN'), (',', '.'), ('a', 'DET'), ('Miami', 'NOUN'), ('lawyer', 'NOUN'), ('who', 'PRON'), ('*T*-128', 'CONJ'), ('has', 'VERB'), ('heard', 'VERB'), ('from', 'ADP'), ('dozens', 'NOUN'), ('of', 'ADP'), ('attorneys', 'NOUN'), ('who', 'PRON'), ('*T*-129', 'CONJ'), ('received', 'VERB'), ('letters', 'NOUN'), ('in', 'ADP'), ('recent', 'ADJ'), ('days', 'NOUN'), ('and', 'CONJ'), ('has', 'VERB'), ('himself', 'PRON'), ('received', 'VERB'), ('the', 'DET'), ('computer-generated', 'CONJ'), ('IRS', 'NOUN'), ('forms', 'NOUN'), ('sent', 'VERB'), ('*', 'X'), ('by', 'ADP'), ('certified', 'CONJ'), ('mail', 'CONJ'), ('.', '.'), ('During', 'ADP'), ('the', 'DET'), ('coming', 'VERB'), ('weeks', 'NOUN'), (',', '.'), ('President', 'NOUN'), ('Bush', 'NOUN'), ('must', 'VERB'), ('decide', 'VERB'), ('whether', 'ADP'), ('*', 'X'), ('to', 'PRT'), ('veto', 'NOUN'), ('the', 'DET'), ('bills', 'NOUN'), ('containing', 'CONJ'), ('them', 'PRON'), ('--', '.'), ('or', 'CONJ'), (',', '.'), ('alternatively', 'CONJ'), (',', '.'), ('*', 'X'), ('to', 'PRT'), ('sign', 'NOUN'), ('these', 'DET'), ('bills', 'NOUN'), ('into', 'ADP'), ('law', 'NOUN'), ('with', 'ADP'), ('a', 'DET'), ('statement', 'NOUN'), ('declaring', 'VERB'), ('their', 'PRON'), ('intrusions', 'CONJ'), ('on', 'ADP'), ('executive', 'NOUN'), ('power', 'NOUN'), ('to', 'PRT'), ('be', 'VERB'), ('in', 'ADP'), ('violation', 'NOUN'), ('of', 'ADP'), ('Article', 'NOUN'), ('II', 'NOUN'), (',', '.'), ('and', 'CONJ'), ('thus', 'ADV'), ('void', 'CONJ'), ('and', 'CONJ'), ('severable', 'ADJ'), ('.', '.'), ('Santa', 'NOUN'), ('Ana', 'NOUN'), ('Community', 'NOUN'), ('Redevelopment', 'NOUN'), ('Agency', 'NOUN'), (',', '.'), ('Calif.', 'NOUN'), ('--', '.'), ('R.P.', 'NOUN'), ('Scherer', 'NOUN'), ('Corp.', 'NOUN'), ('said', 'VERB'), ('0', 'X'), ('it', 'PRON'), ('completed', 'VERB'), ('the', 'DET'), ('$', '.'), ('10.2', 'NUM'), ('million', 'NUM'), ('*U*', 'X'), ('sale', 'NOUN'), ('of', 'ADP'), ('its', 'PRON'), ('Southern', 'NOUN'), ('Optical', 'NOUN'), ('subsidiary', 'NOUN'), ('to', 'PRT'), ('a', 'DET'), ('group', 'NOUN'), ('led', 'VERB'), ('*', 'X'), ('by', 'ADP'), ('the', 'DET'), ('unit', 'NOUN'), (\"'s\", 'PRT'), ('president', 'NOUN'), (',', '.'), ('Thomas', 'NOUN'), ('R.', 'NOUN'), ('Sloan', 'CONJ'), (',', '.'), ('and', 'CONJ'), ('other', 'ADJ'), ('managers', 'NOUN'), ('.', '.'), ('In', 'ADP'), ('the', 'DET'), ('U.S.', 'NOUN'), ('over-the-counter', 'ADJ'), ('market', 'NOUN'), (',', '.'), ('American', 'NOUN'), ('depositary', 'NOUN'), ('shares', 'NOUN'), ('for', 'ADP'), ('Reuters', 'NOUN'), (',', '.'), ('each', 'DET'), ('representing', 'VERB'), ('three', 'NUM'), ('shares', 'NOUN'), ('in', 'ADP'), ('the', 'DET'), ('London', 'NOUN'), ('market', 'NOUN'), (',', '.'), ('closed', 'VERB'), ('unchanged', 'ADJ'), ('at', 'ADP'), ('$', '.'), ('43.875', 'CONJ'), ('*U*', 'X'), ('.', '.'), ('You', 'PRON'), ('have', 'VERB'), ('a', 'DET'), ('right', 'NOUN'), ('*-2', 'X'), ('to', 'PRT'), ('read', 'VERB'), ('Voice', 'NOUN'), ('of', 'ADP'), ('America', 'NOUN'), ('scripts', 'NOUN'), ('if', 'ADP'), ('you', 'PRON'), ('do', 'VERB'), (\"n't\", 'ADV'), ('mind', 'NOUN'), ('*-1', 'X'), ('traveling', 'VERB'), ('to', 'PRT'), ('Washington', 'NOUN'), ('every', 'DET'), ('week', 'NOUN'), ('or', 'CONJ'), ('so', 'ADV'), ('and', 'CONJ'), ('*-1', 'X'), ('visiting', 'VERB'), ('the', 'DET'), ('Voice', 'NOUN'), ('office', 'NOUN'), ('during', 'ADP'), ('business', 'NOUN'), ('hours', 'NOUN'), ('.', '.'), ('Rick', 'NOUN'), ('Brownell', 'NOUN'), (',', '.'), ('senior', 'ADJ'), ('editor', 'NOUN'), ('of', 'ADP'), ('Scoring', 'NOUN'), ('High', 'NOUN'), (',', '.'), ('says', 'VERB'), ('that', 'ADP'), ('Messrs.', 'NOUN'), ('Kaminski', 'NOUN'), ('and', 'CONJ'), ('Mehrens', 'NOUN'), ('are', 'VERB'), ('ignoring', 'VERB'), ('``', '.'), ('the', 'DET'), ('need', 'NOUN'), ('0', 'X'), ('students', 'NOUN'), ('have', 'VERB'), ('*T*-1', 'X'), ('for', 'ADP'), ('*', 'X'), ('becoming', 'VERB'), ('familiar', 'ADJ'), ('with', 'ADP'), ('tests', 'NOUN'), ('and', 'CONJ'), ('testing', 'NOUN'), ('format', 'NOUN'), ('.', '.'), (\"''\", '.'), ('Some', 'DET'), ('think', 'VERB'), ('0', 'X'), ('Columbia', 'NOUN'), (\"'s\", 'PRT'), ('thrift', 'NOUN'), (',', '.'), ('which', 'DET'), ('*T*-1', 'X'), ('now', 'ADV'), ('is', 'VERB'), ('seeking', 'VERB'), ('a', 'DET'), ('new', 'ADJ'), ('chief', 'NOUN'), ('operating', 'NOUN'), ('officer', 'NOUN'), (',', '.'), ('might', 'VERB'), ('be', 'VERB'), ('capitalized', 'VERB'), ('*-3', 'X'), ('at', 'ADP'), (',', '.'), ('say', 'VERB'), ('$', '.'), ('300', 'NUM'), ('million', 'NUM'), ('*U*', 'X'), (',', '.'), ('and', 'CONJ'), ('shopped', 'CONJ'), ('*-3', 'X'), ('to', 'PRT'), ('a', 'DET'), ('commercial', 'ADJ'), ('bank', 'NOUN'), ('that', 'ADP'), ('*T*-2', 'X'), ('wants', 'VERB'), ('a', 'DET'), ('California', 'NOUN'), ('presence', 'NOUN'), ('.', '.'), ('It', 'PRON'), ('also', 'ADV'), ('helps', 'CONJ'), ('*-2', 'X'), ('explain', 'VERB'), ('the', 'DET'), ('reluctance', 'CONJ'), ('*ICH*-1', 'X'), ('of', 'ADP'), ('the', 'DET'), ('major', 'ADJ'), ('farm', 'NOUN'), ('lobbies', 'CONJ'), ('and', 'CONJ'), ('many', 'ADJ'), ('lawmakers', 'NOUN'), ('*', 'X'), ('to', 'PRT'), ('make', 'VERB'), ('any', 'DET'), ('significant', 'ADJ'), ('changes', 'NOUN'), ('in', 'ADP'), ('the', 'DET'), ('1985', 'NUM'), ('farm', 'NOUN'), ('program', 'NOUN'), ('next', 'ADP'), ('year', 'NOUN'), ('.', '.'), ('Yesterday', 'NOUN'), (\"'s\", 'PRT'), ('share', 'NOUN'), ('turnover', 'NOUN'), ('was', 'VERB'), ('well', 'ADV'), ('below', 'ADP'), ('the', 'DET'), ('year', 'NOUN'), (\"'s\", 'PRT'), ('daily', 'ADJ'), ('average', 'ADJ'), ('of', 'ADP'), ('133.8', 'CONJ'), ('million', 'NUM'), ('.', '.'), ('Elco', 'NOUN'), ('Industries', 'NOUN'), ('Inc.', 'NOUN'), ('said', 'VERB'), ('0', 'X'), ('it', 'PRON'), ('expects', 'VERB'), ('net', 'ADJ'), ('income', 'NOUN'), ('in', 'ADP'), ('the', 'DET'), ('year', 'NOUN'), ('ending', 'VERB'), ('June', 'NOUN'), ('30', 'NUM'), (',', '.'), ('1990', 'NUM'), (',', '.'), ('to', 'PRT'), ('fall', 'VERB'), ('below', 'ADP'), ('a', 'DET'), ('recent', 'ADJ'), ('analyst', 'NOUN'), (\"'s\", 'PRT'), ('estimate', 'NOUN'), ('of', 'ADP'), ('$', '.'), ('1.65', 'NUM'), ('*U*', 'X'), ('a', 'DET'), ('share', 'NOUN'), ('.', '.'), ('*', 'X'), ('Excluding', 'VERB'), ('one-time', 'ADJ'), ('additions', 'NOUN'), ('to', 'PRT'), ('profit', 'NOUN'), ('in', 'ADP'), ('each', 'DET'), ('year', 'NOUN'), (',', '.'), ('earnings', 'NOUN'), ('per', 'ADP'), ('share', 'NOUN'), ('were', 'VERB'), ('$', '.'), ('2.47', 'CONJ'), ('*U*', 'X'), (',', '.'), ('up', 'ADV'), ('7.4', 'CONJ'), ('%', 'NOUN'), ('from', 'ADP'), ('$', '.'), ('2.30', 'CONJ'), ('*U*', 'X'), ('in', 'ADP'), ('fiscal', 'ADJ'), ('1988', 'NUM'), ('.', '.'), ('A', 'DET'), ('final', 'ADJ'), ('modification', 'CONJ'), ('*ICH*-1', 'X'), ('was', 'VERB'), ('made', 'VERB'), ('*-130', 'CONJ'), ('to', 'PRT'), ('the', 'DET'), ('five-point', 'ADJ'), ('opening', 'NOUN'), ('limit', 'NOUN'), ('for', 'ADP'), ('the', 'DET'), ('contract', 'NOUN'), ('.', '.'), ('The', 'DET'), ('company', 'NOUN'), (\"'s\", 'PRT'), ('stock', 'NOUN'), ('fell', 'VERB'), ('$', '.'), ('1.125', 'NUM'), ('*U*', 'X'), ('to', 'PRT'), ('$', '.'), ('13.625', 'CONJ'), ('*U*', 'X'), ('in', 'ADP'), ('over-the-counter', 'ADJ'), ('trading', 'NOUN'), ('yesterday', 'NOUN'), ('.', '.'), ('R.', 'NOUN'), ('Gordon', 'NOUN'), ('McGovern', 'NOUN'), ('was', 'VERB'), ('forced', 'VERB'), ('*-37', 'X'), ('out', 'PRT'), ('as', 'ADP'), ('Campbell', 'NOUN'), ('Soup', 'NOUN'), ('Co.', 'NOUN'), (\"'s\", 'PRT'), ('president', 'NOUN'), ('and', 'CONJ'), ('chief', 'NOUN'), ('executive', 'NOUN'), ('officer', 'NOUN'), (',', '.'), ('the', 'DET'), ('strongest', 'ADJ'), ('evidence', 'NOUN'), ('yet', 'ADV'), ('of', 'ADP'), ('the', 'DET'), ('power', 'NOUN'), ('that', 'ADP'), ('Dorrance', 'NOUN'), ('family', 'NOUN'), ('members', 'NOUN'), ('intend', 'VERB'), ('*-2', 'X'), ('to', 'PRT'), ('wield', 'CONJ'), ('*T*-1', 'X'), ('in', 'ADP'), ('*', 'X'), ('reshaping', 'VERB'), ('the', 'DET'), ('troubled', 'ADJ'), ('food', 'NOUN'), ('company', 'NOUN'), ('.', '.'), ('Muzzling', 'CONJ'), ('provisions', 'NOUN'), (',', '.'), ('which', 'DET'), ('*T*-1', 'X'), ('might', 'VERB'), ('be', 'VERB'), ('called', 'VERB'), ('*-56', 'X'), ('``', '.'), ('blindfold', 'CONJ'), ('laws', 'NOUN'), (\"''\", '.'), ('as', 'ADP'), ('well', 'ADV'), (',', '.'), ('prevent', 'VERB'), ('the', 'DET'), ('executive', 'NOUN'), ('branch', 'NOUN'), ('from', 'ADP'), ('even', 'ADV'), ('*-2', 'X'), ('looking', 'VERB'), ('at', 'ADP'), ('certain', 'ADJ'), ('policy', 'NOUN'), ('options', 'NOUN'), (',', '.'), ('let', 'VERB'), ('alone', 'ADV'), ('from', 'ADP'), ('*-2', 'X'), ('recommending', 'CONJ'), ('them', 'PRON'), ('to', 'PRT'), ('Congress', 'NOUN'), ('.', '.'), ('``', '.'), ('Anything', 'CONJ'), (\"'s\", 'VERB'), ('possible', 'ADJ'), ('--', '.'), ('how', 'ADV'), ('about', 'ADP'), ('the', 'DET'), ('New', 'NOUN'), ('Guinea', 'NOUN'), ('Fund', 'NOUN'), ('?', '.'), (\"''\", '.'), ('quips', 'CONJ'), ('*T*-1', 'X'), ('George', 'NOUN'), ('Foot', 'NOUN'), (',', '.'), ('a', 'DET'), ('managing', 'VERB'), ('partner', 'NOUN'), ('at', 'ADP'), ('Newgate', 'NOUN'), ('Management', 'NOUN'), ('Associates', 'NOUN'), ('of', 'ADP'), ('Northampton', 'CONJ'), (',', '.'), ('Mass', 'NOUN'), ('.', '.'), ('Genetics', 'NOUN'), ('Institute', 'NOUN'), ('Inc.', 'NOUN'), (',', '.'), ('Cambridge', 'NOUN'), (',', '.'), ('Mass.', 'NOUN'), (',', '.'), ('said', 'VERB'), ('0', 'X'), ('it', 'PRON'), ('was', 'VERB'), ('awarded', 'VERB'), ('*-4', 'X'), ('U.S.', 'NOUN'), ('patents', 'NOUN'), ('for', 'ADP'), ('Interleukin-3', 'NOUN'), ('and', 'CONJ'), ('bone', 'NOUN'), ('morphogenetic', 'ADJ'), ('protein', 'CONJ'), ('.', '.'), ('Fundamentalists', 'CONJ'), ('Jihad', 'NOUN'), ('Sen.', 'NOUN'), ('Danforth', 'NOUN'), ('and', 'CONJ'), ('others', 'NOUN'), ('also', 'ADV'), ('want', 'VERB'), ('the', 'DET'), ('department', 'NOUN'), ('to', 'PRT'), ('require', 'VERB'), ('additional', 'ADJ'), ('safety', 'NOUN'), ('equipment', 'NOUN'), ('*ICH*-1', 'X'), ('in', 'ADP'), ('light', 'ADJ'), ('trucks', 'NOUN'), ('and', 'CONJ'), ('minivans', 'NOUN'), (',', '.'), ('including', 'VERB'), ('air', 'VERB'), ('bags', 'CONJ'), ('or', 'CONJ'), ('automatic', 'ADJ'), ('seat', 'NOUN'), ('belts', 'NOUN'), ('in', 'ADP'), ('front', 'NOUN'), ('seats', 'NOUN'), ('and', 'CONJ'), ('improved', 'VERB'), ('side-crash', 'CONJ'), ('protection', 'NOUN'), ('.', '.'), ('The', 'DET'), ('Labor', 'NOUN'), ('Department', 'NOUN'), ('cited', 'VERB'), ('USX', 'NOUN'), ('Corp.', 'NOUN'), ('for', 'ADP'), ('numerous', 'ADJ'), ('health', 'NOUN'), ('and', 'CONJ'), ('safety', 'NOUN'), ('violations', 'NOUN'), ('at', 'ADP'), ('two', 'NUM'), ('Pennsylvania', 'NOUN'), ('plants', 'NOUN'), (',', '.'), ('and', 'CONJ'), ('proposed', 'VERB'), ('$', '.'), ('7.3', 'NUM'), ('million', 'NUM'), ('*U*', 'X'), ('in', 'ADP'), ('fines', 'NOUN'), (',', '.'), ('the', 'DET'), ('largest', 'ADJ'), ('penalty', 'NOUN'), ('ever', 'ADV'), ('proposed', 'VERB'), ('*', 'X'), ('for', 'ADP'), ('alleged', 'ADJ'), ('workplace', 'CONJ'), ('violations', 'NOUN'), ('by', 'ADP'), ('an', 'DET'), ('employer', 'NOUN'), ('.', '.'), ('While', 'ADP'), ('program', 'NOUN'), ('trades', 'NOUN'), ('swiftly', 'ADV'), ('kicked', 'VERB'), ('in', 'ADP'), (',', '.'), ('a', 'DET'), ('``', '.'), ('circuit', 'NOUN'), ('breaker', 'NOUN'), (\"''\", '.'), ('that', 'DET'), ('*T*-1', 'X'), ('halted', 'VERB'), ('trading', 'NOUN'), ('in', 'ADP'), ('stock', 'NOUN'), ('futures', 'NOUN'), ('in', 'ADP'), ('Chicago', 'NOUN'), ('made', 'VERB'), ('some', 'DET'), ('program', 'NOUN'), ('trading', 'NOUN'), ('impossible', 'ADJ'), ('.', '.'), ('The', 'DET'), ('company', 'NOUN'), ('currently', 'ADV'), ('offers', 'VERB'), ('a', 'DET'), ('word-processing', 'CONJ'), ('package', 'NOUN'), ('for', 'ADP'), ('personal', 'ADJ'), ('computers', 'NOUN'), ('called', 'VERB'), ('*', 'X'), ('Legend', 'CONJ'), ('.', '.'), ('He', 'PRON'), ('was', 'VERB'), ('previously', 'ADV'), ('vice', 'NOUN'), ('president', 'NOUN'), ('.', '.'), ('The', 'DET'), ('McAlpine', 'NOUN'), ('family', 'NOUN'), (',', '.'), ('which', 'DET'), ('*T*-1', 'X'), ('operates', 'VERB'), ('a', 'DET'), ('number', 'NOUN'), ('of', 'ADP'), ('multinational', 'CONJ'), ('companies', 'NOUN'), (',', '.'), ('including', 'VERB'), ('a', 'DET'), ('London-based', 'ADJ'), ('engineering', 'NOUN'), ('and', 'CONJ'), ('construction', 'NOUN'), ('company', 'NOUN'), (',', '.'), ('also', 'ADV'), ('lent', 'VERB'), ('to', 'PRT'), ('Meridian', 'NOUN'), ('National', 'NOUN'), ('$', '.'), ('500,000', 'NUM'), ('*U*', 'X'), ('.', '.'), ('Mr.', 'NOUN'), ('Beall', 'NOUN'), ('said', 'VERB'), ('that', 'ADP'), ('he', 'PRON'), ('was', 'VERB'), ('generally', 'ADV'), ('pleased', 'VERB'), ('with', 'ADP'), ('the', 'DET'), ('latest', 'ADJ'), ('numbers', 'NOUN'), ('and', 'CONJ'), ('cited', 'VERB'), ('a', 'DET'), ('particularly', 'ADV'), ('strong', 'ADJ'), ('showing', 'NOUN'), ('by', 'ADP'), ('the', 'DET'), ('company', 'NOUN'), (\"'s\", 'PRT'), ('electronics', 'NOUN'), ('segment', 'NOUN'), ('.', '.'), ('This', 'DET'), ('interpretation', 'NOUN'), ('was', 'VERB'), ('officially', 'ADV'), ('endorsed', 'VERB'), ('*-1', 'X'), ('by', 'ADP'), ('Congress', 'NOUN'), ('in', 'ADP'), ('1987', 'NUM'), ('in', 'ADP'), ('the', 'DET'), ('Iran-Contra', 'CONJ'), ('Report', 'NOUN'), ('.', '.'), ('Last', 'ADJ'), ('October', 'NOUN'), (',', '.'), ('the', 'DET'), ('company', 'NOUN'), ('also', 'ADV'), ('bought', 'VERB'), ('a', 'DET'), ('wheel-loader', 'CONJ'), ('manufacturing', 'NOUN'), ('plant', 'NOUN'), ('in', 'ADP'), ('Heidelberg', 'CONJ'), (',', '.'), ('West', 'NOUN'), ('Germany', 'NOUN'), (',', '.'), ('from', 'ADP'), ('Dresser', 'NOUN'), ('.', '.'), ('They', 'PRON'), ('worry', 'VERB'), ('about', 'ADP'), ('their', 'PRON'), ('careers', 'NOUN'), (',', '.'), ('drink', 'NOUN'), ('too', 'ADV'), ('much', 'ADV'), ('and', 'CONJ'), ('suffer', 'VERB'), ('through', 'ADP'), ('broken', 'VERB'), ('marriages', 'NOUN'), ('and', 'CONJ'), ('desultory', 'CONJ'), ('affairs', 'NOUN'), ('.', '.'), ('We', 'PRON'), ('now', 'ADV'), ('know', 'VERB'), ('that', 'ADP'), ('*', 'X'), ('holding', 'VERB'), ('drug', 'NOUN'), ('makers', 'NOUN'), ('liable', 'ADJ'), ('where', 'ADV'), ('there', 'DET'), (\"'s\", 'VERB'), ('no', 'DET'), ('evidence', 'NOUN'), ('that', 'ADP'), ('they', 'PRON'), ('or', 'CONJ'), ('anyone', 'NOUN'), ('else', 'ADV'), ('knew', 'VERB'), ('of', 'ADP'), ('any', 'DET'), ('risks', 'NOUN'), ('*T*-1', 'X'), ('only', 'ADV'), ('means', 'VERB'), ('0', 'X'), ('the', 'DET'), ('drugs', 'NOUN'), ('wo', 'VERB'), (\"n't\", 'ADV'), ('be', 'VERB'), ('available', 'ADJ'), ('to', 'PRT'), ('anyone', 'NOUN'), ('.', '.'), ('The', 'DET'), ('Philadelphia', 'NOUN'), ('and', 'CONJ'), ('Cleveland', 'NOUN'), ('districts', 'NOUN'), (',', '.'), ('for', 'ADP'), ('example', 'NOUN'), (',', '.'), ('reported', 'VERB'), ('declines', 'VERB'), ('in', 'ADP'), ('manufacturing', 'NOUN'), ('activity', 'NOUN'), ('while', 'ADP'), ('the', 'DET'), ('Boston', 'NOUN'), (',', '.'), ('Dallas', 'NOUN'), ('and', 'CONJ'), ('San', 'NOUN'), ('Francisco', 'NOUN'), ('banks', 'NOUN'), ('noted', 'VERB'), ('that', 'ADP'), ('business', 'NOUN'), ('expanded', 'VERB'), ('.', '.'), ('In', 'ADP'), ('the', 'DET'), ('classroom', 'NOUN'), (',', '.'), ('students', 'NOUN'), ('say', 'VERB'), ('0', 'X'), ('*T*-3', 'X'), (',', '.'), ('Mrs.', 'NOUN'), ('Yeargin', 'NOUN'), ('distinguished', 'CONJ'), ('herself', 'CONJ'), ('by', 'ADP'), ('*', 'X'), ('varying', 'VERB'), ('teaching', 'NOUN'), ('approaches', 'CONJ'), ('--', '.'), ('*-1', 'X'), ('forcing', 'VERB'), ('kids', 'NOUN'), ('to', 'PRT'), ('pair', 'CONJ'), ('up', 'ADV'), ('*-2', 'X'), ('to', 'PRT'), ('complete', 'VERB'), ('classroom', 'NOUN'), ('work', 'NOUN'), ('or', 'CONJ'), ('using', 'VERB'), ('college-bowl', 'CONJ'), ('type', 'NOUN'), ('competitions', 'CONJ'), ('.', '.'), ('The', 'DET'), ('president', 'NOUN'), (\"'s\", 'PRT'), ('plan', 'NOUN'), ('includes', 'VERB'), ('a', 'DET'), ('commitment', 'NOUN'), ('*', 'X'), ('to', 'PRT'), ('help', 'VERB'), ('*-1', 'X'), ('negotiate', 'VERB'), ('a', 'DET'), ('new', 'ADJ'), ('international', 'ADJ'), ('coffee', 'CONJ'), ('agreement', 'NOUN'), ('.', '.'), ('*', 'X'), ('Also', 'ADV'), ('spurring', 'CONJ'), ('the', 'DET'), ('move', 'NOUN'), ('to', 'PRT'), ('cloth', 'NOUN'), (':', '.'), ('diaper', 'NOUN'), ('covers', 'VERB'), ('with', 'ADP'), ('Velcro', 'CONJ'), ('fasteners', 'NOUN'), ('that', 'ADP'), ('*T*-1', 'X'), ('eliminate', 'VERB'), ('the', 'DET'), ('need', 'NOUN'), ('for', 'ADP'), ('safety', 'NOUN'), ('pins', 'VERB'), ('.', '.'), ('The', 'DET'), ('company', 'NOUN'), (\"'s\", 'PRT'), ('proposal', 'NOUN'), ('*', 'X'), ('to', 'PRT'), ('sell', 'VERB'), ('a', 'DET'), ('20', 'NUM'), ('%', 'NOUN'), ('stake', 'NOUN'), ('in', 'ADP'), ('its', 'PRON'), ('real-estate', 'NOUN'), ('unit', 'NOUN'), ('for', 'ADP'), ('around', 'ADP'), ('$', '.'), ('400', 'NUM'), ('million', 'NUM'), ('*U*', 'X'), ('has', 'VERB'), ('caused', 'VERB'), ('analysts', 'NOUN'), ('to', 'PRT'), ('consider', 'VERB'), ('whether', 'ADP'), ('*-1', 'X'), ('to', 'PRT'), ('cut', 'VERB'), ('their', 'PRON'), ('estimates', 'VERB'), ('of', 'ADP'), ('Santa', 'NOUN'), ('Fe', 'NOUN'), (\"'s\", 'PRT'), ('asset', 'NOUN'), ('value', 'NOUN'), ('.', '.'), ('Now', 'ADV'), (',', '.'), ('he', 'PRON'), ('said', 'VERB'), ('0', 'X'), ('*T*-1', 'X'), (',', '.'), ('the', 'DET'), ('group', 'NOUN'), ('plans', 'VERB'), ('*-2', 'X'), ('to', 'PRT'), ('put', 'VERB'), ('in', 'ADP'), ('``', '.'), ('several', 'ADJ'), ('hundred', 'NUM'), ('million', 'NUM'), (\"''\", '.'), ('dollars', 'NOUN'), ('in', 'ADP'), ('equity', 'NOUN'), ('and', 'CONJ'), ('finance', 'NOUN'), ('the', 'DET'), ('remainder', 'NOUN'), ('with', 'ADP'), ('bank', 'NOUN'), ('debt', 'NOUN'), ('.', '.'), ('Mr.', 'NOUN'), ('Hahn', 'NOUN'), ('began', 'VERB'), ('*-1', 'X'), ('selling', 'VERB'), ('non-core', 'CONJ'), ('businesses', 'NOUN'), (',', '.'), ('such', 'ADJ'), ('as', 'ADP'), ('oil', 'NOUN'), ('and', 'CONJ'), ('gas', 'NOUN'), ('and', 'CONJ'), ('chemicals', 'NOUN'), ('.', '.'), ('But', 'CONJ'), ('can', 'VERB'), ('Mr.', 'NOUN'), ('Hahn', 'NOUN'), ('carry', 'VERB'), ('it', 'PRON'), ('off', 'PRT'), ('?', '.'), ('Silver', 'NOUN'), ('and', 'CONJ'), ('platinum', 'CONJ'), (',', '.'), ('which', 'DET'), ('*T*-1', 'X'), ('have', 'VERB'), ('more', 'ADV'), ('of', 'ADP'), ('an', 'DET'), ('industrial', 'ADJ'), ('nature', 'NOUN'), ('than', 'ADP'), ('gold', 'NOUN'), (',', '.'), ('were', 'VERB'), ('even', 'ADV'), ('weaker', 'ADJ'), (',', '.'), ('he', 'PRON'), ('said', 'VERB'), ('0', 'X'), ('*T*-2', 'X'), ('.', '.'), ('The', 'DET'), ('administration', 'NOUN'), ('had', 'VERB'), ('requested', 'VERB'), ('roughly', 'ADV'), ('the', 'DET'), ('same', 'ADJ'), ('amount', 'NOUN'), ('for', 'ADP'), ('antitrust', 'ADJ'), ('enforcement', 'NOUN'), ('for', 'ADP'), ('fiscal', 'ADJ'), ('1990', 'NUM'), ('as', 'ADP'), ('*', 'X'), ('was', 'VERB'), ('appropriated', 'CONJ'), ('*-1', 'X'), ('in', 'ADP'), ('fiscal', 'ADJ'), ('1989', 'NUM'), ('.', '.'), ('In', 'ADP'), ('addition', 'NOUN'), (',', '.'), ('the', 'DET'), ('Cray-3', 'NOUN'), ('will', 'VERB'), ('contain', 'VERB'), ('16', 'NUM'), ('processors', 'NOUN'), ('--', '.'), ('twice', 'CONJ'), ('as', 'ADP'), ('many', 'ADJ'), ('as', 'ADP'), ('the', 'DET'), ('largest', 'ADJ'), ('current', 'ADJ'), ('supercomputer', 'NOUN'), ('.', '.'), ('This', 'DET'), ('is', 'VERB'), ('a', 'DET'), ('Johnson-era', 'CONJ'), (',', '.'), ('Great', 'NOUN'), ('Society', 'NOUN'), ('creation', 'NOUN'), ('that', 'ADP'), ('*T*-2', 'X'), ('mandates', 'CONJ'), ('0', 'X'), ('certain', 'ADJ'), ('government', 'NOUN'), ('contracts', 'NOUN'), ('be', 'VERB'), ('awarded', 'VERB'), ('*-1', 'X'), ('noncompetitively', 'CONJ'), ('to', 'PRT'), ('minority', 'NOUN'), ('businesses', 'NOUN'), ('.', '.'), ('Japan', 'NOUN'), ('is', 'VERB'), ('``', '.'), ('very', 'ADV'), ('concerned', 'CONJ'), (\"''\", '.'), ('about', 'ADP'), ('the', 'DET'), ('possible', 'ADJ'), ('effects', 'NOUN'), ('of', 'ADP'), ('program', 'NOUN'), ('trading', 'NOUN'), (',', '.'), ('a', 'DET'), ('senior', 'ADJ'), ('Japanese', 'ADJ'), ('official', 'NOUN'), ('said', 'VERB'), ('0', 'X'), ('*T*-1', 'X'), ('after', 'ADP'), ('the', 'DET'), ('Oct.', 'NOUN'), ('13', 'NUM'), ('stock', 'NOUN'), ('plunge', 'NOUN'), ('in', 'ADP'), ('New', 'NOUN'), ('York', 'NOUN'), ('.', '.'), ('``', '.'), ('Over', 'ADP'), ('the', 'DET'), ('summer', 'NOUN'), ('months', 'NOUN'), (',', '.'), ('there', 'DET'), ('has', 'VERB'), ('been', 'VERB'), ('a', 'DET'), ('slowing', 'NOUN'), ('in', 'ADP'), ('the', 'DET'), ('rate', 'NOUN'), ('of', 'ADP'), ('new', 'ADJ'), ('orders', 'NOUN'), ('from', 'ADP'), ('the', 'DET'), ('computer', 'NOUN'), ('sector', 'NOUN'), (',', '.'), ('our', 'PRON'), ('primary', 'ADJ'), ('market', 'NOUN'), (',', '.'), (\"''\", '.'), ('said', 'VERB'), ('*T*-1', 'X'), ('Wilfred', 'CONJ'), ('J.', 'NOUN'), ('Corrigan', 'CONJ'), (',', '.'), ('chairman', 'NOUN'), ('and', 'CONJ'), ('chief', 'NOUN'), ('executive', 'NOUN'), ('officer', 'NOUN'), ('.', '.'), ('The', 'DET'), ('Senate', 'NOUN'), ('plans', 'VERB'), ('*-1', 'X'), ('to', 'PRT'), ('take', 'VERB'), ('up', 'ADV'), ('the', 'DET'), ('measure', 'NOUN'), ('quickly', 'ADV'), ('and', 'CONJ'), ('is', 'VERB'), ('expected', 'VERB'), ('*-1', 'X'), ('to', 'PRT'), ('pass', 'VERB'), ('it', 'PRON'), ('.', '.'), ('This', 'DET'), ('compares', 'VERB'), ('with', 'ADP'), ('estimates', 'NOUN'), ('that', 'ADP'), ('the', 'DET'), ('U.S.', 'NOUN'), ('``', '.'), ('derivatives', 'CONJ'), (\"''\", '.'), ('market', 'NOUN'), ('is', 'VERB'), ('perhaps', 'ADV'), ('four', 'NUM'), ('times', 'NOUN'), ('as', 'ADP'), ('large', 'ADJ'), ('as', 'ADP'), ('the', 'DET'), ('underlying', 'ADJ'), ('domestic', 'ADJ'), ('market', 'NOUN'), ('.', '.'), ('The', 'DET'), ('conference', 'NOUN'), ('approved', 'VERB'), ('at', 'ADP'), ('least', 'ADJ'), ('$', '.'), ('55', 'NUM'), ('million', 'NUM'), ('*U*', 'X'), ('in', 'ADP'), ('direct', 'ADJ'), ('cash', 'NOUN'), ('and', 'CONJ'), ('development', 'NOUN'), ('assistance', 'NOUN'), ('as', 'ADP'), ('well', 'ADV'), (',', '.'), ('and', 'CONJ'), ('though', 'ADP'), ('no', 'DET'), ('decision', 'NOUN'), ('was', 'VERB'), ('made', 'VERB'), ('*-4', 'X'), (',', '.'), ('both', 'DET'), ('sides', 'NOUN'), ('are', 'VERB'), ('committed', 'VERB'), ('to', 'PRT'), ('*', 'X'), ('adding', 'VERB'), ('more', 'ADV'), ('than', 'ADP'), ('$', '.'), ('200', 'NUM'), ('million', 'NUM'), ('*U*', 'X'), ('in', 'ADP'), ('economic', 'ADJ'), ('support', 'NOUN'), ('funds', 'NOUN'), ('and', 'CONJ'), ('environmental', 'ADJ'), ('initiatives', 'NOUN'), ('sought', 'VERB'), ('*', 'X'), ('by', 'ADP'), ('the', 'DET'), ('Bush', 'NOUN'), ('administration', 'NOUN'), ('.', '.'), ('About', 'ADP'), ('20,000', 'NUM'), ('sets', 'NOUN'), ('of', 'ADP'), ('Learning', 'NOUN'), ('Materials', 'NOUN'), ('teachers', 'NOUN'), (\"'\", 'PRT'), ('binders', 'CONJ'), ('have', 'VERB'), ('also', 'ADV'), ('been', 'VERB'), ('sold', 'VERB'), ('*-1', 'X'), ('in', 'ADP'), ('the', 'DET'), ('past', 'ADJ'), ('four', 'NUM'), ('years', 'NOUN'), ('.', '.'), ('The', 'DET'), ('insurance', 'NOUN'), ('and', 'CONJ'), ('financial', 'ADJ'), ('services', 'NOUN'), ('concern', 'NOUN'), ('said', 'VERB'), ('0', 'X'), ('profit', 'NOUN'), ('for', 'ADP'), ('the', 'DET'), ('quarter', 'NOUN'), ('rose', 'VERB'), ('1.1', 'NUM'), ('%', 'NOUN'), ('to', 'PRT'), ('$', '.'), ('93.9', 'CONJ'), ('million', 'NUM'), ('*U*', 'X'), (',', '.'), ('or', 'CONJ'), ('$', '.'), ('1.19', 'CONJ'), ('*U*', 'X'), ('a', 'DET'), ('share', 'NOUN'), (',', '.'), ('compared', 'VERB'), ('with', 'ADP'), ('$', '.'), ('92.9', 'CONJ'), ('million', 'NUM'), ('*U*', 'X'), (',', '.'), ('or', 'CONJ'), ('$', '.'), ('1.18', 'CONJ'), ('*U*', 'X'), ('a', 'DET'), ('share', 'NOUN'), (',', '.'), ('the', 'DET'), ('year', 'NOUN'), ('earlier', 'ADV'), ('.', '.'), ('Demand', 'CONJ'), ('from', 'ADP'), ('Europe', 'NOUN'), ('and', 'CONJ'), ('Southeast', 'NOUN'), ('Asia', 'NOUN'), ('also', 'ADV'), ('grew', 'VERB'), (',', '.'), ('but', 'CONJ'), ('due', 'ADJ'), ('to', 'PRT'), ('increasing', 'VERB'), ('production', 'NOUN'), ('at', 'ADP'), ('local', 'ADJ'), ('plants', 'NOUN'), (',', '.'), ('overseas', 'ADV'), ('sales', 'NOUN'), ('edged', 'VERB'), ('down', 'ADV'), ('2.8', 'NUM'), ('%', 'NOUN'), ('.', '.'), ('The', 'DET'), ('Fed', 'NOUN'), ('is', 'VERB'), ('coming', 'VERB'), ('under', 'ADP'), ('pressure', 'NOUN'), ('*', 'X'), ('to', 'PRT'), ('cut', 'VERB'), ('short-term', 'ADJ'), ('interest', 'NOUN'), ('rates', 'NOUN'), ('due', 'ADJ'), ('to', 'PRT'), ('the', 'DET'), ('apparent', 'CONJ'), ('slowing', 'VERB'), ('of', 'ADP'), ('the', 'DET'), ('economy', 'NOUN'), ('.', '.'), ('David', 'NOUN'), ('Berson', 'CONJ'), (',', '.'), ('economist', 'NOUN'), ('for', 'ADP'), ('the', 'DET'), ('Mortgage', 'NOUN'), ('Bankers', 'NOUN'), ('Association', 'NOUN'), (',', '.'), ('predicted', 'VERB'), ('0', 'X'), ('the', 'DET'), ('drop', 'NOUN'), ('in', 'ADP'), ('interest', 'NOUN'), ('rates', 'NOUN'), ('eventually', 'ADV'), ('will', 'VERB'), ('boost', 'VERB'), ('spending', 'NOUN'), ('on', 'ADP'), ('single-family', 'NOUN'), ('homes', 'NOUN'), (',', '.'), ('but', 'CONJ'), ('probably', 'ADV'), ('not', 'ADV'), ('until', 'ADP'), ('early', 'ADJ'), ('next', 'ADJ'), ('year', 'NOUN'), ('.', '.'), ('Upjohn', 'NOUN'), ('officials', 'NOUN'), ('said', 'VERB'), ('0', 'X'), ('they', 'PRON'), ('could', 'VERB'), (\"n't\", 'ADV'), ('estimate', 'NOUN'), ('the', 'DET'), ('size', 'NOUN'), ('of', 'ADP'), ('the', 'DET'), ('charge', 'NOUN'), ('until', 'ADP'), ('they', 'PRON'), ('determine', 'VERB'), ('which', 'DET'), ('employees', 'NOUN'), (',', '.'), ('and', 'CONJ'), ('how', 'ADV'), ('many', 'ADJ'), (',', '.'), ('*T*-1', 'X'), ('will', 'VERB'), ('participate', 'VERB'), ('in', 'ADP'), ('the', 'DET'), ('retirement', 'NOUN'), ('plan', 'NOUN'), ('.', '.'), ('A', 'DET'), ('program', 'NOUN'), ('trade', 'NOUN'), ('of', 'ADP'), ('$', '.'), ('5', 'NUM'), ('million', 'NUM'), ('*U*', 'X'), ('of', 'ADP'), ('stock', 'NOUN'), ('typically', 'ADV'), ('earns', 'VERB'), ('a', 'DET'), ('razor-thin', 'CONJ'), ('profit', 'NOUN'), ('of', 'ADP'), ('$', '.'), ('25,000', 'NUM'), ('*U*', 'X'), ('.', '.'), ('The', 'DET'), ('survival', 'NOUN'), ('of', 'ADP'), ('spinoff', 'NOUN'), ('Cray', 'NOUN'), ('Computer', 'NOUN'), ('Corp.', 'NOUN'), ('as', 'ADP'), ('a', 'DET'), ('fledgling', 'CONJ'), ('in', 'ADP'), ('the', 'DET'), ('supercomputer', 'NOUN'), ('business', 'NOUN'), ('appears', 'VERB'), ('*-1', 'X'), ('to', 'PRT'), ('depend', 'CONJ'), ('heavily', 'ADV'), ('on', 'ADP'), ('the', 'DET'), ('creativity', 'NOUN'), ('--', '.'), ('and', 'CONJ'), ('longevity', 'CONJ'), ('--', '.'), ('of', 'ADP'), ('its', 'PRON'), ('chairman', 'NOUN'), ('and', 'CONJ'), ('chief', 'NOUN'), ('designer', 'NOUN'), (',', '.'), ('Seymour', 'NOUN'), ('Cray', 'NOUN'), ('.', '.'), ('Until', 'ADP'), ('last', 'ADJ'), ('week', 'NOUN'), (',', '.'), ('the', 'DET'), ('IRS', 'NOUN'), ('rarely', 'CONJ'), ('acted', 'CONJ'), ('on', 'ADP'), ('the', 'DET'), ('incomplete', 'ADJ'), ('forms', 'NOUN'), ('.', '.'), ('A', 'DET'), ('White', 'NOUN'), ('House', 'NOUN'), ('spokesman', 'NOUN'), ('condemned', 'VERB'), ('the', 'DET'), ('truce', 'NOUN'), ('suspension', 'NOUN'), ('as', 'ADP'), ('``', '.'), ('deplorable', 'CONJ'), (\"''\", '.'), ('but', 'CONJ'), ('brushed', 'CONJ'), ('off', 'ADV'), ('talk', 'VERB'), ('of', 'ADP'), ('*', 'X'), ('renewing', 'CONJ'), ('military', 'ADJ'), ('funding', 'NOUN'), ('for', 'ADP'), ('the', 'DET'), ('insurgents', 'CONJ'), ('.', '.'), ('For', 'ADP'), ('the', 'DET'), ('year', 'NOUN'), ('to', 'PRT'), ('date', 'NOUN'), (',', '.'), ('Moody', 'NOUN'), (\"'s\", 'PRT'), ('said', 'VERB'), ('0', 'X'), ('total', 'VERB'), ('returns', 'NOUN'), ('were', 'VERB'), ('topped', 'CONJ'), ('*-1', 'X'), ('by', 'ADP'), ('the', 'DET'), ('16.5', 'CONJ'), ('%', 'NOUN'), ('of', 'ADP'), ('longer-term', 'ADJ'), ('Treasury', 'NOUN'), ('issues', 'NOUN'), (',', '.'), ('*-2', 'X'), ('closely', 'ADV'), ('followed', 'VERB'), ('*-3', 'X'), ('by', 'ADP'), ('15', 'NUM'), ('%', 'NOUN'), ('for', 'ADP'), ('investment-grade', 'ADJ'), ('bonds', 'NOUN'), ('.', '.'), ('It', 'PRON'), ('would', 'VERB'), ('contradict', 'VERB'), ('that', 'ADP'), ('objective', 'NOUN'), ('if', 'ADP'), ('the', 'DET'), ('appropriations', 'NOUN'), ('clause', 'NOUN'), ('-LRB-', '.'), ('technically', 'CONJ'), ('a', 'DET'), ('limitation', 'CONJ'), ('on', 'ADP'), ('legislative', 'ADJ'), ('power', 'NOUN'), ('-RRB-', '.'), ('could', 'VERB'), ('be', 'VERB'), ('read', 'VERB'), ('*-52', 'X'), ('as', 'ADP'), ('*-52', 'X'), ('placing', 'VERB'), ('the', 'DET'), ('president', 'NOUN'), ('on', 'ADP'), ('Congress', 'NOUN'), (\"'s\", 'PRT'), ('short', 'ADJ'), ('leash', 'CONJ'), (',', '.'), ('*-52', 'X'), ('making', 'VERB'), ('the', 'DET'), ('executive', 'NOUN'), ('consist', 'VERB'), ('of', 'ADP'), ('the', 'DET'), ('president', 'NOUN'), ('and', 'CONJ'), ('every', 'DET'), ('member', 'NOUN'), ('of', 'ADP'), ('Congress', 'NOUN'), ('.', '.'), ('No', 'DET'), ('fewer', 'ADJ'), ('than', 'ADP'), ('24', 'NUM'), ('country', 'NOUN'), ('funds', 'NOUN'), ('*ICH*-1', 'X'), ('have', 'VERB'), ('been', 'VERB'), ('launched', 'VERB'), ('*-2', 'X'), ('or', 'CONJ'), ('registered', 'VERB'), ('*-2', 'X'), ('with', 'ADP'), ('regulators', 'NOUN'), ('this', 'DET'), ('year', 'NOUN'), (',', '.'), ('triple', 'CONJ'), ('the', 'DET'), ('level', 'NOUN'), ('of', 'ADP'), ('all', 'DET'), ('of', 'ADP'), ('1988', 'NUM'), (',', '.'), ('according', 'VERB'), ('to', 'PRT'), ('Charles', 'NOUN'), ('E.', 'NOUN'), ('Simon', 'NOUN'), ('&', 'CONJ'), ('Co.', 'NOUN'), (',', '.'), ('a', 'DET'), ('Washington-based', 'CONJ'), ('research', 'NOUN'), ('firm', 'NOUN'), ('.', '.'), ('If', 'ADP'), ('Congress', 'NOUN'), ('takes', 'VERB'), ('the', 'DET'), ('dispute', 'NOUN'), ('to', 'PRT'), ('the', 'DET'), ('Supreme', 'NOUN'), ('Court', 'NOUN'), ('-LRB-', '.'), ('*-2', 'X'), ('assuming', 'VERB'), ('0', 'X'), ('it', 'PRON'), ('can', 'VERB'), ('establish', 'VERB'), ('standing', 'NOUN'), ('0', 'X'), ('*', 'X'), ('to', 'PRT'), ('sue', 'CONJ'), ('*T*-1', 'X'), ('-RRB-', '.'), (',', '.'), ('President', 'NOUN'), ('Bush', 'NOUN'), ('might', 'VERB'), ('win', 'VERB'), ('.', '.'), ('In', 'ADP'), ('May', 'NOUN'), (',', '.'), ('the', 'DET'), ('two', 'NUM'), ('companies', 'NOUN'), (',', '.'), ('through', 'ADP'), ('their', 'PRON'), ('jointly', 'ADV'), ('owned', 'VERB'), ('holding', 'VERB'), ('company', 'NOUN'), (',', '.'), ('Temple', 'NOUN'), (',', '.'), ('offered', 'VERB'), ('$', '.'), ('50', 'NUM'), ('*U*', 'X'), ('a', 'DET'), ('share', 'NOUN'), (',', '.'), ('or', 'CONJ'), ('$', '.'), ('777', 'CONJ'), ('million', 'NUM'), ('*U*', 'X'), (',', '.'), ('for', 'ADP'), ('Sea', 'NOUN'), ('Containers', 'NOUN'), ('.', '.'), ('An', 'DET'), ('official', 'NOUN'), ('of', 'ADP'), ('the', 'DET'), ('Palestinian', 'ADJ'), ('Olympic', 'NOUN'), ('Committee', 'NOUN'), ('said', 'VERB'), ('0', 'X'), ('the', 'DET'), ('committee', 'NOUN'), ('first', 'ADJ'), ('applied', 'VERB'), ('for', 'ADP'), ('membership', 'NOUN'), ('in', 'ADP'), ('1979', 'NUM'), ('and', 'CONJ'), ('renewed', 'VERB'), ('its', 'PRON'), ('application', 'NOUN'), ('in', 'ADP'), ('August', 'NOUN'), ('of', 'ADP'), ('this', 'DET'), ('year', 'NOUN'), ('.', '.'), ('``', '.'), ('Only', 'ADV'), ('five', 'NUM'), ('of', 'ADP'), ('the', 'DET'), ('40', 'NUM'), ('questions', 'NOUN'), ('were', 'VERB'), ('geography', 'NOUN'), ('questions', 'NOUN'), ('.', '.'), ('The', 'DET'), ('December', 'NOUN'), ('contract', 'NOUN'), ('rose', 'VERB'), ('1.20', 'CONJ'), ('cents', 'NOUN'), ('a', 'DET'), ('pound', 'NOUN'), ('to', 'PRT'), ('$', '.'), ('1.14', 'CONJ'), ('*U*', 'X'), ('.', '.'), ('Such', 'ADJ'), ('problems', 'NOUN'), ('will', 'VERB'), ('require', 'VERB'), ('considerable', 'ADJ'), ('skill', 'CONJ'), ('*', 'X'), ('to', 'PRT'), ('resolve', 'VERB'), ('.', '.'), ('The', 'DET'), ('index', 'NOUN'), ('ended', 'VERB'), ('the', 'DET'), ('day', 'NOUN'), ('near', 'ADP'), ('its', 'PRON'), ('session', 'NOUN'), ('high', 'ADJ'), ('of', 'ADP'), ('2163.2', 'CONJ'), (',', '.'), ('which', 'DET'), ('*T*-2', 'X'), ('was', 'VERB'), ('posted', 'VERB'), ('*-1', 'X'), ('within', 'ADP'), ('the', 'DET'), ('last', 'ADJ'), ('half-hour', 'ADJ'), ('of', 'ADP'), ('trading', 'NOUN'), ('.', '.'), ('*-1', 'X'), ('To', 'PRT'), ('further', 'ADJ'), ('load', 'NOUN'), ('the', 'DET'), ('stakes', 'NOUN'), (',', '.'), ('Mr.', 'NOUN'), ('Lane', 'NOUN'), ('dreamed', 'CONJ'), ('up', 'ADV'), ('a', 'DET'), ('highly', 'ADV'), ('improbable', 'CONJ'), ('romance', 'NOUN'), ('for', 'ADP'), ('the', 'DET'), ('Artist', 'NOUN'), (',', '.'), ('with', 'ADP'), ('a', 'DET'), ('young', 'ADJ'), ('woman', 'NOUN'), ('who', 'PRON'), ('*T*-68', 'X'), ('owns', 'VERB'), ('her', 'PRON'), ('own', 'ADJ'), ('children', 'NOUN'), (\"'s\", 'PRT'), ('shop', 'CONJ'), ('and', 'CONJ'), ('who', 'PRON'), ('*T*-69', 'X'), ('lives', 'VERB'), ('in', 'ADP'), ('an', 'DET'), ('expensive', 'ADJ'), ('high-rise', 'CONJ'), ('apartment', 'NOUN'), ('building', 'NOUN'), ('.', '.'), ('But', 'CONJ'), ('since', 'ADP'), ('the', 'DET'), ('1990', 'NUM'), ('model', 'NOUN'), ('year', 'NOUN'), ('began', 'VERB'), ('Oct.', 'NOUN'), ('1', 'NUM'), (',', '.'), ('Buick', 'NOUN'), ('sales', 'NOUN'), ('have', 'VERB'), ('plunged', 'VERB'), ('33', 'NUM'), ('%', 'NOUN'), ('.', '.'), ('``', '.'), ('Cosby', 'NOUN'), (\"''\", '.'), ('is', 'VERB'), ('down', 'ADV'), ('a', 'DET'), ('full', 'ADJ'), ('ratings', 'NOUN'), ('point', 'NOUN'), ('in', 'ADP'), ('the', 'DET'), ('week', 'NOUN'), ('of', 'ADP'), ('Oct.', 'NOUN'), ('2-8', 'CONJ'), ('over', 'ADP'), ('the', 'DET'), ('same', 'ADJ'), ('week', 'NOUN'), ('a', 'DET'), ('year', 'NOUN'), ('ago', 'ADP'), (',', '.'), ('according', 'VERB'), ('to', 'PRT'), ('A.C.', 'CONJ'), ('Nielsen', 'CONJ'), ('Co', 'NOUN'), ('.', '.'), ('``', '.'), ('*', 'X'), ('Having', 'CONJ'), ('the', 'DET'), ('dividend', 'NOUN'), ('increases', 'NOUN'), ('is', 'VERB'), ('a', 'DET'), ('supportive', 'CONJ'), ('element', 'CONJ'), ('in', 'ADP'), ('the', 'DET'), ('market', 'NOUN'), ('outlook', 'NOUN'), (',', '.'), ('but', 'CONJ'), ('I', 'PRON'), ('do', 'VERB'), (\"n't\", 'ADV'), ('think', 'VERB'), ('0', 'X'), ('it', 'PRON'), (\"'s\", 'VERB'), ('a', 'DET'), ('main', 'ADJ'), ('consideration', 'NOUN'), (',', '.'), (\"''\", '.'), ('he', 'PRON'), ('says', 'VERB'), ('*T*-1', 'X'), ('.', '.'), ('SEC', 'NOUN'), ('Chairman', 'NOUN'), ('Richard', 'NOUN'), ('Breeden', 'CONJ'), ('has', 'VERB'), ('said', 'VERB'), ('0', 'X'), ('he', 'PRON'), ('would', 'VERB'), ('be', 'VERB'), ('willing', 'ADJ'), ('*-1', 'X'), ('to', 'PRT'), ('consider', 'VERB'), ('circuit', 'NOUN'), ('breakers', 'CONJ'), ('that', 'DET'), ('*T*-215', 'CONJ'), ('have', 'VERB'), ('preset', 'ADJ'), ('trigger', 'NOUN'), ('points', 'NOUN'), (',', '.'), ('but', 'CONJ'), ('he', 'PRON'), ('does', 'VERB'), (\"n't\", 'ADV'), ('want', 'VERB'), ('discretionary', 'ADJ'), ('power', 'NOUN'), ('*', 'X'), ('to', 'PRT'), ('stop', 'VERB'), ('programs', 'NOUN'), ('.', '.'), ('In', 'ADP'), ('composite', 'ADJ'), ('trading', 'NOUN'), ('on', 'ADP'), ('the', 'DET'), ('New', 'NOUN'), ('York', 'NOUN'), ('Stock', 'NOUN'), ('Exchange', 'NOUN'), ('yesterday', 'NOUN'), (',', '.'), ('Upjohn', 'NOUN'), ('shares', 'NOUN'), ('rose', 'VERB'), ('87.5', 'CONJ'), ('cents', 'NOUN'), ('to', 'PRT'), ('$', '.'), ('38.875', 'CONJ'), ('*U*', 'X'), ('apiece', 'ADV'), ('.', '.'), ('Reames', 'NOUN'), (',', '.'), ('a', 'DET'), ('maker', 'NOUN'), ('and', 'CONJ'), ('marketer', 'NOUN'), ('of', 'ADP'), ('frozen', 'VERB'), ('noodles', 'CONJ'), ('and', 'CONJ'), ('pre-cooked', 'CONJ'), ('pasta', 'CONJ'), ('based', 'VERB'), ('*', 'X'), ('in', 'ADP'), ('Clive', 'CONJ'), (',', '.'), ('Iowa', 'NOUN'), (',', '.'), ('has', 'VERB'), ('annual', 'ADJ'), ('sales', 'NOUN'), ('of', 'ADP'), ('about', 'ADP'), ('$', '.'), ('11', 'NUM'), ('million', 'NUM'), ('*U*', 'X'), (',', '.'), ('Lancaster', 'NOUN'), ('said', 'VERB'), ('0', 'X'), ('*T*-1', 'X'), ('.', '.'), ('``', '.'), ('It', 'PRON'), ('has', 'VERB'), ('*-2', 'X'), ('to', 'PRT'), ('be', 'VERB'), ('considered', 'VERB'), ('*-21', 'X'), ('as', 'ADP'), ('an', 'DET'), ('additional', 'ADJ'), ('risk', 'NOUN'), ('for', 'ADP'), ('the', 'DET'), ('investor', 'NOUN'), (',', '.'), (\"''\", '.'), ('said', 'VERB'), ('*T*-1', 'X'), ('Gary', 'NOUN'), ('P.', 'NOUN'), ('Smaby', 'CONJ'), ('of', 'ADP'), ('Smaby', 'CONJ'), ('Group', 'NOUN'), ('Inc.', 'NOUN'), (',', '.'), ('Minneapolis', 'NOUN'), ('.', '.'), ('``', '.'), ('Maybe', 'ADV'), ('it', 'PRON'), ('was', 'VERB'), (\"n't\", 'ADV'), ('enough', 'ADV'), (',', '.'), (\"''\", '.'), ('a', 'DET'), ('Finance', 'NOUN'), ('Ministry', 'NOUN'), ('official', 'NOUN'), ('noted', 'VERB'), ('*T*-1', 'X'), ('after', 'ADP'), ('the', 'DET'), ('Dec.', 'NOUN'), ('7', 'NUM'), ('surge', 'NOUN'), ('.', '.'), ('We', 'PRON'), (\"'re\", 'VERB'), ('talking', 'VERB'), ('about', 'ADP'), ('years', 'NOUN'), ('ago', 'ADP'), ('before', 'ADP'), ('anyone', 'NOUN'), ('heard', 'VERB'), ('of', 'ADP'), ('asbestos', 'NOUN'), ('having', 'VERB'), ('any', 'DET'), ('questionable', 'ADJ'), ('properties', 'CONJ'), ('.', '.'), ('INTER-TEL', 'CONJ'), ('Inc', 'NOUN'), ('.', '.'), ('-LRB-', '.'), ('Chandler', 'NOUN'), (',', '.'), ('Ariz.', 'NOUN'), ('-RRB-', '.'), ('--', '.'), ('Shearson', 'NOUN'), ('``', '.'), ('really', 'ADV'), ('only', 'ADV'), ('has', 'VERB'), ('$', '.'), ('300', 'NUM'), ('million', 'NUM'), ('*U*', 'X'), ('of', 'ADP'), ('capital', 'NOUN'), (',', '.'), (\"''\", '.'), ('says', 'VERB'), ('*T*-1', 'X'), ('Mr.', 'NOUN'), ('Bowman', 'NOUN'), ('of', 'ADP'), ('S&P', 'NOUN'), ('.', '.'), ('``', '.'), ('It', 'PRON'), (\"'s\", 'VERB'), ('a', 'DET'), ('cosmetic', 'NOUN'), ('move', 'NOUN'), (',', '.'), (\"''\", '.'), ('said', 'VERB'), ('*T*-1', 'X'), ('Jonathan', 'NOUN'), ('S.', 'NOUN'), ('Gelles', 'CONJ'), ('of', 'ADP'), ('Wertheim', 'CONJ'), ('Schroder', 'CONJ'), ('&', 'CONJ'), ('Co', 'NOUN'), ('.', '.'), ('``', '.'), ('*-1', 'X'), ('To', 'PRT'), ('get', 'VERB'), ('people', 'NOUN'), (\"'s\", 'PRT'), ('attention', 'NOUN'), ('these', 'DET'), ('days', 'NOUN'), (',', '.'), (\"''\", '.'), ('says', 'VERB'), ('*T*-2', 'X'), ('Douglas', 'NOUN'), ('Bailey', 'NOUN'), (',', '.'), ('a', 'DET'), ('political', 'ADJ'), ('consultant', 'NOUN'), (',', '.'), ('``', '.'), ('your', 'PRON'), ('TV', 'NOUN'), ('ad', 'NOUN'), ('needs', 'VERB'), ('*-1', 'X'), ('to', 'PRT'), ('be', 'VERB'), ('bold', 'ADJ'), ('and', 'CONJ'), ('entertaining', 'CONJ'), (',', '.'), ('and', 'CONJ'), (',', '.'), ('more', 'ADV'), ('often', 'ADV'), ('than', 'ADP'), ('not', 'ADV'), (',', '.'), ('that', 'DET'), ('means', 'NOUN'), ('confrontational', 'CONJ'), ('.', '.'), ('In', 'ADP'), ('August', 'NOUN'), (',', '.'), ('the', 'DET'), ('commission', 'NOUN'), ('ruled', 'VERB'), ('that', 'ADP'), ('between', 'ADP'), ('$', '.'), ('190', 'NUM'), ('million', 'NUM'), ('and', 'CONJ'), ('$', '.'), ('195', 'NUM'), ('million', 'NUM'), ('*U*', 'X'), ('of', 'ADP'), ('the', 'DET'), ('plant', 'NOUN'), (\"'s\", 'PRT'), ('construction', 'NOUN'), ('cost', 'NOUN'), ('was', 'VERB'), ('unreasonable', 'ADJ'), ('and', 'CONJ'), ('should', 'VERB'), ('be', 'VERB'), ('refunded', 'CONJ'), ('*-1', 'X'), (',', '.'), ('plus', 'CONJ'), ('interest', 'NOUN'), ('.', '.'), ('The', 'DET'), ('company', 'NOUN'), ('earlier', 'ADV'), ('this', 'DET'), ('year', 'NOUN'), ('adopted', 'VERB'), ('a', 'DET'), ('shareholder-rights', 'CONJ'), ('plan', 'NOUN'), ('*-1', 'X'), ('to', 'PRT'), ('ward', 'VERB'), ('off', 'PRT'), ('unwanted', 'CONJ'), ('suitors', 'CONJ'), ('.', '.'), ('There', 'DET'), ('is', 'VERB'), ('no', 'DET'), ('sign', 'NOUN'), ('that', 'ADP'), ('you', 'PRON'), ('bothered', 'CONJ'), ('*-1', 'X'), ('to', 'PRT'), ('consider', 'VERB'), ('the', 'DET'), ('inverse', 'CONJ'), ('of', 'ADP'), ('your', 'PRON'), ('logic', 'NOUN'), (':', '.'), ('namely', 'ADV'), (',', '.'), ('that', 'DET'), ('mental', 'ADJ'), ('illness', 'NOUN'), ('and', 'CONJ'), ('substance', 'NOUN'), ('abuse', 'NOUN'), ('might', 'VERB'), ('be', 'VERB'), ('to', 'PRT'), ('some', 'DET'), ('degree', 'NOUN'), ('consequences', 'NOUN'), ('rather', 'ADV'), ('than', 'ADP'), ('causes', 'NOUN'), ('of', 'ADP'), ('homelessness', 'NOUN'), ('.', '.'), ('But', 'CONJ'), ('Learning', 'NOUN'), ('Materials', 'NOUN'), ('matched', 'VERB'), ('on', 'ADP'), ('66.5', 'CONJ'), ('of', 'ADP'), ('69', 'NUM'), ('subskills', 'NOUN'), ('.', '.'), ('London', 'NOUN'), ('share', 'NOUN'), ('prices', 'NOUN'), ('were', 'VERB'), ('bolstered', 'VERB'), ('*-1', 'X'), ('largely', 'ADV'), ('by', 'ADP'), ('continued', 'VERB'), ('gains', 'NOUN'), ('on', 'ADP'), ('Wall', 'NOUN'), ('Street', 'NOUN'), ('and', 'CONJ'), ('technical', 'ADJ'), ('factors', 'NOUN'), ('affecting', 'CONJ'), ('demand', 'NOUN'), ('for', 'ADP'), ('London', 'NOUN'), (\"'s\", 'PRT'), ('blue-chip', 'ADJ'), ('stocks', 'NOUN'), ('.', '.'), ('Not', 'ADV'), ('this', 'DET'), ('year', 'NOUN'), ('.', '.'), ('The', 'DET'), ('court', 'NOUN'), ('hearing', 'NOUN'), ('began', 'VERB'), ('in', 'ADP'), ('early', 'ADJ'), ('October', 'NOUN'), ('at', 'ADP'), ('the', 'DET'), ('request', 'NOUN'), ('of', 'ADP'), ('Anthony', 'NOUN'), ('Hazell', 'CONJ'), (',', '.'), ('district', 'NOUN'), ('auditor', 'CONJ'), ('for', 'ADP'), ('Hammersmith', 'NOUN'), (',', '.'), ('who', 'PRON'), ('*T*-63', 'X'), ('argued', 'VERB'), ('that', 'ADP'), ('local', 'ADJ'), ('councils', 'NOUN'), ('are', 'VERB'), (\"n't\", 'ADV'), ('vested', 'CONJ'), ('with', 'ADP'), ('constitutional', 'ADJ'), ('authority', 'NOUN'), ('*', 'X'), ('to', 'PRT'), ('engage', 'VERB'), ('in', 'ADP'), ('such', 'ADJ'), ('capital-markets', 'ADJ'), ('activities', 'NOUN'), ('.', '.'), ('Such', 'ADJ'), ('program', 'NOUN'), ('trades', 'NOUN'), (',', '.'), ('which', 'DET'), ('*T*-70', 'X'), ('can', 'VERB'), ('involve', 'VERB'), ('the', 'DET'), ('purchase', 'NOUN'), ('or', 'CONJ'), ('sale', 'NOUN'), ('of', 'ADP'), ('millions', 'NOUN'), ('of', 'ADP'), ('dollars', 'NOUN'), ('of', 'ADP'), ('stock', 'NOUN'), (',', '.'), ('occur', 'VERB'), ('in', 'ADP'), ('a', 'DET'), ('matter', 'NOUN'), ('of', 'ADP'), ('seconds', 'CONJ'), ('.', '.'), ('Even', 'ADV'), ('a', 'DET'), ('low-tech', 'CONJ'), ('product', 'NOUN'), ('like', 'ADP'), ('plate', 'NOUN'), ('glass', 'NOUN'), ('can', 'VERB'), ('catch', 'NOUN'), ('a', 'DET'), ('trading', 'NOUN'), ('company', 'NOUN'), (\"'s\", 'PRT'), ('fancy', 'CONJ'), ('if', 'ADP'), ('there', 'DET'), (\"'s\", 'VERB'), ('a', 'DET'), ('strategic', 'CONJ'), ('fit', 'ADJ'), ('.', '.'), ('As', 'ADP'), ('a', 'DET'), ('result', 'NOUN'), (',', '.'), ('he', 'PRON'), ('said', 'VERB'), ('0', 'X'), ('NBI', 'NOUN'), ('will', 'VERB'), ('focus', 'VERB'), ('on', 'ADP'), ('*', 'X'), ('servicing', 'NOUN'), ('its', 'PRON'), ('installed', 'VERB'), ('base', 'NOUN'), ('of', 'ADP'), ('systems', 'NOUN'), (',', '.'), ('trying', 'VERB'), ('*-4', 'X'), ('to', 'PRT'), ('provide', 'VERB'), ('maintenance', 'NOUN'), ('for', 'ADP'), ('other', 'ADJ'), ('manufacturers', 'NOUN'), ('and', 'CONJ'), ('expanding', 'VERB'), ('its', 'PRON'), ('software', 'NOUN'), ('business', 'NOUN'), (',', '.'), ('*-4', 'X'), ('using', 'VERB'), ('some', 'DET'), ('of', 'ADP'), ('the', 'DET'), ('applications', 'NOUN'), ('0', 'X'), ('it', 'PRON'), ('developed', 'VERB'), ('*T*-3', 'X'), ('for', 'ADP'), ('its', 'PRON'), ('hardware', 'NOUN'), ('.', '.'), ('And', 'CONJ'), ('they', 'PRON'), ('believe', 'VERB'), ('0', 'X'), ('the', 'DET'), ('Big', 'NOUN'), ('Board', 'NOUN'), (',', '.'), ('under', 'ADP'), ('Mr.', 'NOUN'), ('Phelan', 'NOUN'), (',', '.'), ('has', 'VERB'), ('abandoned', 'VERB'), ('their', 'PRON'), ('interest', 'NOUN'), ('.', '.'), ('The', 'DET'), ('current', 'ADJ'), ('opportunities', 'NOUN'), ('arise', 'CONJ'), ('because', 'ADP'), ('the', 'DET'), ('process', 'NOUN'), ('for', 'ADP'), ('*', 'X'), ('executing', 'VERB'), ('a', 'DET'), ('buy', 'VERB'), ('or', 'CONJ'), ('sell', 'VERB'), ('order', 'NOUN'), ('in', 'ADP'), ('the', 'DET'), ('actual', 'ADJ'), ('stocks', 'NOUN'), ('that', 'ADP'), ('*T*-76', 'X'), ('make', 'VERB'), ('up', 'ADV'), ('the', 'DET'), ('S&P', 'NOUN'), ('500', 'NUM'), ('is', 'VERB'), ('more', 'ADV'), ('cumbersome', 'CONJ'), ('than', 'ADP'), ('*', 'X'), ('transacting', 'VERB'), ('in', 'ADP'), ('the', 'DET'), ('futures', 'NOUN'), ('market', 'NOUN'), ('.', '.'), ('Big', 'NOUN'), ('Board', 'NOUN'), ('Chairman', 'NOUN'), ('John', 'NOUN'), ('Phelan', 'NOUN'), ('said', 'VERB'), ('yesterday', 'NOUN'), ('that', 'ADP'), ('he', 'PRON'), ('could', 'VERB'), ('support', 'VERB'), ('*', 'X'), ('letting', 'VERB'), ('federal', 'ADJ'), ('regulators', 'NOUN'), ('suspend', 'VERB'), ('program', 'NOUN'), ('trading', 'NOUN'), ('during', 'ADP'), ('wild', 'ADJ'), ('stock-price', 'CONJ'), ('swings', 'NOUN'), ('.', '.'), ('Among', 'ADP'), ('its', 'PRON'), ('new', 'ADJ'), ('customers', 'NOUN'), (':', '.'), ('day-care', 'CONJ'), ('centers', 'NOUN'), ('that', 'ADP'), ('*T*-1', 'X'), ('previously', 'ADV'), ('spurned', 'CONJ'), ('the', 'DET'), ('service', 'NOUN'), ('.', '.'), ('Such', 'ADJ'), ('is', 'VERB'), ('hardly', 'ADV'), ('the', 'DET'), ('case', 'NOUN'), ('.', '.'), ('All', 'DET'), ('arguments', 'NOUN'), ('against', 'ADP'), ('program', 'NOUN'), ('trading', 'NOUN'), (',', '.'), ('even', 'ADV'), ('those', 'DET'), ('pressed', 'CONJ'), ('*', 'X'), ('without', 'ADP'), ('fact', 'NOUN'), (',', '.'), ('conclude', 'VERB'), ('with', 'ADP'), ('three', 'NUM'), ('expected', 'VERB'), ('results', 'NOUN'), ('after', 'ADP'), ('``', '.'), ('reforms', 'NOUN'), (\"''\", '.'), ('are', 'VERB'), ('implemented', 'CONJ'), ('*-1', 'X'), (':', '.'), ('1', 'NUM'), ('-RRB-', '.'), ('reduced', 'VERB'), ('volatility', 'NOUN'), (',', '.'), ('2', 'NUM'), ('-RRB-', '.'), ('a', 'DET'), ('long-term', 'ADJ'), ('investment', 'NOUN'), ('focus', 'VERB'), (',', '.'), ('and', 'CONJ'), ('3', 'NUM'), ('-RRB-', '.'), ('a', 'DET'), ('level', 'NOUN'), ('playing', 'VERB'), ('field', 'NOUN'), ('for', 'ADP'), ('the', 'DET'), ('small', 'ADJ'), ('investor', 'NOUN'), ('.', '.'), ('These', 'DET'), ('small', 'ADJ'), ('but', 'CONJ'), ('influential', 'ADJ'), ('floor', 'NOUN'), ('brokers', 'NOUN'), ('long', 'ADV'), ('have', 'VERB'), ('earned', 'VERB'), ('fat', 'ADJ'), ('returns', 'NOUN'), ('of', 'ADP'), ('30', 'NUM'), ('%', 'NOUN'), ('to', 'PRT'), ('40', 'NUM'), ('%', 'NOUN'), ('*U*', 'X'), ('a', 'DET'), ('year', 'NOUN'), ('on', 'ADP'), ('their', 'PRON'), ('capital', 'NOUN'), (',', '.'), ('by', 'ADP'), ('virtue', 'NOUN'), ('of', 'ADP'), ('their', 'PRON'), ('monopoly', 'CONJ'), ('in', 'ADP'), ('*', 'X'), ('making', 'VERB'), ('markets', 'NOUN'), ('in', 'ADP'), ('individual', 'ADJ'), ('stocks', 'NOUN'), ('.', '.'), ('The', 'DET'), ('7', 'NUM'), ('3\\\\/8', 'NUM'), ('%', 'NOUN'), ('term', 'NOUN'), ('bonds', 'NOUN'), ('due', 'ADJ'), ('2009', 'NUM'), ('are', 'VERB'), ('priced', 'VERB'), ('*-1', 'X'), ('at', 'ADP'), ('99', 'NUM'), ('1\\\\/2', 'NUM'), ('*', 'X'), ('to', 'PRT'), ('yield', 'VERB'), ('7.422', 'CONJ'), ('%', 'NOUN'), (',', '.'), ('and', 'CONJ'), ('7', 'NUM'), ('3\\\\/8', 'NUM'), ('%', 'NOUN'), ('term', 'NOUN'), ('bonds', 'NOUN'), ('due', 'ADJ'), ('2019', 'NUM'), ('are', 'VERB'), ('priced', 'VERB'), ('*-2', 'X'), ('at', 'ADP'), ('99', 'NUM'), ('*', 'X'), ('to', 'PRT'), ('yield', 'VERB'), ('7.458', 'NUM'), ('%', 'NOUN'), ('.', '.'), ('``', '.'), ('So', 'ADV'), ('crunch', 'CONJ'), (',', '.'), ('crunch', 'CONJ'), (',', '.'), ('crunch', 'CONJ'), (',', '.'), ('bang', 'CONJ'), (',', '.'), ('bang', 'CONJ'), (',', '.'), ('bang', 'CONJ'), ('--', '.'), ('here', 'ADV'), ('come', 'VERB'), ('*T*-4', 'X'), ('the', 'DET'), ('ringers', 'NOUN'), ('from', 'ADP'), ('above', 'ADP'), (',', '.'), ('*-1', 'X'), ('making', 'VERB'), ('a', 'DET'), ('very', 'ADV'), ('obvious', 'CONJ'), ('exit', 'CONJ'), ('while', 'ADP'), ('the', 'DET'), ('congregation', 'NOUN'), ('is', 'VERB'), ('at', 'ADP'), ('prayer', 'CONJ'), (',', '.'), (\"''\", '.'), ('he', 'PRON'), ('says', 'VERB'), ('*T*-2', 'X'), ('.', '.'), ('Stock', 'NOUN'), ('futures', 'NOUN'), ('trading', 'NOUN'), ('has', 'VERB'), ('minted', 'CONJ'), ('dozens', 'NOUN'), ('of', 'ADP'), ('millionaires', 'CONJ'), ('in', 'ADP'), ('their', 'PRON'), ('20s', 'CONJ'), ('and', 'CONJ'), ('30s', 'CONJ'), ('.', '.'), ('The', 'DET'), ('St.', 'NOUN'), ('Louis', 'NOUN'), ('firm', 'NOUN'), ('specializes', 'VERB'), ('in', 'ADP'), ('replacement-car', 'CONJ'), ('rentals', 'CONJ'), (',', '.'), ('those', 'DET'), ('provided', 'VERB'), ('*', 'X'), ('by', 'ADP'), ('insurance', 'NOUN'), ('companies', 'NOUN'), ('for', 'ADP'), ('cars', 'NOUN'), ('damaged', 'VERB'), ('*', 'X'), ('in', 'ADP'), ('accidents', 'CONJ'), ('.', '.'), ('All', 'DET'), ('the', 'DET'), ('contracts', 'NOUN'), ('were', 'VERB'), ('for', 'ADP'), ('computer-system-design', 'CONJ'), ('contracts', 'NOUN'), ('and', 'CONJ'), ('involved', 'VERB'), ('no', 'DET'), ('hardware', 'NOUN'), ('or', 'CONJ'), ('software', 'NOUN'), ('.', '.'), ('A', 'DET'), ('computer', 'NOUN'), ('using', 'VERB'), ('the', 'DET'), ('more-advanced', 'CONJ'), ('Intel', 'NOUN'), ('Corp.', 'NOUN'), ('386', 'NUM'), ('microprocessor', 'CONJ'), (',', '.'), ('with', 'ADP'), ('four', 'NUM'), ('megabytes', 'CONJ'), ('of', 'ADP'), ('memory', 'NOUN'), ('and', 'CONJ'), ('a', 'DET'), ('100-megabyte', 'CONJ'), ('hard', 'ADJ'), ('disk', 'NOUN'), ('now', 'ADV'), ('sells', 'VERB'), ('for', 'ADP'), ('$', '.'), ('5,699', 'CONJ'), ('*U*', 'X'), (',', '.'), ('down', 'ADV'), ('from', 'ADP'), ('$', '.'), ('6,799', 'CONJ'), ('*U*', 'X'), ('.', '.'), ('Government', 'NOUN'), ('officials', 'NOUN'), ('said', 'VERB'), ('0', 'X'), ('exports', 'NOUN'), ('at', 'ADP'), ('the', 'DET'), ('end', 'NOUN'), ('of', 'ADP'), ('the', 'DET'), ('year', 'NOUN'), ('would', 'VERB'), ('remain', 'VERB'), ('under', 'ADP'), ('a', 'DET'), ('government', 'NOUN'), ('target', 'NOUN'), ('of', 'ADP'), ('$', '.'), ('68', 'NUM'), ('billion', 'NUM'), ('*U*', 'X'), ('.', '.'), ('Here', 'ADV'), ('are', 'VERB'), ('*T*-1', 'X'), ('the', 'DET'), ('Commerce', 'NOUN'), ('Department', 'NOUN'), (\"'s\", 'PRT'), ('figures', 'NOUN'), ('for', 'ADP'), ('construction', 'NOUN'), ('spending', 'NOUN'), ('in', 'ADP'), ('billions', 'NOUN'), ('of', 'ADP'), ('dollars', 'NOUN'), ('at', 'ADP'), ('seasonally', 'ADV'), ('adjusted', 'VERB'), ('annual', 'ADJ'), ('rates', 'NOUN'), ('.', '.'), ('The', 'DET'), ('plan', 'NOUN'), ('was', 'VERB'), ('filed', 'VERB'), ('*-1', 'X'), ('jointly', 'ADV'), ('with', 'ADP'), ('unsecured', 'ADJ'), ('creditors', 'NOUN'), ('in', 'ADP'), ('federal', 'ADJ'), ('bankruptcy', 'NOUN'), ('court', 'NOUN'), ('in', 'ADP'), ('New', 'NOUN'), ('York', 'NOUN'), ('and', 'CONJ'), ('must', 'VERB'), ('be', 'VERB'), ('approved', 'VERB'), ('*-1', 'X'), ('by', 'ADP'), ('the', 'DET'), ('court', 'NOUN'), ('.', '.'), ('However', 'ADV'), (',', '.'), ('the', 'DET'), ('president', 'NOUN'), ('does', 'VERB'), ('have', 'VERB'), ('a', 'DET'), ('duty', 'NOUN'), ('*', 'X'), ('not', 'ADV'), ('to', 'PRT'), ('violate', 'VERB'), ('the', 'DET'), ('Constitution', 'NOUN'), ('.', '.'), ('She', 'PRON'), ('believes', 'VERB'), ('that', 'ADP'), ('the', 'DET'), ('only', 'ADJ'), ('answer', 'NOUN'), ('for', 'ADP'), ('individuals', 'NOUN'), ('is', 'VERB'), ('*', 'X'), ('to', 'PRT'), ('``', '.'), ('buy', 'VERB'), ('stocks', 'NOUN'), ('that', 'ADP'), ('*T*-1', 'X'), (\"'ll\", 'VERB'), ('weather', 'NOUN'), ('any', 'DET'), ('storm', 'CONJ'), ('.', '.'), (\"''\", '.'), ('Citizens', 'CONJ'), ('in', 'ADP'), ('Peninsula', 'CONJ'), (',', '.'), ('Ohio', 'NOUN'), (',', '.'), ('*-1', 'X'), ('upset', 'VERB'), ('over', 'ADP'), ('changes', 'NOUN'), ('to', 'PRT'), ('a', 'DET'), ('bridge', 'NOUN'), (',', '.'), ('negotiated', 'VERB'), ('a', 'DET'), ('deal', 'NOUN'), (':', '.'), ('The', 'DET'), ('bottom', 'NOUN'), ('half', 'NOUN'), ('of', 'ADP'), ('the', 'DET'), ('railing', 'NOUN'), ('will', 'VERB'), ('be', 'VERB'), ('type', 'NOUN'), ('F', 'NOUN'), (',', '.'), ('while', 'ADP'), ('the', 'DET'), ('top', 'ADJ'), ('half', 'NOUN'), ('will', 'VERB'), ('have', 'VERB'), ('the', 'DET'), ('old', 'ADJ'), ('bridge', 'NOUN'), (\"'s\", 'PRT'), ('floral', 'CONJ'), ('pattern', 'NOUN'), ('.', '.'), ('Sea', 'NOUN'), ('Containers', 'NOUN'), ('Ltd.', 'NOUN'), ('said', 'VERB'), ('0', 'X'), ('it', 'PRON'), ('might', 'VERB'), ('increase', 'VERB'), ('the', 'DET'), ('price', 'NOUN'), ('of', 'ADP'), ('its', 'PRON'), ('$', '.'), ('70-a-share', 'CONJ'), ('*U*', 'X'), ('buy-back', 'NOUN'), ('plan', 'NOUN'), ('if', 'ADP'), ('*-2', 'X'), ('pressed', 'CONJ'), ('*-1', 'X'), ('by', 'ADP'), ('Temple', 'NOUN'), ('Holdings', 'NOUN'), ('Ltd.', 'NOUN'), (',', '.'), ('which', 'DET'), ('*T*-156', 'CONJ'), ('made', 'VERB'), ('an', 'DET'), ('earlier', 'ADJ'), ('tender', 'NOUN'), ('offer', 'NOUN'), ('for', 'ADP'), ('Sea', 'NOUN'), ('Containers', 'NOUN'), ('.', '.'), ('Mrs.', 'NOUN'), ('Hills', 'NOUN'), ('said', 'VERB'), ('that', 'ADP'), ('the', 'DET'), ('U.S.', 'NOUN'), ('is', 'VERB'), ('still', 'ADV'), ('concerned', 'CONJ'), ('about', 'ADP'), ('``', '.'), ('disturbing', 'ADJ'), ('developments', 'CONJ'), ('in', 'ADP'), ('Turkey', 'NOUN'), ('and', 'CONJ'), ('continuing', 'VERB'), ('slow', 'VERB'), ('progress', 'NOUN'), ('in', 'ADP'), ('Malaysia', 'NOUN'), ('.', '.'), (\"''\", '.'), ('What', 'PRON'), ('*T*-42', 'X'), ('saved', 'CONJ'), ('many', 'ADJ'), ('farmers', 'NOUN'), ('from', 'ADP'), ('a', 'DET'), ('bad', 'ADJ'), ('year', 'NOUN'), ('was', 'VERB'), ('the', 'DET'), ('opportunity', 'NOUN'), ('*', 'X'), ('to', 'PRT'), ('reclaim', 'CONJ'), ('large', 'ADJ'), ('quantities', 'NOUN'), ('of', 'ADP'), ('grain', 'NOUN'), ('and', 'CONJ'), ('other', 'ADJ'), ('crops', 'NOUN'), ('that', 'ADP'), ('they', 'PRON'), ('had', 'VERB'), ('``', '.'), ('mortgaged', 'CONJ'), (\"''\", '.'), ('*T*-1', 'X'), ('to', 'PRT'), ('the', 'DET'), ('government', 'NOUN'), ('under', 'ADP'), ('price-support', 'CONJ'), ('loan', 'NOUN'), ('programs', 'NOUN'), ('.', '.'), ('In', 'ADP'), ('its', 'PRON'), ('latest', 'ADJ'), ('compilation', 'CONJ'), ('of', 'ADP'), ('performance', 'NOUN'), ('statistics', 'NOUN'), (',', '.'), ('Moody', 'NOUN'), (\"'s\", 'PRT'), ('Investors', 'NOUN'), ('Service', 'NOUN'), ('found', 'VERB'), ('that', 'ADP'), ('investment-grade', 'ADJ'), ('bonds', 'NOUN'), ('posted', 'VERB'), ('a', 'DET'), ('total', 'ADJ'), ('return', 'NOUN'), ('of', 'ADP'), ('2.7', 'NUM'), ('%', 'NOUN'), ('in', 'ADP'), ('October', 'NOUN'), ('while', 'ADP'), ('junk', 'NOUN'), ('bonds', 'NOUN'), ('showed', 'VERB'), ('a', 'DET'), ('negative', 'ADJ'), ('return', 'NOUN'), ('of', 'ADP'), ('1.5', 'NUM'), ('%', 'NOUN'), ('.', '.'), ('``', '.'), ('We', 'PRON'), ('have', 'VERB'), ('a', 'DET'), ('long', 'ADJ'), ('history', 'NOUN'), ('of', 'ADP'), ('*', 'X'), ('maintaining', 'VERB'), ('an', 'DET'), ('open', 'ADJ'), ('direct-investment', 'CONJ'), ('policy', 'NOUN'), (',', '.'), (\"''\", '.'), ('Mr.', 'NOUN'), ('Dallara', 'NOUN'), ('says', 'VERB'), ('*T*-1', 'X'), ('.', '.'), ('The', 'DET'), ('Life', 'NOUN'), ('Insurance', 'NOUN'), ('Co.', 'NOUN'), ('of', 'ADP'), ('Georgia', 'NOUN'), ('has', 'VERB'), ('officially', 'ADV'), ('opened', 'VERB'), ('an', 'DET'), ('office', 'NOUN'), ('in', 'ADP'), ('Taipei', 'NOUN'), ('.', '.'), ('But', 'CONJ'), ('he', 'PRON'), ('blames', 'CONJ'), ('program', 'NOUN'), ('trading', 'NOUN'), ('for', 'ADP'), ('only', 'ADV'), ('some', 'DET'), ('of', 'ADP'), ('the', 'DET'), ('market', 'NOUN'), (\"'s\", 'PRT'), ('volatility', 'NOUN'), ('.', '.'), ('As', 'ADP'), ('an', 'DET'), ('actor', 'CONJ'), (',', '.'), ('Charles', 'NOUN'), ('Lane', 'NOUN'), ('is', 'VERB'), (\"n't\", 'ADV'), ('the', 'DET'), ('inheritor', 'CONJ'), ('of', 'ADP'), ('Charlie', 'CONJ'), ('Chaplin', 'NOUN'), (\"'s\", 'PRT'), ('spirit', 'NOUN'), ('.', '.'), ('According', 'VERB'), ('to', 'PRT'), ('Upjohn', 'NOUN'), (\"'s\", 'PRT'), ('estimates', 'VERB'), (',', '.'), ('only', 'ADV'), ('50', 'NUM'), ('%', 'NOUN'), ('to', 'PRT'), ('60', 'NUM'), ('%', 'NOUN'), ('*U*', 'X'), ('of', 'ADP'), ('the', 'DET'), ('1,100', 'NUM'), ('eligible', 'ADJ'), ('employees', 'NOUN'), ('will', 'VERB'), ('take', 'VERB'), ('advantage', 'NOUN'), ('of', 'ADP'), ('the', 'DET'), ('plan', 'NOUN'), ('.', '.'), ('Money', 'NOUN'), ('is', 'VERB'), ('not', 'ADV'), ('everything', 'NOUN'), (',', '.'), ('but', 'CONJ'), ('it', 'PRON'), ('is', 'VERB'), ('necessary', 'ADJ'), (',', '.'), ('and', 'CONJ'), ('business', 'NOUN'), ('is', 'VERB'), ('not', 'ADV'), ('volunteer', 'CONJ'), ('work', 'NOUN'), ('.', '.'), ('But', 'CONJ'), ('for', 'ADP'), ('an', 'DET'), ('ailing', 'VERB'), ('savings-and-loan', 'ADJ'), ('association', 'NOUN'), ('--', '.'), ('teetering', 'CONJ'), ('on', 'ADP'), ('insolvency', 'CONJ'), ('--', '.'), ('it', 'PRON'), ('can', 'VERB'), ('lead', 'VERB'), ('to', 'PRT'), ('safety', 'NOUN'), ('from', 'ADP'), ('imminent', 'ADJ'), ('demise', 'NOUN'), ('and', 'CONJ'), ('to', 'PRT'), ('a', 'DET'), ('future', 'ADJ'), ('full', 'ADJ'), ('of', 'ADP'), ('promise', 'NOUN'), ('.', '.'), ('Only', 'ADV'), ('19', 'NUM'), ('%', 'NOUN'), ('of', 'ADP'), ('the', 'DET'), ('purchasing', 'NOUN'), ('managers', 'NOUN'), ('reported', 'VERB'), ('better', 'ADV'), ('export', 'VERB'), ('orders', 'NOUN'), ('in', 'ADP'), ('October', 'NOUN'), (',', '.'), ('down', 'ADV'), ('from', 'ADP'), ('27', 'NUM'), ('%', 'NOUN'), ('in', 'ADP'), ('September', 'NOUN'), ('.', '.'), ('Mr.', 'NOUN'), ('Watson', 'NOUN'), ('says', 'VERB'), ('0', 'X'), ('Mrs.', 'NOUN'), ('Yeargin', 'NOUN'), ('never', 'ADV'), ('complained', 'VERB'), ('to', 'PRT'), ('school', 'NOUN'), ('officials', 'NOUN'), ('that', 'ADP'), ('the', 'DET'), ('standardized', 'ADJ'), ('test', 'NOUN'), ('was', 'VERB'), ('unfair', 'ADJ'), ('.', '.'), ('He', 'PRON'), ('is', 'VERB'), ('an', 'DET'), ('avid', 'CONJ'), ('fan', 'CONJ'), ('of', 'ADP'), ('a', 'DET'), ('proposition', 'NOUN'), ('on', 'ADP'), ('next', 'ADJ'), ('week', 'NOUN'), (\"'s\", 'PRT'), ('ballot', 'NOUN'), ('0', 'X'), ('*', 'X'), ('to', 'PRT'), ('help', 'VERB'), ('*-2', 'X'), ('build', 'VERB'), ('a', 'DET'), ('replacement', 'NOUN'), ('for', 'ADP'), ('Candlestick', 'NOUN'), ('Park', 'NOUN'), ('*T*-1', 'X'), ('.', '.'), ('A', 'DET'), ('spokesman', 'NOUN'), ('for', 'ADP'), ('the', 'DET'), ('Toronto', 'NOUN'), ('cable', 'CONJ'), ('television', 'NOUN'), ('and', 'CONJ'), ('telecommunications', 'NOUN'), ('concern', 'NOUN'), ('said', 'VERB'), ('0', 'X'), ('the', 'DET'), ('coupon', 'NOUN'), ('rate', 'NOUN'), ('has', 'VERB'), (\"n't\", 'ADV'), ('yet', 'ADV'), ('been', 'VERB'), ('fixed', 'VERB'), ('*-1', 'X'), (',', '.'), ('but', 'CONJ'), ('will', 'VERB'), ('probably', 'ADV'), ('be', 'VERB'), ('set', 'VERB'), ('*-1', 'X'), ('at', 'ADP'), ('around', 'ADP'), ('8', 'NUM'), ('%', 'NOUN'), ('.', '.'), ('People', 'NOUN'), ('close', 'VERB'), ('to', 'PRT'), ('the', 'DET'), ('utility', 'NOUN'), ('industry', 'NOUN'), ('said', 'VERB'), ('0', 'X'), ('Mr.', 'NOUN'), ('Dingell', 'NOUN'), (\"'s\", 'PRT'), ('proposal', 'NOUN'), ('appears', 'VERB'), ('*-3', 'X'), ('to', 'PRT'), ('guarantee', 'NOUN'), ('only', 'ADV'), ('an', 'DET'), ('estimated', 'VERB'), ('seven-million-ton', 'CONJ'), ('cut', 'VERB'), ('in', 'ADP'), ('annual', 'ADJ'), ('sulfur-dioxide', 'NOUN'), ('emissions', 'NOUN'), ('that', 'ADP'), ('*T*-2', 'X'), ('lead', 'VERB'), ('to', 'PRT'), ('acid', 'ADJ'), ('rain', 'NOUN'), (',', '.'), ('though', 'ADP'), ('additional', 'ADJ'), ('cuts', 'NOUN'), ('could', 'VERB'), ('be', 'VERB'), ('ordered', 'VERB'), ('*-1', 'X'), ('later', 'ADJ'), ('.', '.'), ('The', 'DET'), ('offer', 'NOUN'), (',', '.'), ('which', 'DET'), ('*T*-2', 'X'), ('was', 'VERB'), ('due', 'ADJ'), ('*-3', 'X'), ('to', 'PRT'), ('expire', 'VERB'), ('yesterday', 'NOUN'), (',', '.'), ('is', 'VERB'), ('conditional', 'ADJ'), ('on', 'ADP'), ('50.1', 'CONJ'), ('%', 'NOUN'), ('of', 'ADP'), (\"Dunkin'\", 'NOUN'), ('common', 'ADJ'), ('shares', 'NOUN'), (',', '.'), ('on', 'ADP'), ('a', 'DET'), ('fully', 'ADV'), ('diluted', 'VERB'), ('basis', 'NOUN'), (',', '.'), ('being', 'VERB'), ('tendered', 'VERB'), ('*-1', 'X'), ('and', 'CONJ'), ('on', 'ADP'), ('the', 'DET'), ('withdrawal', 'NOUN'), ('of', 'ADP'), ('the', 'DET'), ('company', 'NOUN'), (\"'s\", 'PRT'), ('poison', 'NOUN'), ('pill', 'NOUN'), ('rights', 'NOUN'), ('plan', 'NOUN'), ('.', '.'), ('David', 'NOUN'), ('A.', 'NOUN'), ('DiLoreto', 'CONJ'), (',', '.'), ('president', 'NOUN'), ('of', 'ADP'), ('metal', 'NOUN'), ('container', 'CONJ'), ('division', 'NOUN'), (',', '.'), ('was', 'VERB'), ('named', 'VERB'), ('*-1', 'X'), ('to', 'PRT'), ('the', 'DET'), ('additional', 'ADJ'), ('post', 'NOUN'), ('of', 'ADP'), ('group', 'NOUN'), ('vice', 'NOUN'), ('president', 'NOUN'), (',', '.'), ('packaging', 'NOUN'), ('products', 'NOUN'), (',', '.'), ('at', 'ADP'), ('this', 'DET'), ('packaging', 'NOUN'), (',', '.'), ('industrial', 'ADJ'), ('and', 'CONJ'), ('aerospace', 'NOUN'), ('products', 'NOUN'), ('concern', 'NOUN'), (',', '.'), ('*-1', 'X'), ('succeeding', 'VERB'), ('Delmont', 'CONJ'), ('A.', 'NOUN'), ('Davis', 'NOUN'), (',', '.'), ('who', 'PRON'), ('*T*-3', 'X'), ('was', 'VERB'), ('named', 'VERB'), ('*-2', 'X'), ('president', 'NOUN'), ('and', 'CONJ'), ('chief', 'NOUN'), ('operating', 'NOUN'), ('officer', 'NOUN'), ('in', 'ADP'), ('August', 'NOUN'), ('.', '.'), ('FreudToy', 'CONJ'), (',', '.'), ('a', 'DET'), ('pillow', 'CONJ'), ('bearing', 'VERB'), ('the', 'DET'), ('likeness', 'CONJ'), ('of', 'ADP'), ('Sigmund', 'CONJ'), ('Freud', 'CONJ'), (',', '.'), ('is', 'VERB'), ('marketed', 'VERB'), ('*-1', 'X'), ('as', 'ADP'), ('a', 'DET'), ('$', '.'), ('24.95', 'CONJ'), ('*U*', 'X'), ('tool', 'CONJ'), ('for', 'ADP'), ('do-it-yourself', 'CONJ'), ('analysis', 'NOUN'), ('.', '.'), ('``', '.'), ('We', 'PRON'), (\"'re\", 'VERB'), ('offering', 'VERB'), ('this', 'DET'), ('plan', 'NOUN'), ('now', 'ADV'), ('because', 'ADP'), ('we', 'PRON'), ('feel', 'VERB'), ('0', 'X'), ('it', 'PRON'), (\"'s\", 'VERB'), ('the', 'DET'), ('right', 'NOUN'), ('time', 'NOUN'), ('.', '.'), (\"''\", '.'), ('Japan', 'NOUN'), (\"'s\", 'PRT'), ('reserves', 'NOUN'), ('of', 'ADP'), ('gold', 'NOUN'), (',', '.'), ('convertible', 'ADJ'), ('foreign', 'ADJ'), ('currencies', 'NOUN'), (',', '.'), ('and', 'CONJ'), ('special', 'ADJ'), ('drawing', 'NOUN'), ('rights', 'NOUN'), ('fell', 'VERB'), ('by', 'ADP'), ('a', 'DET'), ('hefty', 'ADJ'), ('$', '.'), ('1.82', 'CONJ'), ('billion', 'NUM'), ('*U*', 'X'), ('in', 'ADP'), ('October', 'NOUN'), ('to', 'PRT'), ('$', '.'), ('84.29', 'CONJ'), ('billion', 'NUM'), ('*U*', 'X'), (',', '.'), ('the', 'DET'), ('Finance', 'NOUN'), ('Ministry', 'NOUN'), ('said', 'VERB'), ('0', 'X'), ('*T*-2', 'X'), ('.', '.'), ('The', 'DET'), ('airline', 'NOUN'), ('is', 'VERB'), ('attempting', 'VERB'), ('*-1', 'X'), ('to', 'PRT'), ('show', 'VERB'), ('that', 'ADP'), ('Israel', 'NOUN'), ('and', 'CONJ'), ('West', 'NOUN'), ('Germany', 'NOUN'), ('warned', 'VERB'), ('the', 'DET'), ('U.S.', 'NOUN'), ('about', 'ADP'), ('the', 'DET'), ('impending', 'VERB'), ('attack', 'VERB'), ('.', '.'), ('But', 'CONJ'), ('there', 'DET'), ('still', 'ADV'), ('are', 'VERB'), (\"n't\", 'ADV'), ('enough', 'ADV'), ('ringers', 'NOUN'), ('0', 'X'), ('*T*-1', 'X'), ('to', 'PRT'), ('ring', 'VERB'), ('more', 'ADV'), ('than', 'ADP'), ('six', 'NUM'), ('of', 'ADP'), ('the', 'DET'), ('eight', 'NUM'), ('bells', 'NOUN'), ('.', '.'), ('Columbia', 'NOUN'), (',', '.'), ('a', 'DET'), ('longtime', 'CONJ'), ('Drexel', 'NOUN'), ('client', 'NOUN'), (',', '.'), ('wo', 'VERB'), (\"n't\", 'ADV'), ('provide', 'VERB'), ('current', 'ADJ'), ('data', 'NOUN'), ('on', 'ADP'), ('its', 'PRON'), ('junk', 'NOUN'), ('.', '.'), ('You', 'PRON'), ('can', 'VERB'), ('do', 'VERB'), ('all', 'DET'), ('this', 'DET'), ('even', 'ADV'), ('if', 'ADP'), ('you', 'PRON'), (\"'re\", 'VERB'), ('not', 'ADV'), ('a', 'DET'), ('reporter', 'NOUN'), ('or', 'CONJ'), ('a', 'DET'), ('researcher', 'NOUN'), ('or', 'CONJ'), ('a', 'DET'), ('scholar', 'CONJ'), ('or', 'CONJ'), ('a', 'DET'), ('member', 'NOUN'), ('of', 'ADP'), ('Congress', 'NOUN'), ('.', '.'), ('That', 'DET'), ('got', 'VERB'), ('hard', 'ADV'), ('0', 'X'), ('*', 'X'), ('to', 'PRT'), ('take', 'VERB'), ('*T*-1', 'X'), (',', '.'), (\"''\", '.'), ('he', 'PRON'), ('added', 'VERB'), ('*T*-2', 'X'), ('.', '.'), ('Upjohn', 'NOUN'), (',', '.'), ('a', 'DET'), ('rumored', 'VERB'), ('target', 'VERB'), ('within', 'ADP'), ('the', 'DET'), ('drug', 'NOUN'), ('industry', 'NOUN'), (',', '.'), ('advanced', 'VERB'), ('7\\\\/8', 'NUM'), ('to', 'PRT'), ('38', 'NUM'), ('7\\\\/8', 'NUM'), ('.', '.'), ('All', 'DET'), ('of', 'ADP'), ('this', 'DET'), ('must', 'VERB'), ('have', 'VERB'), ('been', 'VERB'), ('enormously', 'CONJ'), ('frustrating', 'CONJ'), ('to', 'PRT'), ('Mr.', 'NOUN'), ('Katzenstein', 'NOUN'), (',', '.'), ('who', 'PRON'), ('*T*-59', 'X'), ('went', 'VERB'), ('to', 'PRT'), ('Sony', 'NOUN'), ('with', 'ADP'), ('degrees', 'NOUN'), ('in', 'ADP'), ('business', 'NOUN'), ('and', 'CONJ'), ('computer', 'NOUN'), ('science', 'CONJ'), ('and', 'CONJ'), ('was', 'VERB'), ('raring', 'CONJ'), ('*-1', 'X'), ('to', 'PRT'), ('invent', 'CONJ'), ('another', 'DET'), ('Walkman', 'CONJ'), ('.', '.'), ('Detroit', 'NOUN'), ('--', '.'), ('IRAs', 'CONJ'), ('.', '.'), ('``', '.'), ('You', 'PRON'), (\"'re\", 'VERB'), ('dead', 'ADJ'), ('in', 'ADP'), ('the', 'DET'), ('water', 'NOUN'), ('if', 'ADP'), ('you', 'PRON'), ('are', 'VERB'), (\"n't\", 'ADV'), ('segmenting', 'CONJ'), ('the', 'DET'), ('market', 'NOUN'), (',', '.'), (\"''\", '.'), ('says', 'VERB'), ('*T*-1', 'X'), ('Anne', 'NOUN'), ('Moore', 'NOUN'), (',', '.'), ('president', 'NOUN'), ('of', 'ADP'), ('Synergistics', 'NOUN'), ('Research', 'NOUN'), ('Corp.', 'NOUN'), (',', '.'), ('a', 'DET'), ('bank', 'NOUN'), ('consulting', 'NOUN'), ('firm', 'NOUN'), ('in', 'ADP'), ('Atlanta', 'NOUN'), ('.', '.'), ('Among', 'ADP'), ('them', 'PRON'), ('are', 'VERB'), ('*T*-1', 'X'), ('differences', 'NOUN'), ('in', 'ADP'), ('savings', 'NOUN'), ('and', 'CONJ'), ('investment', 'NOUN'), ('rates', 'NOUN'), (',', '.'), ('corporate', 'ADJ'), ('structures', 'NOUN'), ('and', 'CONJ'), ('management', 'NOUN'), (',', '.'), ('and', 'CONJ'), ('government', 'NOUN'), ('spending', 'NOUN'), ('.', '.'), ('It', 'PRON'), ('also', 'ADV'), ('issued', 'VERB'), ('a', 'DET'), ('final', 'ADJ'), ('rule', 'NOUN'), ('requiring', 'VERB'), ('auto', 'NOUN'), ('makers', 'NOUN'), ('to', 'PRT'), ('equip', 'CONJ'), ('light', 'ADJ'), ('trucks', 'NOUN'), ('and', 'CONJ'), ('minivans', 'NOUN'), ('with', 'ADP'), ('lap-shoulder', 'CONJ'), ('belts', 'NOUN'), ('for', 'ADP'), ('rear', 'CONJ'), ('seats', 'NOUN'), ('*', 'X'), ('beginning', 'VERB'), ('in', 'ADP'), ('the', 'DET'), ('1992', 'NUM'), ('model', 'NOUN'), ('year', 'NOUN'), ('.', '.'), ('USX', 'NOUN'), ('announced', 'VERB'), ('in', 'ADP'), ('October', 'NOUN'), ('that', 'ADP'), ('it', 'PRON'), ('was', 'VERB'), ('soliciting', 'CONJ'), ('bids', 'NOUN'), ('*', 'X'), ('to', 'PRT'), ('sell', 'VERB'), ('TXO', 'CONJ'), (\"'s\", 'VERB'), ('oil', 'NOUN'), ('and', 'CONJ'), ('gas', 'NOUN'), ('reserves', 'NOUN'), ('.', '.'), ('``', '.'), ('The', 'DET'), ('way', 'NOUN'), ('that', 'ADP'), ('we', 'PRON'), (\"'ve\", 'VERB'), ('been', 'VERB'), ('managing', 'VERB'), ('Campbell', 'NOUN'), ('U.S.A.', 'NOUN'), ('*T*-2', 'X'), ('can', 'VERB'), ('hopefully', 'ADV'), ('spread', 'VERB'), ('to', 'PRT'), ('other', 'ADJ'), ('areas', 'NOUN'), ('of', 'ADP'), ('the', 'DET'), ('company', 'NOUN'), (',', '.'), (\"''\", '.'), ('Mr.', 'NOUN'), ('Baum', 'NOUN'), ('said', 'VERB'), ('*T*-1', 'X'), ('.', '.'), ('When', 'ADV'), ('*-4', 'X'), ('offered', 'VERB'), ('*-3', 'X'), ('a', 'DET'), ('free', 'ADJ'), ('trip', 'CONJ'), ('from', 'ADP'), ('the', 'DET'), ('Bronx', 'NOUN'), (',', '.'), ('Wedtech', 'NOUN'), (\"'s\", 'PRT'), ('home', 'NOUN'), (',', '.'), ('to', 'PRT'), ('Washington', 'NOUN'), (',', '.'), ('D.C.', 'NOUN'), (',', '.'), ('by', 'ADP'), ('one', 'NUM'), ('of', 'ADP'), ('Wedtech', 'NOUN'), (\"'s\", 'PRT'), ('principals', 'NOUN'), ('*T*-2', 'X'), (',', '.'), ('he', 'PRON'), ('tells', 'VERB'), ('the', 'DET'), ('reader', 'NOUN'), (',', '.'), ('``', '.'), ('*-5', 'X'), ('mindful', 'CONJ'), ('of', 'ADP'), ('*', 'X'), ('accepting', 'VERB'), ('anything', 'NOUN'), ('of', 'ADP'), ('value', 'NOUN'), ('from', 'ADP'), ('those', 'DET'), ('0', 'X'), ('I', 'PRON'), ('was', 'VERB'), ('writing', 'VERB'), ('about', 'ADP'), ('*T*-1', 'X'), (',', '.'), ('I', 'PRON'), ('declined', 'VERB'), ('.', '.'), (\"''\", '.'), ('The', 'DET'), ('total', 'ADJ'), ('of', 'ADP'), ('18', 'NUM'), ('deaths', 'NOUN'), ('from', 'ADP'), ('malignant', 'CONJ'), ('mesothelioma', 'CONJ'), (',', '.'), ('lung', 'NOUN'), ('cancer', 'NOUN'), ('and', 'CONJ'), ('asbestosis', 'CONJ'), ('was', 'VERB'), ('far', 'ADV'), ('higher', 'ADJ'), ('than', 'ADP'), ('*', 'X'), ('expected', 'VERB'), ('*?*', 'X'), (',', '.'), ('the', 'DET'), ('researchers', 'NOUN'), ('said', 'VERB'), ('0', 'X'), ('*T*-1', 'X'), ('.', '.'), ('In', 'ADP'), ('October', 'NOUN'), ('1989', 'NUM'), (',', '.'), ('16.9', 'CONJ'), ('%', 'NOUN'), ('said', 'VERB'), ('0', 'X'), ('more', 'ADV'), ('jobs', 'NOUN'), ('will', 'VERB'), ('be', 'VERB'), ('created', 'VERB'), ('*-1', 'X'), ('in', 'ADP'), ('the', 'DET'), ('coming', 'VERB'), ('six', 'NUM'), ('months', 'NOUN'), (',', '.'), ('compared', 'VERB'), ('with', 'ADP'), ('17.4', 'CONJ'), ('%', 'NOUN'), ('in', 'ADP'), ('September', 'NOUN'), ('and', 'CONJ'), ('18.6', 'CONJ'), ('%', 'NOUN'), ('in', 'ADP'), ('October', 'NOUN'), ('1988', 'NUM'), ('.', '.'), ('Tokyu', 'CONJ'), ('Group', 'NOUN'), (',', '.'), ('Mitsubishi', 'NOUN'), ('Estate', 'NOUN'), ('and', 'CONJ'), ('Bridgestone\\\\/Firestone', 'NOUN'), (',', '.'), ('which', 'DET'), ('*T*-1', 'X'), ('advanced', 'VERB'), ('Tuesday', 'NOUN'), (',', '.'), ('declined', 'VERB'), ('on', 'ADP'), ('profit-taking', 'NOUN'), ('.', '.'), ('Traders', 'NOUN'), ('said', 'VERB'), ('0', 'X'), ('prices', 'NOUN'), ('also', 'ADV'), ('were', 'VERB'), ('supported', 'VERB'), ('*-1', 'X'), ('by', 'ADP'), ('widespread', 'ADJ'), ('rumors', 'NOUN'), ('that', 'ADP'), ('the', 'DET'), ('Soviet', 'ADJ'), ('Union', 'NOUN'), ('is', 'VERB'), ('on', 'ADP'), ('the', 'DET'), ('verge', 'CONJ'), ('of', 'ADP'), ('*', 'X'), ('receiving', 'VERB'), ('most', 'ADV'), ('favored', 'VERB'), ('nation', 'NOUN'), ('status', 'NOUN'), ('from', 'ADP'), ('the', 'DET'), ('U.S.', 'NOUN'), ('.', '.'), ('She', 'PRON'), ('became', 'VERB'), ('an', 'DET'), ('abortionist', 'NOUN'), ('accidentally', 'CONJ'), (',', '.'), ('and', 'CONJ'), ('continued', 'VERB'), ('because', 'ADP'), ('it', 'PRON'), ('enabled', 'CONJ'), ('her', 'PRON'), ('to', 'PRT'), ('buy', 'VERB'), ('jam', 'CONJ'), (',', '.'), ('cocoa', 'CONJ'), ('and', 'CONJ'), ('other', 'ADJ'), ('war-rationed', 'CONJ'), ('goodies', 'CONJ'), ('.', '.'), ('New', 'NOUN'), ('York', 'NOUN'), ('City', 'NOUN'), (':', '.'), ('Georgia-Pacific', 'NOUN'), (\"'s\", 'PRT'), ('sales', 'NOUN'), ('climbed', 'VERB'), ('to', 'PRT'), ('$', '.'), ('9.5', 'NUM'), ('billion', 'NUM'), ('*U*', 'X'), ('last', 'ADJ'), ('year', 'NOUN'), (',', '.'), ('compared', 'VERB'), ('with', 'ADP'), ('$', '.'), ('6', 'NUM'), ('billion', 'NUM'), ('*U*', 'X'), ('in', 'ADP'), ('1983', 'NUM'), (',', '.'), ('when', 'ADV'), ('Mr.', 'NOUN'), ('Hahn', 'NOUN'), ('took', 'VERB'), ('the', 'DET'), ('reins', 'CONJ'), ('*T*-1', 'X'), ('.', '.'), ('The', 'DET'), ('rest', 'NOUN'), ('went', 'VERB'), ('to', 'PRT'), ('investors', 'NOUN'), ('from', 'ADP'), ('France', 'NOUN'), ('and', 'CONJ'), ('Hong', 'NOUN'), ('Kong', 'NOUN'), ('.', '.'), ('For', 'ADP'), ('nearly', 'ADV'), ('a', 'DET'), ('decade', 'NOUN'), (',', '.'), ('banks', 'NOUN'), ('have', 'VERB'), ('competed', 'CONJ'), ('for', 'ADP'), ('customers', 'NOUN'), ('primarily', 'ADV'), ('with', 'ADP'), ('the', 'DET'), ('interest', 'NOUN'), ('rates', 'NOUN'), ('0', 'X'), ('they', 'PRON'), ('pay', 'VERB'), ('*T*-1', 'X'), ('on', 'ADP'), ('their', 'PRON'), ('deposits', 'NOUN'), ('and', 'CONJ'), ('charge', 'NOUN'), ('*T*-1', 'X'), ('on', 'ADP'), ('their', 'PRON'), ('loans', 'NOUN'), ('.', '.'), ('Neither', 'DET'), ('company', 'NOUN'), ('would', 'VERB'), ('disclose', 'CONJ'), ('the', 'DET'), ('program', 'NOUN'), (\"'s\", 'PRT'), ('cost', 'VERB'), ('.', '.'), ('In', 'ADP'), ('composite', 'ADJ'), ('New', 'NOUN'), ('York', 'NOUN'), ('Stock', 'NOUN'), ('Exchange', 'NOUN'), ('trading', 'NOUN'), (',', '.'), ('the', 'DET'), ('shares', 'NOUN'), ('closed', 'VERB'), ('at', 'ADP'), ('$', '.'), ('177', 'NUM'), ('*U*', 'X'), (',', '.'), ('up', 'ADV'), ('$', '.'), ('1.50', 'CONJ'), ('*U*', 'X'), ('.', '.'), ('J.L.', 'NOUN'), ('Henry', 'NOUN'), ('&', 'CONJ'), ('Co.', 'NOUN'), (',', '.'), ('Miami', 'NOUN'), (',', '.'), ('and', 'CONJ'), ('a', 'DET'), ('principal', 'NOUN'), ('of', 'ADP'), ('the', 'DET'), ('firm', 'NOUN'), (',', '.'), ('Henry', 'NOUN'), ('I.', 'CONJ'), ('Otero', 'NOUN'), ('of', 'ADP'), ('Miami', 'NOUN'), (',', '.'), ('were', 'VERB'), ('jointly', 'ADV'), ('fined', 'VERB'), ('*-1', 'X'), ('$', '.'), ('30,000', 'NUM'), ('*U*', 'X'), ('and', 'CONJ'), ('expelled', 'VERB'), ('*-1', 'X'), (',', '.'), ('for', 'ADP'), ('alleged', 'ADJ'), ('improper', 'CONJ'), ('use', 'VERB'), ('of', 'ADP'), ('a', 'DET'), ('customer', 'NOUN'), (\"'s\", 'PRT'), ('funds', 'NOUN'), (',', '.'), ('among', 'ADP'), ('other', 'ADJ'), ('things', 'NOUN'), ('.', '.'), ('The', 'DET'), ('first', 'ADJ'), ('Champagne', 'NOUN'), ('0', 'X'), ('*T*-1', 'X'), ('to', 'PRT'), ('crack', 'NOUN'), ('that', 'ADP'), ('price', 'NOUN'), ('barrier', 'NOUN'), ('was', 'VERB'), ('the', 'DET'), ('1979', 'NUM'), ('Salon', 'NOUN'), ('de', 'ADP'), ('Mesnil', 'NOUN'), ('Blanc', 'NOUN'), ('de', 'ADP'), ('Blancs', 'NOUN'), ('.', '.'), ('But', 'CONJ'), ('it', 'PRON'), ('*EXP*-1', 'X'), ('is', 'VERB'), (\"n't\", 'ADV'), ('clear', 'ADJ'), ('yet', 'ADV'), ('whether', 'ADP'), ('the', 'DET'), ('central', 'ADJ'), ('bank', 'NOUN'), ('will', 'VERB'), ('make', 'VERB'), ('such', 'ADJ'), ('a', 'DET'), ('move', 'NOUN'), ('.', '.'), ('January', 'NOUN'), ('platinum', 'CONJ'), ('was', 'VERB'), ('down', 'ADV'), ('$', '.'), ('5.70', 'CONJ'), ('*U*', 'X'), ('an', 'DET'), ('ounce', 'NOUN'), ('at', 'ADP'), ('$', '.'), ('494.50', 'CONJ'), ('*U*', 'X'), ('.', '.')]\n"
     ]
    }
   ],
   "source": [
    "# tagging the test sentences\n",
    "start = time.time()\n",
    "tagged_seq = Viterbi(test_tagged_words)\n",
    "end = time.time()\n",
    "print(tagged_seq)"
   ]
  },
  {
   "cell_type": "code",
   "execution_count": 47,
   "metadata": {},
   "outputs": [
    {
     "name": "stdout",
     "output_type": "stream",
     "text": [
      "Time taken in seconds:  2495.1171402931213\n"
     ]
    }
   ],
   "source": [
    "# Printing the time\n",
    "difference = end-start\n",
    "print(\"Time taken in seconds: \", difference)"
   ]
  },
  {
   "cell_type": "code",
   "execution_count": 48,
   "metadata": {},
   "outputs": [],
   "source": [
    "# accuracy\n",
    "check = [i for i, j in zip(tagged_seq, test_run_base) if i == j] "
   ]
  },
  {
   "cell_type": "code",
   "execution_count": 50,
   "metadata": {},
   "outputs": [
    {
     "data": {
      "text/plain": [
       "0.913701592294083"
      ]
     },
     "execution_count": 50,
     "metadata": {},
     "output_type": "execute_result"
    }
   ],
   "source": [
    "accuracy = len(check)/len(tagged_seq)\n",
    "accuracy"
   ]
  },
  {
   "cell_type": "markdown",
   "metadata": {},
   "source": [
    "### Evaluating complete Test Data on the modifled Viterbi - Solution 1 - Probability Based\n",
    "### For words in the corpus, state probability = transition probability * emission probaility\n",
    "### For words not in the corpus, state probability = transition probability"
   ]
  },
  {
   "cell_type": "code",
   "execution_count": 51,
   "metadata": {},
   "outputs": [
    {
     "name": "stdout",
     "output_type": "stream",
     "text": [
      "[('For', 'ADP'), ('the', 'DET'), ('Agency', 'NOUN'), ('for', 'ADP'), ('International', 'NOUN'), ('Development', 'NOUN'), (',', '.'), ('appropriators', 'NOUN'), ('approved', 'VERB'), ('$', '.'), ('200', 'NUM'), ('million', 'NUM'), ('*U*', 'X'), ('in', 'ADP'), ('secondary', 'ADJ'), ('loan', 'NOUN'), ('guarantees', 'NOUN'), ('under', 'ADP'), ('an', 'DET'), ('expanded', 'VERB'), ('trade', 'VERB'), ('credit', 'NOUN'), ('insurance', 'NOUN'), ('program', 'NOUN'), (',', '.'), ('and', 'CONJ'), ('total', 'ADJ'), ('loan', 'NOUN'), ('guarantees', 'NOUN'), ('for', 'ADP'), ('the', 'DET'), ('Overseas', 'NOUN'), ('Private', 'ADJ'), ('Investment', 'NOUN'), ('Corp.', 'NOUN'), ('are', 'VERB'), ('increased', 'VERB'), ('*-3', 'X'), ('by', 'ADP'), ('$', '.'), ('40', 'NUM'), ('million', 'NUM'), ('*U*', 'X'), ('over', 'ADP'), ('fiscal', 'ADJ'), ('1989', 'NUM'), ('as', 'ADP'), ('part', 'NOUN'), ('of', 'ADP'), ('the', 'DET'), ('same', 'ADJ'), ('Poland', 'NOUN'), ('package', 'NOUN'), ('.', '.'), ('The', 'DET'), ('market', 'NOUN'), ('is', 'VERB'), ('just', 'ADV'), ('becoming', 'VERB'), ('more', 'ADV'), ('efficient', 'ADJ'), ('.', '.'), (\"''\", '.'), ('Moscow', 'NOUN'), ('has', 'VERB'), ('settled', 'VERB'), ('pre-1917', 'X'), ('debts', 'NOUN'), ('with', 'ADP'), ('other', 'ADJ'), ('countries', 'NOUN'), ('in', 'ADP'), ('recent', 'ADJ'), ('years', 'NOUN'), ('at', 'ADP'), ('less', 'ADJ'), ('than', 'ADP'), ('face', 'NOUN'), ('value', 'NOUN'), ('.', '.'), ('``', '.'), ('Unemployment', 'NOUN'), ('continues', 'VERB'), ('at', 'ADP'), ('a', 'DET'), ('relatively', 'ADV'), ('low', 'ADJ'), ('level', 'NOUN'), (',', '.'), ('*', 'X'), ('providing', 'VERB'), ('a', 'DET'), ('sense', 'NOUN'), ('of', 'ADP'), ('job', 'NOUN'), ('security', 'NOUN'), (',', '.'), ('and', 'CONJ'), ('a', 'DET'), ('low', 'ADJ'), ('inflation', 'NOUN'), ('rate', 'NOUN'), ('has', 'VERB'), ('kept', 'VERB'), ('the', 'DET'), ('purchasing', 'NOUN'), ('power', 'NOUN'), ('of', 'ADP'), ('the', 'DET'), ('weekly', 'ADJ'), ('paycheck', 'NOUN'), ('reasonably', 'NOUN'), ('strong', 'ADJ'), ('.', '.'), (\"''\", '.'), ('At', 'ADP'), ('the', 'DET'), ('same', 'ADJ'), ('time', 'NOUN'), (',', '.'), ('though', 'ADP'), (',', '.'), ('he', 'PRON'), ('chastised', 'VERB'), ('the', 'DET'), ('media', 'NOUN'), ('for', 'ADP'), ('*', 'X'), ('paying', 'VERB'), ('such', 'ADJ'), ('close', 'NOUN'), ('attention', 'NOUN'), ('to', 'PRT'), ('Japanese', 'ADJ'), ('investment', 'NOUN'), ('when', 'ADV'), ('other', 'ADJ'), ('foreign', 'ADJ'), ('countries', 'NOUN'), (',', '.'), ('notably', 'ADV'), ('Britain', 'NOUN'), (',', '.'), ('are', 'VERB'), ('acquiring', 'VERB'), ('more', 'ADV'), ('American', 'ADJ'), ('assets', 'NOUN'), ('*T*-1', 'X'), ('.', '.'), ('*-1', 'X'), ('Funded', 'VERB'), ('*-2', 'X'), ('by', 'ADP'), ('a', 'DET'), ('$', '.'), ('1', 'NUM'), ('million', 'NUM'), ('*U*', 'X'), ('gift', 'NOUN'), ('from', 'ADP'), ('Tokio', 'DET'), ('Marine', 'NOUN'), ('&', 'CONJ'), ('Fire', 'NOUN'), ('Insurance', 'NOUN'), (',', '.'), ('the', 'DET'), ('service', 'NOUN'), ('will', 'VERB'), ('follow', 'VERB'), ('Japanese', 'ADJ'), ('medical', 'ADJ'), ('protocols', 'NOUN'), (',', '.'), ('including', 'VERB'), ('emphasis', 'NOUN'), ('on', 'ADP'), ('preventative', 'DET'), ('medicine', 'NOUN'), ('.', '.'), ('On', 'ADP'), ('the', 'DET'), ('other', 'ADJ'), ('hand', 'NOUN'), (',', '.'), ('had', 'VERB'), ('it', 'PRON'), ('existed', 'VERB'), ('then', 'ADV'), (',', '.'), ('Cray', 'NOUN'), ('Computer', 'NOUN'), ('would', 'VERB'), ('have', 'VERB'), ('incurred', 'VERB'), ('a', 'DET'), ('$', '.'), ('20.5', 'NOUN'), ('million', 'NUM'), ('*U*', 'X'), ('loss', 'NOUN'), ('.', '.'), ('``', '.'), ('The', 'DET'), ('disturbing', 'ADJ'), ('thing', 'NOUN'), ('about', 'ADP'), ('this', 'DET'), ('abortion', 'NOUN'), ('issue', 'NOUN'), ('is', 'VERB'), ('that', 'ADP'), ('the', 'DET'), ('debate', 'NOUN'), ('has', 'VERB'), ('become', 'VERB'), ('polarized', 'X'), ('*-1', 'X'), (',', '.'), ('so', 'ADV'), ('that', 'ADP'), ('no', 'DET'), ('mechanism', 'NOUN'), ('*ICH*-2', 'X'), ('exists', 'VERB'), (\"''\", '.'), ('for', 'ADP'), ('*', 'X'), ('finding', 'VERB'), ('a', 'DET'), ('middle', 'NOUN'), ('ground', 'NOUN'), ('.', '.'), ('Though', 'NOUN'), ('some', 'DET'), ('lawyers', 'NOUN'), ('reported', 'VERB'), ('that', 'ADP'), ('prospective', 'ADJ'), ('acquirers', 'NOUN'), ('were', 'VERB'), ('scrambling', 'VERB'), ('*-1', 'X'), ('to', 'PRT'), ('make', 'VERB'), ('filings', 'NOUN'), ('before', 'ADP'), ('the', 'DET'), ('fees', 'NOUN'), ('take', 'VERB'), ('effect', 'NOUN'), (',', '.'), ('government', 'NOUN'), ('officials', 'NOUN'), ('said', 'VERB'), ('0', 'X'), ('they', 'PRON'), ('had', 'VERB'), (\"n't\", 'ADV'), ('noticed', 'VERB'), ('any', 'DET'), ('surge', 'NOUN'), ('in', 'ADP'), ('filings', 'NOUN'), ('.', '.'), ('Big', 'NOUN'), ('Board', 'NOUN'), ('volume', 'NOUN'), ('totaled', 'VERB'), ('154.2', 'X'), ('million', 'NUM'), ('shares', 'NOUN'), ('.', '.'), ('Since', 'ADP'), ('chalk', 'DET'), ('first', 'ADJ'), ('touched', 'NOUN'), ('slate', 'NOUN'), (',', '.'), ('schoolchildren', 'NOUN'), ('have', 'VERB'), ('wanted', 'VERB'), ('*-1', 'X'), ('to', 'PRT'), ('know', 'VERB'), (':', '.'), ('What', 'PRON'), (\"'s\", 'VERB'), ('*T*-2', 'X'), ('on', 'ADP'), ('the', 'DET'), ('test', 'NOUN'), ('?', '.'), ('Moreover', 'ADV'), (',', '.'), ('they', 'PRON'), ('said', 'VERB'), ('0', 'X'), ('the', 'DET'), ('first', 'ADJ'), ('appropriations', 'NOUN'), ('bill', 'NOUN'), ('passed', 'VERB'), ('*', 'X'), ('200', 'NUM'), ('years', 'NOUN'), ('ago', 'ADP'), ('covered', 'VERB'), ('many', 'ADJ'), ('different', 'ADJ'), ('items', 'NOUN'), (',', '.'), ('and', 'CONJ'), ('there', 'DET'), ('was', 'VERB'), ('no', 'DET'), ('discussion', 'NOUN'), ('of', 'ADP'), ('a', 'DET'), ('line-item', 'ADJ'), ('veto', 'NOUN'), ('.', '.'), ('``', '.'), ('Wall', 'NOUN'), ('Street', 'NOUN'), ('is', 'VERB'), ('facing', 'VERB'), ('a', 'DET'), ('Catch-22', 'NOUN'), ('situation', 'NOUN'), (',', '.'), (\"''\", '.'), ('says', 'VERB'), ('*T*-1', 'X'), ('Mr.', 'NOUN'), ('Mahoney', 'NOUN'), ('of', 'ADP'), ('Moody', 'NOUN'), (\"'s\", 'PRT'), ('.', '.'), ('The', 'DET'), ('ban', 'NOUN'), ('on', 'ADP'), ('cross-border', 'DET'), ('movement', 'NOUN'), ('was', 'VERB'), ('imposed', 'VERB'), ('*-1', 'X'), ('last', 'ADJ'), ('month', 'NOUN'), ('after', 'ADP'), ('a', 'DET'), ('massive', 'ADJ'), ('exodus', 'NOUN'), ('of', 'ADP'), ('emigres', 'DET'), ('to', 'PRT'), ('West', 'NOUN'), ('Germany', 'NOUN'), ('.', '.'), ('Mr.', 'NOUN'), ('Ross', 'NOUN'), ('said', 'VERB'), ('0', 'X'), ('he', 'PRON'), ('met', 'VERB'), ('with', 'ADP'), ('officials', 'NOUN'), ('of', 'ADP'), ('the', 'DET'), ('IRS', 'NOUN'), ('and', 'CONJ'), ('the', 'DET'), ('Justice', 'NOUN'), ('Department', 'NOUN'), (',', '.'), ('which', 'DET'), ('*T*-133', 'NOUN'), ('would', 'VERB'), ('bring', 'VERB'), ('any', 'DET'), ('enforcement', 'NOUN'), ('actions', 'NOUN'), ('against', 'ADP'), ('taxpayers', 'NOUN'), (',', '.'), ('*-1', 'X'), ('to', 'PRT'), ('discuss', 'VERB'), ('the', 'DET'), ('issue', 'NOUN'), ('last', 'ADJ'), ('May', 'NOUN'), ('.', '.'), ('Among', 'ADP'), ('other', 'ADJ'), ('things', 'NOUN'), (',', '.'), ('it', 'PRON'), ('included', 'VERB'), ('checking', 'NOUN'), (',', '.'), ('safe', 'NOUN'), ('deposit', 'NOUN'), ('box', 'NOUN'), ('and', 'CONJ'), ('credit', 'NOUN'), ('card', 'NOUN'), ('--', '.'), ('all', 'DET'), ('for', 'ADP'), ('free', 'ADJ'), ('--', '.'), ('plus', 'CONJ'), ('a', 'DET'), ('good', 'ADJ'), ('deal', 'NOUN'), ('on', 'ADP'), ('installment', 'NOUN'), ('loans', 'NOUN'), ('.', '.'), ('Fujitsu', 'NOUN'), ('Ltd.', 'NOUN'), (\"'s\", 'PRT'), ('top', 'ADJ'), ('executive', 'NOUN'), ('took', 'VERB'), ('the', 'DET'), ('unusual', 'ADJ'), ('step', 'NOUN'), ('of', 'ADP'), ('*', 'X'), ('publicly', 'ADV'), ('apologizing', 'VERB'), ('for', 'ADP'), ('his', 'PRON'), ('company', 'NOUN'), (\"'s\", 'PRT'), ('making', 'VERB'), ('bids', 'NOUN'), ('of', 'ADP'), ('just', 'ADV'), ('one', 'NUM'), ('yen', 'NOUN'), ('for', 'ADP'), ('several', 'ADJ'), ('local', 'ADJ'), ('government', 'NOUN'), ('projects', 'NOUN'), (',', '.'), ('while', 'ADP'), ('computer', 'NOUN'), ('rival', 'NOUN'), ('NEC', 'NOUN'), ('Corp.', 'NOUN'), ('made', 'VERB'), ('a', 'DET'), ('written', 'VERB'), ('apology', 'NOUN'), ('for', 'ADP'), ('*', 'X'), ('indulging', 'VERB'), ('in', 'ADP'), ('the', 'DET'), ('same', 'ADJ'), ('practice', 'NOUN'), ('.', '.'), ('From', 'ADP'), ('1953', 'DET'), ('to', 'PRT'), ('1955', 'VERB'), (',', '.'), ('9.8', 'NUM'), ('billion', 'NUM'), ('Kent', 'NOUN'), ('cigarettes', 'NOUN'), ('with', 'ADP'), ('the', 'DET'), ('filters', 'NOUN'), ('were', 'VERB'), ('sold', 'VERB'), ('*-3', 'X'), (',', '.'), ('the', 'DET'), ('company', 'NOUN'), ('said', 'VERB'), ('0', 'X'), ('*T*-1', 'X'), ('.', '.'), ('Some', 'DET'), ('of', 'ADP'), ('the', 'DET'), ('homeless', 'ADJ'), (',', '.'), ('obviously', 'ADV'), (',', '.'), ('had', 'VERB'), ('pre-existing', 'X'), ('mental', 'ADJ'), ('illness', 'NOUN'), ('or', 'CONJ'), ('addiction', 'NOUN'), ('.', '.'), ('``', '.'), ('We', 'PRON'), (\"'re\", 'VERB'), ('gaining', 'VERB'), ('1,200', 'X'), ('new', 'ADJ'), ('customers', 'NOUN'), ('each', 'DET'), ('week', 'NOUN'), (',', '.'), (\"''\", '.'), ('says', 'VERB'), ('*T*-1', 'X'), ('Jack', 'NOUN'), ('Mogavero', 'NOUN'), ('of', 'ADP'), ('General', 'NOUN'), ('Health', 'NOUN'), ('Care', 'NOUN'), ('Corp.', 'NOUN'), (',', '.'), ('Piscataway', 'NOUN'), (',', '.'), ('N.J', 'NOUN'), ('.', '.'), ('It', 'PRON'), ('all', 'DET'), ('adds', 'VERB'), ('up', 'ADV'), ('to', 'PRT'), ('a', 'DET'), ('barrier', 'NOUN'), ('to', 'PRT'), ('American-style', 'VERB'), ('index', 'NOUN'), ('arbitrage', 'NOUN'), (',', '.'), ('the', 'DET'), ('most', 'ADJ'), ('popular', 'ADJ'), ('form', 'NOUN'), ('of', 'ADP'), ('U.S.', 'NOUN'), ('program', 'NOUN'), ('trading', 'NOUN'), ('that', 'ADP'), ('*T*-253', 'DET'), ('seeks', 'VERB'), ('*-1', 'X'), ('to', 'PRT'), ('exploit', 'VERB'), ('brief', 'ADJ'), ('differences', 'NOUN'), ('between', 'ADP'), ('prices', 'NOUN'), ('of', 'ADP'), ('stocks', 'NOUN'), ('in', 'ADP'), ('New', 'NOUN'), ('York', 'NOUN'), ('and', 'CONJ'), ('the', 'DET'), ('price', 'NOUN'), ('of', 'ADP'), ('a', 'DET'), ('futures', 'NOUN'), ('contract', 'NOUN'), ('in', 'ADP'), ('Chicago', 'NOUN'), ('based', 'VERB'), ('on', 'ADP'), ('those', 'DET'), ('stocks', 'NOUN'), ('.', '.'), ('The', 'DET'), ('great', 'ADJ'), ('reds', 'NOUN'), ('of', 'ADP'), ('the', 'DET'), ('Rhone', 'NOUN'), ('Valley', 'NOUN'), ('have', 'VERB'), ('soared', 'VERB'), ('in', 'ADP'), ('price', 'NOUN'), ('as', 'ADP'), ('well', 'ADV'), ('.', '.'), ('That', 'DET'), ('followed', 'VERB'), ('four', 'NUM'), ('straight', 'ADJ'), ('months', 'NOUN'), ('in', 'ADP'), ('which', 'DET'), ('the', 'DET'), ('number', 'NOUN'), ('of', 'ADP'), ('increases', 'NOUN'), ('trailed', 'VERB'), ('the', 'DET'), ('year-earlier', 'ADJ'), ('pace', 'NOUN'), ('*T*-1', 'X'), ('.', '.'), ('Revenue', 'NOUN'), ('rose', 'VERB'), ('42', 'NUM'), ('%', 'NOUN'), ('to', 'PRT'), ('$', '.'), ('133.7', 'NOUN'), ('million', 'NUM'), ('*U*', 'X'), ('from', 'ADP'), ('$', '.'), ('94', 'NOUN'), ('million', 'NUM'), ('*U*', 'X'), ('.', '.'), ('When', 'ADV'), ('test', 'VERB'), ('booklets', 'NOUN'), ('were', 'VERB'), ('passed', 'VERB'), ('*-1', 'X'), ('out', 'PRT'), ('48', 'NUM'), ('hours', 'NOUN'), ('ahead', 'ADV'), ('of', 'ADP'), ('time', 'NOUN'), ('*T*-2', 'X'), (',', '.'), ('she', 'PRON'), ('says', 'VERB'), ('0', 'X'), ('she', 'PRON'), ('copied', 'VERB'), ('questions', 'NOUN'), ('in', 'ADP'), ('the', 'DET'), ('social', 'ADJ'), ('studies', 'NOUN'), ('section', 'NOUN'), ('and', 'CONJ'), ('gave', 'VERB'), ('the', 'DET'), ('answers', 'NOUN'), ('to', 'PRT'), ('students', 'NOUN'), ('.', '.'), ('They', 'PRON'), ('belong', 'VERB'), ('to', 'PRT'), ('a', 'DET'), ('group', 'NOUN'), ('of', 'ADP'), ('15', 'NUM'), ('ringers', 'NOUN'), ('--', '.'), ('including', 'VERB'), ('two', 'NUM'), ('octogenarians', 'NOUN'), ('and', 'CONJ'), ('four', 'NUM'), ('youngsters', 'NOUN'), ('in', 'ADP'), ('training', 'NOUN'), ('--', '.'), ('who', 'PRON'), ('*T*-222', 'VERB'), ('drive', 'VERB'), ('every', 'DET'), ('Sunday', 'NOUN'), ('from', 'ADP'), ('church', 'NOUN'), ('to', 'PRT'), ('church', 'NOUN'), ('in', 'ADP'), ('a', 'DET'), ('sometimes-exhausting', 'NOUN'), ('effort', 'NOUN'), ('*', 'X'), ('to', 'PRT'), ('keep', 'VERB'), ('the', 'DET'), ('bells', 'NOUN'), ('sounding', 'NOUN'), ('in', 'ADP'), ('the', 'DET'), ('many', 'ADJ'), ('belfries', 'NOUN'), ('of', 'ADP'), ('East', 'NOUN'), ('Anglia', 'NOUN'), ('.', '.'), ('Imports', 'NOUN'), ('of', 'ADP'), ('manmade-fiber', 'DET'), ('sweaters', 'NOUN'), ('in', 'ADP'), ('1988', 'NUM'), ('totaled', 'VERB'), ('about', 'ADP'), ('$', '.'), ('405', 'NOUN'), ('million', 'NUM'), ('*U*', 'X'), ('from', 'ADP'), ('Taiwan', 'NOUN'), (',', '.'), ('$', '.'), ('400', 'NUM'), ('million', 'NUM'), ('*U*', 'X'), ('from', 'ADP'), ('South', 'NOUN'), ('Korea', 'NOUN'), ('and', 'CONJ'), ('$', '.'), ('125', 'NUM'), ('million', 'NUM'), ('*U*', 'X'), ('from', 'ADP'), ('Hong', 'NOUN'), ('Kong', 'NOUN'), (',', '.'), ('according', 'VERB'), ('to', 'PRT'), ('the', 'DET'), ('ITC', 'NOUN'), ('.', '.'), ('What', 'PRON'), ('*T*-102', 'VERB'), (\"'s\", 'PRT'), ('more', 'ADJ'), (',', '.'), ('the', 'DET'), ('test', 'NOUN'), ('and', 'CONJ'), ('Learning', 'NOUN'), ('Materials', 'NOUN'), ('are', 'VERB'), ('both', 'DET'), ('produced', 'VERB'), ('*-1', 'X'), ('by', 'ADP'), ('the', 'DET'), ('same', 'ADJ'), ('company', 'NOUN'), (',', '.'), ('Macmillan\\\\/McGraw-Hill', 'NOUN'), (',', '.'), ('a', 'DET'), ('joint', 'ADJ'), ('venture', 'NOUN'), ('of', 'ADP'), ('McGraw-Hill', 'NOUN'), ('Inc.', 'NOUN'), ('and', 'CONJ'), ('Macmillan', 'NOUN'), (\"'s\", 'PRT'), ('parent', 'NOUN'), (',', '.'), ('Britain', 'NOUN'), (\"'s\", 'PRT'), ('Maxwell', 'NOUN'), ('Communication', 'NOUN'), ('Corp', 'NOUN'), ('.', '.'), ('This', 'DET'), ('year', 'NOUN'), ('it', 'PRON'), ('is', 'VERB'), ('expected', 'VERB'), ('*-1', 'X'), ('to', 'PRT'), ('be', 'VERB'), ('a', 'DET'), ('net', 'ADJ'), ('importer', 'NOUN'), ('and', 'CONJ'), ('is', 'VERB'), ('said', 'VERB'), ('*-1', 'X'), ('to', 'PRT'), ('be', 'VERB'), ('seeking', 'VERB'), ('*-2', 'X'), ('to', 'PRT'), ('buy', 'VERB'), ('about', 'ADP'), ('200,000', 'NUM'), ('tons', 'NOUN'), ('of', 'ADP'), ('sugar', 'NOUN'), ('*-3', 'X'), ('to', 'PRT'), ('meet', 'VERB'), ('internal', 'ADJ'), ('needs', 'NOUN'), (',', '.'), ('analysts', 'NOUN'), ('said', 'VERB'), ('0', 'X'), ('*T*-4', 'X'), ('.', '.'), ('This', 'DET'), ('trial', 'NOUN'), ('is', 'VERB'), ('expected', 'VERB'), ('*-1', 'X'), ('to', 'PRT'), ('last', 'ADJ'), ('five', 'NUM'), ('weeks', 'NOUN'), ('.', '.'), ('ShareData', 'NOUN'), ('develops', 'NOUN'), ('and', 'CONJ'), ('markets', 'NOUN'), ('low-cost', 'NOUN'), ('software', 'NOUN'), (',', '.'), ('peripheral', 'ADJ'), ('equipment', 'NOUN'), ('and', 'CONJ'), ('accessories', 'NOUN'), ('for', 'ADP'), ('computers', 'NOUN'), ('.', '.'), ('In', 'ADP'), ('separate', 'ADJ'), ('floor', 'NOUN'), ('action', 'NOUN'), (',', '.'), ('the', 'DET'), ('House', 'NOUN'), ('waived', 'NOUN'), ('budget', 'NOUN'), ('restrictions', 'NOUN'), ('and', 'CONJ'), ('gave', 'VERB'), ('quick', 'ADJ'), ('approval', 'NOUN'), ('to', 'PRT'), ('$', '.'), ('3.18', 'NUM'), ('billion', 'NUM'), ('*U*', 'X'), ('in', 'ADP'), ('supplemental', 'DET'), ('appropriations', 'NOUN'), ('for', 'ADP'), ('law', 'NOUN'), ('enforcement', 'NOUN'), ('and', 'CONJ'), ('anti-drug', 'NOUN'), ('programs', 'NOUN'), ('in', 'ADP'), ('fiscal', 'ADJ'), ('1990', 'NUM'), ('.', '.'), ('It', 'PRON'), ('has', 'VERB'), ('no', 'DET'), ('bearing', 'VERB'), ('on', 'ADP'), ('our', 'PRON'), ('work', 'VERB'), ('force', 'VERB'), ('today', 'NOUN'), ('.', '.'), ('But', 'CONJ'), ('he', 'PRON'), ('has', 'VERB'), ('not', 'ADV'), ('said', 'VERB'), ('before', 'ADP'), ('that', 'DET'), ('the', 'DET'), ('country', 'NOUN'), ('wants', 'VERB'), ('half', 'DET'), ('the', 'DET'), ('debt', 'NOUN'), ('forgiven', 'VERB'), ('*-2', 'X'), ('.', '.'), ('Also', 'ADV'), (',', '.'), ('Mr.', 'NOUN'), ('Canepa', 'NOUN'), ('received', 'VERB'), ('a', 'DET'), ('two-week', 'ADJ'), ('suspension', 'NOUN'), ('``', '.'), ('in', 'ADP'), ('a', 'DET'), ('principal', 'NOUN'), ('capacity', 'NOUN'), ('.', '.'), (\"''\", '.'), ('``', '.'), ('The', 'DET'), ('IRS', 'NOUN'), ('is', 'VERB'), ('asking', 'VERB'), ('lawyers', 'NOUN'), ('*-1', 'X'), ('to', 'PRT'), ('red-flag', 'VERB'), ('a', 'DET'), ('criminal', 'ADJ'), ('problem', 'NOUN'), ('to', 'PRT'), ('the', 'DET'), ('government', 'NOUN'), (',', '.'), (\"''\", '.'), ('added', 'VERB'), ('Mr.', 'NOUN'), ('Sonnett', 'NOUN'), (',', '.'), ('a', 'DET'), ('Miami', 'NOUN'), ('lawyer', 'NOUN'), ('who', 'PRON'), ('*T*-128', 'VERB'), ('has', 'VERB'), ('heard', 'VERB'), ('from', 'ADP'), ('dozens', 'NOUN'), ('of', 'ADP'), ('attorneys', 'NOUN'), ('who', 'PRON'), ('*T*-129', 'VERB'), ('received', 'VERB'), ('letters', 'NOUN'), ('in', 'ADP'), ('recent', 'ADJ'), ('days', 'NOUN'), ('and', 'CONJ'), ('has', 'VERB'), ('himself', 'PRON'), ('received', 'VERB'), ('the', 'DET'), ('computer-generated', 'NOUN'), ('IRS', 'NOUN'), ('forms', 'NOUN'), ('sent', 'VERB'), ('*', 'X'), ('by', 'ADP'), ('certified', 'DET'), ('mail', 'NOUN'), ('.', '.'), ('During', 'ADP'), ('the', 'DET'), ('coming', 'VERB'), ('weeks', 'NOUN'), (',', '.'), ('President', 'NOUN'), ('Bush', 'NOUN'), ('must', 'VERB'), ('decide', 'VERB'), ('whether', 'ADP'), ('*', 'X'), ('to', 'PRT'), ('veto', 'NOUN'), ('the', 'DET'), ('bills', 'NOUN'), ('containing', 'NOUN'), ('them', 'PRON'), ('--', '.'), ('or', 'CONJ'), (',', '.'), ('alternatively', 'NOUN'), (',', '.'), ('*', 'X'), ('to', 'PRT'), ('sign', 'NOUN'), ('these', 'DET'), ('bills', 'NOUN'), ('into', 'ADP'), ('law', 'NOUN'), ('with', 'ADP'), ('a', 'DET'), ('statement', 'NOUN'), ('declaring', 'VERB'), ('their', 'PRON'), ('intrusions', 'VERB'), ('on', 'ADP'), ('executive', 'NOUN'), ('power', 'NOUN'), ('to', 'PRT'), ('be', 'VERB'), ('in', 'ADP'), ('violation', 'NOUN'), ('of', 'ADP'), ('Article', 'NOUN'), ('II', 'NOUN'), (',', '.'), ('and', 'CONJ'), ('thus', 'ADV'), ('void', 'VERB'), ('and', 'CONJ'), ('severable', 'ADJ'), ('.', '.'), ('Santa', 'NOUN'), ('Ana', 'NOUN'), ('Community', 'NOUN'), ('Redevelopment', 'NOUN'), ('Agency', 'NOUN'), (',', '.'), ('Calif.', 'NOUN'), ('--', '.'), ('R.P.', 'NOUN'), ('Scherer', 'NOUN'), ('Corp.', 'NOUN'), ('said', 'VERB'), ('0', 'X'), ('it', 'PRON'), ('completed', 'VERB'), ('the', 'DET'), ('$', '.'), ('10.2', 'NUM'), ('million', 'NUM'), ('*U*', 'X'), ('sale', 'NOUN'), ('of', 'ADP'), ('its', 'PRON'), ('Southern', 'NOUN'), ('Optical', 'NOUN'), ('subsidiary', 'NOUN'), ('to', 'PRT'), ('a', 'DET'), ('group', 'NOUN'), ('led', 'VERB'), ('*', 'X'), ('by', 'ADP'), ('the', 'DET'), ('unit', 'NOUN'), (\"'s\", 'PRT'), ('president', 'NOUN'), (',', '.'), ('Thomas', 'NOUN'), ('R.', 'NOUN'), ('Sloan', 'NOUN'), (',', '.'), ('and', 'CONJ'), ('other', 'ADJ'), ('managers', 'NOUN'), ('.', '.'), ('In', 'ADP'), ('the', 'DET'), ('U.S.', 'NOUN'), ('over-the-counter', 'ADJ'), ('market', 'NOUN'), (',', '.'), ('American', 'NOUN'), ('depositary', 'NOUN'), ('shares', 'NOUN'), ('for', 'ADP'), ('Reuters', 'NOUN'), (',', '.'), ('each', 'DET'), ('representing', 'VERB'), ('three', 'NUM'), ('shares', 'NOUN'), ('in', 'ADP'), ('the', 'DET'), ('London', 'NOUN'), ('market', 'NOUN'), (',', '.'), ('closed', 'VERB'), ('unchanged', 'ADJ'), ('at', 'ADP'), ('$', '.'), ('43.875', 'NOUN'), ('*U*', 'X'), ('.', '.'), ('You', 'PRON'), ('have', 'VERB'), ('a', 'DET'), ('right', 'NOUN'), ('*-2', 'X'), ('to', 'PRT'), ('read', 'VERB'), ('Voice', 'NOUN'), ('of', 'ADP'), ('America', 'NOUN'), ('scripts', 'NOUN'), ('if', 'ADP'), ('you', 'PRON'), ('do', 'VERB'), (\"n't\", 'ADV'), ('mind', 'NOUN'), ('*-1', 'X'), ('traveling', 'VERB'), ('to', 'PRT'), ('Washington', 'NOUN'), ('every', 'DET'), ('week', 'NOUN'), ('or', 'CONJ'), ('so', 'ADV'), ('and', 'CONJ'), ('*-1', 'X'), ('visiting', 'VERB'), ('the', 'DET'), ('Voice', 'NOUN'), ('office', 'NOUN'), ('during', 'ADP'), ('business', 'NOUN'), ('hours', 'NOUN'), ('.', '.'), ('Rick', 'NOUN'), ('Brownell', 'NOUN'), (',', '.'), ('senior', 'ADJ'), ('editor', 'NOUN'), ('of', 'ADP'), ('Scoring', 'NOUN'), ('High', 'NOUN'), (',', '.'), ('says', 'VERB'), ('that', 'ADP'), ('Messrs.', 'NOUN'), ('Kaminski', 'NOUN'), ('and', 'CONJ'), ('Mehrens', 'NOUN'), ('are', 'VERB'), ('ignoring', 'VERB'), ('``', '.'), ('the', 'DET'), ('need', 'NOUN'), ('0', 'X'), ('students', 'NOUN'), ('have', 'VERB'), ('*T*-1', 'X'), ('for', 'ADP'), ('*', 'X'), ('becoming', 'VERB'), ('familiar', 'ADJ'), ('with', 'ADP'), ('tests', 'NOUN'), ('and', 'CONJ'), ('testing', 'NOUN'), ('format', 'NOUN'), ('.', '.'), (\"''\", '.'), ('Some', 'DET'), ('think', 'VERB'), ('0', 'X'), ('Columbia', 'NOUN'), (\"'s\", 'PRT'), ('thrift', 'NOUN'), (',', '.'), ('which', 'DET'), ('*T*-1', 'X'), ('now', 'ADV'), ('is', 'VERB'), ('seeking', 'VERB'), ('a', 'DET'), ('new', 'ADJ'), ('chief', 'NOUN'), ('operating', 'NOUN'), ('officer', 'NOUN'), (',', '.'), ('might', 'VERB'), ('be', 'VERB'), ('capitalized', 'VERB'), ('*-3', 'X'), ('at', 'ADP'), (',', '.'), ('say', 'VERB'), ('$', '.'), ('300', 'NUM'), ('million', 'NUM'), ('*U*', 'X'), (',', '.'), ('and', 'CONJ'), ('shopped', 'NOUN'), ('*-3', 'X'), ('to', 'PRT'), ('a', 'DET'), ('commercial', 'ADJ'), ('bank', 'NOUN'), ('that', 'ADP'), ('*T*-2', 'X'), ('wants', 'VERB'), ('a', 'DET'), ('California', 'NOUN'), ('presence', 'NOUN'), ('.', '.'), ('It', 'PRON'), ('also', 'ADV'), ('helps', 'VERB'), ('*-2', 'X'), ('explain', 'VERB'), ('the', 'DET'), ('reluctance', 'NOUN'), ('*ICH*-1', 'X'), ('of', 'ADP'), ('the', 'DET'), ('major', 'ADJ'), ('farm', 'NOUN'), ('lobbies', 'NOUN'), ('and', 'CONJ'), ('many', 'ADJ'), ('lawmakers', 'NOUN'), ('*', 'X'), ('to', 'PRT'), ('make', 'VERB'), ('any', 'DET'), ('significant', 'ADJ'), ('changes', 'NOUN'), ('in', 'ADP'), ('the', 'DET'), ('1985', 'NUM'), ('farm', 'NOUN'), ('program', 'NOUN'), ('next', 'ADP'), ('year', 'NOUN'), ('.', '.'), ('Yesterday', 'NOUN'), (\"'s\", 'PRT'), ('share', 'NOUN'), ('turnover', 'NOUN'), ('was', 'VERB'), ('well', 'ADV'), ('below', 'ADP'), ('the', 'DET'), ('year', 'NOUN'), (\"'s\", 'PRT'), ('daily', 'ADJ'), ('average', 'ADJ'), ('of', 'ADP'), ('133.8', 'DET'), ('million', 'NUM'), ('.', '.'), ('Elco', 'NOUN'), ('Industries', 'NOUN'), ('Inc.', 'NOUN'), ('said', 'VERB'), ('0', 'X'), ('it', 'PRON'), ('expects', 'VERB'), ('net', 'ADJ'), ('income', 'NOUN'), ('in', 'ADP'), ('the', 'DET'), ('year', 'NOUN'), ('ending', 'VERB'), ('June', 'NOUN'), ('30', 'NUM'), (',', '.'), ('1990', 'NUM'), (',', '.'), ('to', 'PRT'), ('fall', 'VERB'), ('below', 'ADP'), ('a', 'DET'), ('recent', 'ADJ'), ('analyst', 'NOUN'), (\"'s\", 'PRT'), ('estimate', 'NOUN'), ('of', 'ADP'), ('$', '.'), ('1.65', 'NUM'), ('*U*', 'X'), ('a', 'DET'), ('share', 'NOUN'), ('.', '.'), ('*', 'X'), ('Excluding', 'VERB'), ('one-time', 'ADJ'), ('additions', 'NOUN'), ('to', 'PRT'), ('profit', 'NOUN'), ('in', 'ADP'), ('each', 'DET'), ('year', 'NOUN'), (',', '.'), ('earnings', 'NOUN'), ('per', 'ADP'), ('share', 'NOUN'), ('were', 'VERB'), ('$', '.'), ('2.47', 'NOUN'), ('*U*', 'X'), (',', '.'), ('up', 'ADV'), ('7.4', 'VERB'), ('%', 'NOUN'), ('from', 'ADP'), ('$', '.'), ('2.30', 'NOUN'), ('*U*', 'X'), ('in', 'ADP'), ('fiscal', 'ADJ'), ('1988', 'NUM'), ('.', '.'), ('A', 'DET'), ('final', 'ADJ'), ('modification', 'NOUN'), ('*ICH*-1', 'X'), ('was', 'VERB'), ('made', 'VERB'), ('*-130', 'X'), ('to', 'PRT'), ('the', 'DET'), ('five-point', 'ADJ'), ('opening', 'NOUN'), ('limit', 'NOUN'), ('for', 'ADP'), ('the', 'DET'), ('contract', 'NOUN'), ('.', '.'), ('The', 'DET'), ('company', 'NOUN'), (\"'s\", 'PRT'), ('stock', 'NOUN'), ('fell', 'VERB'), ('$', '.'), ('1.125', 'NUM'), ('*U*', 'X'), ('to', 'PRT'), ('$', '.'), ('13.625', 'NOUN'), ('*U*', 'X'), ('in', 'ADP'), ('over-the-counter', 'ADJ'), ('trading', 'NOUN'), ('yesterday', 'NOUN'), ('.', '.'), ('R.', 'NOUN'), ('Gordon', 'NOUN'), ('McGovern', 'NOUN'), ('was', 'VERB'), ('forced', 'VERB'), ('*-37', 'X'), ('out', 'PRT'), ('as', 'ADP'), ('Campbell', 'NOUN'), ('Soup', 'NOUN'), ('Co.', 'NOUN'), (\"'s\", 'PRT'), ('president', 'NOUN'), ('and', 'CONJ'), ('chief', 'NOUN'), ('executive', 'NOUN'), ('officer', 'NOUN'), (',', '.'), ('the', 'DET'), ('strongest', 'ADJ'), ('evidence', 'NOUN'), ('yet', 'ADV'), ('of', 'ADP'), ('the', 'DET'), ('power', 'NOUN'), ('that', 'ADP'), ('Dorrance', 'NOUN'), ('family', 'NOUN'), ('members', 'NOUN'), ('intend', 'VERB'), ('*-2', 'X'), ('to', 'PRT'), ('wield', 'VERB'), ('*T*-1', 'X'), ('in', 'ADP'), ('*', 'X'), ('reshaping', 'VERB'), ('the', 'DET'), ('troubled', 'ADJ'), ('food', 'NOUN'), ('company', 'NOUN'), ('.', '.'), ('Muzzling', 'NOUN'), ('provisions', 'NOUN'), (',', '.'), ('which', 'DET'), ('*T*-1', 'X'), ('might', 'VERB'), ('be', 'VERB'), ('called', 'VERB'), ('*-56', 'X'), ('``', '.'), ('blindfold', 'NOUN'), ('laws', 'NOUN'), (\"''\", '.'), ('as', 'ADP'), ('well', 'ADV'), (',', '.'), ('prevent', 'VERB'), ('the', 'DET'), ('executive', 'NOUN'), ('branch', 'NOUN'), ('from', 'ADP'), ('even', 'ADV'), ('*-2', 'X'), ('looking', 'VERB'), ('at', 'ADP'), ('certain', 'ADJ'), ('policy', 'NOUN'), ('options', 'NOUN'), (',', '.'), ('let', 'VERB'), ('alone', 'ADV'), ('from', 'ADP'), ('*-2', 'X'), ('recommending', 'VERB'), ('them', 'PRON'), ('to', 'PRT'), ('Congress', 'NOUN'), ('.', '.'), ('``', '.'), ('Anything', 'NOUN'), (\"'s\", 'PRT'), ('possible', 'ADJ'), ('--', '.'), ('how', 'ADV'), ('about', 'ADP'), ('the', 'DET'), ('New', 'NOUN'), ('Guinea', 'NOUN'), ('Fund', 'NOUN'), ('?', '.'), (\"''\", '.'), ('quips', 'NOUN'), ('*T*-1', 'X'), ('George', 'NOUN'), ('Foot', 'NOUN'), (',', '.'), ('a', 'DET'), ('managing', 'VERB'), ('partner', 'NOUN'), ('at', 'ADP'), ('Newgate', 'NOUN'), ('Management', 'NOUN'), ('Associates', 'NOUN'), ('of', 'ADP'), ('Northampton', 'DET'), (',', '.'), ('Mass', 'NOUN'), ('.', '.'), ('Genetics', 'NOUN'), ('Institute', 'NOUN'), ('Inc.', 'NOUN'), (',', '.'), ('Cambridge', 'NOUN'), (',', '.'), ('Mass.', 'NOUN'), (',', '.'), ('said', 'VERB'), ('0', 'X'), ('it', 'PRON'), ('was', 'VERB'), ('awarded', 'VERB'), ('*-4', 'X'), ('U.S.', 'NOUN'), ('patents', 'NOUN'), ('for', 'ADP'), ('Interleukin-3', 'NOUN'), ('and', 'CONJ'), ('bone', 'NOUN'), ('morphogenetic', 'ADJ'), ('protein', 'NOUN'), ('.', '.'), ('Fundamentalists', 'NOUN'), ('Jihad', 'NOUN'), ('Sen.', 'NOUN'), ('Danforth', 'NOUN'), ('and', 'CONJ'), ('others', 'NOUN'), ('also', 'ADV'), ('want', 'VERB'), ('the', 'DET'), ('department', 'NOUN'), ('to', 'PRT'), ('require', 'VERB'), ('additional', 'ADJ'), ('safety', 'NOUN'), ('equipment', 'NOUN'), ('*ICH*-1', 'X'), ('in', 'ADP'), ('light', 'ADJ'), ('trucks', 'NOUN'), ('and', 'CONJ'), ('minivans', 'NOUN'), (',', '.'), ('including', 'VERB'), ('air', 'VERB'), ('bags', 'X'), ('or', 'CONJ'), ('automatic', 'ADJ'), ('seat', 'NOUN'), ('belts', 'NOUN'), ('in', 'ADP'), ('front', 'NOUN'), ('seats', 'NOUN'), ('and', 'CONJ'), ('improved', 'VERB'), ('side-crash', 'X'), ('protection', 'NOUN'), ('.', '.'), ('The', 'DET'), ('Labor', 'NOUN'), ('Department', 'NOUN'), ('cited', 'VERB'), ('USX', 'NOUN'), ('Corp.', 'NOUN'), ('for', 'ADP'), ('numerous', 'ADJ'), ('health', 'NOUN'), ('and', 'CONJ'), ('safety', 'NOUN'), ('violations', 'NOUN'), ('at', 'ADP'), ('two', 'NUM'), ('Pennsylvania', 'NOUN'), ('plants', 'NOUN'), (',', '.'), ('and', 'CONJ'), ('proposed', 'VERB'), ('$', '.'), ('7.3', 'NUM'), ('million', 'NUM'), ('*U*', 'X'), ('in', 'ADP'), ('fines', 'NOUN'), (',', '.'), ('the', 'DET'), ('largest', 'ADJ'), ('penalty', 'NOUN'), ('ever', 'ADV'), ('proposed', 'VERB'), ('*', 'X'), ('for', 'ADP'), ('alleged', 'ADJ'), ('workplace', 'NOUN'), ('violations', 'NOUN'), ('by', 'ADP'), ('an', 'DET'), ('employer', 'NOUN'), ('.', '.'), ('While', 'ADP'), ('program', 'NOUN'), ('trades', 'NOUN'), ('swiftly', 'ADV'), ('kicked', 'VERB'), ('in', 'ADP'), (',', '.'), ('a', 'DET'), ('``', '.'), ('circuit', 'NOUN'), ('breaker', 'NOUN'), (\"''\", '.'), ('that', 'DET'), ('*T*-1', 'X'), ('halted', 'VERB'), ('trading', 'NOUN'), ('in', 'ADP'), ('stock', 'NOUN'), ('futures', 'NOUN'), ('in', 'ADP'), ('Chicago', 'NOUN'), ('made', 'VERB'), ('some', 'DET'), ('program', 'NOUN'), ('trading', 'NOUN'), ('impossible', 'ADJ'), ('.', '.'), ('The', 'DET'), ('company', 'NOUN'), ('currently', 'ADV'), ('offers', 'VERB'), ('a', 'DET'), ('word-processing', 'NOUN'), ('package', 'NOUN'), ('for', 'ADP'), ('personal', 'ADJ'), ('computers', 'NOUN'), ('called', 'VERB'), ('*', 'X'), ('Legend', 'VERB'), ('.', '.'), ('He', 'PRON'), ('was', 'VERB'), ('previously', 'ADV'), ('vice', 'NOUN'), ('president', 'NOUN'), ('.', '.'), ('The', 'DET'), ('McAlpine', 'NOUN'), ('family', 'NOUN'), (',', '.'), ('which', 'DET'), ('*T*-1', 'X'), ('operates', 'VERB'), ('a', 'DET'), ('number', 'NOUN'), ('of', 'ADP'), ('multinational', 'DET'), ('companies', 'NOUN'), (',', '.'), ('including', 'VERB'), ('a', 'DET'), ('London-based', 'ADJ'), ('engineering', 'NOUN'), ('and', 'CONJ'), ('construction', 'NOUN'), ('company', 'NOUN'), (',', '.'), ('also', 'ADV'), ('lent', 'VERB'), ('to', 'PRT'), ('Meridian', 'NOUN'), ('National', 'NOUN'), ('$', '.'), ('500,000', 'NUM'), ('*U*', 'X'), ('.', '.'), ('Mr.', 'NOUN'), ('Beall', 'NOUN'), ('said', 'VERB'), ('that', 'ADP'), ('he', 'PRON'), ('was', 'VERB'), ('generally', 'ADV'), ('pleased', 'VERB'), ('with', 'ADP'), ('the', 'DET'), ('latest', 'ADJ'), ('numbers', 'NOUN'), ('and', 'CONJ'), ('cited', 'VERB'), ('a', 'DET'), ('particularly', 'ADV'), ('strong', 'ADJ'), ('showing', 'NOUN'), ('by', 'ADP'), ('the', 'DET'), ('company', 'NOUN'), (\"'s\", 'PRT'), ('electronics', 'NOUN'), ('segment', 'NOUN'), ('.', '.'), ('This', 'DET'), ('interpretation', 'NOUN'), ('was', 'VERB'), ('officially', 'ADV'), ('endorsed', 'VERB'), ('*-1', 'X'), ('by', 'ADP'), ('Congress', 'NOUN'), ('in', 'ADP'), ('1987', 'NUM'), ('in', 'ADP'), ('the', 'DET'), ('Iran-Contra', 'NOUN'), ('Report', 'NOUN'), ('.', '.'), ('Last', 'ADJ'), ('October', 'NOUN'), (',', '.'), ('the', 'DET'), ('company', 'NOUN'), ('also', 'ADV'), ('bought', 'VERB'), ('a', 'DET'), ('wheel-loader', 'NOUN'), ('manufacturing', 'NOUN'), ('plant', 'NOUN'), ('in', 'ADP'), ('Heidelberg', 'DET'), (',', '.'), ('West', 'NOUN'), ('Germany', 'NOUN'), (',', '.'), ('from', 'ADP'), ('Dresser', 'NOUN'), ('.', '.'), ('They', 'PRON'), ('worry', 'VERB'), ('about', 'ADP'), ('their', 'PRON'), ('careers', 'NOUN'), (',', '.'), ('drink', 'NOUN'), ('too', 'ADV'), ('much', 'ADV'), ('and', 'CONJ'), ('suffer', 'VERB'), ('through', 'ADP'), ('broken', 'VERB'), ('marriages', 'NOUN'), ('and', 'CONJ'), ('desultory', 'NOUN'), ('affairs', 'NOUN'), ('.', '.'), ('We', 'PRON'), ('now', 'ADV'), ('know', 'VERB'), ('that', 'ADP'), ('*', 'X'), ('holding', 'VERB'), ('drug', 'NOUN'), ('makers', 'NOUN'), ('liable', 'ADJ'), ('where', 'ADV'), ('there', 'DET'), (\"'s\", 'VERB'), ('no', 'DET'), ('evidence', 'NOUN'), ('that', 'ADP'), ('they', 'PRON'), ('or', 'CONJ'), ('anyone', 'NOUN'), ('else', 'ADV'), ('knew', 'VERB'), ('of', 'ADP'), ('any', 'DET'), ('risks', 'NOUN'), ('*T*-1', 'X'), ('only', 'ADV'), ('means', 'VERB'), ('0', 'X'), ('the', 'DET'), ('drugs', 'NOUN'), ('wo', 'VERB'), (\"n't\", 'ADV'), ('be', 'VERB'), ('available', 'ADJ'), ('to', 'PRT'), ('anyone', 'NOUN'), ('.', '.'), ('The', 'DET'), ('Philadelphia', 'NOUN'), ('and', 'CONJ'), ('Cleveland', 'NOUN'), ('districts', 'NOUN'), (',', '.'), ('for', 'ADP'), ('example', 'NOUN'), (',', '.'), ('reported', 'VERB'), ('declines', 'VERB'), ('in', 'ADP'), ('manufacturing', 'NOUN'), ('activity', 'NOUN'), ('while', 'ADP'), ('the', 'DET'), ('Boston', 'NOUN'), (',', '.'), ('Dallas', 'NOUN'), ('and', 'CONJ'), ('San', 'NOUN'), ('Francisco', 'NOUN'), ('banks', 'NOUN'), ('noted', 'VERB'), ('that', 'ADP'), ('business', 'NOUN'), ('expanded', 'VERB'), ('.', '.'), ('In', 'ADP'), ('the', 'DET'), ('classroom', 'NOUN'), (',', '.'), ('students', 'NOUN'), ('say', 'VERB'), ('0', 'X'), ('*T*-3', 'X'), (',', '.'), ('Mrs.', 'NOUN'), ('Yeargin', 'NOUN'), ('distinguished', 'NOUN'), ('herself', 'NOUN'), ('by', 'ADP'), ('*', 'X'), ('varying', 'VERB'), ('teaching', 'NOUN'), ('approaches', 'NOUN'), ('--', '.'), ('*-1', 'X'), ('forcing', 'VERB'), ('kids', 'NOUN'), ('to', 'PRT'), ('pair', 'VERB'), ('up', 'ADV'), ('*-2', 'X'), ('to', 'PRT'), ('complete', 'VERB'), ('classroom', 'NOUN'), ('work', 'NOUN'), ('or', 'CONJ'), ('using', 'VERB'), ('college-bowl', 'X'), ('type', 'NOUN'), ('competitions', 'NOUN'), ('.', '.'), ('The', 'DET'), ('president', 'NOUN'), (\"'s\", 'PRT'), ('plan', 'NOUN'), ('includes', 'VERB'), ('a', 'DET'), ('commitment', 'NOUN'), ('*', 'X'), ('to', 'PRT'), ('help', 'VERB'), ('*-1', 'X'), ('negotiate', 'VERB'), ('a', 'DET'), ('new', 'ADJ'), ('international', 'ADJ'), ('coffee', 'NOUN'), ('agreement', 'NOUN'), ('.', '.'), ('*', 'X'), ('Also', 'ADV'), ('spurring', 'VERB'), ('the', 'DET'), ('move', 'NOUN'), ('to', 'PRT'), ('cloth', 'NOUN'), (':', '.'), ('diaper', 'NOUN'), ('covers', 'VERB'), ('with', 'ADP'), ('Velcro', 'DET'), ('fasteners', 'NOUN'), ('that', 'ADP'), ('*T*-1', 'X'), ('eliminate', 'VERB'), ('the', 'DET'), ('need', 'NOUN'), ('for', 'ADP'), ('safety', 'NOUN'), ('pins', 'VERB'), ('.', '.'), ('The', 'DET'), ('company', 'NOUN'), (\"'s\", 'PRT'), ('proposal', 'NOUN'), ('*', 'X'), ('to', 'PRT'), ('sell', 'VERB'), ('a', 'DET'), ('20', 'NUM'), ('%', 'NOUN'), ('stake', 'NOUN'), ('in', 'ADP'), ('its', 'PRON'), ('real-estate', 'NOUN'), ('unit', 'NOUN'), ('for', 'ADP'), ('around', 'ADP'), ('$', '.'), ('400', 'NUM'), ('million', 'NUM'), ('*U*', 'X'), ('has', 'VERB'), ('caused', 'VERB'), ('analysts', 'NOUN'), ('to', 'PRT'), ('consider', 'VERB'), ('whether', 'ADP'), ('*-1', 'X'), ('to', 'PRT'), ('cut', 'VERB'), ('their', 'PRON'), ('estimates', 'VERB'), ('of', 'ADP'), ('Santa', 'NOUN'), ('Fe', 'NOUN'), (\"'s\", 'PRT'), ('asset', 'NOUN'), ('value', 'NOUN'), ('.', '.'), ('Now', 'ADV'), (',', '.'), ('he', 'PRON'), ('said', 'VERB'), ('0', 'X'), ('*T*-1', 'X'), (',', '.'), ('the', 'DET'), ('group', 'NOUN'), ('plans', 'VERB'), ('*-2', 'X'), ('to', 'PRT'), ('put', 'VERB'), ('in', 'ADP'), ('``', '.'), ('several', 'ADJ'), ('hundred', 'NUM'), ('million', 'NUM'), (\"''\", '.'), ('dollars', 'NOUN'), ('in', 'ADP'), ('equity', 'NOUN'), ('and', 'CONJ'), ('finance', 'NOUN'), ('the', 'DET'), ('remainder', 'NOUN'), ('with', 'ADP'), ('bank', 'NOUN'), ('debt', 'NOUN'), ('.', '.'), ('Mr.', 'NOUN'), ('Hahn', 'NOUN'), ('began', 'VERB'), ('*-1', 'X'), ('selling', 'VERB'), ('non-core', 'X'), ('businesses', 'NOUN'), (',', '.'), ('such', 'ADJ'), ('as', 'ADP'), ('oil', 'NOUN'), ('and', 'CONJ'), ('gas', 'NOUN'), ('and', 'CONJ'), ('chemicals', 'NOUN'), ('.', '.'), ('But', 'CONJ'), ('can', 'VERB'), ('Mr.', 'NOUN'), ('Hahn', 'NOUN'), ('carry', 'VERB'), ('it', 'PRON'), ('off', 'PRT'), ('?', '.'), ('Silver', 'NOUN'), ('and', 'CONJ'), ('platinum', 'NOUN'), (',', '.'), ('which', 'DET'), ('*T*-1', 'X'), ('have', 'VERB'), ('more', 'ADV'), ('of', 'ADP'), ('an', 'DET'), ('industrial', 'ADJ'), ('nature', 'NOUN'), ('than', 'ADP'), ('gold', 'NOUN'), (',', '.'), ('were', 'VERB'), ('even', 'ADV'), ('weaker', 'ADJ'), (',', '.'), ('he', 'PRON'), ('said', 'VERB'), ('0', 'X'), ('*T*-2', 'X'), ('.', '.'), ('The', 'DET'), ('administration', 'NOUN'), ('had', 'VERB'), ('requested', 'VERB'), ('roughly', 'ADV'), ('the', 'DET'), ('same', 'ADJ'), ('amount', 'NOUN'), ('for', 'ADP'), ('antitrust', 'ADJ'), ('enforcement', 'NOUN'), ('for', 'ADP'), ('fiscal', 'ADJ'), ('1990', 'NUM'), ('as', 'ADP'), ('*', 'X'), ('was', 'VERB'), ('appropriated', 'X'), ('*-1', 'X'), ('in', 'ADP'), ('fiscal', 'ADJ'), ('1989', 'NUM'), ('.', '.'), ('In', 'ADP'), ('addition', 'NOUN'), (',', '.'), ('the', 'DET'), ('Cray-3', 'NOUN'), ('will', 'VERB'), ('contain', 'VERB'), ('16', 'NUM'), ('processors', 'NOUN'), ('--', '.'), ('twice', 'NOUN'), ('as', 'ADP'), ('many', 'ADJ'), ('as', 'ADP'), ('the', 'DET'), ('largest', 'ADJ'), ('current', 'ADJ'), ('supercomputer', 'NOUN'), ('.', '.'), ('This', 'DET'), ('is', 'VERB'), ('a', 'DET'), ('Johnson-era', 'NOUN'), (',', '.'), ('Great', 'NOUN'), ('Society', 'NOUN'), ('creation', 'NOUN'), ('that', 'ADP'), ('*T*-2', 'X'), ('mandates', 'VERB'), ('0', 'X'), ('certain', 'ADJ'), ('government', 'NOUN'), ('contracts', 'NOUN'), ('be', 'VERB'), ('awarded', 'VERB'), ('*-1', 'X'), ('noncompetitively', 'VERB'), ('to', 'PRT'), ('minority', 'NOUN'), ('businesses', 'NOUN'), ('.', '.'), ('Japan', 'NOUN'), ('is', 'VERB'), ('``', '.'), ('very', 'ADV'), ('concerned', 'VERB'), (\"''\", '.'), ('about', 'ADP'), ('the', 'DET'), ('possible', 'ADJ'), ('effects', 'NOUN'), ('of', 'ADP'), ('program', 'NOUN'), ('trading', 'NOUN'), (',', '.'), ('a', 'DET'), ('senior', 'ADJ'), ('Japanese', 'ADJ'), ('official', 'NOUN'), ('said', 'VERB'), ('0', 'X'), ('*T*-1', 'X'), ('after', 'ADP'), ('the', 'DET'), ('Oct.', 'NOUN'), ('13', 'NUM'), ('stock', 'NOUN'), ('plunge', 'NOUN'), ('in', 'ADP'), ('New', 'NOUN'), ('York', 'NOUN'), ('.', '.'), ('``', '.'), ('Over', 'ADP'), ('the', 'DET'), ('summer', 'NOUN'), ('months', 'NOUN'), (',', '.'), ('there', 'DET'), ('has', 'VERB'), ('been', 'VERB'), ('a', 'DET'), ('slowing', 'NOUN'), ('in', 'ADP'), ('the', 'DET'), ('rate', 'NOUN'), ('of', 'ADP'), ('new', 'ADJ'), ('orders', 'NOUN'), ('from', 'ADP'), ('the', 'DET'), ('computer', 'NOUN'), ('sector', 'NOUN'), (',', '.'), ('our', 'PRON'), ('primary', 'ADJ'), ('market', 'NOUN'), (',', '.'), (\"''\", '.'), ('said', 'VERB'), ('*T*-1', 'X'), ('Wilfred', 'VERB'), ('J.', 'NOUN'), ('Corrigan', 'NOUN'), (',', '.'), ('chairman', 'NOUN'), ('and', 'CONJ'), ('chief', 'NOUN'), ('executive', 'NOUN'), ('officer', 'NOUN'), ('.', '.'), ('The', 'DET'), ('Senate', 'NOUN'), ('plans', 'VERB'), ('*-1', 'X'), ('to', 'PRT'), ('take', 'VERB'), ('up', 'ADV'), ('the', 'DET'), ('measure', 'NOUN'), ('quickly', 'ADV'), ('and', 'CONJ'), ('is', 'VERB'), ('expected', 'VERB'), ('*-1', 'X'), ('to', 'PRT'), ('pass', 'VERB'), ('it', 'PRON'), ('.', '.'), ('This', 'DET'), ('compares', 'VERB'), ('with', 'ADP'), ('estimates', 'NOUN'), ('that', 'ADP'), ('the', 'DET'), ('U.S.', 'NOUN'), ('``', '.'), ('derivatives', 'NOUN'), (\"''\", '.'), ('market', 'NOUN'), ('is', 'VERB'), ('perhaps', 'ADV'), ('four', 'NUM'), ('times', 'NOUN'), ('as', 'ADP'), ('large', 'ADJ'), ('as', 'ADP'), ('the', 'DET'), ('underlying', 'ADJ'), ('domestic', 'ADJ'), ('market', 'NOUN'), ('.', '.'), ('The', 'DET'), ('conference', 'NOUN'), ('approved', 'VERB'), ('at', 'ADP'), ('least', 'ADJ'), ('$', '.'), ('55', 'NUM'), ('million', 'NUM'), ('*U*', 'X'), ('in', 'ADP'), ('direct', 'ADJ'), ('cash', 'NOUN'), ('and', 'CONJ'), ('development', 'NOUN'), ('assistance', 'NOUN'), ('as', 'ADP'), ('well', 'ADV'), (',', '.'), ('and', 'CONJ'), ('though', 'ADP'), ('no', 'DET'), ('decision', 'NOUN'), ('was', 'VERB'), ('made', 'VERB'), ('*-4', 'X'), (',', '.'), ('both', 'DET'), ('sides', 'NOUN'), ('are', 'VERB'), ('committed', 'VERB'), ('to', 'PRT'), ('*', 'X'), ('adding', 'VERB'), ('more', 'ADV'), ('than', 'ADP'), ('$', '.'), ('200', 'NUM'), ('million', 'NUM'), ('*U*', 'X'), ('in', 'ADP'), ('economic', 'ADJ'), ('support', 'NOUN'), ('funds', 'NOUN'), ('and', 'CONJ'), ('environmental', 'ADJ'), ('initiatives', 'NOUN'), ('sought', 'VERB'), ('*', 'X'), ('by', 'ADP'), ('the', 'DET'), ('Bush', 'NOUN'), ('administration', 'NOUN'), ('.', '.'), ('About', 'ADP'), ('20,000', 'NUM'), ('sets', 'NOUN'), ('of', 'ADP'), ('Learning', 'NOUN'), ('Materials', 'NOUN'), ('teachers', 'NOUN'), (\"'\", 'PRT'), ('binders', 'VERB'), ('have', 'VERB'), ('also', 'ADV'), ('been', 'VERB'), ('sold', 'VERB'), ('*-1', 'X'), ('in', 'ADP'), ('the', 'DET'), ('past', 'ADJ'), ('four', 'NUM'), ('years', 'NOUN'), ('.', '.'), ('The', 'DET'), ('insurance', 'NOUN'), ('and', 'CONJ'), ('financial', 'ADJ'), ('services', 'NOUN'), ('concern', 'NOUN'), ('said', 'VERB'), ('0', 'X'), ('profit', 'NOUN'), ('for', 'ADP'), ('the', 'DET'), ('quarter', 'NOUN'), ('rose', 'VERB'), ('1.1', 'NUM'), ('%', 'NOUN'), ('to', 'PRT'), ('$', '.'), ('93.9', 'NOUN'), ('million', 'NUM'), ('*U*', 'X'), (',', '.'), ('or', 'CONJ'), ('$', '.'), ('1.19', 'NOUN'), ('*U*', 'X'), ('a', 'DET'), ('share', 'NOUN'), (',', '.'), ('compared', 'VERB'), ('with', 'ADP'), ('$', '.'), ('92.9', 'NOUN'), ('million', 'NUM'), ('*U*', 'X'), (',', '.'), ('or', 'CONJ'), ('$', '.'), ('1.18', 'NOUN'), ('*U*', 'X'), ('a', 'DET'), ('share', 'NOUN'), (',', '.'), ('the', 'DET'), ('year', 'NOUN'), ('earlier', 'ADV'), ('.', '.'), ('Demand', 'NOUN'), ('from', 'ADP'), ('Europe', 'NOUN'), ('and', 'CONJ'), ('Southeast', 'NOUN'), ('Asia', 'NOUN'), ('also', 'ADV'), ('grew', 'VERB'), (',', '.'), ('but', 'CONJ'), ('due', 'ADJ'), ('to', 'PRT'), ('increasing', 'VERB'), ('production', 'NOUN'), ('at', 'ADP'), ('local', 'ADJ'), ('plants', 'NOUN'), (',', '.'), ('overseas', 'ADV'), ('sales', 'NOUN'), ('edged', 'VERB'), ('down', 'ADV'), ('2.8', 'NUM'), ('%', 'NOUN'), ('.', '.'), ('The', 'DET'), ('Fed', 'NOUN'), ('is', 'VERB'), ('coming', 'VERB'), ('under', 'ADP'), ('pressure', 'NOUN'), ('*', 'X'), ('to', 'PRT'), ('cut', 'VERB'), ('short-term', 'ADJ'), ('interest', 'NOUN'), ('rates', 'NOUN'), ('due', 'ADJ'), ('to', 'PRT'), ('the', 'DET'), ('apparent', 'NOUN'), ('slowing', 'VERB'), ('of', 'ADP'), ('the', 'DET'), ('economy', 'NOUN'), ('.', '.'), ('David', 'NOUN'), ('Berson', 'NOUN'), (',', '.'), ('economist', 'NOUN'), ('for', 'ADP'), ('the', 'DET'), ('Mortgage', 'NOUN'), ('Bankers', 'NOUN'), ('Association', 'NOUN'), (',', '.'), ('predicted', 'VERB'), ('0', 'X'), ('the', 'DET'), ('drop', 'NOUN'), ('in', 'ADP'), ('interest', 'NOUN'), ('rates', 'NOUN'), ('eventually', 'ADV'), ('will', 'VERB'), ('boost', 'VERB'), ('spending', 'NOUN'), ('on', 'ADP'), ('single-family', 'NOUN'), ('homes', 'NOUN'), (',', '.'), ('but', 'CONJ'), ('probably', 'ADV'), ('not', 'ADV'), ('until', 'ADP'), ('early', 'ADJ'), ('next', 'ADJ'), ('year', 'NOUN'), ('.', '.'), ('Upjohn', 'NOUN'), ('officials', 'NOUN'), ('said', 'VERB'), ('0', 'X'), ('they', 'PRON'), ('could', 'VERB'), (\"n't\", 'ADV'), ('estimate', 'NOUN'), ('the', 'DET'), ('size', 'NOUN'), ('of', 'ADP'), ('the', 'DET'), ('charge', 'NOUN'), ('until', 'ADP'), ('they', 'PRON'), ('determine', 'VERB'), ('which', 'DET'), ('employees', 'NOUN'), (',', '.'), ('and', 'CONJ'), ('how', 'ADV'), ('many', 'ADJ'), (',', '.'), ('*T*-1', 'X'), ('will', 'VERB'), ('participate', 'VERB'), ('in', 'ADP'), ('the', 'DET'), ('retirement', 'NOUN'), ('plan', 'NOUN'), ('.', '.'), ('A', 'DET'), ('program', 'NOUN'), ('trade', 'NOUN'), ('of', 'ADP'), ('$', '.'), ('5', 'NUM'), ('million', 'NUM'), ('*U*', 'X'), ('of', 'ADP'), ('stock', 'NOUN'), ('typically', 'ADV'), ('earns', 'VERB'), ('a', 'DET'), ('razor-thin', 'NOUN'), ('profit', 'NOUN'), ('of', 'ADP'), ('$', '.'), ('25,000', 'NUM'), ('*U*', 'X'), ('.', '.'), ('The', 'DET'), ('survival', 'NOUN'), ('of', 'ADP'), ('spinoff', 'NOUN'), ('Cray', 'NOUN'), ('Computer', 'NOUN'), ('Corp.', 'NOUN'), ('as', 'ADP'), ('a', 'DET'), ('fledgling', 'NOUN'), ('in', 'ADP'), ('the', 'DET'), ('supercomputer', 'NOUN'), ('business', 'NOUN'), ('appears', 'VERB'), ('*-1', 'X'), ('to', 'PRT'), ('depend', 'VERB'), ('heavily', 'ADV'), ('on', 'ADP'), ('the', 'DET'), ('creativity', 'NOUN'), ('--', '.'), ('and', 'CONJ'), ('longevity', 'NOUN'), ('--', '.'), ('of', 'ADP'), ('its', 'PRON'), ('chairman', 'NOUN'), ('and', 'CONJ'), ('chief', 'NOUN'), ('designer', 'NOUN'), (',', '.'), ('Seymour', 'NOUN'), ('Cray', 'NOUN'), ('.', '.'), ('Until', 'ADP'), ('last', 'ADJ'), ('week', 'NOUN'), (',', '.'), ('the', 'DET'), ('IRS', 'NOUN'), ('rarely', 'NOUN'), ('acted', 'NOUN'), ('on', 'ADP'), ('the', 'DET'), ('incomplete', 'ADJ'), ('forms', 'NOUN'), ('.', '.'), ('A', 'DET'), ('White', 'NOUN'), ('House', 'NOUN'), ('spokesman', 'NOUN'), ('condemned', 'VERB'), ('the', 'DET'), ('truce', 'NOUN'), ('suspension', 'NOUN'), ('as', 'ADP'), ('``', '.'), ('deplorable', 'NOUN'), (\"''\", '.'), ('but', 'CONJ'), ('brushed', 'NOUN'), ('off', 'PRT'), ('talk', 'VERB'), ('of', 'ADP'), ('*', 'X'), ('renewing', 'VERB'), ('military', 'ADJ'), ('funding', 'NOUN'), ('for', 'ADP'), ('the', 'DET'), ('insurgents', 'NOUN'), ('.', '.'), ('For', 'ADP'), ('the', 'DET'), ('year', 'NOUN'), ('to', 'PRT'), ('date', 'NOUN'), (',', '.'), ('Moody', 'NOUN'), (\"'s\", 'PRT'), ('said', 'VERB'), ('0', 'X'), ('total', 'VERB'), ('returns', 'NOUN'), ('were', 'VERB'), ('topped', 'X'), ('*-1', 'X'), ('by', 'ADP'), ('the', 'DET'), ('16.5', 'NOUN'), ('%', 'NOUN'), ('of', 'ADP'), ('longer-term', 'ADJ'), ('Treasury', 'NOUN'), ('issues', 'NOUN'), (',', '.'), ('*-2', 'X'), ('closely', 'ADV'), ('followed', 'VERB'), ('*-3', 'X'), ('by', 'ADP'), ('15', 'NUM'), ('%', 'NOUN'), ('for', 'ADP'), ('investment-grade', 'ADJ'), ('bonds', 'NOUN'), ('.', '.'), ('It', 'PRON'), ('would', 'VERB'), ('contradict', 'VERB'), ('that', 'ADP'), ('objective', 'NOUN'), ('if', 'ADP'), ('the', 'DET'), ('appropriations', 'NOUN'), ('clause', 'NOUN'), ('-LRB-', '.'), ('technically', 'NOUN'), ('a', 'DET'), ('limitation', 'NOUN'), ('on', 'ADP'), ('legislative', 'ADJ'), ('power', 'NOUN'), ('-RRB-', '.'), ('could', 'VERB'), ('be', 'VERB'), ('read', 'VERB'), ('*-52', 'X'), ('as', 'ADP'), ('*-52', 'X'), ('placing', 'VERB'), ('the', 'DET'), ('president', 'NOUN'), ('on', 'ADP'), ('Congress', 'NOUN'), (\"'s\", 'PRT'), ('short', 'ADJ'), ('leash', 'NOUN'), (',', '.'), ('*-52', 'X'), ('making', 'VERB'), ('the', 'DET'), ('executive', 'NOUN'), ('consist', 'VERB'), ('of', 'ADP'), ('the', 'DET'), ('president', 'NOUN'), ('and', 'CONJ'), ('every', 'DET'), ('member', 'NOUN'), ('of', 'ADP'), ('Congress', 'NOUN'), ('.', '.'), ('No', 'DET'), ('fewer', 'ADJ'), ('than', 'ADP'), ('24', 'NUM'), ('country', 'NOUN'), ('funds', 'NOUN'), ('*ICH*-1', 'X'), ('have', 'VERB'), ('been', 'VERB'), ('launched', 'VERB'), ('*-2', 'X'), ('or', 'CONJ'), ('registered', 'VERB'), ('*-2', 'X'), ('with', 'ADP'), ('regulators', 'NOUN'), ('this', 'DET'), ('year', 'NOUN'), (',', '.'), ('triple', 'NOUN'), ('the', 'DET'), ('level', 'NOUN'), ('of', 'ADP'), ('all', 'DET'), ('of', 'ADP'), ('1988', 'NUM'), (',', '.'), ('according', 'VERB'), ('to', 'PRT'), ('Charles', 'NOUN'), ('E.', 'NOUN'), ('Simon', 'NOUN'), ('&', 'CONJ'), ('Co.', 'NOUN'), (',', '.'), ('a', 'DET'), ('Washington-based', 'NOUN'), ('research', 'NOUN'), ('firm', 'NOUN'), ('.', '.'), ('If', 'ADP'), ('Congress', 'NOUN'), ('takes', 'VERB'), ('the', 'DET'), ('dispute', 'NOUN'), ('to', 'PRT'), ('the', 'DET'), ('Supreme', 'NOUN'), ('Court', 'NOUN'), ('-LRB-', '.'), ('*-2', 'X'), ('assuming', 'VERB'), ('0', 'X'), ('it', 'PRON'), ('can', 'VERB'), ('establish', 'VERB'), ('standing', 'NOUN'), ('0', 'X'), ('*', 'X'), ('to', 'PRT'), ('sue', 'VERB'), ('*T*-1', 'X'), ('-RRB-', '.'), (',', '.'), ('President', 'NOUN'), ('Bush', 'NOUN'), ('might', 'VERB'), ('win', 'VERB'), ('.', '.'), ('In', 'ADP'), ('May', 'NOUN'), (',', '.'), ('the', 'DET'), ('two', 'NUM'), ('companies', 'NOUN'), (',', '.'), ('through', 'ADP'), ('their', 'PRON'), ('jointly', 'ADV'), ('owned', 'VERB'), ('holding', 'VERB'), ('company', 'NOUN'), (',', '.'), ('Temple', 'NOUN'), (',', '.'), ('offered', 'VERB'), ('$', '.'), ('50', 'NUM'), ('*U*', 'X'), ('a', 'DET'), ('share', 'NOUN'), (',', '.'), ('or', 'CONJ'), ('$', '.'), ('777', 'NOUN'), ('million', 'NUM'), ('*U*', 'X'), (',', '.'), ('for', 'ADP'), ('Sea', 'NOUN'), ('Containers', 'NOUN'), ('.', '.'), ('An', 'DET'), ('official', 'NOUN'), ('of', 'ADP'), ('the', 'DET'), ('Palestinian', 'ADJ'), ('Olympic', 'NOUN'), ('Committee', 'NOUN'), ('said', 'VERB'), ('0', 'X'), ('the', 'DET'), ('committee', 'NOUN'), ('first', 'ADJ'), ('applied', 'VERB'), ('for', 'ADP'), ('membership', 'NOUN'), ('in', 'ADP'), ('1979', 'NUM'), ('and', 'CONJ'), ('renewed', 'VERB'), ('its', 'PRON'), ('application', 'NOUN'), ('in', 'ADP'), ('August', 'NOUN'), ('of', 'ADP'), ('this', 'DET'), ('year', 'NOUN'), ('.', '.'), ('``', '.'), ('Only', 'ADV'), ('five', 'NUM'), ('of', 'ADP'), ('the', 'DET'), ('40', 'NUM'), ('questions', 'NOUN'), ('were', 'VERB'), ('geography', 'NOUN'), ('questions', 'NOUN'), ('.', '.'), ('The', 'DET'), ('December', 'NOUN'), ('contract', 'NOUN'), ('rose', 'VERB'), ('1.20', 'X'), ('cents', 'NOUN'), ('a', 'DET'), ('pound', 'NOUN'), ('to', 'PRT'), ('$', '.'), ('1.14', 'NOUN'), ('*U*', 'X'), ('.', '.'), ('Such', 'ADJ'), ('problems', 'NOUN'), ('will', 'VERB'), ('require', 'VERB'), ('considerable', 'ADJ'), ('skill', 'NOUN'), ('*', 'X'), ('to', 'PRT'), ('resolve', 'VERB'), ('.', '.'), ('The', 'DET'), ('index', 'NOUN'), ('ended', 'VERB'), ('the', 'DET'), ('day', 'NOUN'), ('near', 'ADP'), ('its', 'PRON'), ('session', 'NOUN'), ('high', 'ADJ'), ('of', 'ADP'), ('2163.2', 'DET'), (',', '.'), ('which', 'DET'), ('*T*-2', 'X'), ('was', 'VERB'), ('posted', 'VERB'), ('*-1', 'X'), ('within', 'ADP'), ('the', 'DET'), ('last', 'ADJ'), ('half-hour', 'ADJ'), ('of', 'ADP'), ('trading', 'NOUN'), ('.', '.'), ('*-1', 'X'), ('To', 'PRT'), ('further', 'ADJ'), ('load', 'NOUN'), ('the', 'DET'), ('stakes', 'NOUN'), (',', '.'), ('Mr.', 'NOUN'), ('Lane', 'NOUN'), ('dreamed', 'NOUN'), ('up', 'PRT'), ('a', 'DET'), ('highly', 'ADV'), ('improbable', 'VERB'), ('romance', 'NOUN'), ('for', 'ADP'), ('the', 'DET'), ('Artist', 'NOUN'), (',', '.'), ('with', 'ADP'), ('a', 'DET'), ('young', 'ADJ'), ('woman', 'NOUN'), ('who', 'PRON'), ('*T*-68', 'X'), ('owns', 'VERB'), ('her', 'PRON'), ('own', 'ADJ'), ('children', 'NOUN'), (\"'s\", 'PRT'), ('shop', 'VERB'), ('and', 'CONJ'), ('who', 'PRON'), ('*T*-69', 'X'), ('lives', 'VERB'), ('in', 'ADP'), ('an', 'DET'), ('expensive', 'ADJ'), ('high-rise', 'NOUN'), ('apartment', 'NOUN'), ('building', 'NOUN'), ('.', '.'), ('But', 'CONJ'), ('since', 'ADP'), ('the', 'DET'), ('1990', 'NUM'), ('model', 'NOUN'), ('year', 'NOUN'), ('began', 'VERB'), ('Oct.', 'NOUN'), ('1', 'NUM'), (',', '.'), ('Buick', 'NOUN'), ('sales', 'NOUN'), ('have', 'VERB'), ('plunged', 'VERB'), ('33', 'NUM'), ('%', 'NOUN'), ('.', '.'), ('``', '.'), ('Cosby', 'NOUN'), (\"''\", '.'), ('is', 'VERB'), ('down', 'ADV'), ('a', 'DET'), ('full', 'ADJ'), ('ratings', 'NOUN'), ('point', 'NOUN'), ('in', 'ADP'), ('the', 'DET'), ('week', 'NOUN'), ('of', 'ADP'), ('Oct.', 'NOUN'), ('2-8', 'NOUN'), ('over', 'ADP'), ('the', 'DET'), ('same', 'ADJ'), ('week', 'NOUN'), ('a', 'DET'), ('year', 'NOUN'), ('ago', 'ADP'), (',', '.'), ('according', 'VERB'), ('to', 'PRT'), ('A.C.', 'VERB'), ('Nielsen', 'X'), ('Co', 'NOUN'), ('.', '.'), ('``', '.'), ('*', 'X'), ('Having', 'VERB'), ('the', 'DET'), ('dividend', 'NOUN'), ('increases', 'NOUN'), ('is', 'VERB'), ('a', 'DET'), ('supportive', 'NOUN'), ('element', 'NOUN'), ('in', 'ADP'), ('the', 'DET'), ('market', 'NOUN'), ('outlook', 'NOUN'), (',', '.'), ('but', 'CONJ'), ('I', 'PRON'), ('do', 'VERB'), (\"n't\", 'ADV'), ('think', 'VERB'), ('0', 'X'), ('it', 'PRON'), (\"'s\", 'VERB'), ('a', 'DET'), ('main', 'ADJ'), ('consideration', 'NOUN'), (',', '.'), (\"''\", '.'), ('he', 'PRON'), ('says', 'VERB'), ('*T*-1', 'X'), ('.', '.'), ('SEC', 'NOUN'), ('Chairman', 'NOUN'), ('Richard', 'NOUN'), ('Breeden', 'NOUN'), ('has', 'VERB'), ('said', 'VERB'), ('0', 'X'), ('he', 'PRON'), ('would', 'VERB'), ('be', 'VERB'), ('willing', 'ADJ'), ('*-1', 'X'), ('to', 'PRT'), ('consider', 'VERB'), ('circuit', 'NOUN'), ('breakers', 'NOUN'), ('that', 'ADP'), ('*T*-215', 'DET'), ('have', 'VERB'), ('preset', 'ADJ'), ('trigger', 'NOUN'), ('points', 'NOUN'), (',', '.'), ('but', 'CONJ'), ('he', 'PRON'), ('does', 'VERB'), (\"n't\", 'ADV'), ('want', 'VERB'), ('discretionary', 'ADJ'), ('power', 'NOUN'), ('*', 'X'), ('to', 'PRT'), ('stop', 'VERB'), ('programs', 'NOUN'), ('.', '.'), ('In', 'ADP'), ('composite', 'ADJ'), ('trading', 'NOUN'), ('on', 'ADP'), ('the', 'DET'), ('New', 'NOUN'), ('York', 'NOUN'), ('Stock', 'NOUN'), ('Exchange', 'NOUN'), ('yesterday', 'NOUN'), (',', '.'), ('Upjohn', 'NOUN'), ('shares', 'NOUN'), ('rose', 'VERB'), ('87.5', 'X'), ('cents', 'NOUN'), ('to', 'PRT'), ('$', '.'), ('38.875', 'NOUN'), ('*U*', 'X'), ('apiece', 'ADV'), ('.', '.'), ('Reames', 'NOUN'), (',', '.'), ('a', 'DET'), ('maker', 'NOUN'), ('and', 'CONJ'), ('marketer', 'NOUN'), ('of', 'ADP'), ('frozen', 'VERB'), ('noodles', 'X'), ('and', 'CONJ'), ('pre-cooked', 'NOUN'), ('pasta', 'NOUN'), ('based', 'VERB'), ('*', 'X'), ('in', 'ADP'), ('Clive', 'DET'), (',', '.'), ('Iowa', 'NOUN'), (',', '.'), ('has', 'VERB'), ('annual', 'ADJ'), ('sales', 'NOUN'), ('of', 'ADP'), ('about', 'ADP'), ('$', '.'), ('11', 'NUM'), ('million', 'NUM'), ('*U*', 'X'), (',', '.'), ('Lancaster', 'NOUN'), ('said', 'VERB'), ('0', 'X'), ('*T*-1', 'X'), ('.', '.'), ('``', '.'), ('It', 'PRON'), ('has', 'VERB'), ('*-2', 'X'), ('to', 'PRT'), ('be', 'VERB'), ('considered', 'VERB'), ('*-21', 'X'), ('as', 'ADP'), ('an', 'DET'), ('additional', 'ADJ'), ('risk', 'NOUN'), ('for', 'ADP'), ('the', 'DET'), ('investor', 'NOUN'), (',', '.'), (\"''\", '.'), ('said', 'VERB'), ('*T*-1', 'X'), ('Gary', 'NOUN'), ('P.', 'NOUN'), ('Smaby', 'NOUN'), ('of', 'ADP'), ('Smaby', 'DET'), ('Group', 'NOUN'), ('Inc.', 'NOUN'), (',', '.'), ('Minneapolis', 'NOUN'), ('.', '.'), ('``', '.'), ('Maybe', 'ADV'), ('it', 'PRON'), ('was', 'VERB'), (\"n't\", 'ADV'), ('enough', 'ADV'), (',', '.'), (\"''\", '.'), ('a', 'DET'), ('Finance', 'NOUN'), ('Ministry', 'NOUN'), ('official', 'NOUN'), ('noted', 'VERB'), ('*T*-1', 'X'), ('after', 'ADP'), ('the', 'DET'), ('Dec.', 'NOUN'), ('7', 'NUM'), ('surge', 'NOUN'), ('.', '.'), ('We', 'PRON'), (\"'re\", 'VERB'), ('talking', 'VERB'), ('about', 'ADP'), ('years', 'NOUN'), ('ago', 'ADP'), ('before', 'ADP'), ('anyone', 'NOUN'), ('heard', 'VERB'), ('of', 'ADP'), ('asbestos', 'NOUN'), ('having', 'VERB'), ('any', 'DET'), ('questionable', 'ADJ'), ('properties', 'NOUN'), ('.', '.'), ('INTER-TEL', 'NOUN'), ('Inc', 'NOUN'), ('.', '.'), ('-LRB-', '.'), ('Chandler', 'NOUN'), (',', '.'), ('Ariz.', 'NOUN'), ('-RRB-', '.'), ('--', '.'), ('Shearson', 'NOUN'), ('``', '.'), ('really', 'ADV'), ('only', 'ADV'), ('has', 'VERB'), ('$', '.'), ('300', 'NUM'), ('million', 'NUM'), ('*U*', 'X'), ('of', 'ADP'), ('capital', 'NOUN'), (',', '.'), (\"''\", '.'), ('says', 'VERB'), ('*T*-1', 'X'), ('Mr.', 'NOUN'), ('Bowman', 'NOUN'), ('of', 'ADP'), ('S&P', 'NOUN'), ('.', '.'), ('``', '.'), ('It', 'PRON'), (\"'s\", 'VERB'), ('a', 'DET'), ('cosmetic', 'NOUN'), ('move', 'NOUN'), (',', '.'), (\"''\", '.'), ('said', 'VERB'), ('*T*-1', 'X'), ('Jonathan', 'NOUN'), ('S.', 'NOUN'), ('Gelles', 'NOUN'), ('of', 'ADP'), ('Wertheim', 'DET'), ('Schroder', 'NOUN'), ('&', 'CONJ'), ('Co', 'NOUN'), ('.', '.'), ('``', '.'), ('*-1', 'X'), ('To', 'PRT'), ('get', 'VERB'), ('people', 'NOUN'), (\"'s\", 'PRT'), ('attention', 'NOUN'), ('these', 'DET'), ('days', 'NOUN'), (',', '.'), (\"''\", '.'), ('says', 'VERB'), ('*T*-2', 'X'), ('Douglas', 'NOUN'), ('Bailey', 'NOUN'), (',', '.'), ('a', 'DET'), ('political', 'ADJ'), ('consultant', 'NOUN'), (',', '.'), ('``', '.'), ('your', 'PRON'), ('TV', 'NOUN'), ('ad', 'NOUN'), ('needs', 'VERB'), ('*-1', 'X'), ('to', 'PRT'), ('be', 'VERB'), ('bold', 'ADJ'), ('and', 'CONJ'), ('entertaining', 'NOUN'), (',', '.'), ('and', 'CONJ'), (',', '.'), ('more', 'ADV'), ('often', 'ADV'), ('than', 'ADP'), ('not', 'ADV'), (',', '.'), ('that', 'DET'), ('means', 'NOUN'), ('confrontational', 'NOUN'), ('.', '.'), ('In', 'ADP'), ('August', 'NOUN'), (',', '.'), ('the', 'DET'), ('commission', 'NOUN'), ('ruled', 'VERB'), ('that', 'ADP'), ('between', 'ADP'), ('$', '.'), ('190', 'NUM'), ('million', 'NUM'), ('and', 'CONJ'), ('$', '.'), ('195', 'NUM'), ('million', 'NUM'), ('*U*', 'X'), ('of', 'ADP'), ('the', 'DET'), ('plant', 'NOUN'), (\"'s\", 'PRT'), ('construction', 'NOUN'), ('cost', 'NOUN'), ('was', 'VERB'), ('unreasonable', 'ADJ'), ('and', 'CONJ'), ('should', 'VERB'), ('be', 'VERB'), ('refunded', 'X'), ('*-1', 'X'), (',', '.'), ('plus', 'CONJ'), ('interest', 'NOUN'), ('.', '.'), ('The', 'DET'), ('company', 'NOUN'), ('earlier', 'ADV'), ('this', 'DET'), ('year', 'NOUN'), ('adopted', 'VERB'), ('a', 'DET'), ('shareholder-rights', 'NOUN'), ('plan', 'NOUN'), ('*-1', 'X'), ('to', 'PRT'), ('ward', 'VERB'), ('off', 'PRT'), ('unwanted', 'VERB'), ('suitors', 'X'), ('.', '.'), ('There', 'DET'), ('is', 'VERB'), ('no', 'DET'), ('sign', 'NOUN'), ('that', 'ADP'), ('you', 'PRON'), ('bothered', 'VERB'), ('*-1', 'X'), ('to', 'PRT'), ('consider', 'VERB'), ('the', 'DET'), ('inverse', 'NOUN'), ('of', 'ADP'), ('your', 'PRON'), ('logic', 'NOUN'), (':', '.'), ('namely', 'ADV'), (',', '.'), ('that', 'DET'), ('mental', 'ADJ'), ('illness', 'NOUN'), ('and', 'CONJ'), ('substance', 'NOUN'), ('abuse', 'NOUN'), ('might', 'VERB'), ('be', 'VERB'), ('to', 'PRT'), ('some', 'DET'), ('degree', 'NOUN'), ('consequences', 'NOUN'), ('rather', 'ADV'), ('than', 'ADP'), ('causes', 'NOUN'), ('of', 'ADP'), ('homelessness', 'NOUN'), ('.', '.'), ('But', 'CONJ'), ('Learning', 'NOUN'), ('Materials', 'NOUN'), ('matched', 'VERB'), ('on', 'ADP'), ('66.5', 'DET'), ('of', 'ADP'), ('69', 'NUM'), ('subskills', 'NOUN'), ('.', '.'), ('London', 'NOUN'), ('share', 'NOUN'), ('prices', 'NOUN'), ('were', 'VERB'), ('bolstered', 'VERB'), ('*-1', 'X'), ('largely', 'ADV'), ('by', 'ADP'), ('continued', 'VERB'), ('gains', 'NOUN'), ('on', 'ADP'), ('Wall', 'NOUN'), ('Street', 'NOUN'), ('and', 'CONJ'), ('technical', 'ADJ'), ('factors', 'NOUN'), ('affecting', 'NOUN'), ('demand', 'NOUN'), ('for', 'ADP'), ('London', 'NOUN'), (\"'s\", 'PRT'), ('blue-chip', 'ADJ'), ('stocks', 'NOUN'), ('.', '.'), ('Not', 'ADV'), ('this', 'DET'), ('year', 'NOUN'), ('.', '.'), ('The', 'DET'), ('court', 'NOUN'), ('hearing', 'NOUN'), ('began', 'VERB'), ('in', 'ADP'), ('early', 'ADJ'), ('October', 'NOUN'), ('at', 'ADP'), ('the', 'DET'), ('request', 'NOUN'), ('of', 'ADP'), ('Anthony', 'NOUN'), ('Hazell', 'NOUN'), (',', '.'), ('district', 'NOUN'), ('auditor', 'NOUN'), ('for', 'ADP'), ('Hammersmith', 'NOUN'), (',', '.'), ('who', 'PRON'), ('*T*-63', 'X'), ('argued', 'VERB'), ('that', 'ADP'), ('local', 'ADJ'), ('councils', 'NOUN'), ('are', 'VERB'), (\"n't\", 'ADV'), ('vested', 'VERB'), ('with', 'ADP'), ('constitutional', 'ADJ'), ('authority', 'NOUN'), ('*', 'X'), ('to', 'PRT'), ('engage', 'VERB'), ('in', 'ADP'), ('such', 'ADJ'), ('capital-markets', 'ADJ'), ('activities', 'NOUN'), ('.', '.'), ('Such', 'ADJ'), ('program', 'NOUN'), ('trades', 'NOUN'), (',', '.'), ('which', 'DET'), ('*T*-70', 'X'), ('can', 'VERB'), ('involve', 'VERB'), ('the', 'DET'), ('purchase', 'NOUN'), ('or', 'CONJ'), ('sale', 'NOUN'), ('of', 'ADP'), ('millions', 'NOUN'), ('of', 'ADP'), ('dollars', 'NOUN'), ('of', 'ADP'), ('stock', 'NOUN'), (',', '.'), ('occur', 'VERB'), ('in', 'ADP'), ('a', 'DET'), ('matter', 'NOUN'), ('of', 'ADP'), ('seconds', 'DET'), ('.', '.'), ('Even', 'ADV'), ('a', 'DET'), ('low-tech', 'NOUN'), ('product', 'NOUN'), ('like', 'ADP'), ('plate', 'NOUN'), ('glass', 'NOUN'), ('can', 'VERB'), ('catch', 'NOUN'), ('a', 'DET'), ('trading', 'NOUN'), ('company', 'NOUN'), (\"'s\", 'PRT'), ('fancy', 'VERB'), ('if', 'ADP'), ('there', 'DET'), (\"'s\", 'VERB'), ('a', 'DET'), ('strategic', 'NOUN'), ('fit', 'NOUN'), ('.', '.'), ('As', 'ADP'), ('a', 'DET'), ('result', 'NOUN'), (',', '.'), ('he', 'PRON'), ('said', 'VERB'), ('0', 'X'), ('NBI', 'NOUN'), ('will', 'VERB'), ('focus', 'VERB'), ('on', 'ADP'), ('*', 'X'), ('servicing', 'NOUN'), ('its', 'PRON'), ('installed', 'VERB'), ('base', 'NOUN'), ('of', 'ADP'), ('systems', 'NOUN'), (',', '.'), ('trying', 'VERB'), ('*-4', 'X'), ('to', 'PRT'), ('provide', 'VERB'), ('maintenance', 'NOUN'), ('for', 'ADP'), ('other', 'ADJ'), ('manufacturers', 'NOUN'), ('and', 'CONJ'), ('expanding', 'VERB'), ('its', 'PRON'), ('software', 'NOUN'), ('business', 'NOUN'), (',', '.'), ('*-4', 'X'), ('using', 'VERB'), ('some', 'DET'), ('of', 'ADP'), ('the', 'DET'), ('applications', 'NOUN'), ('0', 'X'), ('it', 'PRON'), ('developed', 'VERB'), ('*T*-3', 'X'), ('for', 'ADP'), ('its', 'PRON'), ('hardware', 'NOUN'), ('.', '.'), ('And', 'CONJ'), ('they', 'PRON'), ('believe', 'VERB'), ('0', 'X'), ('the', 'DET'), ('Big', 'NOUN'), ('Board', 'NOUN'), (',', '.'), ('under', 'ADP'), ('Mr.', 'NOUN'), ('Phelan', 'NOUN'), (',', '.'), ('has', 'VERB'), ('abandoned', 'VERB'), ('their', 'PRON'), ('interest', 'NOUN'), ('.', '.'), ('The', 'DET'), ('current', 'ADJ'), ('opportunities', 'NOUN'), ('arise', 'NOUN'), ('because', 'ADP'), ('the', 'DET'), ('process', 'NOUN'), ('for', 'ADP'), ('*', 'X'), ('executing', 'VERB'), ('a', 'DET'), ('buy', 'VERB'), ('or', 'CONJ'), ('sell', 'VERB'), ('order', 'NOUN'), ('in', 'ADP'), ('the', 'DET'), ('actual', 'ADJ'), ('stocks', 'NOUN'), ('that', 'ADP'), ('*T*-76', 'X'), ('make', 'VERB'), ('up', 'ADV'), ('the', 'DET'), ('S&P', 'NOUN'), ('500', 'NUM'), ('is', 'VERB'), ('more', 'ADV'), ('cumbersome', 'VERB'), ('than', 'ADP'), ('*', 'X'), ('transacting', 'VERB'), ('in', 'ADP'), ('the', 'DET'), ('futures', 'NOUN'), ('market', 'NOUN'), ('.', '.'), ('Big', 'NOUN'), ('Board', 'NOUN'), ('Chairman', 'NOUN'), ('John', 'NOUN'), ('Phelan', 'NOUN'), ('said', 'VERB'), ('yesterday', 'NOUN'), ('that', 'ADP'), ('he', 'PRON'), ('could', 'VERB'), ('support', 'VERB'), ('*', 'X'), ('letting', 'VERB'), ('federal', 'ADJ'), ('regulators', 'NOUN'), ('suspend', 'VERB'), ('program', 'NOUN'), ('trading', 'NOUN'), ('during', 'ADP'), ('wild', 'ADJ'), ('stock-price', 'NOUN'), ('swings', 'NOUN'), ('.', '.'), ('Among', 'ADP'), ('its', 'PRON'), ('new', 'ADJ'), ('customers', 'NOUN'), (':', '.'), ('day-care', 'NOUN'), ('centers', 'VERB'), ('that', 'ADP'), ('*T*-1', 'X'), ('previously', 'ADV'), ('spurned', 'VERB'), ('the', 'DET'), ('service', 'NOUN'), ('.', '.'), ('Such', 'ADJ'), ('is', 'VERB'), ('hardly', 'ADV'), ('the', 'DET'), ('case', 'NOUN'), ('.', '.'), ('All', 'DET'), ('arguments', 'NOUN'), ('against', 'ADP'), ('program', 'NOUN'), ('trading', 'NOUN'), (',', '.'), ('even', 'ADV'), ('those', 'DET'), ('pressed', 'NOUN'), ('*', 'X'), ('without', 'ADP'), ('fact', 'NOUN'), (',', '.'), ('conclude', 'VERB'), ('with', 'ADP'), ('three', 'NUM'), ('expected', 'VERB'), ('results', 'NOUN'), ('after', 'ADP'), ('``', '.'), ('reforms', 'NOUN'), (\"''\", '.'), ('are', 'VERB'), ('implemented', 'X'), ('*-1', 'X'), (':', '.'), ('1', 'NUM'), ('-RRB-', '.'), ('reduced', 'VERB'), ('volatility', 'NOUN'), (',', '.'), ('2', 'NUM'), ('-RRB-', '.'), ('a', 'DET'), ('long-term', 'ADJ'), ('investment', 'NOUN'), ('focus', 'VERB'), (',', '.'), ('and', 'CONJ'), ('3', 'NUM'), ('-RRB-', '.'), ('a', 'DET'), ('level', 'NOUN'), ('playing', 'VERB'), ('field', 'NOUN'), ('for', 'ADP'), ('the', 'DET'), ('small', 'ADJ'), ('investor', 'NOUN'), ('.', '.'), ('These', 'DET'), ('small', 'ADJ'), ('but', 'CONJ'), ('influential', 'ADJ'), ('floor', 'NOUN'), ('brokers', 'NOUN'), ('long', 'ADV'), ('have', 'VERB'), ('earned', 'VERB'), ('fat', 'ADJ'), ('returns', 'NOUN'), ('of', 'ADP'), ('30', 'NUM'), ('%', 'NOUN'), ('to', 'PRT'), ('40', 'NUM'), ('%', 'NOUN'), ('*U*', 'X'), ('a', 'DET'), ('year', 'NOUN'), ('on', 'ADP'), ('their', 'PRON'), ('capital', 'NOUN'), (',', '.'), ('by', 'ADP'), ('virtue', 'NOUN'), ('of', 'ADP'), ('their', 'PRON'), ('monopoly', 'VERB'), ('in', 'ADP'), ('*', 'X'), ('making', 'VERB'), ('markets', 'NOUN'), ('in', 'ADP'), ('individual', 'ADJ'), ('stocks', 'NOUN'), ('.', '.'), ('The', 'DET'), ('7', 'NUM'), ('3\\\\/8', 'NUM'), ('%', 'NOUN'), ('term', 'NOUN'), ('bonds', 'NOUN'), ('due', 'ADJ'), ('2009', 'NUM'), ('are', 'VERB'), ('priced', 'VERB'), ('*-1', 'X'), ('at', 'ADP'), ('99', 'NUM'), ('1\\\\/2', 'NUM'), ('*', 'X'), ('to', 'PRT'), ('yield', 'VERB'), ('7.422', 'X'), ('%', 'NOUN'), (',', '.'), ('and', 'CONJ'), ('7', 'NUM'), ('3\\\\/8', 'NUM'), ('%', 'NOUN'), ('term', 'NOUN'), ('bonds', 'NOUN'), ('due', 'ADJ'), ('2019', 'NUM'), ('are', 'VERB'), ('priced', 'VERB'), ('*-2', 'X'), ('at', 'ADP'), ('99', 'NUM'), ('*', 'X'), ('to', 'PRT'), ('yield', 'VERB'), ('7.458', 'NUM'), ('%', 'NOUN'), ('.', '.'), ('``', '.'), ('So', 'ADV'), ('crunch', 'VERB'), (',', '.'), ('crunch', 'NOUN'), (',', '.'), ('crunch', 'NOUN'), (',', '.'), ('bang', 'NOUN'), (',', '.'), ('bang', 'NOUN'), (',', '.'), ('bang', 'NOUN'), ('--', '.'), ('here', 'ADV'), ('come', 'VERB'), ('*T*-4', 'X'), ('the', 'DET'), ('ringers', 'NOUN'), ('from', 'ADP'), ('above', 'ADP'), (',', '.'), ('*-1', 'X'), ('making', 'VERB'), ('a', 'DET'), ('very', 'ADV'), ('obvious', 'VERB'), ('exit', 'X'), ('while', 'ADP'), ('the', 'DET'), ('congregation', 'NOUN'), ('is', 'VERB'), ('at', 'ADP'), ('prayer', 'DET'), (',', '.'), (\"''\", '.'), ('he', 'PRON'), ('says', 'VERB'), ('*T*-2', 'X'), ('.', '.'), ('Stock', 'NOUN'), ('futures', 'NOUN'), ('trading', 'NOUN'), ('has', 'VERB'), ('minted', 'X'), ('dozens', 'NOUN'), ('of', 'ADP'), ('millionaires', 'DET'), ('in', 'ADP'), ('their', 'PRON'), ('20s', 'VERB'), ('and', 'CONJ'), ('30s', 'NOUN'), ('.', '.'), ('The', 'DET'), ('St.', 'NOUN'), ('Louis', 'NOUN'), ('firm', 'NOUN'), ('specializes', 'VERB'), ('in', 'ADP'), ('replacement-car', 'DET'), ('rentals', 'NOUN'), (',', '.'), ('those', 'DET'), ('provided', 'VERB'), ('*', 'X'), ('by', 'ADP'), ('insurance', 'NOUN'), ('companies', 'NOUN'), ('for', 'ADP'), ('cars', 'NOUN'), ('damaged', 'VERB'), ('*', 'X'), ('in', 'ADP'), ('accidents', 'DET'), ('.', '.'), ('All', 'DET'), ('the', 'DET'), ('contracts', 'NOUN'), ('were', 'VERB'), ('for', 'ADP'), ('computer-system-design', 'DET'), ('contracts', 'NOUN'), ('and', 'CONJ'), ('involved', 'VERB'), ('no', 'DET'), ('hardware', 'NOUN'), ('or', 'CONJ'), ('software', 'NOUN'), ('.', '.'), ('A', 'DET'), ('computer', 'NOUN'), ('using', 'VERB'), ('the', 'DET'), ('more-advanced', 'NOUN'), ('Intel', 'NOUN'), ('Corp.', 'NOUN'), ('386', 'NUM'), ('microprocessor', 'NOUN'), (',', '.'), ('with', 'ADP'), ('four', 'NUM'), ('megabytes', 'NOUN'), ('of', 'ADP'), ('memory', 'NOUN'), ('and', 'CONJ'), ('a', 'DET'), ('100-megabyte', 'NOUN'), ('hard', 'ADV'), ('disk', 'NOUN'), ('now', 'ADV'), ('sells', 'VERB'), ('for', 'ADP'), ('$', '.'), ('5,699', 'NOUN'), ('*U*', 'X'), (',', '.'), ('down', 'ADV'), ('from', 'ADP'), ('$', '.'), ('6,799', 'NOUN'), ('*U*', 'X'), ('.', '.'), ('Government', 'NOUN'), ('officials', 'NOUN'), ('said', 'VERB'), ('0', 'X'), ('exports', 'NOUN'), ('at', 'ADP'), ('the', 'DET'), ('end', 'NOUN'), ('of', 'ADP'), ('the', 'DET'), ('year', 'NOUN'), ('would', 'VERB'), ('remain', 'VERB'), ('under', 'ADP'), ('a', 'DET'), ('government', 'NOUN'), ('target', 'NOUN'), ('of', 'ADP'), ('$', '.'), ('68', 'NUM'), ('billion', 'NUM'), ('*U*', 'X'), ('.', '.'), ('Here', 'ADV'), ('are', 'VERB'), ('*T*-1', 'X'), ('the', 'DET'), ('Commerce', 'NOUN'), ('Department', 'NOUN'), (\"'s\", 'PRT'), ('figures', 'NOUN'), ('for', 'ADP'), ('construction', 'NOUN'), ('spending', 'NOUN'), ('in', 'ADP'), ('billions', 'NOUN'), ('of', 'ADP'), ('dollars', 'NOUN'), ('at', 'ADP'), ('seasonally', 'ADV'), ('adjusted', 'VERB'), ('annual', 'ADJ'), ('rates', 'NOUN'), ('.', '.'), ('The', 'DET'), ('plan', 'NOUN'), ('was', 'VERB'), ('filed', 'VERB'), ('*-1', 'X'), ('jointly', 'ADV'), ('with', 'ADP'), ('unsecured', 'ADJ'), ('creditors', 'NOUN'), ('in', 'ADP'), ('federal', 'ADJ'), ('bankruptcy', 'NOUN'), ('court', 'NOUN'), ('in', 'ADP'), ('New', 'NOUN'), ('York', 'NOUN'), ('and', 'CONJ'), ('must', 'VERB'), ('be', 'VERB'), ('approved', 'VERB'), ('*-1', 'X'), ('by', 'ADP'), ('the', 'DET'), ('court', 'NOUN'), ('.', '.'), ('However', 'ADV'), (',', '.'), ('the', 'DET'), ('president', 'NOUN'), ('does', 'VERB'), ('have', 'VERB'), ('a', 'DET'), ('duty', 'NOUN'), ('*', 'X'), ('not', 'ADV'), ('to', 'PRT'), ('violate', 'VERB'), ('the', 'DET'), ('Constitution', 'NOUN'), ('.', '.'), ('She', 'PRON'), ('believes', 'VERB'), ('that', 'ADP'), ('the', 'DET'), ('only', 'ADJ'), ('answer', 'NOUN'), ('for', 'ADP'), ('individuals', 'NOUN'), ('is', 'VERB'), ('*', 'X'), ('to', 'PRT'), ('``', '.'), ('buy', 'VERB'), ('stocks', 'NOUN'), ('that', 'ADP'), ('*T*-1', 'X'), (\"'ll\", 'VERB'), ('weather', 'NOUN'), ('any', 'DET'), ('storm', 'NOUN'), ('.', '.'), (\"''\", '.'), ('Citizens', 'NOUN'), ('in', 'ADP'), ('Peninsula', 'DET'), (',', '.'), ('Ohio', 'NOUN'), (',', '.'), ('*-1', 'X'), ('upset', 'VERB'), ('over', 'ADP'), ('changes', 'NOUN'), ('to', 'PRT'), ('a', 'DET'), ('bridge', 'NOUN'), (',', '.'), ('negotiated', 'VERB'), ('a', 'DET'), ('deal', 'NOUN'), (':', '.'), ('The', 'DET'), ('bottom', 'NOUN'), ('half', 'NOUN'), ('of', 'ADP'), ('the', 'DET'), ('railing', 'NOUN'), ('will', 'VERB'), ('be', 'VERB'), ('type', 'NOUN'), ('F', 'NOUN'), (',', '.'), ('while', 'ADP'), ('the', 'DET'), ('top', 'ADJ'), ('half', 'NOUN'), ('will', 'VERB'), ('have', 'VERB'), ('the', 'DET'), ('old', 'ADJ'), ('bridge', 'NOUN'), (\"'s\", 'PRT'), ('floral', 'VERB'), ('pattern', 'NOUN'), ('.', '.'), ('Sea', 'NOUN'), ('Containers', 'NOUN'), ('Ltd.', 'NOUN'), ('said', 'VERB'), ('0', 'X'), ('it', 'PRON'), ('might', 'VERB'), ('increase', 'VERB'), ('the', 'DET'), ('price', 'NOUN'), ('of', 'ADP'), ('its', 'PRON'), ('$', '.'), ('70-a-share', 'NOUN'), ('*U*', 'X'), ('buy-back', 'NOUN'), ('plan', 'NOUN'), ('if', 'ADP'), ('*-2', 'X'), ('pressed', 'VERB'), ('*-1', 'X'), ('by', 'ADP'), ('Temple', 'NOUN'), ('Holdings', 'NOUN'), ('Ltd.', 'NOUN'), (',', '.'), ('which', 'DET'), ('*T*-156', 'NOUN'), ('made', 'VERB'), ('an', 'DET'), ('earlier', 'ADJ'), ('tender', 'NOUN'), ('offer', 'NOUN'), ('for', 'ADP'), ('Sea', 'NOUN'), ('Containers', 'NOUN'), ('.', '.'), ('Mrs.', 'NOUN'), ('Hills', 'NOUN'), ('said', 'VERB'), ('that', 'ADP'), ('the', 'DET'), ('U.S.', 'NOUN'), ('is', 'VERB'), ('still', 'ADV'), ('concerned', 'VERB'), ('about', 'ADP'), ('``', '.'), ('disturbing', 'ADJ'), ('developments', 'NOUN'), ('in', 'ADP'), ('Turkey', 'NOUN'), ('and', 'CONJ'), ('continuing', 'VERB'), ('slow', 'VERB'), ('progress', 'NOUN'), ('in', 'ADP'), ('Malaysia', 'NOUN'), ('.', '.'), (\"''\", '.'), ('What', 'PRON'), ('*T*-42', 'X'), ('saved', 'VERB'), ('many', 'ADJ'), ('farmers', 'NOUN'), ('from', 'ADP'), ('a', 'DET'), ('bad', 'ADJ'), ('year', 'NOUN'), ('was', 'VERB'), ('the', 'DET'), ('opportunity', 'NOUN'), ('*', 'X'), ('to', 'PRT'), ('reclaim', 'VERB'), ('large', 'ADJ'), ('quantities', 'NOUN'), ('of', 'ADP'), ('grain', 'NOUN'), ('and', 'CONJ'), ('other', 'ADJ'), ('crops', 'NOUN'), ('that', 'ADP'), ('they', 'PRON'), ('had', 'VERB'), ('``', '.'), ('mortgaged', 'NOUN'), (\"''\", '.'), ('*T*-1', 'X'), ('to', 'PRT'), ('the', 'DET'), ('government', 'NOUN'), ('under', 'ADP'), ('price-support', 'DET'), ('loan', 'NOUN'), ('programs', 'NOUN'), ('.', '.'), ('In', 'ADP'), ('its', 'PRON'), ('latest', 'ADJ'), ('compilation', 'NOUN'), ('of', 'ADP'), ('performance', 'NOUN'), ('statistics', 'NOUN'), (',', '.'), ('Moody', 'NOUN'), (\"'s\", 'PRT'), ('Investors', 'NOUN'), ('Service', 'NOUN'), ('found', 'VERB'), ('that', 'ADP'), ('investment-grade', 'ADJ'), ('bonds', 'NOUN'), ('posted', 'VERB'), ('a', 'DET'), ('total', 'ADJ'), ('return', 'NOUN'), ('of', 'ADP'), ('2.7', 'NUM'), ('%', 'NOUN'), ('in', 'ADP'), ('October', 'NOUN'), ('while', 'ADP'), ('junk', 'NOUN'), ('bonds', 'NOUN'), ('showed', 'VERB'), ('a', 'DET'), ('negative', 'ADJ'), ('return', 'NOUN'), ('of', 'ADP'), ('1.5', 'NUM'), ('%', 'NOUN'), ('.', '.'), ('``', '.'), ('We', 'PRON'), ('have', 'VERB'), ('a', 'DET'), ('long', 'ADJ'), ('history', 'NOUN'), ('of', 'ADP'), ('*', 'X'), ('maintaining', 'VERB'), ('an', 'DET'), ('open', 'ADJ'), ('direct-investment', 'NOUN'), ('policy', 'NOUN'), (',', '.'), (\"''\", '.'), ('Mr.', 'NOUN'), ('Dallara', 'NOUN'), ('says', 'VERB'), ('*T*-1', 'X'), ('.', '.'), ('The', 'DET'), ('Life', 'NOUN'), ('Insurance', 'NOUN'), ('Co.', 'NOUN'), ('of', 'ADP'), ('Georgia', 'NOUN'), ('has', 'VERB'), ('officially', 'ADV'), ('opened', 'VERB'), ('an', 'DET'), ('office', 'NOUN'), ('in', 'ADP'), ('Taipei', 'NOUN'), ('.', '.'), ('But', 'CONJ'), ('he', 'PRON'), ('blames', 'VERB'), ('program', 'NOUN'), ('trading', 'NOUN'), ('for', 'ADP'), ('only', 'ADV'), ('some', 'DET'), ('of', 'ADP'), ('the', 'DET'), ('market', 'NOUN'), (\"'s\", 'PRT'), ('volatility', 'NOUN'), ('.', '.'), ('As', 'ADP'), ('an', 'DET'), ('actor', 'NOUN'), (',', '.'), ('Charles', 'NOUN'), ('Lane', 'NOUN'), ('is', 'VERB'), (\"n't\", 'ADV'), ('the', 'DET'), ('inheritor', 'NOUN'), ('of', 'ADP'), ('Charlie', 'DET'), ('Chaplin', 'NOUN'), (\"'s\", 'PRT'), ('spirit', 'NOUN'), ('.', '.'), ('According', 'VERB'), ('to', 'PRT'), ('Upjohn', 'NOUN'), (\"'s\", 'PRT'), ('estimates', 'VERB'), (',', '.'), ('only', 'ADV'), ('50', 'NUM'), ('%', 'NOUN'), ('to', 'PRT'), ('60', 'NUM'), ('%', 'NOUN'), ('*U*', 'X'), ('of', 'ADP'), ('the', 'DET'), ('1,100', 'NUM'), ('eligible', 'ADJ'), ('employees', 'NOUN'), ('will', 'VERB'), ('take', 'VERB'), ('advantage', 'NOUN'), ('of', 'ADP'), ('the', 'DET'), ('plan', 'NOUN'), ('.', '.'), ('Money', 'NOUN'), ('is', 'VERB'), ('not', 'ADV'), ('everything', 'NOUN'), (',', '.'), ('but', 'CONJ'), ('it', 'PRON'), ('is', 'VERB'), ('necessary', 'ADJ'), (',', '.'), ('and', 'CONJ'), ('business', 'NOUN'), ('is', 'VERB'), ('not', 'ADV'), ('volunteer', 'VERB'), ('work', 'VERB'), ('.', '.'), ('But', 'CONJ'), ('for', 'ADP'), ('an', 'DET'), ('ailing', 'VERB'), ('savings-and-loan', 'ADJ'), ('association', 'NOUN'), ('--', '.'), ('teetering', 'NOUN'), ('on', 'ADP'), ('insolvency', 'DET'), ('--', '.'), ('it', 'PRON'), ('can', 'VERB'), ('lead', 'VERB'), ('to', 'PRT'), ('safety', 'NOUN'), ('from', 'ADP'), ('imminent', 'ADJ'), ('demise', 'NOUN'), ('and', 'CONJ'), ('to', 'PRT'), ('a', 'DET'), ('future', 'ADJ'), ('full', 'ADJ'), ('of', 'ADP'), ('promise', 'NOUN'), ('.', '.'), ('Only', 'ADV'), ('19', 'NUM'), ('%', 'NOUN'), ('of', 'ADP'), ('the', 'DET'), ('purchasing', 'NOUN'), ('managers', 'NOUN'), ('reported', 'VERB'), ('better', 'ADV'), ('export', 'VERB'), ('orders', 'NOUN'), ('in', 'ADP'), ('October', 'NOUN'), (',', '.'), ('down', 'ADV'), ('from', 'ADP'), ('27', 'NUM'), ('%', 'NOUN'), ('in', 'ADP'), ('September', 'NOUN'), ('.', '.'), ('Mr.', 'NOUN'), ('Watson', 'NOUN'), ('says', 'VERB'), ('0', 'X'), ('Mrs.', 'NOUN'), ('Yeargin', 'NOUN'), ('never', 'ADV'), ('complained', 'VERB'), ('to', 'PRT'), ('school', 'NOUN'), ('officials', 'NOUN'), ('that', 'ADP'), ('the', 'DET'), ('standardized', 'ADJ'), ('test', 'NOUN'), ('was', 'VERB'), ('unfair', 'ADJ'), ('.', '.'), ('He', 'PRON'), ('is', 'VERB'), ('an', 'DET'), ('avid', 'NOUN'), ('fan', 'NOUN'), ('of', 'ADP'), ('a', 'DET'), ('proposition', 'NOUN'), ('on', 'ADP'), ('next', 'ADJ'), ('week', 'NOUN'), (\"'s\", 'PRT'), ('ballot', 'NOUN'), ('0', 'X'), ('*', 'X'), ('to', 'PRT'), ('help', 'VERB'), ('*-2', 'X'), ('build', 'VERB'), ('a', 'DET'), ('replacement', 'NOUN'), ('for', 'ADP'), ('Candlestick', 'NOUN'), ('Park', 'NOUN'), ('*T*-1', 'X'), ('.', '.'), ('A', 'DET'), ('spokesman', 'NOUN'), ('for', 'ADP'), ('the', 'DET'), ('Toronto', 'NOUN'), ('cable', 'NOUN'), ('television', 'NOUN'), ('and', 'CONJ'), ('telecommunications', 'NOUN'), ('concern', 'NOUN'), ('said', 'VERB'), ('0', 'X'), ('the', 'DET'), ('coupon', 'NOUN'), ('rate', 'NOUN'), ('has', 'VERB'), (\"n't\", 'ADV'), ('yet', 'ADV'), ('been', 'VERB'), ('fixed', 'VERB'), ('*-1', 'X'), (',', '.'), ('but', 'CONJ'), ('will', 'VERB'), ('probably', 'ADV'), ('be', 'VERB'), ('set', 'VERB'), ('*-1', 'X'), ('at', 'ADP'), ('around', 'ADP'), ('8', 'NUM'), ('%', 'NOUN'), ('.', '.'), ('People', 'NOUN'), ('close', 'VERB'), ('to', 'PRT'), ('the', 'DET'), ('utility', 'NOUN'), ('industry', 'NOUN'), ('said', 'VERB'), ('0', 'X'), ('Mr.', 'NOUN'), ('Dingell', 'NOUN'), (\"'s\", 'PRT'), ('proposal', 'NOUN'), ('appears', 'VERB'), ('*-3', 'X'), ('to', 'PRT'), ('guarantee', 'NOUN'), ('only', 'ADV'), ('an', 'DET'), ('estimated', 'VERB'), ('seven-million-ton', 'X'), ('cut', 'VERB'), ('in', 'ADP'), ('annual', 'ADJ'), ('sulfur-dioxide', 'NOUN'), ('emissions', 'NOUN'), ('that', 'ADP'), ('*T*-2', 'X'), ('lead', 'VERB'), ('to', 'PRT'), ('acid', 'ADJ'), ('rain', 'NOUN'), (',', '.'), ('though', 'ADP'), ('additional', 'ADJ'), ('cuts', 'NOUN'), ('could', 'VERB'), ('be', 'VERB'), ('ordered', 'VERB'), ('*-1', 'X'), ('later', 'ADJ'), ('.', '.'), ('The', 'DET'), ('offer', 'NOUN'), (',', '.'), ('which', 'DET'), ('*T*-2', 'X'), ('was', 'VERB'), ('due', 'ADJ'), ('*-3', 'X'), ('to', 'PRT'), ('expire', 'VERB'), ('yesterday', 'NOUN'), (',', '.'), ('is', 'VERB'), ('conditional', 'ADJ'), ('on', 'ADP'), ('50.1', 'DET'), ('%', 'NOUN'), ('of', 'ADP'), (\"Dunkin'\", 'NOUN'), ('common', 'ADJ'), ('shares', 'NOUN'), (',', '.'), ('on', 'ADP'), ('a', 'DET'), ('fully', 'ADV'), ('diluted', 'VERB'), ('basis', 'NOUN'), (',', '.'), ('being', 'VERB'), ('tendered', 'VERB'), ('*-1', 'X'), ('and', 'CONJ'), ('on', 'ADP'), ('the', 'DET'), ('withdrawal', 'NOUN'), ('of', 'ADP'), ('the', 'DET'), ('company', 'NOUN'), (\"'s\", 'PRT'), ('poison', 'NOUN'), ('pill', 'NOUN'), ('rights', 'NOUN'), ('plan', 'NOUN'), ('.', '.'), ('David', 'NOUN'), ('A.', 'NOUN'), ('DiLoreto', 'NOUN'), (',', '.'), ('president', 'NOUN'), ('of', 'ADP'), ('metal', 'NOUN'), ('container', 'NOUN'), ('division', 'NOUN'), (',', '.'), ('was', 'VERB'), ('named', 'VERB'), ('*-1', 'X'), ('to', 'PRT'), ('the', 'DET'), ('additional', 'ADJ'), ('post', 'NOUN'), ('of', 'ADP'), ('group', 'NOUN'), ('vice', 'NOUN'), ('president', 'NOUN'), (',', '.'), ('packaging', 'NOUN'), ('products', 'NOUN'), (',', '.'), ('at', 'ADP'), ('this', 'DET'), ('packaging', 'NOUN'), (',', '.'), ('industrial', 'ADJ'), ('and', 'CONJ'), ('aerospace', 'NOUN'), ('products', 'NOUN'), ('concern', 'NOUN'), (',', '.'), ('*-1', 'X'), ('succeeding', 'VERB'), ('Delmont', 'X'), ('A.', 'NOUN'), ('Davis', 'NOUN'), (',', '.'), ('who', 'PRON'), ('*T*-3', 'X'), ('was', 'VERB'), ('named', 'VERB'), ('*-2', 'X'), ('president', 'NOUN'), ('and', 'CONJ'), ('chief', 'NOUN'), ('operating', 'NOUN'), ('officer', 'NOUN'), ('in', 'ADP'), ('August', 'NOUN'), ('.', '.'), ('FreudToy', 'NOUN'), (',', '.'), ('a', 'DET'), ('pillow', 'NOUN'), ('bearing', 'VERB'), ('the', 'DET'), ('likeness', 'NOUN'), ('of', 'ADP'), ('Sigmund', 'DET'), ('Freud', 'NOUN'), (',', '.'), ('is', 'VERB'), ('marketed', 'VERB'), ('*-1', 'X'), ('as', 'ADP'), ('a', 'DET'), ('$', '.'), ('24.95', 'NOUN'), ('*U*', 'X'), ('tool', 'VERB'), ('for', 'ADP'), ('do-it-yourself', 'DET'), ('analysis', 'NOUN'), ('.', '.'), ('``', '.'), ('We', 'PRON'), (\"'re\", 'VERB'), ('offering', 'VERB'), ('this', 'DET'), ('plan', 'NOUN'), ('now', 'ADV'), ('because', 'ADP'), ('we', 'PRON'), ('feel', 'VERB'), ('0', 'X'), ('it', 'PRON'), (\"'s\", 'VERB'), ('the', 'DET'), ('right', 'NOUN'), ('time', 'NOUN'), ('.', '.'), (\"''\", '.'), ('Japan', 'NOUN'), (\"'s\", 'PRT'), ('reserves', 'NOUN'), ('of', 'ADP'), ('gold', 'NOUN'), (',', '.'), ('convertible', 'ADJ'), ('foreign', 'ADJ'), ('currencies', 'NOUN'), (',', '.'), ('and', 'CONJ'), ('special', 'ADJ'), ('drawing', 'NOUN'), ('rights', 'NOUN'), ('fell', 'VERB'), ('by', 'ADP'), ('a', 'DET'), ('hefty', 'ADJ'), ('$', '.'), ('1.82', 'NOUN'), ('billion', 'NUM'), ('*U*', 'X'), ('in', 'ADP'), ('October', 'NOUN'), ('to', 'PRT'), ('$', '.'), ('84.29', 'NOUN'), ('billion', 'NUM'), ('*U*', 'X'), (',', '.'), ('the', 'DET'), ('Finance', 'NOUN'), ('Ministry', 'NOUN'), ('said', 'VERB'), ('0', 'X'), ('*T*-2', 'X'), ('.', '.'), ('The', 'DET'), ('airline', 'NOUN'), ('is', 'VERB'), ('attempting', 'VERB'), ('*-1', 'X'), ('to', 'PRT'), ('show', 'VERB'), ('that', 'ADP'), ('Israel', 'NOUN'), ('and', 'CONJ'), ('West', 'NOUN'), ('Germany', 'NOUN'), ('warned', 'VERB'), ('the', 'DET'), ('U.S.', 'NOUN'), ('about', 'ADP'), ('the', 'DET'), ('impending', 'VERB'), ('attack', 'VERB'), ('.', '.'), ('But', 'CONJ'), ('there', 'DET'), ('still', 'ADV'), ('are', 'VERB'), (\"n't\", 'ADV'), ('enough', 'ADV'), ('ringers', 'NOUN'), ('0', 'X'), ('*T*-1', 'X'), ('to', 'PRT'), ('ring', 'VERB'), ('more', 'ADV'), ('than', 'ADP'), ('six', 'NUM'), ('of', 'ADP'), ('the', 'DET'), ('eight', 'NUM'), ('bells', 'NOUN'), ('.', '.'), ('Columbia', 'NOUN'), (',', '.'), ('a', 'DET'), ('longtime', 'NOUN'), ('Drexel', 'NOUN'), ('client', 'NOUN'), (',', '.'), ('wo', 'VERB'), (\"n't\", 'ADV'), ('provide', 'VERB'), ('current', 'ADJ'), ('data', 'NOUN'), ('on', 'ADP'), ('its', 'PRON'), ('junk', 'NOUN'), ('.', '.'), ('You', 'PRON'), ('can', 'VERB'), ('do', 'VERB'), ('all', 'DET'), ('this', 'DET'), ('even', 'ADV'), ('if', 'ADP'), ('you', 'PRON'), (\"'re\", 'VERB'), ('not', 'ADV'), ('a', 'DET'), ('reporter', 'NOUN'), ('or', 'CONJ'), ('a', 'DET'), ('researcher', 'NOUN'), ('or', 'CONJ'), ('a', 'DET'), ('scholar', 'NOUN'), ('or', 'CONJ'), ('a', 'DET'), ('member', 'NOUN'), ('of', 'ADP'), ('Congress', 'NOUN'), ('.', '.'), ('That', 'DET'), ('got', 'VERB'), ('hard', 'ADV'), ('0', 'X'), ('*', 'X'), ('to', 'PRT'), ('take', 'VERB'), ('*T*-1', 'X'), (',', '.'), (\"''\", '.'), ('he', 'PRON'), ('added', 'VERB'), ('*T*-2', 'X'), ('.', '.'), ('Upjohn', 'NOUN'), (',', '.'), ('a', 'DET'), ('rumored', 'VERB'), ('target', 'VERB'), ('within', 'ADP'), ('the', 'DET'), ('drug', 'NOUN'), ('industry', 'NOUN'), (',', '.'), ('advanced', 'VERB'), ('7\\\\/8', 'NUM'), ('to', 'PRT'), ('38', 'NUM'), ('7\\\\/8', 'NUM'), ('.', '.'), ('All', 'DET'), ('of', 'ADP'), ('this', 'DET'), ('must', 'VERB'), ('have', 'VERB'), ('been', 'VERB'), ('enormously', 'X'), ('frustrating', 'VERB'), ('to', 'PRT'), ('Mr.', 'NOUN'), ('Katzenstein', 'NOUN'), (',', '.'), ('who', 'PRON'), ('*T*-59', 'X'), ('went', 'VERB'), ('to', 'PRT'), ('Sony', 'NOUN'), ('with', 'ADP'), ('degrees', 'NOUN'), ('in', 'ADP'), ('business', 'NOUN'), ('and', 'CONJ'), ('computer', 'NOUN'), ('science', 'NOUN'), ('and', 'CONJ'), ('was', 'VERB'), ('raring', 'X'), ('*-1', 'X'), ('to', 'PRT'), ('invent', 'VERB'), ('another', 'DET'), ('Walkman', 'NOUN'), ('.', '.'), ('Detroit', 'NOUN'), ('--', '.'), ('IRAs', 'NOUN'), ('.', '.'), ('``', '.'), ('You', 'PRON'), (\"'re\", 'VERB'), ('dead', 'ADJ'), ('in', 'ADP'), ('the', 'DET'), ('water', 'NOUN'), ('if', 'ADP'), ('you', 'PRON'), ('are', 'VERB'), (\"n't\", 'ADV'), ('segmenting', 'VERB'), ('the', 'DET'), ('market', 'NOUN'), (',', '.'), (\"''\", '.'), ('says', 'VERB'), ('*T*-1', 'X'), ('Anne', 'NOUN'), ('Moore', 'NOUN'), (',', '.'), ('president', 'NOUN'), ('of', 'ADP'), ('Synergistics', 'NOUN'), ('Research', 'NOUN'), ('Corp.', 'NOUN'), (',', '.'), ('a', 'DET'), ('bank', 'NOUN'), ('consulting', 'NOUN'), ('firm', 'NOUN'), ('in', 'ADP'), ('Atlanta', 'NOUN'), ('.', '.'), ('Among', 'ADP'), ('them', 'PRON'), ('are', 'VERB'), ('*T*-1', 'X'), ('differences', 'NOUN'), ('in', 'ADP'), ('savings', 'NOUN'), ('and', 'CONJ'), ('investment', 'NOUN'), ('rates', 'NOUN'), (',', '.'), ('corporate', 'ADJ'), ('structures', 'NOUN'), ('and', 'CONJ'), ('management', 'NOUN'), (',', '.'), ('and', 'CONJ'), ('government', 'NOUN'), ('spending', 'NOUN'), ('.', '.'), ('It', 'PRON'), ('also', 'ADV'), ('issued', 'VERB'), ('a', 'DET'), ('final', 'ADJ'), ('rule', 'NOUN'), ('requiring', 'VERB'), ('auto', 'NOUN'), ('makers', 'NOUN'), ('to', 'PRT'), ('equip', 'VERB'), ('light', 'ADJ'), ('trucks', 'NOUN'), ('and', 'CONJ'), ('minivans', 'NOUN'), ('with', 'ADP'), ('lap-shoulder', 'DET'), ('belts', 'NOUN'), ('for', 'ADP'), ('rear', 'DET'), ('seats', 'NOUN'), ('*', 'X'), ('beginning', 'VERB'), ('in', 'ADP'), ('the', 'DET'), ('1992', 'NUM'), ('model', 'NOUN'), ('year', 'NOUN'), ('.', '.'), ('USX', 'NOUN'), ('announced', 'VERB'), ('in', 'ADP'), ('October', 'NOUN'), ('that', 'ADP'), ('it', 'PRON'), ('was', 'VERB'), ('soliciting', 'X'), ('bids', 'NOUN'), ('*', 'X'), ('to', 'PRT'), ('sell', 'VERB'), ('TXO', 'X'), (\"'s\", 'PRT'), ('oil', 'NOUN'), ('and', 'CONJ'), ('gas', 'NOUN'), ('reserves', 'NOUN'), ('.', '.'), ('``', '.'), ('The', 'DET'), ('way', 'NOUN'), ('that', 'ADP'), ('we', 'PRON'), (\"'ve\", 'VERB'), ('been', 'VERB'), ('managing', 'VERB'), ('Campbell', 'NOUN'), ('U.S.A.', 'NOUN'), ('*T*-2', 'X'), ('can', 'VERB'), ('hopefully', 'ADV'), ('spread', 'VERB'), ('to', 'PRT'), ('other', 'ADJ'), ('areas', 'NOUN'), ('of', 'ADP'), ('the', 'DET'), ('company', 'NOUN'), (',', '.'), (\"''\", '.'), ('Mr.', 'NOUN'), ('Baum', 'NOUN'), ('said', 'VERB'), ('*T*-1', 'X'), ('.', '.'), ('When', 'ADV'), ('*-4', 'X'), ('offered', 'VERB'), ('*-3', 'X'), ('a', 'DET'), ('free', 'ADJ'), ('trip', 'NOUN'), ('from', 'ADP'), ('the', 'DET'), ('Bronx', 'NOUN'), (',', '.'), ('Wedtech', 'NOUN'), (\"'s\", 'PRT'), ('home', 'NOUN'), (',', '.'), ('to', 'PRT'), ('Washington', 'NOUN'), (',', '.'), ('D.C.', 'NOUN'), (',', '.'), ('by', 'ADP'), ('one', 'NUM'), ('of', 'ADP'), ('Wedtech', 'NOUN'), (\"'s\", 'PRT'), ('principals', 'NOUN'), ('*T*-2', 'X'), (',', '.'), ('he', 'PRON'), ('tells', 'VERB'), ('the', 'DET'), ('reader', 'NOUN'), (',', '.'), ('``', '.'), ('*-5', 'X'), ('mindful', 'VERB'), ('of', 'ADP'), ('*', 'X'), ('accepting', 'VERB'), ('anything', 'NOUN'), ('of', 'ADP'), ('value', 'NOUN'), ('from', 'ADP'), ('those', 'DET'), ('0', 'X'), ('I', 'PRON'), ('was', 'VERB'), ('writing', 'VERB'), ('about', 'ADP'), ('*T*-1', 'X'), (',', '.'), ('I', 'PRON'), ('declined', 'VERB'), ('.', '.'), (\"''\", '.'), ('The', 'DET'), ('total', 'ADJ'), ('of', 'ADP'), ('18', 'NUM'), ('deaths', 'NOUN'), ('from', 'ADP'), ('malignant', 'DET'), ('mesothelioma', 'NOUN'), (',', '.'), ('lung', 'NOUN'), ('cancer', 'NOUN'), ('and', 'CONJ'), ('asbestosis', 'NOUN'), ('was', 'VERB'), ('far', 'ADV'), ('higher', 'ADJ'), ('than', 'ADP'), ('*', 'X'), ('expected', 'VERB'), ('*?*', 'X'), (',', '.'), ('the', 'DET'), ('researchers', 'NOUN'), ('said', 'VERB'), ('0', 'X'), ('*T*-1', 'X'), ('.', '.'), ('In', 'ADP'), ('October', 'NOUN'), ('1989', 'NUM'), (',', '.'), ('16.9', 'NOUN'), ('%', 'NOUN'), ('said', 'VERB'), ('0', 'X'), ('more', 'ADV'), ('jobs', 'NOUN'), ('will', 'VERB'), ('be', 'VERB'), ('created', 'VERB'), ('*-1', 'X'), ('in', 'ADP'), ('the', 'DET'), ('coming', 'VERB'), ('six', 'NUM'), ('months', 'NOUN'), (',', '.'), ('compared', 'VERB'), ('with', 'ADP'), ('17.4', 'DET'), ('%', 'NOUN'), ('in', 'ADP'), ('September', 'NOUN'), ('and', 'CONJ'), ('18.6', 'NOUN'), ('%', 'NOUN'), ('in', 'ADP'), ('October', 'NOUN'), ('1988', 'NUM'), ('.', '.'), ('Tokyu', 'NOUN'), ('Group', 'NOUN'), (',', '.'), ('Mitsubishi', 'NOUN'), ('Estate', 'NOUN'), ('and', 'CONJ'), ('Bridgestone\\\\/Firestone', 'NOUN'), (',', '.'), ('which', 'DET'), ('*T*-1', 'X'), ('advanced', 'VERB'), ('Tuesday', 'NOUN'), (',', '.'), ('declined', 'VERB'), ('on', 'ADP'), ('profit-taking', 'NOUN'), ('.', '.'), ('Traders', 'NOUN'), ('said', 'VERB'), ('0', 'X'), ('prices', 'NOUN'), ('also', 'ADV'), ('were', 'VERB'), ('supported', 'VERB'), ('*-1', 'X'), ('by', 'ADP'), ('widespread', 'ADJ'), ('rumors', 'NOUN'), ('that', 'ADP'), ('the', 'DET'), ('Soviet', 'ADJ'), ('Union', 'NOUN'), ('is', 'VERB'), ('on', 'ADP'), ('the', 'DET'), ('verge', 'NOUN'), ('of', 'ADP'), ('*', 'X'), ('receiving', 'VERB'), ('most', 'ADV'), ('favored', 'VERB'), ('nation', 'NOUN'), ('status', 'NOUN'), ('from', 'ADP'), ('the', 'DET'), ('U.S.', 'NOUN'), ('.', '.'), ('She', 'PRON'), ('became', 'VERB'), ('an', 'DET'), ('abortionist', 'NOUN'), ('accidentally', 'NOUN'), (',', '.'), ('and', 'CONJ'), ('continued', 'VERB'), ('because', 'ADP'), ('it', 'PRON'), ('enabled', 'VERB'), ('her', 'PRON'), ('to', 'PRT'), ('buy', 'VERB'), ('jam', 'X'), (',', '.'), ('cocoa', 'NOUN'), ('and', 'CONJ'), ('other', 'ADJ'), ('war-rationed', 'NOUN'), ('goodies', 'NOUN'), ('.', '.'), ('New', 'NOUN'), ('York', 'NOUN'), ('City', 'NOUN'), (':', '.'), ('Georgia-Pacific', 'NOUN'), (\"'s\", 'PRT'), ('sales', 'NOUN'), ('climbed', 'VERB'), ('to', 'PRT'), ('$', '.'), ('9.5', 'NUM'), ('billion', 'NUM'), ('*U*', 'X'), ('last', 'ADJ'), ('year', 'NOUN'), (',', '.'), ('compared', 'VERB'), ('with', 'ADP'), ('$', '.'), ('6', 'NUM'), ('billion', 'NUM'), ('*U*', 'X'), ('in', 'ADP'), ('1983', 'NUM'), (',', '.'), ('when', 'ADV'), ('Mr.', 'NOUN'), ('Hahn', 'NOUN'), ('took', 'VERB'), ('the', 'DET'), ('reins', 'NOUN'), ('*T*-1', 'X'), ('.', '.'), ('The', 'DET'), ('rest', 'NOUN'), ('went', 'VERB'), ('to', 'PRT'), ('investors', 'NOUN'), ('from', 'ADP'), ('France', 'NOUN'), ('and', 'CONJ'), ('Hong', 'NOUN'), ('Kong', 'NOUN'), ('.', '.'), ('For', 'ADP'), ('nearly', 'ADV'), ('a', 'DET'), ('decade', 'NOUN'), (',', '.'), ('banks', 'NOUN'), ('have', 'VERB'), ('competed', 'X'), ('for', 'ADP'), ('customers', 'NOUN'), ('primarily', 'ADV'), ('with', 'ADP'), ('the', 'DET'), ('interest', 'NOUN'), ('rates', 'NOUN'), ('0', 'X'), ('they', 'PRON'), ('pay', 'VERB'), ('*T*-1', 'X'), ('on', 'ADP'), ('their', 'PRON'), ('deposits', 'NOUN'), ('and', 'CONJ'), ('charge', 'NOUN'), ('*T*-1', 'X'), ('on', 'ADP'), ('their', 'PRON'), ('loans', 'NOUN'), ('.', '.'), ('Neither', 'DET'), ('company', 'NOUN'), ('would', 'VERB'), ('disclose', 'X'), ('the', 'DET'), ('program', 'NOUN'), (\"'s\", 'PRT'), ('cost', 'VERB'), ('.', '.'), ('In', 'ADP'), ('composite', 'ADJ'), ('New', 'NOUN'), ('York', 'NOUN'), ('Stock', 'NOUN'), ('Exchange', 'NOUN'), ('trading', 'NOUN'), (',', '.'), ('the', 'DET'), ('shares', 'NOUN'), ('closed', 'VERB'), ('at', 'ADP'), ('$', '.'), ('177', 'NUM'), ('*U*', 'X'), (',', '.'), ('up', 'ADV'), ('$', '.'), ('1.50', 'NOUN'), ('*U*', 'X'), ('.', '.'), ('J.L.', 'NOUN'), ('Henry', 'NOUN'), ('&', 'CONJ'), ('Co.', 'NOUN'), (',', '.'), ('Miami', 'NOUN'), (',', '.'), ('and', 'CONJ'), ('a', 'DET'), ('principal', 'NOUN'), ('of', 'ADP'), ('the', 'DET'), ('firm', 'NOUN'), (',', '.'), ('Henry', 'NOUN'), ('I.', 'NOUN'), ('Otero', 'NOUN'), ('of', 'ADP'), ('Miami', 'NOUN'), (',', '.'), ('were', 'VERB'), ('jointly', 'ADV'), ('fined', 'VERB'), ('*-1', 'X'), ('$', '.'), ('30,000', 'NUM'), ('*U*', 'X'), ('and', 'CONJ'), ('expelled', 'VERB'), ('*-1', 'X'), (',', '.'), ('for', 'ADP'), ('alleged', 'ADJ'), ('improper', 'NOUN'), ('use', 'VERB'), ('of', 'ADP'), ('a', 'DET'), ('customer', 'NOUN'), (\"'s\", 'PRT'), ('funds', 'NOUN'), (',', '.'), ('among', 'ADP'), ('other', 'ADJ'), ('things', 'NOUN'), ('.', '.'), ('The', 'DET'), ('first', 'ADJ'), ('Champagne', 'NOUN'), ('0', 'X'), ('*T*-1', 'X'), ('to', 'PRT'), ('crack', 'NOUN'), ('that', 'ADP'), ('price', 'NOUN'), ('barrier', 'NOUN'), ('was', 'VERB'), ('the', 'DET'), ('1979', 'NUM'), ('Salon', 'NOUN'), ('de', 'ADP'), ('Mesnil', 'NOUN'), ('Blanc', 'NOUN'), ('de', 'ADP'), ('Blancs', 'NOUN'), ('.', '.'), ('But', 'CONJ'), ('it', 'PRON'), ('*EXP*-1', 'X'), ('is', 'VERB'), (\"n't\", 'ADV'), ('clear', 'ADJ'), ('yet', 'ADV'), ('whether', 'ADP'), ('the', 'DET'), ('central', 'ADJ'), ('bank', 'NOUN'), ('will', 'VERB'), ('make', 'VERB'), ('such', 'ADJ'), ('a', 'DET'), ('move', 'NOUN'), ('.', '.'), ('January', 'NOUN'), ('platinum', 'NOUN'), ('was', 'VERB'), ('down', 'ADV'), ('$', '.'), ('5.70', 'NOUN'), ('*U*', 'X'), ('an', 'DET'), ('ounce', 'NOUN'), ('at', 'ADP'), ('$', '.'), ('494.50', 'NOUN'), ('*U*', 'X'), ('.', '.')]\n"
     ]
    }
   ],
   "source": [
    "# tagging the test sentences\n",
    "start = time.time()\n",
    "tagged_seq = Viterbi_modified1(test_tagged_words)\n",
    "end = time.time()\n",
    "print(tagged_seq)"
   ]
  },
  {
   "cell_type": "code",
   "execution_count": 52,
   "metadata": {},
   "outputs": [
    {
     "name": "stdout",
     "output_type": "stream",
     "text": [
      "Time taken in seconds:  2147.3045995235443\n"
     ]
    }
   ],
   "source": [
    "# Printing the time\n",
    "difference = end-start\n",
    "print(\"Time taken in seconds: \", difference)"
   ]
  },
  {
   "cell_type": "code",
   "execution_count": 53,
   "metadata": {},
   "outputs": [],
   "source": [
    "# accuracy\n",
    "check = [i for i, j in zip(tagged_seq, test_run_base) if i == j] "
   ]
  },
  {
   "cell_type": "code",
   "execution_count": 54,
   "metadata": {},
   "outputs": [
    {
     "data": {
      "text/plain": [
       "0.9388637703951248"
      ]
     },
     "execution_count": 54,
     "metadata": {},
     "output_type": "execute_result"
    }
   ],
   "source": [
    "accuracy = len(check)/len(tagged_seq)\n",
    "accuracy"
   ]
  },
  {
   "cell_type": "markdown",
   "metadata": {},
   "source": [
    "### Evaluating complete Test Data on the modifled Viterbi - Solution 2 - Rule Based\n",
    "### Assign all unknown words the most frequent POS tag of the corpus"
   ]
  },
  {
   "cell_type": "code",
   "execution_count": 55,
   "metadata": {},
   "outputs": [
    {
     "name": "stdout",
     "output_type": "stream",
     "text": [
      "[('For', 'ADP'), ('the', 'DET'), ('Agency', 'NOUN'), ('for', 'ADP'), ('International', 'NOUN'), ('Development', 'NOUN'), (',', '.'), ('appropriators', 'NOUN'), ('approved', 'VERB'), ('$', '.'), ('200', 'NUM'), ('million', 'NUM'), ('*U*', 'X'), ('in', 'ADP'), ('secondary', 'ADJ'), ('loan', 'NOUN'), ('guarantees', 'NOUN'), ('under', 'ADP'), ('an', 'DET'), ('expanded', 'VERB'), ('trade', 'VERB'), ('credit', 'NOUN'), ('insurance', 'NOUN'), ('program', 'NOUN'), (',', '.'), ('and', 'CONJ'), ('total', 'ADJ'), ('loan', 'NOUN'), ('guarantees', 'NOUN'), ('for', 'ADP'), ('the', 'DET'), ('Overseas', 'NOUN'), ('Private', 'ADJ'), ('Investment', 'NOUN'), ('Corp.', 'NOUN'), ('are', 'VERB'), ('increased', 'VERB'), ('*-3', 'X'), ('by', 'ADP'), ('$', '.'), ('40', 'NUM'), ('million', 'NUM'), ('*U*', 'X'), ('over', 'ADP'), ('fiscal', 'ADJ'), ('1989', 'NUM'), ('as', 'ADP'), ('part', 'NOUN'), ('of', 'ADP'), ('the', 'DET'), ('same', 'ADJ'), ('Poland', 'NOUN'), ('package', 'NOUN'), ('.', '.'), ('The', 'DET'), ('market', 'NOUN'), ('is', 'VERB'), ('just', 'ADV'), ('becoming', 'VERB'), ('more', 'ADV'), ('efficient', 'ADJ'), ('.', '.'), (\"''\", '.'), ('Moscow', 'NOUN'), ('has', 'VERB'), ('settled', 'VERB'), ('pre-1917', 'NOUN'), ('debts', 'NOUN'), ('with', 'ADP'), ('other', 'ADJ'), ('countries', 'NOUN'), ('in', 'ADP'), ('recent', 'ADJ'), ('years', 'NOUN'), ('at', 'ADP'), ('less', 'ADJ'), ('than', 'ADP'), ('face', 'NOUN'), ('value', 'NOUN'), ('.', '.'), ('``', '.'), ('Unemployment', 'NOUN'), ('continues', 'VERB'), ('at', 'ADP'), ('a', 'DET'), ('relatively', 'ADV'), ('low', 'ADJ'), ('level', 'NOUN'), (',', '.'), ('*', 'X'), ('providing', 'VERB'), ('a', 'DET'), ('sense', 'NOUN'), ('of', 'ADP'), ('job', 'NOUN'), ('security', 'NOUN'), (',', '.'), ('and', 'CONJ'), ('a', 'DET'), ('low', 'ADJ'), ('inflation', 'NOUN'), ('rate', 'NOUN'), ('has', 'VERB'), ('kept', 'VERB'), ('the', 'DET'), ('purchasing', 'NOUN'), ('power', 'NOUN'), ('of', 'ADP'), ('the', 'DET'), ('weekly', 'ADJ'), ('paycheck', 'NOUN'), ('reasonably', 'NOUN'), ('strong', 'ADJ'), ('.', '.'), (\"''\", '.'), ('At', 'ADP'), ('the', 'DET'), ('same', 'ADJ'), ('time', 'NOUN'), (',', '.'), ('though', 'ADP'), (',', '.'), ('he', 'PRON'), ('chastised', 'VERB'), ('the', 'DET'), ('media', 'NOUN'), ('for', 'ADP'), ('*', 'X'), ('paying', 'VERB'), ('such', 'ADJ'), ('close', 'NOUN'), ('attention', 'NOUN'), ('to', 'PRT'), ('Japanese', 'ADJ'), ('investment', 'NOUN'), ('when', 'ADV'), ('other', 'ADJ'), ('foreign', 'ADJ'), ('countries', 'NOUN'), (',', '.'), ('notably', 'ADV'), ('Britain', 'NOUN'), (',', '.'), ('are', 'VERB'), ('acquiring', 'VERB'), ('more', 'ADV'), ('American', 'ADJ'), ('assets', 'NOUN'), ('*T*-1', 'X'), ('.', '.'), ('*-1', 'X'), ('Funded', 'NOUN'), ('*-2', 'X'), ('by', 'ADP'), ('a', 'DET'), ('$', '.'), ('1', 'NUM'), ('million', 'NUM'), ('*U*', 'X'), ('gift', 'NOUN'), ('from', 'ADP'), ('Tokio', 'NOUN'), ('Marine', 'NOUN'), ('&', 'CONJ'), ('Fire', 'NOUN'), ('Insurance', 'NOUN'), (',', '.'), ('the', 'DET'), ('service', 'NOUN'), ('will', 'VERB'), ('follow', 'VERB'), ('Japanese', 'ADJ'), ('medical', 'ADJ'), ('protocols', 'NOUN'), (',', '.'), ('including', 'VERB'), ('emphasis', 'NOUN'), ('on', 'ADP'), ('preventative', 'NOUN'), ('medicine', 'NOUN'), ('.', '.'), ('On', 'ADP'), ('the', 'DET'), ('other', 'ADJ'), ('hand', 'NOUN'), (',', '.'), ('had', 'VERB'), ('it', 'PRON'), ('existed', 'NOUN'), ('then', 'ADV'), (',', '.'), ('Cray', 'NOUN'), ('Computer', 'NOUN'), ('would', 'VERB'), ('have', 'VERB'), ('incurred', 'VERB'), ('a', 'DET'), ('$', '.'), ('20.5', 'NOUN'), ('million', 'NUM'), ('*U*', 'X'), ('loss', 'NOUN'), ('.', '.'), ('``', '.'), ('The', 'DET'), ('disturbing', 'ADJ'), ('thing', 'NOUN'), ('about', 'ADP'), ('this', 'DET'), ('abortion', 'NOUN'), ('issue', 'NOUN'), ('is', 'VERB'), ('that', 'ADP'), ('the', 'DET'), ('debate', 'NOUN'), ('has', 'VERB'), ('become', 'VERB'), ('polarized', 'NOUN'), ('*-1', 'X'), (',', '.'), ('so', 'ADV'), ('that', 'ADP'), ('no', 'DET'), ('mechanism', 'NOUN'), ('*ICH*-2', 'X'), ('exists', 'NOUN'), (\"''\", '.'), ('for', 'ADP'), ('*', 'X'), ('finding', 'VERB'), ('a', 'DET'), ('middle', 'NOUN'), ('ground', 'NOUN'), ('.', '.'), ('Though', 'NOUN'), ('some', 'DET'), ('lawyers', 'NOUN'), ('reported', 'VERB'), ('that', 'ADP'), ('prospective', 'ADJ'), ('acquirers', 'NOUN'), ('were', 'VERB'), ('scrambling', 'VERB'), ('*-1', 'X'), ('to', 'PRT'), ('make', 'VERB'), ('filings', 'NOUN'), ('before', 'ADP'), ('the', 'DET'), ('fees', 'NOUN'), ('take', 'VERB'), ('effect', 'NOUN'), (',', '.'), ('government', 'NOUN'), ('officials', 'NOUN'), ('said', 'VERB'), ('0', 'X'), ('they', 'PRON'), ('had', 'VERB'), (\"n't\", 'ADV'), ('noticed', 'NOUN'), ('any', 'DET'), ('surge', 'NOUN'), ('in', 'ADP'), ('filings', 'NOUN'), ('.', '.'), ('Big', 'NOUN'), ('Board', 'NOUN'), ('volume', 'NOUN'), ('totaled', 'VERB'), ('154.2', 'NOUN'), ('million', 'NUM'), ('shares', 'NOUN'), ('.', '.'), ('Since', 'ADP'), ('chalk', 'NOUN'), ('first', 'ADJ'), ('touched', 'NOUN'), ('slate', 'NOUN'), (',', '.'), ('schoolchildren', 'NOUN'), ('have', 'VERB'), ('wanted', 'VERB'), ('*-1', 'X'), ('to', 'PRT'), ('know', 'VERB'), (':', '.'), ('What', 'PRON'), (\"'s\", 'VERB'), ('*T*-2', 'X'), ('on', 'ADP'), ('the', 'DET'), ('test', 'NOUN'), ('?', '.'), ('Moreover', 'ADV'), (',', '.'), ('they', 'PRON'), ('said', 'VERB'), ('0', 'X'), ('the', 'DET'), ('first', 'ADJ'), ('appropriations', 'NOUN'), ('bill', 'NOUN'), ('passed', 'VERB'), ('*', 'X'), ('200', 'NUM'), ('years', 'NOUN'), ('ago', 'ADP'), ('covered', 'VERB'), ('many', 'ADJ'), ('different', 'ADJ'), ('items', 'NOUN'), (',', '.'), ('and', 'CONJ'), ('there', 'DET'), ('was', 'VERB'), ('no', 'DET'), ('discussion', 'NOUN'), ('of', 'ADP'), ('a', 'DET'), ('line-item', 'ADJ'), ('veto', 'NOUN'), ('.', '.'), ('``', '.'), ('Wall', 'NOUN'), ('Street', 'NOUN'), ('is', 'VERB'), ('facing', 'VERB'), ('a', 'DET'), ('Catch-22', 'NOUN'), ('situation', 'NOUN'), (',', '.'), (\"''\", '.'), ('says', 'VERB'), ('*T*-1', 'X'), ('Mr.', 'NOUN'), ('Mahoney', 'NOUN'), ('of', 'ADP'), ('Moody', 'NOUN'), (\"'s\", 'PRT'), ('.', '.'), ('The', 'DET'), ('ban', 'NOUN'), ('on', 'ADP'), ('cross-border', 'NOUN'), ('movement', 'NOUN'), ('was', 'VERB'), ('imposed', 'VERB'), ('*-1', 'X'), ('last', 'ADJ'), ('month', 'NOUN'), ('after', 'ADP'), ('a', 'DET'), ('massive', 'ADJ'), ('exodus', 'NOUN'), ('of', 'ADP'), ('emigres', 'NOUN'), ('to', 'PRT'), ('West', 'NOUN'), ('Germany', 'NOUN'), ('.', '.'), ('Mr.', 'NOUN'), ('Ross', 'NOUN'), ('said', 'VERB'), ('0', 'X'), ('he', 'PRON'), ('met', 'VERB'), ('with', 'ADP'), ('officials', 'NOUN'), ('of', 'ADP'), ('the', 'DET'), ('IRS', 'NOUN'), ('and', 'CONJ'), ('the', 'DET'), ('Justice', 'NOUN'), ('Department', 'NOUN'), (',', '.'), ('which', 'DET'), ('*T*-133', 'NOUN'), ('would', 'VERB'), ('bring', 'VERB'), ('any', 'DET'), ('enforcement', 'NOUN'), ('actions', 'NOUN'), ('against', 'ADP'), ('taxpayers', 'NOUN'), (',', '.'), ('*-1', 'X'), ('to', 'PRT'), ('discuss', 'VERB'), ('the', 'DET'), ('issue', 'NOUN'), ('last', 'ADJ'), ('May', 'NOUN'), ('.', '.'), ('Among', 'ADP'), ('other', 'ADJ'), ('things', 'NOUN'), (',', '.'), ('it', 'PRON'), ('included', 'VERB'), ('checking', 'NOUN'), (',', '.'), ('safe', 'NOUN'), ('deposit', 'NOUN'), ('box', 'NOUN'), ('and', 'CONJ'), ('credit', 'NOUN'), ('card', 'NOUN'), ('--', '.'), ('all', 'DET'), ('for', 'ADP'), ('free', 'ADJ'), ('--', '.'), ('plus', 'CONJ'), ('a', 'DET'), ('good', 'ADJ'), ('deal', 'NOUN'), ('on', 'ADP'), ('installment', 'NOUN'), ('loans', 'NOUN'), ('.', '.'), ('Fujitsu', 'NOUN'), ('Ltd.', 'NOUN'), (\"'s\", 'PRT'), ('top', 'ADJ'), ('executive', 'NOUN'), ('took', 'VERB'), ('the', 'DET'), ('unusual', 'ADJ'), ('step', 'NOUN'), ('of', 'ADP'), ('*', 'X'), ('publicly', 'ADV'), ('apologizing', 'NOUN'), ('for', 'ADP'), ('his', 'PRON'), ('company', 'NOUN'), (\"'s\", 'PRT'), ('making', 'VERB'), ('bids', 'NOUN'), ('of', 'ADP'), ('just', 'ADV'), ('one', 'NUM'), ('yen', 'NOUN'), ('for', 'ADP'), ('several', 'ADJ'), ('local', 'ADJ'), ('government', 'NOUN'), ('projects', 'NOUN'), (',', '.'), ('while', 'ADP'), ('computer', 'NOUN'), ('rival', 'NOUN'), ('NEC', 'NOUN'), ('Corp.', 'NOUN'), ('made', 'VERB'), ('a', 'DET'), ('written', 'VERB'), ('apology', 'NOUN'), ('for', 'ADP'), ('*', 'X'), ('indulging', 'NOUN'), ('in', 'ADP'), ('the', 'DET'), ('same', 'ADJ'), ('practice', 'NOUN'), ('.', '.'), ('From', 'ADP'), ('1953', 'NOUN'), ('to', 'PRT'), ('1955', 'NOUN'), (',', '.'), ('9.8', 'NUM'), ('billion', 'NUM'), ('Kent', 'NOUN'), ('cigarettes', 'NOUN'), ('with', 'ADP'), ('the', 'DET'), ('filters', 'NOUN'), ('were', 'VERB'), ('sold', 'VERB'), ('*-3', 'X'), (',', '.'), ('the', 'DET'), ('company', 'NOUN'), ('said', 'VERB'), ('0', 'X'), ('*T*-1', 'X'), ('.', '.'), ('Some', 'DET'), ('of', 'ADP'), ('the', 'DET'), ('homeless', 'ADJ'), (',', '.'), ('obviously', 'ADV'), (',', '.'), ('had', 'VERB'), ('pre-existing', 'NOUN'), ('mental', 'ADJ'), ('illness', 'NOUN'), ('or', 'CONJ'), ('addiction', 'NOUN'), ('.', '.'), ('``', '.'), ('We', 'PRON'), (\"'re\", 'VERB'), ('gaining', 'VERB'), ('1,200', 'NOUN'), ('new', 'ADJ'), ('customers', 'NOUN'), ('each', 'DET'), ('week', 'NOUN'), (',', '.'), (\"''\", '.'), ('says', 'VERB'), ('*T*-1', 'X'), ('Jack', 'NOUN'), ('Mogavero', 'NOUN'), ('of', 'ADP'), ('General', 'NOUN'), ('Health', 'NOUN'), ('Care', 'NOUN'), ('Corp.', 'NOUN'), (',', '.'), ('Piscataway', 'NOUN'), (',', '.'), ('N.J', 'NOUN'), ('.', '.'), ('It', 'PRON'), ('all', 'DET'), ('adds', 'VERB'), ('up', 'ADV'), ('to', 'PRT'), ('a', 'DET'), ('barrier', 'NOUN'), ('to', 'PRT'), ('American-style', 'NOUN'), ('index', 'NOUN'), ('arbitrage', 'NOUN'), (',', '.'), ('the', 'DET'), ('most', 'ADJ'), ('popular', 'ADJ'), ('form', 'NOUN'), ('of', 'ADP'), ('U.S.', 'NOUN'), ('program', 'NOUN'), ('trading', 'NOUN'), ('that', 'ADP'), ('*T*-253', 'NOUN'), ('seeks', 'VERB'), ('*-1', 'X'), ('to', 'PRT'), ('exploit', 'NOUN'), ('brief', 'VERB'), ('differences', 'NOUN'), ('between', 'ADP'), ('prices', 'NOUN'), ('of', 'ADP'), ('stocks', 'NOUN'), ('in', 'ADP'), ('New', 'NOUN'), ('York', 'NOUN'), ('and', 'CONJ'), ('the', 'DET'), ('price', 'NOUN'), ('of', 'ADP'), ('a', 'DET'), ('futures', 'NOUN'), ('contract', 'NOUN'), ('in', 'ADP'), ('Chicago', 'NOUN'), ('based', 'VERB'), ('on', 'ADP'), ('those', 'DET'), ('stocks', 'NOUN'), ('.', '.'), ('The', 'DET'), ('great', 'ADJ'), ('reds', 'NOUN'), ('of', 'ADP'), ('the', 'DET'), ('Rhone', 'NOUN'), ('Valley', 'NOUN'), ('have', 'VERB'), ('soared', 'VERB'), ('in', 'ADP'), ('price', 'NOUN'), ('as', 'ADP'), ('well', 'ADV'), ('.', '.'), ('That', 'DET'), ('followed', 'VERB'), ('four', 'NUM'), ('straight', 'ADJ'), ('months', 'NOUN'), ('in', 'ADP'), ('which', 'DET'), ('the', 'DET'), ('number', 'NOUN'), ('of', 'ADP'), ('increases', 'NOUN'), ('trailed', 'VERB'), ('the', 'DET'), ('year-earlier', 'ADJ'), ('pace', 'NOUN'), ('*T*-1', 'X'), ('.', '.'), ('Revenue', 'NOUN'), ('rose', 'VERB'), ('42', 'NUM'), ('%', 'NOUN'), ('to', 'PRT'), ('$', '.'), ('133.7', 'NOUN'), ('million', 'NUM'), ('*U*', 'X'), ('from', 'ADP'), ('$', '.'), ('94', 'NOUN'), ('million', 'NUM'), ('*U*', 'X'), ('.', '.'), ('When', 'ADV'), ('test', 'VERB'), ('booklets', 'NOUN'), ('were', 'VERB'), ('passed', 'VERB'), ('*-1', 'X'), ('out', 'PRT'), ('48', 'NUM'), ('hours', 'NOUN'), ('ahead', 'ADV'), ('of', 'ADP'), ('time', 'NOUN'), ('*T*-2', 'X'), (',', '.'), ('she', 'PRON'), ('says', 'VERB'), ('0', 'X'), ('she', 'PRON'), ('copied', 'NOUN'), ('questions', 'NOUN'), ('in', 'ADP'), ('the', 'DET'), ('social', 'ADJ'), ('studies', 'NOUN'), ('section', 'NOUN'), ('and', 'CONJ'), ('gave', 'VERB'), ('the', 'DET'), ('answers', 'NOUN'), ('to', 'PRT'), ('students', 'NOUN'), ('.', '.'), ('They', 'PRON'), ('belong', 'VERB'), ('to', 'PRT'), ('a', 'DET'), ('group', 'NOUN'), ('of', 'ADP'), ('15', 'NUM'), ('ringers', 'NOUN'), ('--', '.'), ('including', 'VERB'), ('two', 'NUM'), ('octogenarians', 'NOUN'), ('and', 'CONJ'), ('four', 'NUM'), ('youngsters', 'NOUN'), ('in', 'ADP'), ('training', 'NOUN'), ('--', '.'), ('who', 'PRON'), ('*T*-222', 'NOUN'), ('drive', 'VERB'), ('every', 'DET'), ('Sunday', 'NOUN'), ('from', 'ADP'), ('church', 'NOUN'), ('to', 'PRT'), ('church', 'NOUN'), ('in', 'ADP'), ('a', 'DET'), ('sometimes-exhausting', 'NOUN'), ('effort', 'NOUN'), ('*', 'X'), ('to', 'PRT'), ('keep', 'VERB'), ('the', 'DET'), ('bells', 'NOUN'), ('sounding', 'NOUN'), ('in', 'ADP'), ('the', 'DET'), ('many', 'ADJ'), ('belfries', 'NOUN'), ('of', 'ADP'), ('East', 'NOUN'), ('Anglia', 'NOUN'), ('.', '.'), ('Imports', 'NOUN'), ('of', 'ADP'), ('manmade-fiber', 'NOUN'), ('sweaters', 'NOUN'), ('in', 'ADP'), ('1988', 'NUM'), ('totaled', 'VERB'), ('about', 'ADP'), ('$', '.'), ('405', 'NOUN'), ('million', 'NUM'), ('*U*', 'X'), ('from', 'ADP'), ('Taiwan', 'NOUN'), (',', '.'), ('$', '.'), ('400', 'NUM'), ('million', 'NUM'), ('*U*', 'X'), ('from', 'ADP'), ('South', 'NOUN'), ('Korea', 'NOUN'), ('and', 'CONJ'), ('$', '.'), ('125', 'NUM'), ('million', 'NUM'), ('*U*', 'X'), ('from', 'ADP'), ('Hong', 'NOUN'), ('Kong', 'NOUN'), (',', '.'), ('according', 'VERB'), ('to', 'PRT'), ('the', 'DET'), ('ITC', 'NOUN'), ('.', '.'), ('What', 'PRON'), ('*T*-102', 'NOUN'), (\"'s\", 'PRT'), ('more', 'ADJ'), (',', '.'), ('the', 'DET'), ('test', 'NOUN'), ('and', 'CONJ'), ('Learning', 'NOUN'), ('Materials', 'NOUN'), ('are', 'VERB'), ('both', 'DET'), ('produced', 'VERB'), ('*-1', 'X'), ('by', 'ADP'), ('the', 'DET'), ('same', 'ADJ'), ('company', 'NOUN'), (',', '.'), ('Macmillan\\\\/McGraw-Hill', 'NOUN'), (',', '.'), ('a', 'DET'), ('joint', 'ADJ'), ('venture', 'NOUN'), ('of', 'ADP'), ('McGraw-Hill', 'NOUN'), ('Inc.', 'NOUN'), ('and', 'CONJ'), ('Macmillan', 'NOUN'), (\"'s\", 'PRT'), ('parent', 'NOUN'), (',', '.'), ('Britain', 'NOUN'), (\"'s\", 'PRT'), ('Maxwell', 'NOUN'), ('Communication', 'NOUN'), ('Corp', 'NOUN'), ('.', '.'), ('This', 'DET'), ('year', 'NOUN'), ('it', 'PRON'), ('is', 'VERB'), ('expected', 'VERB'), ('*-1', 'X'), ('to', 'PRT'), ('be', 'VERB'), ('a', 'DET'), ('net', 'ADJ'), ('importer', 'NOUN'), ('and', 'CONJ'), ('is', 'VERB'), ('said', 'VERB'), ('*-1', 'X'), ('to', 'PRT'), ('be', 'VERB'), ('seeking', 'VERB'), ('*-2', 'X'), ('to', 'PRT'), ('buy', 'VERB'), ('about', 'ADP'), ('200,000', 'NUM'), ('tons', 'NOUN'), ('of', 'ADP'), ('sugar', 'NOUN'), ('*-3', 'X'), ('to', 'PRT'), ('meet', 'VERB'), ('internal', 'ADJ'), ('needs', 'NOUN'), (',', '.'), ('analysts', 'NOUN'), ('said', 'VERB'), ('0', 'X'), ('*T*-4', 'X'), ('.', '.'), ('This', 'DET'), ('trial', 'NOUN'), ('is', 'VERB'), ('expected', 'VERB'), ('*-1', 'X'), ('to', 'PRT'), ('last', 'ADJ'), ('five', 'NUM'), ('weeks', 'NOUN'), ('.', '.'), ('ShareData', 'NOUN'), ('develops', 'NOUN'), ('and', 'CONJ'), ('markets', 'NOUN'), ('low-cost', 'NOUN'), ('software', 'NOUN'), (',', '.'), ('peripheral', 'ADJ'), ('equipment', 'NOUN'), ('and', 'CONJ'), ('accessories', 'NOUN'), ('for', 'ADP'), ('computers', 'NOUN'), ('.', '.'), ('In', 'ADP'), ('separate', 'ADJ'), ('floor', 'NOUN'), ('action', 'NOUN'), (',', '.'), ('the', 'DET'), ('House', 'NOUN'), ('waived', 'NOUN'), ('budget', 'NOUN'), ('restrictions', 'NOUN'), ('and', 'CONJ'), ('gave', 'VERB'), ('quick', 'ADJ'), ('approval', 'NOUN'), ('to', 'PRT'), ('$', '.'), ('3.18', 'NUM'), ('billion', 'NUM'), ('*U*', 'X'), ('in', 'ADP'), ('supplemental', 'NOUN'), ('appropriations', 'NOUN'), ('for', 'ADP'), ('law', 'NOUN'), ('enforcement', 'NOUN'), ('and', 'CONJ'), ('anti-drug', 'NOUN'), ('programs', 'NOUN'), ('in', 'ADP'), ('fiscal', 'ADJ'), ('1990', 'NUM'), ('.', '.'), ('It', 'PRON'), ('has', 'VERB'), ('no', 'DET'), ('bearing', 'VERB'), ('on', 'ADP'), ('our', 'PRON'), ('work', 'VERB'), ('force', 'VERB'), ('today', 'NOUN'), ('.', '.'), ('But', 'CONJ'), ('he', 'PRON'), ('has', 'VERB'), ('not', 'ADV'), ('said', 'VERB'), ('before', 'ADP'), ('that', 'DET'), ('the', 'DET'), ('country', 'NOUN'), ('wants', 'VERB'), ('half', 'DET'), ('the', 'DET'), ('debt', 'NOUN'), ('forgiven', 'VERB'), ('*-2', 'X'), ('.', '.'), ('Also', 'ADV'), (',', '.'), ('Mr.', 'NOUN'), ('Canepa', 'NOUN'), ('received', 'VERB'), ('a', 'DET'), ('two-week', 'ADJ'), ('suspension', 'NOUN'), ('``', '.'), ('in', 'ADP'), ('a', 'DET'), ('principal', 'NOUN'), ('capacity', 'NOUN'), ('.', '.'), (\"''\", '.'), ('``', '.'), ('The', 'DET'), ('IRS', 'NOUN'), ('is', 'VERB'), ('asking', 'VERB'), ('lawyers', 'NOUN'), ('*-1', 'X'), ('to', 'PRT'), ('red-flag', 'NOUN'), ('a', 'DET'), ('criminal', 'ADJ'), ('problem', 'NOUN'), ('to', 'PRT'), ('the', 'DET'), ('government', 'NOUN'), (',', '.'), (\"''\", '.'), ('added', 'VERB'), ('Mr.', 'NOUN'), ('Sonnett', 'NOUN'), (',', '.'), ('a', 'DET'), ('Miami', 'NOUN'), ('lawyer', 'NOUN'), ('who', 'PRON'), ('*T*-128', 'NOUN'), ('has', 'VERB'), ('heard', 'VERB'), ('from', 'ADP'), ('dozens', 'NOUN'), ('of', 'ADP'), ('attorneys', 'NOUN'), ('who', 'PRON'), ('*T*-129', 'NOUN'), ('received', 'VERB'), ('letters', 'NOUN'), ('in', 'ADP'), ('recent', 'ADJ'), ('days', 'NOUN'), ('and', 'CONJ'), ('has', 'VERB'), ('himself', 'PRON'), ('received', 'VERB'), ('the', 'DET'), ('computer-generated', 'NOUN'), ('IRS', 'NOUN'), ('forms', 'NOUN'), ('sent', 'VERB'), ('*', 'X'), ('by', 'ADP'), ('certified', 'NOUN'), ('mail', 'NOUN'), ('.', '.'), ('During', 'ADP'), ('the', 'DET'), ('coming', 'VERB'), ('weeks', 'NOUN'), (',', '.'), ('President', 'NOUN'), ('Bush', 'NOUN'), ('must', 'VERB'), ('decide', 'VERB'), ('whether', 'ADP'), ('*', 'X'), ('to', 'PRT'), ('veto', 'NOUN'), ('the', 'DET'), ('bills', 'NOUN'), ('containing', 'NOUN'), ('them', 'PRON'), ('--', '.'), ('or', 'CONJ'), (',', '.'), ('alternatively', 'NOUN'), (',', '.'), ('*', 'X'), ('to', 'PRT'), ('sign', 'NOUN'), ('these', 'DET'), ('bills', 'NOUN'), ('into', 'ADP'), ('law', 'NOUN'), ('with', 'ADP'), ('a', 'DET'), ('statement', 'NOUN'), ('declaring', 'VERB'), ('their', 'PRON'), ('intrusions', 'NOUN'), ('on', 'ADP'), ('executive', 'NOUN'), ('power', 'NOUN'), ('to', 'PRT'), ('be', 'VERB'), ('in', 'ADP'), ('violation', 'NOUN'), ('of', 'ADP'), ('Article', 'NOUN'), ('II', 'NOUN'), (',', '.'), ('and', 'CONJ'), ('thus', 'ADV'), ('void', 'NOUN'), ('and', 'CONJ'), ('severable', 'ADJ'), ('.', '.'), ('Santa', 'NOUN'), ('Ana', 'NOUN'), ('Community', 'NOUN'), ('Redevelopment', 'NOUN'), ('Agency', 'NOUN'), (',', '.'), ('Calif.', 'NOUN'), ('--', '.'), ('R.P.', 'NOUN'), ('Scherer', 'NOUN'), ('Corp.', 'NOUN'), ('said', 'VERB'), ('0', 'X'), ('it', 'PRON'), ('completed', 'VERB'), ('the', 'DET'), ('$', '.'), ('10.2', 'NUM'), ('million', 'NUM'), ('*U*', 'X'), ('sale', 'NOUN'), ('of', 'ADP'), ('its', 'PRON'), ('Southern', 'NOUN'), ('Optical', 'NOUN'), ('subsidiary', 'NOUN'), ('to', 'PRT'), ('a', 'DET'), ('group', 'NOUN'), ('led', 'VERB'), ('*', 'X'), ('by', 'ADP'), ('the', 'DET'), ('unit', 'NOUN'), (\"'s\", 'PRT'), ('president', 'NOUN'), (',', '.'), ('Thomas', 'NOUN'), ('R.', 'NOUN'), ('Sloan', 'NOUN'), (',', '.'), ('and', 'CONJ'), ('other', 'ADJ'), ('managers', 'NOUN'), ('.', '.'), ('In', 'ADP'), ('the', 'DET'), ('U.S.', 'NOUN'), ('over-the-counter', 'ADJ'), ('market', 'NOUN'), (',', '.'), ('American', 'NOUN'), ('depositary', 'NOUN'), ('shares', 'NOUN'), ('for', 'ADP'), ('Reuters', 'NOUN'), (',', '.'), ('each', 'DET'), ('representing', 'VERB'), ('three', 'NUM'), ('shares', 'NOUN'), ('in', 'ADP'), ('the', 'DET'), ('London', 'NOUN'), ('market', 'NOUN'), (',', '.'), ('closed', 'VERB'), ('unchanged', 'ADJ'), ('at', 'ADP'), ('$', '.'), ('43.875', 'NOUN'), ('*U*', 'X'), ('.', '.'), ('You', 'PRON'), ('have', 'VERB'), ('a', 'DET'), ('right', 'NOUN'), ('*-2', 'X'), ('to', 'PRT'), ('read', 'VERB'), ('Voice', 'NOUN'), ('of', 'ADP'), ('America', 'NOUN'), ('scripts', 'NOUN'), ('if', 'ADP'), ('you', 'PRON'), ('do', 'VERB'), (\"n't\", 'ADV'), ('mind', 'NOUN'), ('*-1', 'X'), ('traveling', 'VERB'), ('to', 'PRT'), ('Washington', 'NOUN'), ('every', 'DET'), ('week', 'NOUN'), ('or', 'CONJ'), ('so', 'ADV'), ('and', 'CONJ'), ('*-1', 'X'), ('visiting', 'VERB'), ('the', 'DET'), ('Voice', 'NOUN'), ('office', 'NOUN'), ('during', 'ADP'), ('business', 'NOUN'), ('hours', 'NOUN'), ('.', '.'), ('Rick', 'NOUN'), ('Brownell', 'NOUN'), (',', '.'), ('senior', 'ADJ'), ('editor', 'NOUN'), ('of', 'ADP'), ('Scoring', 'NOUN'), ('High', 'NOUN'), (',', '.'), ('says', 'VERB'), ('that', 'ADP'), ('Messrs.', 'NOUN'), ('Kaminski', 'NOUN'), ('and', 'CONJ'), ('Mehrens', 'NOUN'), ('are', 'VERB'), ('ignoring', 'VERB'), ('``', '.'), ('the', 'DET'), ('need', 'NOUN'), ('0', 'X'), ('students', 'NOUN'), ('have', 'VERB'), ('*T*-1', 'X'), ('for', 'ADP'), ('*', 'X'), ('becoming', 'VERB'), ('familiar', 'ADJ'), ('with', 'ADP'), ('tests', 'NOUN'), ('and', 'CONJ'), ('testing', 'NOUN'), ('format', 'NOUN'), ('.', '.'), (\"''\", '.'), ('Some', 'DET'), ('think', 'VERB'), ('0', 'X'), ('Columbia', 'NOUN'), (\"'s\", 'PRT'), ('thrift', 'NOUN'), (',', '.'), ('which', 'DET'), ('*T*-1', 'X'), ('now', 'ADV'), ('is', 'VERB'), ('seeking', 'VERB'), ('a', 'DET'), ('new', 'ADJ'), ('chief', 'NOUN'), ('operating', 'NOUN'), ('officer', 'NOUN'), (',', '.'), ('might', 'VERB'), ('be', 'VERB'), ('capitalized', 'VERB'), ('*-3', 'X'), ('at', 'ADP'), (',', '.'), ('say', 'VERB'), ('$', '.'), ('300', 'NUM'), ('million', 'NUM'), ('*U*', 'X'), (',', '.'), ('and', 'CONJ'), ('shopped', 'NOUN'), ('*-3', 'X'), ('to', 'PRT'), ('a', 'DET'), ('commercial', 'ADJ'), ('bank', 'NOUN'), ('that', 'ADP'), ('*T*-2', 'X'), ('wants', 'VERB'), ('a', 'DET'), ('California', 'NOUN'), ('presence', 'NOUN'), ('.', '.'), ('It', 'PRON'), ('also', 'ADV'), ('helps', 'NOUN'), ('*-2', 'X'), ('explain', 'VERB'), ('the', 'DET'), ('reluctance', 'NOUN'), ('*ICH*-1', 'X'), ('of', 'ADP'), ('the', 'DET'), ('major', 'ADJ'), ('farm', 'NOUN'), ('lobbies', 'NOUN'), ('and', 'CONJ'), ('many', 'ADJ'), ('lawmakers', 'NOUN'), ('*', 'X'), ('to', 'PRT'), ('make', 'VERB'), ('any', 'DET'), ('significant', 'ADJ'), ('changes', 'NOUN'), ('in', 'ADP'), ('the', 'DET'), ('1985', 'NUM'), ('farm', 'NOUN'), ('program', 'NOUN'), ('next', 'ADP'), ('year', 'NOUN'), ('.', '.'), ('Yesterday', 'NOUN'), (\"'s\", 'PRT'), ('share', 'NOUN'), ('turnover', 'NOUN'), ('was', 'VERB'), ('well', 'ADV'), ('below', 'ADP'), ('the', 'DET'), ('year', 'NOUN'), (\"'s\", 'PRT'), ('daily', 'ADJ'), ('average', 'ADJ'), ('of', 'ADP'), ('133.8', 'NOUN'), ('million', 'NUM'), ('.', '.'), ('Elco', 'NOUN'), ('Industries', 'NOUN'), ('Inc.', 'NOUN'), ('said', 'VERB'), ('0', 'X'), ('it', 'PRON'), ('expects', 'VERB'), ('net', 'ADJ'), ('income', 'NOUN'), ('in', 'ADP'), ('the', 'DET'), ('year', 'NOUN'), ('ending', 'VERB'), ('June', 'NOUN'), ('30', 'NUM'), (',', '.'), ('1990', 'NUM'), (',', '.'), ('to', 'PRT'), ('fall', 'VERB'), ('below', 'ADP'), ('a', 'DET'), ('recent', 'ADJ'), ('analyst', 'NOUN'), (\"'s\", 'PRT'), ('estimate', 'NOUN'), ('of', 'ADP'), ('$', '.'), ('1.65', 'NUM'), ('*U*', 'X'), ('a', 'DET'), ('share', 'NOUN'), ('.', '.'), ('*', 'X'), ('Excluding', 'VERB'), ('one-time', 'ADJ'), ('additions', 'NOUN'), ('to', 'PRT'), ('profit', 'NOUN'), ('in', 'ADP'), ('each', 'DET'), ('year', 'NOUN'), (',', '.'), ('earnings', 'NOUN'), ('per', 'ADP'), ('share', 'NOUN'), ('were', 'VERB'), ('$', '.'), ('2.47', 'NOUN'), ('*U*', 'X'), (',', '.'), ('up', 'ADV'), ('7.4', 'NOUN'), ('%', 'NOUN'), ('from', 'ADP'), ('$', '.'), ('2.30', 'NOUN'), ('*U*', 'X'), ('in', 'ADP'), ('fiscal', 'ADJ'), ('1988', 'NUM'), ('.', '.'), ('A', 'DET'), ('final', 'ADJ'), ('modification', 'NOUN'), ('*ICH*-1', 'X'), ('was', 'VERB'), ('made', 'VERB'), ('*-130', 'NOUN'), ('to', 'PRT'), ('the', 'DET'), ('five-point', 'ADJ'), ('opening', 'NOUN'), ('limit', 'NOUN'), ('for', 'ADP'), ('the', 'DET'), ('contract', 'NOUN'), ('.', '.'), ('The', 'DET'), ('company', 'NOUN'), (\"'s\", 'PRT'), ('stock', 'NOUN'), ('fell', 'VERB'), ('$', '.'), ('1.125', 'NUM'), ('*U*', 'X'), ('to', 'PRT'), ('$', '.'), ('13.625', 'NOUN'), ('*U*', 'X'), ('in', 'ADP'), ('over-the-counter', 'ADJ'), ('trading', 'NOUN'), ('yesterday', 'NOUN'), ('.', '.'), ('R.', 'NOUN'), ('Gordon', 'NOUN'), ('McGovern', 'NOUN'), ('was', 'VERB'), ('forced', 'VERB'), ('*-37', 'X'), ('out', 'PRT'), ('as', 'ADP'), ('Campbell', 'NOUN'), ('Soup', 'NOUN'), ('Co.', 'NOUN'), (\"'s\", 'PRT'), ('president', 'NOUN'), ('and', 'CONJ'), ('chief', 'NOUN'), ('executive', 'NOUN'), ('officer', 'NOUN'), (',', '.'), ('the', 'DET'), ('strongest', 'ADJ'), ('evidence', 'NOUN'), ('yet', 'ADV'), ('of', 'ADP'), ('the', 'DET'), ('power', 'NOUN'), ('that', 'ADP'), ('Dorrance', 'NOUN'), ('family', 'NOUN'), ('members', 'NOUN'), ('intend', 'VERB'), ('*-2', 'X'), ('to', 'PRT'), ('wield', 'NOUN'), ('*T*-1', 'X'), ('in', 'ADP'), ('*', 'X'), ('reshaping', 'VERB'), ('the', 'DET'), ('troubled', 'ADJ'), ('food', 'NOUN'), ('company', 'NOUN'), ('.', '.'), ('Muzzling', 'NOUN'), ('provisions', 'NOUN'), (',', '.'), ('which', 'DET'), ('*T*-1', 'X'), ('might', 'VERB'), ('be', 'VERB'), ('called', 'VERB'), ('*-56', 'X'), ('``', '.'), ('blindfold', 'NOUN'), ('laws', 'NOUN'), (\"''\", '.'), ('as', 'ADP'), ('well', 'ADV'), (',', '.'), ('prevent', 'VERB'), ('the', 'DET'), ('executive', 'NOUN'), ('branch', 'NOUN'), ('from', 'ADP'), ('even', 'ADV'), ('*-2', 'X'), ('looking', 'VERB'), ('at', 'ADP'), ('certain', 'ADJ'), ('policy', 'NOUN'), ('options', 'NOUN'), (',', '.'), ('let', 'VERB'), ('alone', 'ADV'), ('from', 'ADP'), ('*-2', 'X'), ('recommending', 'NOUN'), ('them', 'PRON'), ('to', 'PRT'), ('Congress', 'NOUN'), ('.', '.'), ('``', '.'), ('Anything', 'NOUN'), (\"'s\", 'PRT'), ('possible', 'ADJ'), ('--', '.'), ('how', 'ADV'), ('about', 'ADP'), ('the', 'DET'), ('New', 'NOUN'), ('Guinea', 'NOUN'), ('Fund', 'NOUN'), ('?', '.'), (\"''\", '.'), ('quips', 'NOUN'), ('*T*-1', 'X'), ('George', 'NOUN'), ('Foot', 'NOUN'), (',', '.'), ('a', 'DET'), ('managing', 'VERB'), ('partner', 'NOUN'), ('at', 'ADP'), ('Newgate', 'NOUN'), ('Management', 'NOUN'), ('Associates', 'NOUN'), ('of', 'ADP'), ('Northampton', 'NOUN'), (',', '.'), ('Mass', 'NOUN'), ('.', '.'), ('Genetics', 'NOUN'), ('Institute', 'NOUN'), ('Inc.', 'NOUN'), (',', '.'), ('Cambridge', 'NOUN'), (',', '.'), ('Mass.', 'NOUN'), (',', '.'), ('said', 'VERB'), ('0', 'X'), ('it', 'PRON'), ('was', 'VERB'), ('awarded', 'VERB'), ('*-4', 'X'), ('U.S.', 'NOUN'), ('patents', 'NOUN'), ('for', 'ADP'), ('Interleukin-3', 'NOUN'), ('and', 'CONJ'), ('bone', 'NOUN'), ('morphogenetic', 'ADJ'), ('protein', 'NOUN'), ('.', '.'), ('Fundamentalists', 'NOUN'), ('Jihad', 'NOUN'), ('Sen.', 'NOUN'), ('Danforth', 'NOUN'), ('and', 'CONJ'), ('others', 'NOUN'), ('also', 'ADV'), ('want', 'VERB'), ('the', 'DET'), ('department', 'NOUN'), ('to', 'PRT'), ('require', 'VERB'), ('additional', 'ADJ'), ('safety', 'NOUN'), ('equipment', 'NOUN'), ('*ICH*-1', 'X'), ('in', 'ADP'), ('light', 'ADJ'), ('trucks', 'NOUN'), ('and', 'CONJ'), ('minivans', 'NOUN'), (',', '.'), ('including', 'VERB'), ('air', 'VERB'), ('bags', 'NOUN'), ('or', 'CONJ'), ('automatic', 'ADJ'), ('seat', 'NOUN'), ('belts', 'NOUN'), ('in', 'ADP'), ('front', 'NOUN'), ('seats', 'NOUN'), ('and', 'CONJ'), ('improved', 'VERB'), ('side-crash', 'NOUN'), ('protection', 'NOUN'), ('.', '.'), ('The', 'DET'), ('Labor', 'NOUN'), ('Department', 'NOUN'), ('cited', 'VERB'), ('USX', 'NOUN'), ('Corp.', 'NOUN'), ('for', 'ADP'), ('numerous', 'ADJ'), ('health', 'NOUN'), ('and', 'CONJ'), ('safety', 'NOUN'), ('violations', 'NOUN'), ('at', 'ADP'), ('two', 'NUM'), ('Pennsylvania', 'NOUN'), ('plants', 'NOUN'), (',', '.'), ('and', 'CONJ'), ('proposed', 'VERB'), ('$', '.'), ('7.3', 'NUM'), ('million', 'NUM'), ('*U*', 'X'), ('in', 'ADP'), ('fines', 'NOUN'), (',', '.'), ('the', 'DET'), ('largest', 'ADJ'), ('penalty', 'NOUN'), ('ever', 'ADV'), ('proposed', 'VERB'), ('*', 'X'), ('for', 'ADP'), ('alleged', 'ADJ'), ('workplace', 'NOUN'), ('violations', 'NOUN'), ('by', 'ADP'), ('an', 'DET'), ('employer', 'NOUN'), ('.', '.'), ('While', 'ADP'), ('program', 'NOUN'), ('trades', 'NOUN'), ('swiftly', 'ADV'), ('kicked', 'VERB'), ('in', 'ADP'), (',', '.'), ('a', 'DET'), ('``', '.'), ('circuit', 'NOUN'), ('breaker', 'NOUN'), (\"''\", '.'), ('that', 'DET'), ('*T*-1', 'X'), ('halted', 'VERB'), ('trading', 'NOUN'), ('in', 'ADP'), ('stock', 'NOUN'), ('futures', 'NOUN'), ('in', 'ADP'), ('Chicago', 'NOUN'), ('made', 'VERB'), ('some', 'DET'), ('program', 'NOUN'), ('trading', 'NOUN'), ('impossible', 'ADJ'), ('.', '.'), ('The', 'DET'), ('company', 'NOUN'), ('currently', 'ADV'), ('offers', 'VERB'), ('a', 'DET'), ('word-processing', 'NOUN'), ('package', 'NOUN'), ('for', 'ADP'), ('personal', 'ADJ'), ('computers', 'NOUN'), ('called', 'VERB'), ('*', 'X'), ('Legend', 'NOUN'), ('.', '.'), ('He', 'PRON'), ('was', 'VERB'), ('previously', 'ADV'), ('vice', 'NOUN'), ('president', 'NOUN'), ('.', '.'), ('The', 'DET'), ('McAlpine', 'NOUN'), ('family', 'NOUN'), (',', '.'), ('which', 'DET'), ('*T*-1', 'X'), ('operates', 'VERB'), ('a', 'DET'), ('number', 'NOUN'), ('of', 'ADP'), ('multinational', 'NOUN'), ('companies', 'NOUN'), (',', '.'), ('including', 'VERB'), ('a', 'DET'), ('London-based', 'ADJ'), ('engineering', 'NOUN'), ('and', 'CONJ'), ('construction', 'NOUN'), ('company', 'NOUN'), (',', '.'), ('also', 'ADV'), ('lent', 'VERB'), ('to', 'PRT'), ('Meridian', 'NOUN'), ('National', 'NOUN'), ('$', '.'), ('500,000', 'NUM'), ('*U*', 'X'), ('.', '.'), ('Mr.', 'NOUN'), ('Beall', 'NOUN'), ('said', 'VERB'), ('that', 'ADP'), ('he', 'PRON'), ('was', 'VERB'), ('generally', 'ADV'), ('pleased', 'VERB'), ('with', 'ADP'), ('the', 'DET'), ('latest', 'ADJ'), ('numbers', 'NOUN'), ('and', 'CONJ'), ('cited', 'VERB'), ('a', 'DET'), ('particularly', 'ADV'), ('strong', 'ADJ'), ('showing', 'NOUN'), ('by', 'ADP'), ('the', 'DET'), ('company', 'NOUN'), (\"'s\", 'PRT'), ('electronics', 'NOUN'), ('segment', 'NOUN'), ('.', '.'), ('This', 'DET'), ('interpretation', 'NOUN'), ('was', 'VERB'), ('officially', 'ADV'), ('endorsed', 'VERB'), ('*-1', 'X'), ('by', 'ADP'), ('Congress', 'NOUN'), ('in', 'ADP'), ('1987', 'NUM'), ('in', 'ADP'), ('the', 'DET'), ('Iran-Contra', 'NOUN'), ('Report', 'NOUN'), ('.', '.'), ('Last', 'ADJ'), ('October', 'NOUN'), (',', '.'), ('the', 'DET'), ('company', 'NOUN'), ('also', 'ADV'), ('bought', 'VERB'), ('a', 'DET'), ('wheel-loader', 'NOUN'), ('manufacturing', 'NOUN'), ('plant', 'NOUN'), ('in', 'ADP'), ('Heidelberg', 'NOUN'), (',', '.'), ('West', 'NOUN'), ('Germany', 'NOUN'), (',', '.'), ('from', 'ADP'), ('Dresser', 'NOUN'), ('.', '.'), ('They', 'PRON'), ('worry', 'VERB'), ('about', 'ADP'), ('their', 'PRON'), ('careers', 'NOUN'), (',', '.'), ('drink', 'NOUN'), ('too', 'ADV'), ('much', 'ADV'), ('and', 'CONJ'), ('suffer', 'VERB'), ('through', 'ADP'), ('broken', 'VERB'), ('marriages', 'NOUN'), ('and', 'CONJ'), ('desultory', 'NOUN'), ('affairs', 'NOUN'), ('.', '.'), ('We', 'PRON'), ('now', 'ADV'), ('know', 'VERB'), ('that', 'ADP'), ('*', 'X'), ('holding', 'VERB'), ('drug', 'NOUN'), ('makers', 'NOUN'), ('liable', 'ADJ'), ('where', 'ADV'), ('there', 'DET'), (\"'s\", 'VERB'), ('no', 'DET'), ('evidence', 'NOUN'), ('that', 'ADP'), ('they', 'PRON'), ('or', 'CONJ'), ('anyone', 'NOUN'), ('else', 'ADV'), ('knew', 'VERB'), ('of', 'ADP'), ('any', 'DET'), ('risks', 'NOUN'), ('*T*-1', 'X'), ('only', 'ADV'), ('means', 'VERB'), ('0', 'X'), ('the', 'DET'), ('drugs', 'NOUN'), ('wo', 'VERB'), (\"n't\", 'ADV'), ('be', 'VERB'), ('available', 'ADJ'), ('to', 'PRT'), ('anyone', 'NOUN'), ('.', '.'), ('The', 'DET'), ('Philadelphia', 'NOUN'), ('and', 'CONJ'), ('Cleveland', 'NOUN'), ('districts', 'NOUN'), (',', '.'), ('for', 'ADP'), ('example', 'NOUN'), (',', '.'), ('reported', 'VERB'), ('declines', 'VERB'), ('in', 'ADP'), ('manufacturing', 'NOUN'), ('activity', 'NOUN'), ('while', 'ADP'), ('the', 'DET'), ('Boston', 'NOUN'), (',', '.'), ('Dallas', 'NOUN'), ('and', 'CONJ'), ('San', 'NOUN'), ('Francisco', 'NOUN'), ('banks', 'NOUN'), ('noted', 'VERB'), ('that', 'ADP'), ('business', 'NOUN'), ('expanded', 'VERB'), ('.', '.'), ('In', 'ADP'), ('the', 'DET'), ('classroom', 'NOUN'), (',', '.'), ('students', 'NOUN'), ('say', 'VERB'), ('0', 'X'), ('*T*-3', 'X'), (',', '.'), ('Mrs.', 'NOUN'), ('Yeargin', 'NOUN'), ('distinguished', 'NOUN'), ('herself', 'NOUN'), ('by', 'ADP'), ('*', 'X'), ('varying', 'VERB'), ('teaching', 'NOUN'), ('approaches', 'NOUN'), ('--', '.'), ('*-1', 'X'), ('forcing', 'VERB'), ('kids', 'NOUN'), ('to', 'PRT'), ('pair', 'NOUN'), ('up', 'PRT'), ('*-2', 'X'), ('to', 'PRT'), ('complete', 'VERB'), ('classroom', 'NOUN'), ('work', 'NOUN'), ('or', 'CONJ'), ('using', 'VERB'), ('college-bowl', 'NOUN'), ('type', 'NOUN'), ('competitions', 'NOUN'), ('.', '.'), ('The', 'DET'), ('president', 'NOUN'), (\"'s\", 'PRT'), ('plan', 'NOUN'), ('includes', 'VERB'), ('a', 'DET'), ('commitment', 'NOUN'), ('*', 'X'), ('to', 'PRT'), ('help', 'VERB'), ('*-1', 'X'), ('negotiate', 'VERB'), ('a', 'DET'), ('new', 'ADJ'), ('international', 'ADJ'), ('coffee', 'NOUN'), ('agreement', 'NOUN'), ('.', '.'), ('*', 'X'), ('Also', 'ADV'), ('spurring', 'NOUN'), ('the', 'DET'), ('move', 'NOUN'), ('to', 'PRT'), ('cloth', 'NOUN'), (':', '.'), ('diaper', 'NOUN'), ('covers', 'VERB'), ('with', 'ADP'), ('Velcro', 'NOUN'), ('fasteners', 'NOUN'), ('that', 'ADP'), ('*T*-1', 'X'), ('eliminate', 'VERB'), ('the', 'DET'), ('need', 'NOUN'), ('for', 'ADP'), ('safety', 'NOUN'), ('pins', 'VERB'), ('.', '.'), ('The', 'DET'), ('company', 'NOUN'), (\"'s\", 'PRT'), ('proposal', 'NOUN'), ('*', 'X'), ('to', 'PRT'), ('sell', 'VERB'), ('a', 'DET'), ('20', 'NUM'), ('%', 'NOUN'), ('stake', 'NOUN'), ('in', 'ADP'), ('its', 'PRON'), ('real-estate', 'NOUN'), ('unit', 'NOUN'), ('for', 'ADP'), ('around', 'ADP'), ('$', '.'), ('400', 'NUM'), ('million', 'NUM'), ('*U*', 'X'), ('has', 'VERB'), ('caused', 'VERB'), ('analysts', 'NOUN'), ('to', 'PRT'), ('consider', 'VERB'), ('whether', 'ADP'), ('*-1', 'X'), ('to', 'PRT'), ('cut', 'VERB'), ('their', 'PRON'), ('estimates', 'VERB'), ('of', 'ADP'), ('Santa', 'NOUN'), ('Fe', 'NOUN'), (\"'s\", 'PRT'), ('asset', 'NOUN'), ('value', 'NOUN'), ('.', '.'), ('Now', 'ADV'), (',', '.'), ('he', 'PRON'), ('said', 'VERB'), ('0', 'X'), ('*T*-1', 'X'), (',', '.'), ('the', 'DET'), ('group', 'NOUN'), ('plans', 'VERB'), ('*-2', 'X'), ('to', 'PRT'), ('put', 'VERB'), ('in', 'ADP'), ('``', '.'), ('several', 'ADJ'), ('hundred', 'NUM'), ('million', 'NUM'), (\"''\", '.'), ('dollars', 'NOUN'), ('in', 'ADP'), ('equity', 'NOUN'), ('and', 'CONJ'), ('finance', 'NOUN'), ('the', 'DET'), ('remainder', 'NOUN'), ('with', 'ADP'), ('bank', 'NOUN'), ('debt', 'NOUN'), ('.', '.'), ('Mr.', 'NOUN'), ('Hahn', 'NOUN'), ('began', 'VERB'), ('*-1', 'X'), ('selling', 'VERB'), ('non-core', 'NOUN'), ('businesses', 'NOUN'), (',', '.'), ('such', 'ADJ'), ('as', 'ADP'), ('oil', 'NOUN'), ('and', 'CONJ'), ('gas', 'NOUN'), ('and', 'CONJ'), ('chemicals', 'NOUN'), ('.', '.'), ('But', 'CONJ'), ('can', 'VERB'), ('Mr.', 'NOUN'), ('Hahn', 'NOUN'), ('carry', 'VERB'), ('it', 'PRON'), ('off', 'PRT'), ('?', '.'), ('Silver', 'NOUN'), ('and', 'CONJ'), ('platinum', 'NOUN'), (',', '.'), ('which', 'DET'), ('*T*-1', 'X'), ('have', 'VERB'), ('more', 'ADV'), ('of', 'ADP'), ('an', 'DET'), ('industrial', 'ADJ'), ('nature', 'NOUN'), ('than', 'ADP'), ('gold', 'NOUN'), (',', '.'), ('were', 'VERB'), ('even', 'ADV'), ('weaker', 'ADJ'), (',', '.'), ('he', 'PRON'), ('said', 'VERB'), ('0', 'X'), ('*T*-2', 'X'), ('.', '.'), ('The', 'DET'), ('administration', 'NOUN'), ('had', 'VERB'), ('requested', 'VERB'), ('roughly', 'ADV'), ('the', 'DET'), ('same', 'ADJ'), ('amount', 'NOUN'), ('for', 'ADP'), ('antitrust', 'ADJ'), ('enforcement', 'NOUN'), ('for', 'ADP'), ('fiscal', 'ADJ'), ('1990', 'NUM'), ('as', 'ADP'), ('*', 'X'), ('was', 'VERB'), ('appropriated', 'NOUN'), ('*-1', 'X'), ('in', 'ADP'), ('fiscal', 'ADJ'), ('1989', 'NUM'), ('.', '.'), ('In', 'ADP'), ('addition', 'NOUN'), (',', '.'), ('the', 'DET'), ('Cray-3', 'NOUN'), ('will', 'VERB'), ('contain', 'VERB'), ('16', 'NUM'), ('processors', 'NOUN'), ('--', '.'), ('twice', 'NOUN'), ('as', 'ADP'), ('many', 'ADJ'), ('as', 'ADP'), ('the', 'DET'), ('largest', 'ADJ'), ('current', 'ADJ'), ('supercomputer', 'NOUN'), ('.', '.'), ('This', 'DET'), ('is', 'VERB'), ('a', 'DET'), ('Johnson-era', 'NOUN'), (',', '.'), ('Great', 'NOUN'), ('Society', 'NOUN'), ('creation', 'NOUN'), ('that', 'ADP'), ('*T*-2', 'X'), ('mandates', 'NOUN'), ('0', 'X'), ('certain', 'ADJ'), ('government', 'NOUN'), ('contracts', 'NOUN'), ('be', 'VERB'), ('awarded', 'VERB'), ('*-1', 'X'), ('noncompetitively', 'NOUN'), ('to', 'PRT'), ('minority', 'NOUN'), ('businesses', 'NOUN'), ('.', '.'), ('Japan', 'NOUN'), ('is', 'VERB'), ('``', '.'), ('very', 'ADV'), ('concerned', 'NOUN'), (\"''\", '.'), ('about', 'ADP'), ('the', 'DET'), ('possible', 'ADJ'), ('effects', 'NOUN'), ('of', 'ADP'), ('program', 'NOUN'), ('trading', 'NOUN'), (',', '.'), ('a', 'DET'), ('senior', 'ADJ'), ('Japanese', 'ADJ'), ('official', 'NOUN'), ('said', 'VERB'), ('0', 'X'), ('*T*-1', 'X'), ('after', 'ADP'), ('the', 'DET'), ('Oct.', 'NOUN'), ('13', 'NUM'), ('stock', 'NOUN'), ('plunge', 'NOUN'), ('in', 'ADP'), ('New', 'NOUN'), ('York', 'NOUN'), ('.', '.'), ('``', '.'), ('Over', 'ADP'), ('the', 'DET'), ('summer', 'NOUN'), ('months', 'NOUN'), (',', '.'), ('there', 'DET'), ('has', 'VERB'), ('been', 'VERB'), ('a', 'DET'), ('slowing', 'NOUN'), ('in', 'ADP'), ('the', 'DET'), ('rate', 'NOUN'), ('of', 'ADP'), ('new', 'ADJ'), ('orders', 'NOUN'), ('from', 'ADP'), ('the', 'DET'), ('computer', 'NOUN'), ('sector', 'NOUN'), (',', '.'), ('our', 'PRON'), ('primary', 'ADJ'), ('market', 'NOUN'), (',', '.'), (\"''\", '.'), ('said', 'VERB'), ('*T*-1', 'X'), ('Wilfred', 'NOUN'), ('J.', 'NOUN'), ('Corrigan', 'NOUN'), (',', '.'), ('chairman', 'NOUN'), ('and', 'CONJ'), ('chief', 'NOUN'), ('executive', 'NOUN'), ('officer', 'NOUN'), ('.', '.'), ('The', 'DET'), ('Senate', 'NOUN'), ('plans', 'VERB'), ('*-1', 'X'), ('to', 'PRT'), ('take', 'VERB'), ('up', 'ADV'), ('the', 'DET'), ('measure', 'NOUN'), ('quickly', 'ADV'), ('and', 'CONJ'), ('is', 'VERB'), ('expected', 'VERB'), ('*-1', 'X'), ('to', 'PRT'), ('pass', 'VERB'), ('it', 'PRON'), ('.', '.'), ('This', 'DET'), ('compares', 'VERB'), ('with', 'ADP'), ('estimates', 'NOUN'), ('that', 'ADP'), ('the', 'DET'), ('U.S.', 'NOUN'), ('``', '.'), ('derivatives', 'NOUN'), (\"''\", '.'), ('market', 'NOUN'), ('is', 'VERB'), ('perhaps', 'ADV'), ('four', 'NUM'), ('times', 'NOUN'), ('as', 'ADP'), ('large', 'ADJ'), ('as', 'ADP'), ('the', 'DET'), ('underlying', 'ADJ'), ('domestic', 'ADJ'), ('market', 'NOUN'), ('.', '.'), ('The', 'DET'), ('conference', 'NOUN'), ('approved', 'VERB'), ('at', 'ADP'), ('least', 'ADJ'), ('$', '.'), ('55', 'NUM'), ('million', 'NUM'), ('*U*', 'X'), ('in', 'ADP'), ('direct', 'ADJ'), ('cash', 'NOUN'), ('and', 'CONJ'), ('development', 'NOUN'), ('assistance', 'NOUN'), ('as', 'ADP'), ('well', 'ADV'), (',', '.'), ('and', 'CONJ'), ('though', 'ADP'), ('no', 'DET'), ('decision', 'NOUN'), ('was', 'VERB'), ('made', 'VERB'), ('*-4', 'X'), (',', '.'), ('both', 'DET'), ('sides', 'NOUN'), ('are', 'VERB'), ('committed', 'VERB'), ('to', 'PRT'), ('*', 'X'), ('adding', 'VERB'), ('more', 'ADV'), ('than', 'ADP'), ('$', '.'), ('200', 'NUM'), ('million', 'NUM'), ('*U*', 'X'), ('in', 'ADP'), ('economic', 'ADJ'), ('support', 'NOUN'), ('funds', 'NOUN'), ('and', 'CONJ'), ('environmental', 'ADJ'), ('initiatives', 'NOUN'), ('sought', 'VERB'), ('*', 'X'), ('by', 'ADP'), ('the', 'DET'), ('Bush', 'NOUN'), ('administration', 'NOUN'), ('.', '.'), ('About', 'ADP'), ('20,000', 'NUM'), ('sets', 'NOUN'), ('of', 'ADP'), ('Learning', 'NOUN'), ('Materials', 'NOUN'), ('teachers', 'NOUN'), (\"'\", 'PRT'), ('binders', 'NOUN'), ('have', 'VERB'), ('also', 'ADV'), ('been', 'VERB'), ('sold', 'VERB'), ('*-1', 'X'), ('in', 'ADP'), ('the', 'DET'), ('past', 'ADJ'), ('four', 'NUM'), ('years', 'NOUN'), ('.', '.'), ('The', 'DET'), ('insurance', 'NOUN'), ('and', 'CONJ'), ('financial', 'ADJ'), ('services', 'NOUN'), ('concern', 'NOUN'), ('said', 'VERB'), ('0', 'X'), ('profit', 'NOUN'), ('for', 'ADP'), ('the', 'DET'), ('quarter', 'NOUN'), ('rose', 'VERB'), ('1.1', 'NUM'), ('%', 'NOUN'), ('to', 'PRT'), ('$', '.'), ('93.9', 'NOUN'), ('million', 'NUM'), ('*U*', 'X'), (',', '.'), ('or', 'CONJ'), ('$', '.'), ('1.19', 'NOUN'), ('*U*', 'X'), ('a', 'DET'), ('share', 'NOUN'), (',', '.'), ('compared', 'VERB'), ('with', 'ADP'), ('$', '.'), ('92.9', 'NOUN'), ('million', 'NUM'), ('*U*', 'X'), (',', '.'), ('or', 'CONJ'), ('$', '.'), ('1.18', 'NOUN'), ('*U*', 'X'), ('a', 'DET'), ('share', 'NOUN'), (',', '.'), ('the', 'DET'), ('year', 'NOUN'), ('earlier', 'ADV'), ('.', '.'), ('Demand', 'NOUN'), ('from', 'ADP'), ('Europe', 'NOUN'), ('and', 'CONJ'), ('Southeast', 'NOUN'), ('Asia', 'NOUN'), ('also', 'ADV'), ('grew', 'VERB'), (',', '.'), ('but', 'CONJ'), ('due', 'ADJ'), ('to', 'PRT'), ('increasing', 'VERB'), ('production', 'NOUN'), ('at', 'ADP'), ('local', 'ADJ'), ('plants', 'NOUN'), (',', '.'), ('overseas', 'ADV'), ('sales', 'NOUN'), ('edged', 'VERB'), ('down', 'ADV'), ('2.8', 'NUM'), ('%', 'NOUN'), ('.', '.'), ('The', 'DET'), ('Fed', 'NOUN'), ('is', 'VERB'), ('coming', 'VERB'), ('under', 'ADP'), ('pressure', 'NOUN'), ('*', 'X'), ('to', 'PRT'), ('cut', 'VERB'), ('short-term', 'ADJ'), ('interest', 'NOUN'), ('rates', 'NOUN'), ('due', 'ADJ'), ('to', 'PRT'), ('the', 'DET'), ('apparent', 'NOUN'), ('slowing', 'VERB'), ('of', 'ADP'), ('the', 'DET'), ('economy', 'NOUN'), ('.', '.'), ('David', 'NOUN'), ('Berson', 'NOUN'), (',', '.'), ('economist', 'NOUN'), ('for', 'ADP'), ('the', 'DET'), ('Mortgage', 'NOUN'), ('Bankers', 'NOUN'), ('Association', 'NOUN'), (',', '.'), ('predicted', 'VERB'), ('0', 'X'), ('the', 'DET'), ('drop', 'NOUN'), ('in', 'ADP'), ('interest', 'NOUN'), ('rates', 'NOUN'), ('eventually', 'ADV'), ('will', 'VERB'), ('boost', 'VERB'), ('spending', 'NOUN'), ('on', 'ADP'), ('single-family', 'NOUN'), ('homes', 'NOUN'), (',', '.'), ('but', 'CONJ'), ('probably', 'ADV'), ('not', 'ADV'), ('until', 'ADP'), ('early', 'ADJ'), ('next', 'ADJ'), ('year', 'NOUN'), ('.', '.'), ('Upjohn', 'NOUN'), ('officials', 'NOUN'), ('said', 'VERB'), ('0', 'X'), ('they', 'PRON'), ('could', 'VERB'), (\"n't\", 'ADV'), ('estimate', 'NOUN'), ('the', 'DET'), ('size', 'NOUN'), ('of', 'ADP'), ('the', 'DET'), ('charge', 'NOUN'), ('until', 'ADP'), ('they', 'PRON'), ('determine', 'VERB'), ('which', 'DET'), ('employees', 'NOUN'), (',', '.'), ('and', 'CONJ'), ('how', 'ADV'), ('many', 'ADJ'), (',', '.'), ('*T*-1', 'X'), ('will', 'VERB'), ('participate', 'VERB'), ('in', 'ADP'), ('the', 'DET'), ('retirement', 'NOUN'), ('plan', 'NOUN'), ('.', '.'), ('A', 'DET'), ('program', 'NOUN'), ('trade', 'NOUN'), ('of', 'ADP'), ('$', '.'), ('5', 'NUM'), ('million', 'NUM'), ('*U*', 'X'), ('of', 'ADP'), ('stock', 'NOUN'), ('typically', 'ADV'), ('earns', 'VERB'), ('a', 'DET'), ('razor-thin', 'NOUN'), ('profit', 'NOUN'), ('of', 'ADP'), ('$', '.'), ('25,000', 'NUM'), ('*U*', 'X'), ('.', '.'), ('The', 'DET'), ('survival', 'NOUN'), ('of', 'ADP'), ('spinoff', 'NOUN'), ('Cray', 'NOUN'), ('Computer', 'NOUN'), ('Corp.', 'NOUN'), ('as', 'ADP'), ('a', 'DET'), ('fledgling', 'NOUN'), ('in', 'ADP'), ('the', 'DET'), ('supercomputer', 'NOUN'), ('business', 'NOUN'), ('appears', 'VERB'), ('*-1', 'X'), ('to', 'PRT'), ('depend', 'NOUN'), ('heavily', 'ADV'), ('on', 'ADP'), ('the', 'DET'), ('creativity', 'NOUN'), ('--', '.'), ('and', 'CONJ'), ('longevity', 'NOUN'), ('--', '.'), ('of', 'ADP'), ('its', 'PRON'), ('chairman', 'NOUN'), ('and', 'CONJ'), ('chief', 'NOUN'), ('designer', 'NOUN'), (',', '.'), ('Seymour', 'NOUN'), ('Cray', 'NOUN'), ('.', '.'), ('Until', 'ADP'), ('last', 'ADJ'), ('week', 'NOUN'), (',', '.'), ('the', 'DET'), ('IRS', 'NOUN'), ('rarely', 'NOUN'), ('acted', 'NOUN'), ('on', 'ADP'), ('the', 'DET'), ('incomplete', 'ADJ'), ('forms', 'NOUN'), ('.', '.'), ('A', 'DET'), ('White', 'NOUN'), ('House', 'NOUN'), ('spokesman', 'NOUN'), ('condemned', 'VERB'), ('the', 'DET'), ('truce', 'NOUN'), ('suspension', 'NOUN'), ('as', 'ADP'), ('``', '.'), ('deplorable', 'NOUN'), (\"''\", '.'), ('but', 'CONJ'), ('brushed', 'NOUN'), ('off', 'PRT'), ('talk', 'VERB'), ('of', 'ADP'), ('*', 'X'), ('renewing', 'NOUN'), ('military', 'ADJ'), ('funding', 'NOUN'), ('for', 'ADP'), ('the', 'DET'), ('insurgents', 'NOUN'), ('.', '.'), ('For', 'ADP'), ('the', 'DET'), ('year', 'NOUN'), ('to', 'PRT'), ('date', 'NOUN'), (',', '.'), ('Moody', 'NOUN'), (\"'s\", 'PRT'), ('said', 'VERB'), ('0', 'X'), ('total', 'VERB'), ('returns', 'NOUN'), ('were', 'VERB'), ('topped', 'NOUN'), ('*-1', 'X'), ('by', 'ADP'), ('the', 'DET'), ('16.5', 'NOUN'), ('%', 'NOUN'), ('of', 'ADP'), ('longer-term', 'ADJ'), ('Treasury', 'NOUN'), ('issues', 'NOUN'), (',', '.'), ('*-2', 'X'), ('closely', 'ADV'), ('followed', 'VERB'), ('*-3', 'X'), ('by', 'ADP'), ('15', 'NUM'), ('%', 'NOUN'), ('for', 'ADP'), ('investment-grade', 'ADJ'), ('bonds', 'NOUN'), ('.', '.'), ('It', 'PRON'), ('would', 'VERB'), ('contradict', 'VERB'), ('that', 'ADP'), ('objective', 'NOUN'), ('if', 'ADP'), ('the', 'DET'), ('appropriations', 'NOUN'), ('clause', 'NOUN'), ('-LRB-', '.'), ('technically', 'NOUN'), ('a', 'DET'), ('limitation', 'NOUN'), ('on', 'ADP'), ('legislative', 'ADJ'), ('power', 'NOUN'), ('-RRB-', '.'), ('could', 'VERB'), ('be', 'VERB'), ('read', 'VERB'), ('*-52', 'X'), ('as', 'ADP'), ('*-52', 'X'), ('placing', 'VERB'), ('the', 'DET'), ('president', 'NOUN'), ('on', 'ADP'), ('Congress', 'NOUN'), (\"'s\", 'PRT'), ('short', 'ADJ'), ('leash', 'NOUN'), (',', '.'), ('*-52', 'X'), ('making', 'VERB'), ('the', 'DET'), ('executive', 'NOUN'), ('consist', 'VERB'), ('of', 'ADP'), ('the', 'DET'), ('president', 'NOUN'), ('and', 'CONJ'), ('every', 'DET'), ('member', 'NOUN'), ('of', 'ADP'), ('Congress', 'NOUN'), ('.', '.'), ('No', 'DET'), ('fewer', 'ADJ'), ('than', 'ADP'), ('24', 'NUM'), ('country', 'NOUN'), ('funds', 'NOUN'), ('*ICH*-1', 'X'), ('have', 'VERB'), ('been', 'VERB'), ('launched', 'VERB'), ('*-2', 'X'), ('or', 'CONJ'), ('registered', 'VERB'), ('*-2', 'X'), ('with', 'ADP'), ('regulators', 'NOUN'), ('this', 'DET'), ('year', 'NOUN'), (',', '.'), ('triple', 'NOUN'), ('the', 'DET'), ('level', 'NOUN'), ('of', 'ADP'), ('all', 'DET'), ('of', 'ADP'), ('1988', 'NUM'), (',', '.'), ('according', 'VERB'), ('to', 'PRT'), ('Charles', 'NOUN'), ('E.', 'NOUN'), ('Simon', 'NOUN'), ('&', 'CONJ'), ('Co.', 'NOUN'), (',', '.'), ('a', 'DET'), ('Washington-based', 'NOUN'), ('research', 'NOUN'), ('firm', 'NOUN'), ('.', '.'), ('If', 'ADP'), ('Congress', 'NOUN'), ('takes', 'VERB'), ('the', 'DET'), ('dispute', 'NOUN'), ('to', 'PRT'), ('the', 'DET'), ('Supreme', 'NOUN'), ('Court', 'NOUN'), ('-LRB-', '.'), ('*-2', 'X'), ('assuming', 'VERB'), ('0', 'X'), ('it', 'PRON'), ('can', 'VERB'), ('establish', 'VERB'), ('standing', 'NOUN'), ('0', 'X'), ('*', 'X'), ('to', 'PRT'), ('sue', 'NOUN'), ('*T*-1', 'X'), ('-RRB-', '.'), (',', '.'), ('President', 'NOUN'), ('Bush', 'NOUN'), ('might', 'VERB'), ('win', 'VERB'), ('.', '.'), ('In', 'ADP'), ('May', 'NOUN'), (',', '.'), ('the', 'DET'), ('two', 'NUM'), ('companies', 'NOUN'), (',', '.'), ('through', 'ADP'), ('their', 'PRON'), ('jointly', 'ADV'), ('owned', 'VERB'), ('holding', 'VERB'), ('company', 'NOUN'), (',', '.'), ('Temple', 'NOUN'), (',', '.'), ('offered', 'VERB'), ('$', '.'), ('50', 'NUM'), ('*U*', 'X'), ('a', 'DET'), ('share', 'NOUN'), (',', '.'), ('or', 'CONJ'), ('$', '.'), ('777', 'NOUN'), ('million', 'NUM'), ('*U*', 'X'), (',', '.'), ('for', 'ADP'), ('Sea', 'NOUN'), ('Containers', 'NOUN'), ('.', '.'), ('An', 'DET'), ('official', 'NOUN'), ('of', 'ADP'), ('the', 'DET'), ('Palestinian', 'ADJ'), ('Olympic', 'NOUN'), ('Committee', 'NOUN'), ('said', 'VERB'), ('0', 'X'), ('the', 'DET'), ('committee', 'NOUN'), ('first', 'ADJ'), ('applied', 'VERB'), ('for', 'ADP'), ('membership', 'NOUN'), ('in', 'ADP'), ('1979', 'NUM'), ('and', 'CONJ'), ('renewed', 'VERB'), ('its', 'PRON'), ('application', 'NOUN'), ('in', 'ADP'), ('August', 'NOUN'), ('of', 'ADP'), ('this', 'DET'), ('year', 'NOUN'), ('.', '.'), ('``', '.'), ('Only', 'ADV'), ('five', 'NUM'), ('of', 'ADP'), ('the', 'DET'), ('40', 'NUM'), ('questions', 'NOUN'), ('were', 'VERB'), ('geography', 'NOUN'), ('questions', 'NOUN'), ('.', '.'), ('The', 'DET'), ('December', 'NOUN'), ('contract', 'NOUN'), ('rose', 'VERB'), ('1.20', 'NOUN'), ('cents', 'NOUN'), ('a', 'DET'), ('pound', 'NOUN'), ('to', 'PRT'), ('$', '.'), ('1.14', 'NOUN'), ('*U*', 'X'), ('.', '.'), ('Such', 'ADJ'), ('problems', 'NOUN'), ('will', 'VERB'), ('require', 'VERB'), ('considerable', 'ADJ'), ('skill', 'NOUN'), ('*', 'X'), ('to', 'PRT'), ('resolve', 'VERB'), ('.', '.'), ('The', 'DET'), ('index', 'NOUN'), ('ended', 'VERB'), ('the', 'DET'), ('day', 'NOUN'), ('near', 'ADP'), ('its', 'PRON'), ('session', 'NOUN'), ('high', 'ADJ'), ('of', 'ADP'), ('2163.2', 'NOUN'), (',', '.'), ('which', 'DET'), ('*T*-2', 'X'), ('was', 'VERB'), ('posted', 'VERB'), ('*-1', 'X'), ('within', 'ADP'), ('the', 'DET'), ('last', 'ADJ'), ('half-hour', 'ADJ'), ('of', 'ADP'), ('trading', 'NOUN'), ('.', '.'), ('*-1', 'X'), ('To', 'PRT'), ('further', 'ADJ'), ('load', 'NOUN'), ('the', 'DET'), ('stakes', 'NOUN'), (',', '.'), ('Mr.', 'NOUN'), ('Lane', 'NOUN'), ('dreamed', 'NOUN'), ('up', 'PRT'), ('a', 'DET'), ('highly', 'ADV'), ('improbable', 'NOUN'), ('romance', 'NOUN'), ('for', 'ADP'), ('the', 'DET'), ('Artist', 'NOUN'), (',', '.'), ('with', 'ADP'), ('a', 'DET'), ('young', 'ADJ'), ('woman', 'NOUN'), ('who', 'PRON'), ('*T*-68', 'X'), ('owns', 'VERB'), ('her', 'PRON'), ('own', 'ADJ'), ('children', 'NOUN'), (\"'s\", 'PRT'), ('shop', 'NOUN'), ('and', 'CONJ'), ('who', 'PRON'), ('*T*-69', 'X'), ('lives', 'VERB'), ('in', 'ADP'), ('an', 'DET'), ('expensive', 'ADJ'), ('high-rise', 'NOUN'), ('apartment', 'NOUN'), ('building', 'NOUN'), ('.', '.'), ('But', 'CONJ'), ('since', 'ADP'), ('the', 'DET'), ('1990', 'NUM'), ('model', 'NOUN'), ('year', 'NOUN'), ('began', 'VERB'), ('Oct.', 'NOUN'), ('1', 'NUM'), (',', '.'), ('Buick', 'NOUN'), ('sales', 'NOUN'), ('have', 'VERB'), ('plunged', 'VERB'), ('33', 'NUM'), ('%', 'NOUN'), ('.', '.'), ('``', '.'), ('Cosby', 'NOUN'), (\"''\", '.'), ('is', 'VERB'), ('down', 'ADV'), ('a', 'DET'), ('full', 'ADJ'), ('ratings', 'NOUN'), ('point', 'NOUN'), ('in', 'ADP'), ('the', 'DET'), ('week', 'NOUN'), ('of', 'ADP'), ('Oct.', 'NOUN'), ('2-8', 'NOUN'), ('over', 'ADP'), ('the', 'DET'), ('same', 'ADJ'), ('week', 'NOUN'), ('a', 'DET'), ('year', 'NOUN'), ('ago', 'ADP'), (',', '.'), ('according', 'VERB'), ('to', 'PRT'), ('A.C.', 'NOUN'), ('Nielsen', 'NOUN'), ('Co', 'NOUN'), ('.', '.'), ('``', '.'), ('*', 'X'), ('Having', 'NOUN'), ('the', 'DET'), ('dividend', 'NOUN'), ('increases', 'NOUN'), ('is', 'VERB'), ('a', 'DET'), ('supportive', 'NOUN'), ('element', 'NOUN'), ('in', 'ADP'), ('the', 'DET'), ('market', 'NOUN'), ('outlook', 'NOUN'), (',', '.'), ('but', 'CONJ'), ('I', 'PRON'), ('do', 'VERB'), (\"n't\", 'ADV'), ('think', 'VERB'), ('0', 'X'), ('it', 'PRON'), (\"'s\", 'VERB'), ('a', 'DET'), ('main', 'ADJ'), ('consideration', 'NOUN'), (',', '.'), (\"''\", '.'), ('he', 'PRON'), ('says', 'VERB'), ('*T*-1', 'X'), ('.', '.'), ('SEC', 'NOUN'), ('Chairman', 'NOUN'), ('Richard', 'NOUN'), ('Breeden', 'NOUN'), ('has', 'VERB'), ('said', 'VERB'), ('0', 'X'), ('he', 'PRON'), ('would', 'VERB'), ('be', 'VERB'), ('willing', 'ADJ'), ('*-1', 'X'), ('to', 'PRT'), ('consider', 'VERB'), ('circuit', 'NOUN'), ('breakers', 'NOUN'), ('that', 'ADP'), ('*T*-215', 'NOUN'), ('have', 'VERB'), ('preset', 'ADJ'), ('trigger', 'NOUN'), ('points', 'NOUN'), (',', '.'), ('but', 'CONJ'), ('he', 'PRON'), ('does', 'VERB'), (\"n't\", 'ADV'), ('want', 'VERB'), ('discretionary', 'ADJ'), ('power', 'NOUN'), ('*', 'X'), ('to', 'PRT'), ('stop', 'VERB'), ('programs', 'NOUN'), ('.', '.'), ('In', 'ADP'), ('composite', 'ADJ'), ('trading', 'NOUN'), ('on', 'ADP'), ('the', 'DET'), ('New', 'NOUN'), ('York', 'NOUN'), ('Stock', 'NOUN'), ('Exchange', 'NOUN'), ('yesterday', 'NOUN'), (',', '.'), ('Upjohn', 'NOUN'), ('shares', 'NOUN'), ('rose', 'VERB'), ('87.5', 'NOUN'), ('cents', 'NOUN'), ('to', 'PRT'), ('$', '.'), ('38.875', 'NOUN'), ('*U*', 'X'), ('apiece', 'ADV'), ('.', '.'), ('Reames', 'NOUN'), (',', '.'), ('a', 'DET'), ('maker', 'NOUN'), ('and', 'CONJ'), ('marketer', 'NOUN'), ('of', 'ADP'), ('frozen', 'VERB'), ('noodles', 'NOUN'), ('and', 'CONJ'), ('pre-cooked', 'NOUN'), ('pasta', 'NOUN'), ('based', 'VERB'), ('*', 'X'), ('in', 'ADP'), ('Clive', 'NOUN'), (',', '.'), ('Iowa', 'NOUN'), (',', '.'), ('has', 'VERB'), ('annual', 'ADJ'), ('sales', 'NOUN'), ('of', 'ADP'), ('about', 'ADP'), ('$', '.'), ('11', 'NUM'), ('million', 'NUM'), ('*U*', 'X'), (',', '.'), ('Lancaster', 'NOUN'), ('said', 'VERB'), ('0', 'X'), ('*T*-1', 'X'), ('.', '.'), ('``', '.'), ('It', 'PRON'), ('has', 'VERB'), ('*-2', 'X'), ('to', 'PRT'), ('be', 'VERB'), ('considered', 'VERB'), ('*-21', 'X'), ('as', 'ADP'), ('an', 'DET'), ('additional', 'ADJ'), ('risk', 'NOUN'), ('for', 'ADP'), ('the', 'DET'), ('investor', 'NOUN'), (',', '.'), (\"''\", '.'), ('said', 'VERB'), ('*T*-1', 'X'), ('Gary', 'NOUN'), ('P.', 'NOUN'), ('Smaby', 'NOUN'), ('of', 'ADP'), ('Smaby', 'NOUN'), ('Group', 'NOUN'), ('Inc.', 'NOUN'), (',', '.'), ('Minneapolis', 'NOUN'), ('.', '.'), ('``', '.'), ('Maybe', 'ADV'), ('it', 'PRON'), ('was', 'VERB'), (\"n't\", 'ADV'), ('enough', 'ADV'), (',', '.'), (\"''\", '.'), ('a', 'DET'), ('Finance', 'NOUN'), ('Ministry', 'NOUN'), ('official', 'NOUN'), ('noted', 'VERB'), ('*T*-1', 'X'), ('after', 'ADP'), ('the', 'DET'), ('Dec.', 'NOUN'), ('7', 'NUM'), ('surge', 'NOUN'), ('.', '.'), ('We', 'PRON'), (\"'re\", 'VERB'), ('talking', 'VERB'), ('about', 'ADP'), ('years', 'NOUN'), ('ago', 'ADP'), ('before', 'ADP'), ('anyone', 'NOUN'), ('heard', 'VERB'), ('of', 'ADP'), ('asbestos', 'NOUN'), ('having', 'VERB'), ('any', 'DET'), ('questionable', 'ADJ'), ('properties', 'NOUN'), ('.', '.'), ('INTER-TEL', 'NOUN'), ('Inc', 'NOUN'), ('.', '.'), ('-LRB-', '.'), ('Chandler', 'NOUN'), (',', '.'), ('Ariz.', 'NOUN'), ('-RRB-', '.'), ('--', '.'), ('Shearson', 'NOUN'), ('``', '.'), ('really', 'ADV'), ('only', 'ADV'), ('has', 'VERB'), ('$', '.'), ('300', 'NUM'), ('million', 'NUM'), ('*U*', 'X'), ('of', 'ADP'), ('capital', 'NOUN'), (',', '.'), (\"''\", '.'), ('says', 'VERB'), ('*T*-1', 'X'), ('Mr.', 'NOUN'), ('Bowman', 'NOUN'), ('of', 'ADP'), ('S&P', 'NOUN'), ('.', '.'), ('``', '.'), ('It', 'PRON'), (\"'s\", 'VERB'), ('a', 'DET'), ('cosmetic', 'NOUN'), ('move', 'NOUN'), (',', '.'), (\"''\", '.'), ('said', 'VERB'), ('*T*-1', 'X'), ('Jonathan', 'NOUN'), ('S.', 'NOUN'), ('Gelles', 'NOUN'), ('of', 'ADP'), ('Wertheim', 'NOUN'), ('Schroder', 'NOUN'), ('&', 'CONJ'), ('Co', 'NOUN'), ('.', '.'), ('``', '.'), ('*-1', 'X'), ('To', 'PRT'), ('get', 'VERB'), ('people', 'NOUN'), (\"'s\", 'PRT'), ('attention', 'NOUN'), ('these', 'DET'), ('days', 'NOUN'), (',', '.'), (\"''\", '.'), ('says', 'VERB'), ('*T*-2', 'X'), ('Douglas', 'NOUN'), ('Bailey', 'NOUN'), (',', '.'), ('a', 'DET'), ('political', 'ADJ'), ('consultant', 'NOUN'), (',', '.'), ('``', '.'), ('your', 'PRON'), ('TV', 'NOUN'), ('ad', 'NOUN'), ('needs', 'VERB'), ('*-1', 'X'), ('to', 'PRT'), ('be', 'VERB'), ('bold', 'ADJ'), ('and', 'CONJ'), ('entertaining', 'NOUN'), (',', '.'), ('and', 'CONJ'), (',', '.'), ('more', 'ADV'), ('often', 'ADV'), ('than', 'ADP'), ('not', 'ADV'), (',', '.'), ('that', 'DET'), ('means', 'NOUN'), ('confrontational', 'NOUN'), ('.', '.'), ('In', 'ADP'), ('August', 'NOUN'), (',', '.'), ('the', 'DET'), ('commission', 'NOUN'), ('ruled', 'VERB'), ('that', 'ADP'), ('between', 'ADP'), ('$', '.'), ('190', 'NUM'), ('million', 'NUM'), ('and', 'CONJ'), ('$', '.'), ('195', 'NUM'), ('million', 'NUM'), ('*U*', 'X'), ('of', 'ADP'), ('the', 'DET'), ('plant', 'NOUN'), (\"'s\", 'PRT'), ('construction', 'NOUN'), ('cost', 'NOUN'), ('was', 'VERB'), ('unreasonable', 'ADJ'), ('and', 'CONJ'), ('should', 'VERB'), ('be', 'VERB'), ('refunded', 'NOUN'), ('*-1', 'X'), (',', '.'), ('plus', 'CONJ'), ('interest', 'NOUN'), ('.', '.'), ('The', 'DET'), ('company', 'NOUN'), ('earlier', 'ADV'), ('this', 'DET'), ('year', 'NOUN'), ('adopted', 'VERB'), ('a', 'DET'), ('shareholder-rights', 'NOUN'), ('plan', 'NOUN'), ('*-1', 'X'), ('to', 'PRT'), ('ward', 'VERB'), ('off', 'PRT'), ('unwanted', 'NOUN'), ('suitors', 'NOUN'), ('.', '.'), ('There', 'DET'), ('is', 'VERB'), ('no', 'DET'), ('sign', 'NOUN'), ('that', 'ADP'), ('you', 'PRON'), ('bothered', 'NOUN'), ('*-1', 'X'), ('to', 'PRT'), ('consider', 'VERB'), ('the', 'DET'), ('inverse', 'NOUN'), ('of', 'ADP'), ('your', 'PRON'), ('logic', 'NOUN'), (':', '.'), ('namely', 'ADV'), (',', '.'), ('that', 'DET'), ('mental', 'ADJ'), ('illness', 'NOUN'), ('and', 'CONJ'), ('substance', 'NOUN'), ('abuse', 'NOUN'), ('might', 'VERB'), ('be', 'VERB'), ('to', 'PRT'), ('some', 'DET'), ('degree', 'NOUN'), ('consequences', 'NOUN'), ('rather', 'ADV'), ('than', 'ADP'), ('causes', 'NOUN'), ('of', 'ADP'), ('homelessness', 'NOUN'), ('.', '.'), ('But', 'CONJ'), ('Learning', 'NOUN'), ('Materials', 'NOUN'), ('matched', 'VERB'), ('on', 'ADP'), ('66.5', 'NOUN'), ('of', 'ADP'), ('69', 'NUM'), ('subskills', 'NOUN'), ('.', '.'), ('London', 'NOUN'), ('share', 'NOUN'), ('prices', 'NOUN'), ('were', 'VERB'), ('bolstered', 'VERB'), ('*-1', 'X'), ('largely', 'ADV'), ('by', 'ADP'), ('continued', 'VERB'), ('gains', 'NOUN'), ('on', 'ADP'), ('Wall', 'NOUN'), ('Street', 'NOUN'), ('and', 'CONJ'), ('technical', 'ADJ'), ('factors', 'NOUN'), ('affecting', 'NOUN'), ('demand', 'NOUN'), ('for', 'ADP'), ('London', 'NOUN'), (\"'s\", 'PRT'), ('blue-chip', 'ADJ'), ('stocks', 'NOUN'), ('.', '.'), ('Not', 'ADV'), ('this', 'DET'), ('year', 'NOUN'), ('.', '.'), ('The', 'DET'), ('court', 'NOUN'), ('hearing', 'NOUN'), ('began', 'VERB'), ('in', 'ADP'), ('early', 'ADJ'), ('October', 'NOUN'), ('at', 'ADP'), ('the', 'DET'), ('request', 'NOUN'), ('of', 'ADP'), ('Anthony', 'NOUN'), ('Hazell', 'NOUN'), (',', '.'), ('district', 'NOUN'), ('auditor', 'NOUN'), ('for', 'ADP'), ('Hammersmith', 'NOUN'), (',', '.'), ('who', 'PRON'), ('*T*-63', 'X'), ('argued', 'VERB'), ('that', 'ADP'), ('local', 'ADJ'), ('councils', 'NOUN'), ('are', 'VERB'), (\"n't\", 'ADV'), ('vested', 'NOUN'), ('with', 'ADP'), ('constitutional', 'ADJ'), ('authority', 'NOUN'), ('*', 'X'), ('to', 'PRT'), ('engage', 'VERB'), ('in', 'ADP'), ('such', 'ADJ'), ('capital-markets', 'ADJ'), ('activities', 'NOUN'), ('.', '.'), ('Such', 'ADJ'), ('program', 'NOUN'), ('trades', 'NOUN'), (',', '.'), ('which', 'DET'), ('*T*-70', 'X'), ('can', 'VERB'), ('involve', 'VERB'), ('the', 'DET'), ('purchase', 'NOUN'), ('or', 'CONJ'), ('sale', 'NOUN'), ('of', 'ADP'), ('millions', 'NOUN'), ('of', 'ADP'), ('dollars', 'NOUN'), ('of', 'ADP'), ('stock', 'NOUN'), (',', '.'), ('occur', 'VERB'), ('in', 'ADP'), ('a', 'DET'), ('matter', 'NOUN'), ('of', 'ADP'), ('seconds', 'NOUN'), ('.', '.'), ('Even', 'ADV'), ('a', 'DET'), ('low-tech', 'NOUN'), ('product', 'NOUN'), ('like', 'ADP'), ('plate', 'NOUN'), ('glass', 'NOUN'), ('can', 'VERB'), ('catch', 'NOUN'), ('a', 'DET'), ('trading', 'NOUN'), ('company', 'NOUN'), (\"'s\", 'PRT'), ('fancy', 'NOUN'), ('if', 'ADP'), ('there', 'DET'), (\"'s\", 'VERB'), ('a', 'DET'), ('strategic', 'NOUN'), ('fit', 'NOUN'), ('.', '.'), ('As', 'ADP'), ('a', 'DET'), ('result', 'NOUN'), (',', '.'), ('he', 'PRON'), ('said', 'VERB'), ('0', 'X'), ('NBI', 'NOUN'), ('will', 'VERB'), ('focus', 'VERB'), ('on', 'ADP'), ('*', 'X'), ('servicing', 'NOUN'), ('its', 'PRON'), ('installed', 'VERB'), ('base', 'NOUN'), ('of', 'ADP'), ('systems', 'NOUN'), (',', '.'), ('trying', 'VERB'), ('*-4', 'X'), ('to', 'PRT'), ('provide', 'VERB'), ('maintenance', 'NOUN'), ('for', 'ADP'), ('other', 'ADJ'), ('manufacturers', 'NOUN'), ('and', 'CONJ'), ('expanding', 'VERB'), ('its', 'PRON'), ('software', 'NOUN'), ('business', 'NOUN'), (',', '.'), ('*-4', 'X'), ('using', 'VERB'), ('some', 'DET'), ('of', 'ADP'), ('the', 'DET'), ('applications', 'NOUN'), ('0', 'X'), ('it', 'PRON'), ('developed', 'VERB'), ('*T*-3', 'X'), ('for', 'ADP'), ('its', 'PRON'), ('hardware', 'NOUN'), ('.', '.'), ('And', 'CONJ'), ('they', 'PRON'), ('believe', 'VERB'), ('0', 'X'), ('the', 'DET'), ('Big', 'NOUN'), ('Board', 'NOUN'), (',', '.'), ('under', 'ADP'), ('Mr.', 'NOUN'), ('Phelan', 'NOUN'), (',', '.'), ('has', 'VERB'), ('abandoned', 'VERB'), ('their', 'PRON'), ('interest', 'NOUN'), ('.', '.'), ('The', 'DET'), ('current', 'ADJ'), ('opportunities', 'NOUN'), ('arise', 'NOUN'), ('because', 'ADP'), ('the', 'DET'), ('process', 'NOUN'), ('for', 'ADP'), ('*', 'X'), ('executing', 'VERB'), ('a', 'DET'), ('buy', 'VERB'), ('or', 'CONJ'), ('sell', 'VERB'), ('order', 'NOUN'), ('in', 'ADP'), ('the', 'DET'), ('actual', 'ADJ'), ('stocks', 'NOUN'), ('that', 'ADP'), ('*T*-76', 'X'), ('make', 'VERB'), ('up', 'ADV'), ('the', 'DET'), ('S&P', 'NOUN'), ('500', 'NUM'), ('is', 'VERB'), ('more', 'ADV'), ('cumbersome', 'NOUN'), ('than', 'ADP'), ('*', 'X'), ('transacting', 'VERB'), ('in', 'ADP'), ('the', 'DET'), ('futures', 'NOUN'), ('market', 'NOUN'), ('.', '.'), ('Big', 'NOUN'), ('Board', 'NOUN'), ('Chairman', 'NOUN'), ('John', 'NOUN'), ('Phelan', 'NOUN'), ('said', 'VERB'), ('yesterday', 'NOUN'), ('that', 'ADP'), ('he', 'PRON'), ('could', 'VERB'), ('support', 'VERB'), ('*', 'X'), ('letting', 'VERB'), ('federal', 'ADJ'), ('regulators', 'NOUN'), ('suspend', 'VERB'), ('program', 'NOUN'), ('trading', 'NOUN'), ('during', 'ADP'), ('wild', 'ADJ'), ('stock-price', 'NOUN'), ('swings', 'NOUN'), ('.', '.'), ('Among', 'ADP'), ('its', 'PRON'), ('new', 'ADJ'), ('customers', 'NOUN'), (':', '.'), ('day-care', 'NOUN'), ('centers', 'VERB'), ('that', 'ADP'), ('*T*-1', 'X'), ('previously', 'ADV'), ('spurned', 'NOUN'), ('the', 'DET'), ('service', 'NOUN'), ('.', '.'), ('Such', 'ADJ'), ('is', 'VERB'), ('hardly', 'ADV'), ('the', 'DET'), ('case', 'NOUN'), ('.', '.'), ('All', 'DET'), ('arguments', 'NOUN'), ('against', 'ADP'), ('program', 'NOUN'), ('trading', 'NOUN'), (',', '.'), ('even', 'ADV'), ('those', 'DET'), ('pressed', 'NOUN'), ('*', 'X'), ('without', 'ADP'), ('fact', 'NOUN'), (',', '.'), ('conclude', 'VERB'), ('with', 'ADP'), ('three', 'NUM'), ('expected', 'VERB'), ('results', 'NOUN'), ('after', 'ADP'), ('``', '.'), ('reforms', 'NOUN'), (\"''\", '.'), ('are', 'VERB'), ('implemented', 'NOUN'), ('*-1', 'X'), (':', '.'), ('1', 'NUM'), ('-RRB-', '.'), ('reduced', 'VERB'), ('volatility', 'NOUN'), (',', '.'), ('2', 'NUM'), ('-RRB-', '.'), ('a', 'DET'), ('long-term', 'ADJ'), ('investment', 'NOUN'), ('focus', 'VERB'), (',', '.'), ('and', 'CONJ'), ('3', 'NUM'), ('-RRB-', '.'), ('a', 'DET'), ('level', 'NOUN'), ('playing', 'VERB'), ('field', 'NOUN'), ('for', 'ADP'), ('the', 'DET'), ('small', 'ADJ'), ('investor', 'NOUN'), ('.', '.'), ('These', 'DET'), ('small', 'ADJ'), ('but', 'CONJ'), ('influential', 'ADJ'), ('floor', 'NOUN'), ('brokers', 'NOUN'), ('long', 'ADV'), ('have', 'VERB'), ('earned', 'VERB'), ('fat', 'ADJ'), ('returns', 'NOUN'), ('of', 'ADP'), ('30', 'NUM'), ('%', 'NOUN'), ('to', 'PRT'), ('40', 'NUM'), ('%', 'NOUN'), ('*U*', 'X'), ('a', 'DET'), ('year', 'NOUN'), ('on', 'ADP'), ('their', 'PRON'), ('capital', 'NOUN'), (',', '.'), ('by', 'ADP'), ('virtue', 'NOUN'), ('of', 'ADP'), ('their', 'PRON'), ('monopoly', 'NOUN'), ('in', 'ADP'), ('*', 'X'), ('making', 'VERB'), ('markets', 'NOUN'), ('in', 'ADP'), ('individual', 'ADJ'), ('stocks', 'NOUN'), ('.', '.'), ('The', 'DET'), ('7', 'NUM'), ('3\\\\/8', 'NUM'), ('%', 'NOUN'), ('term', 'NOUN'), ('bonds', 'NOUN'), ('due', 'ADJ'), ('2009', 'NUM'), ('are', 'VERB'), ('priced', 'VERB'), ('*-1', 'X'), ('at', 'ADP'), ('99', 'NUM'), ('1\\\\/2', 'NUM'), ('*', 'X'), ('to', 'PRT'), ('yield', 'VERB'), ('7.422', 'NOUN'), ('%', 'NOUN'), (',', '.'), ('and', 'CONJ'), ('7', 'NUM'), ('3\\\\/8', 'NUM'), ('%', 'NOUN'), ('term', 'NOUN'), ('bonds', 'NOUN'), ('due', 'ADJ'), ('2019', 'NUM'), ('are', 'VERB'), ('priced', 'VERB'), ('*-2', 'X'), ('at', 'ADP'), ('99', 'NUM'), ('*', 'X'), ('to', 'PRT'), ('yield', 'VERB'), ('7.458', 'NUM'), ('%', 'NOUN'), ('.', '.'), ('``', '.'), ('So', 'ADV'), ('crunch', 'NOUN'), (',', '.'), ('crunch', 'NOUN'), (',', '.'), ('crunch', 'NOUN'), (',', '.'), ('bang', 'NOUN'), (',', '.'), ('bang', 'NOUN'), (',', '.'), ('bang', 'NOUN'), ('--', '.'), ('here', 'ADV'), ('come', 'VERB'), ('*T*-4', 'X'), ('the', 'DET'), ('ringers', 'NOUN'), ('from', 'ADP'), ('above', 'ADP'), (',', '.'), ('*-1', 'X'), ('making', 'VERB'), ('a', 'DET'), ('very', 'ADV'), ('obvious', 'NOUN'), ('exit', 'NOUN'), ('while', 'ADP'), ('the', 'DET'), ('congregation', 'NOUN'), ('is', 'VERB'), ('at', 'ADP'), ('prayer', 'NOUN'), (',', '.'), (\"''\", '.'), ('he', 'PRON'), ('says', 'VERB'), ('*T*-2', 'X'), ('.', '.'), ('Stock', 'NOUN'), ('futures', 'NOUN'), ('trading', 'NOUN'), ('has', 'VERB'), ('minted', 'NOUN'), ('dozens', 'NOUN'), ('of', 'ADP'), ('millionaires', 'NOUN'), ('in', 'ADP'), ('their', 'PRON'), ('20s', 'NOUN'), ('and', 'CONJ'), ('30s', 'NOUN'), ('.', '.'), ('The', 'DET'), ('St.', 'NOUN'), ('Louis', 'NOUN'), ('firm', 'NOUN'), ('specializes', 'VERB'), ('in', 'ADP'), ('replacement-car', 'NOUN'), ('rentals', 'NOUN'), (',', '.'), ('those', 'DET'), ('provided', 'VERB'), ('*', 'X'), ('by', 'ADP'), ('insurance', 'NOUN'), ('companies', 'NOUN'), ('for', 'ADP'), ('cars', 'NOUN'), ('damaged', 'VERB'), ('*', 'X'), ('in', 'ADP'), ('accidents', 'NOUN'), ('.', '.'), ('All', 'DET'), ('the', 'DET'), ('contracts', 'NOUN'), ('were', 'VERB'), ('for', 'ADP'), ('computer-system-design', 'NOUN'), ('contracts', 'NOUN'), ('and', 'CONJ'), ('involved', 'VERB'), ('no', 'DET'), ('hardware', 'NOUN'), ('or', 'CONJ'), ('software', 'NOUN'), ('.', '.'), ('A', 'DET'), ('computer', 'NOUN'), ('using', 'VERB'), ('the', 'DET'), ('more-advanced', 'NOUN'), ('Intel', 'NOUN'), ('Corp.', 'NOUN'), ('386', 'NUM'), ('microprocessor', 'NOUN'), (',', '.'), ('with', 'ADP'), ('four', 'NUM'), ('megabytes', 'NOUN'), ('of', 'ADP'), ('memory', 'NOUN'), ('and', 'CONJ'), ('a', 'DET'), ('100-megabyte', 'NOUN'), ('hard', 'ADV'), ('disk', 'NOUN'), ('now', 'ADV'), ('sells', 'VERB'), ('for', 'ADP'), ('$', '.'), ('5,699', 'NOUN'), ('*U*', 'X'), (',', '.'), ('down', 'ADV'), ('from', 'ADP'), ('$', '.'), ('6,799', 'NOUN'), ('*U*', 'X'), ('.', '.'), ('Government', 'NOUN'), ('officials', 'NOUN'), ('said', 'VERB'), ('0', 'X'), ('exports', 'NOUN'), ('at', 'ADP'), ('the', 'DET'), ('end', 'NOUN'), ('of', 'ADP'), ('the', 'DET'), ('year', 'NOUN'), ('would', 'VERB'), ('remain', 'VERB'), ('under', 'ADP'), ('a', 'DET'), ('government', 'NOUN'), ('target', 'NOUN'), ('of', 'ADP'), ('$', '.'), ('68', 'NUM'), ('billion', 'NUM'), ('*U*', 'X'), ('.', '.'), ('Here', 'ADV'), ('are', 'VERB'), ('*T*-1', 'X'), ('the', 'DET'), ('Commerce', 'NOUN'), ('Department', 'NOUN'), (\"'s\", 'PRT'), ('figures', 'NOUN'), ('for', 'ADP'), ('construction', 'NOUN'), ('spending', 'NOUN'), ('in', 'ADP'), ('billions', 'NOUN'), ('of', 'ADP'), ('dollars', 'NOUN'), ('at', 'ADP'), ('seasonally', 'ADV'), ('adjusted', 'VERB'), ('annual', 'ADJ'), ('rates', 'NOUN'), ('.', '.'), ('The', 'DET'), ('plan', 'NOUN'), ('was', 'VERB'), ('filed', 'VERB'), ('*-1', 'X'), ('jointly', 'ADV'), ('with', 'ADP'), ('unsecured', 'ADJ'), ('creditors', 'NOUN'), ('in', 'ADP'), ('federal', 'ADJ'), ('bankruptcy', 'NOUN'), ('court', 'NOUN'), ('in', 'ADP'), ('New', 'NOUN'), ('York', 'NOUN'), ('and', 'CONJ'), ('must', 'VERB'), ('be', 'VERB'), ('approved', 'VERB'), ('*-1', 'X'), ('by', 'ADP'), ('the', 'DET'), ('court', 'NOUN'), ('.', '.'), ('However', 'ADV'), (',', '.'), ('the', 'DET'), ('president', 'NOUN'), ('does', 'VERB'), ('have', 'VERB'), ('a', 'DET'), ('duty', 'NOUN'), ('*', 'X'), ('not', 'ADV'), ('to', 'PRT'), ('violate', 'VERB'), ('the', 'DET'), ('Constitution', 'NOUN'), ('.', '.'), ('She', 'PRON'), ('believes', 'VERB'), ('that', 'ADP'), ('the', 'DET'), ('only', 'ADJ'), ('answer', 'NOUN'), ('for', 'ADP'), ('individuals', 'NOUN'), ('is', 'VERB'), ('*', 'X'), ('to', 'PRT'), ('``', '.'), ('buy', 'VERB'), ('stocks', 'NOUN'), ('that', 'ADP'), ('*T*-1', 'X'), (\"'ll\", 'VERB'), ('weather', 'NOUN'), ('any', 'DET'), ('storm', 'NOUN'), ('.', '.'), (\"''\", '.'), ('Citizens', 'NOUN'), ('in', 'ADP'), ('Peninsula', 'NOUN'), (',', '.'), ('Ohio', 'NOUN'), (',', '.'), ('*-1', 'X'), ('upset', 'VERB'), ('over', 'ADP'), ('changes', 'NOUN'), ('to', 'PRT'), ('a', 'DET'), ('bridge', 'NOUN'), (',', '.'), ('negotiated', 'VERB'), ('a', 'DET'), ('deal', 'NOUN'), (':', '.'), ('The', 'DET'), ('bottom', 'NOUN'), ('half', 'NOUN'), ('of', 'ADP'), ('the', 'DET'), ('railing', 'NOUN'), ('will', 'VERB'), ('be', 'VERB'), ('type', 'NOUN'), ('F', 'NOUN'), (',', '.'), ('while', 'ADP'), ('the', 'DET'), ('top', 'ADJ'), ('half', 'NOUN'), ('will', 'VERB'), ('have', 'VERB'), ('the', 'DET'), ('old', 'ADJ'), ('bridge', 'NOUN'), (\"'s\", 'PRT'), ('floral', 'NOUN'), ('pattern', 'NOUN'), ('.', '.'), ('Sea', 'NOUN'), ('Containers', 'NOUN'), ('Ltd.', 'NOUN'), ('said', 'VERB'), ('0', 'X'), ('it', 'PRON'), ('might', 'VERB'), ('increase', 'VERB'), ('the', 'DET'), ('price', 'NOUN'), ('of', 'ADP'), ('its', 'PRON'), ('$', '.'), ('70-a-share', 'NOUN'), ('*U*', 'X'), ('buy-back', 'NOUN'), ('plan', 'NOUN'), ('if', 'ADP'), ('*-2', 'X'), ('pressed', 'NOUN'), ('*-1', 'X'), ('by', 'ADP'), ('Temple', 'NOUN'), ('Holdings', 'NOUN'), ('Ltd.', 'NOUN'), (',', '.'), ('which', 'DET'), ('*T*-156', 'NOUN'), ('made', 'VERB'), ('an', 'DET'), ('earlier', 'ADJ'), ('tender', 'NOUN'), ('offer', 'NOUN'), ('for', 'ADP'), ('Sea', 'NOUN'), ('Containers', 'NOUN'), ('.', '.'), ('Mrs.', 'NOUN'), ('Hills', 'NOUN'), ('said', 'VERB'), ('that', 'ADP'), ('the', 'DET'), ('U.S.', 'NOUN'), ('is', 'VERB'), ('still', 'ADV'), ('concerned', 'NOUN'), ('about', 'ADP'), ('``', '.'), ('disturbing', 'ADJ'), ('developments', 'NOUN'), ('in', 'ADP'), ('Turkey', 'NOUN'), ('and', 'CONJ'), ('continuing', 'VERB'), ('slow', 'VERB'), ('progress', 'NOUN'), ('in', 'ADP'), ('Malaysia', 'NOUN'), ('.', '.'), (\"''\", '.'), ('What', 'PRON'), ('*T*-42', 'X'), ('saved', 'NOUN'), ('many', 'ADJ'), ('farmers', 'NOUN'), ('from', 'ADP'), ('a', 'DET'), ('bad', 'ADJ'), ('year', 'NOUN'), ('was', 'VERB'), ('the', 'DET'), ('opportunity', 'NOUN'), ('*', 'X'), ('to', 'PRT'), ('reclaim', 'NOUN'), ('large', 'ADJ'), ('quantities', 'NOUN'), ('of', 'ADP'), ('grain', 'NOUN'), ('and', 'CONJ'), ('other', 'ADJ'), ('crops', 'NOUN'), ('that', 'ADP'), ('they', 'PRON'), ('had', 'VERB'), ('``', '.'), ('mortgaged', 'NOUN'), (\"''\", '.'), ('*T*-1', 'X'), ('to', 'PRT'), ('the', 'DET'), ('government', 'NOUN'), ('under', 'ADP'), ('price-support', 'NOUN'), ('loan', 'NOUN'), ('programs', 'NOUN'), ('.', '.'), ('In', 'ADP'), ('its', 'PRON'), ('latest', 'ADJ'), ('compilation', 'NOUN'), ('of', 'ADP'), ('performance', 'NOUN'), ('statistics', 'NOUN'), (',', '.'), ('Moody', 'NOUN'), (\"'s\", 'PRT'), ('Investors', 'NOUN'), ('Service', 'NOUN'), ('found', 'VERB'), ('that', 'ADP'), ('investment-grade', 'ADJ'), ('bonds', 'NOUN'), ('posted', 'VERB'), ('a', 'DET'), ('total', 'ADJ'), ('return', 'NOUN'), ('of', 'ADP'), ('2.7', 'NUM'), ('%', 'NOUN'), ('in', 'ADP'), ('October', 'NOUN'), ('while', 'ADP'), ('junk', 'NOUN'), ('bonds', 'NOUN'), ('showed', 'VERB'), ('a', 'DET'), ('negative', 'ADJ'), ('return', 'NOUN'), ('of', 'ADP'), ('1.5', 'NUM'), ('%', 'NOUN'), ('.', '.'), ('``', '.'), ('We', 'PRON'), ('have', 'VERB'), ('a', 'DET'), ('long', 'ADJ'), ('history', 'NOUN'), ('of', 'ADP'), ('*', 'X'), ('maintaining', 'VERB'), ('an', 'DET'), ('open', 'ADJ'), ('direct-investment', 'NOUN'), ('policy', 'NOUN'), (',', '.'), (\"''\", '.'), ('Mr.', 'NOUN'), ('Dallara', 'NOUN'), ('says', 'VERB'), ('*T*-1', 'X'), ('.', '.'), ('The', 'DET'), ('Life', 'NOUN'), ('Insurance', 'NOUN'), ('Co.', 'NOUN'), ('of', 'ADP'), ('Georgia', 'NOUN'), ('has', 'VERB'), ('officially', 'ADV'), ('opened', 'VERB'), ('an', 'DET'), ('office', 'NOUN'), ('in', 'ADP'), ('Taipei', 'NOUN'), ('.', '.'), ('But', 'CONJ'), ('he', 'PRON'), ('blames', 'NOUN'), ('program', 'NOUN'), ('trading', 'NOUN'), ('for', 'ADP'), ('only', 'ADV'), ('some', 'DET'), ('of', 'ADP'), ('the', 'DET'), ('market', 'NOUN'), (\"'s\", 'PRT'), ('volatility', 'NOUN'), ('.', '.'), ('As', 'ADP'), ('an', 'DET'), ('actor', 'NOUN'), (',', '.'), ('Charles', 'NOUN'), ('Lane', 'NOUN'), ('is', 'VERB'), (\"n't\", 'ADV'), ('the', 'DET'), ('inheritor', 'NOUN'), ('of', 'ADP'), ('Charlie', 'NOUN'), ('Chaplin', 'NOUN'), (\"'s\", 'PRT'), ('spirit', 'NOUN'), ('.', '.'), ('According', 'VERB'), ('to', 'PRT'), ('Upjohn', 'NOUN'), (\"'s\", 'PRT'), ('estimates', 'VERB'), (',', '.'), ('only', 'ADV'), ('50', 'NUM'), ('%', 'NOUN'), ('to', 'PRT'), ('60', 'NUM'), ('%', 'NOUN'), ('*U*', 'X'), ('of', 'ADP'), ('the', 'DET'), ('1,100', 'NUM'), ('eligible', 'ADJ'), ('employees', 'NOUN'), ('will', 'VERB'), ('take', 'VERB'), ('advantage', 'NOUN'), ('of', 'ADP'), ('the', 'DET'), ('plan', 'NOUN'), ('.', '.'), ('Money', 'NOUN'), ('is', 'VERB'), ('not', 'ADV'), ('everything', 'NOUN'), (',', '.'), ('but', 'CONJ'), ('it', 'PRON'), ('is', 'VERB'), ('necessary', 'ADJ'), (',', '.'), ('and', 'CONJ'), ('business', 'NOUN'), ('is', 'VERB'), ('not', 'ADV'), ('volunteer', 'NOUN'), ('work', 'NOUN'), ('.', '.'), ('But', 'CONJ'), ('for', 'ADP'), ('an', 'DET'), ('ailing', 'VERB'), ('savings-and-loan', 'ADJ'), ('association', 'NOUN'), ('--', '.'), ('teetering', 'NOUN'), ('on', 'ADP'), ('insolvency', 'NOUN'), ('--', '.'), ('it', 'PRON'), ('can', 'VERB'), ('lead', 'VERB'), ('to', 'PRT'), ('safety', 'NOUN'), ('from', 'ADP'), ('imminent', 'ADJ'), ('demise', 'NOUN'), ('and', 'CONJ'), ('to', 'PRT'), ('a', 'DET'), ('future', 'ADJ'), ('full', 'ADJ'), ('of', 'ADP'), ('promise', 'NOUN'), ('.', '.'), ('Only', 'ADV'), ('19', 'NUM'), ('%', 'NOUN'), ('of', 'ADP'), ('the', 'DET'), ('purchasing', 'NOUN'), ('managers', 'NOUN'), ('reported', 'VERB'), ('better', 'ADV'), ('export', 'VERB'), ('orders', 'NOUN'), ('in', 'ADP'), ('October', 'NOUN'), (',', '.'), ('down', 'ADV'), ('from', 'ADP'), ('27', 'NUM'), ('%', 'NOUN'), ('in', 'ADP'), ('September', 'NOUN'), ('.', '.'), ('Mr.', 'NOUN'), ('Watson', 'NOUN'), ('says', 'VERB'), ('0', 'X'), ('Mrs.', 'NOUN'), ('Yeargin', 'NOUN'), ('never', 'ADV'), ('complained', 'VERB'), ('to', 'PRT'), ('school', 'NOUN'), ('officials', 'NOUN'), ('that', 'ADP'), ('the', 'DET'), ('standardized', 'ADJ'), ('test', 'NOUN'), ('was', 'VERB'), ('unfair', 'ADJ'), ('.', '.'), ('He', 'PRON'), ('is', 'VERB'), ('an', 'DET'), ('avid', 'NOUN'), ('fan', 'NOUN'), ('of', 'ADP'), ('a', 'DET'), ('proposition', 'NOUN'), ('on', 'ADP'), ('next', 'ADJ'), ('week', 'NOUN'), (\"'s\", 'PRT'), ('ballot', 'NOUN'), ('0', 'X'), ('*', 'X'), ('to', 'PRT'), ('help', 'VERB'), ('*-2', 'X'), ('build', 'VERB'), ('a', 'DET'), ('replacement', 'NOUN'), ('for', 'ADP'), ('Candlestick', 'NOUN'), ('Park', 'NOUN'), ('*T*-1', 'X'), ('.', '.'), ('A', 'DET'), ('spokesman', 'NOUN'), ('for', 'ADP'), ('the', 'DET'), ('Toronto', 'NOUN'), ('cable', 'NOUN'), ('television', 'NOUN'), ('and', 'CONJ'), ('telecommunications', 'NOUN'), ('concern', 'NOUN'), ('said', 'VERB'), ('0', 'X'), ('the', 'DET'), ('coupon', 'NOUN'), ('rate', 'NOUN'), ('has', 'VERB'), (\"n't\", 'ADV'), ('yet', 'ADV'), ('been', 'VERB'), ('fixed', 'VERB'), ('*-1', 'X'), (',', '.'), ('but', 'CONJ'), ('will', 'VERB'), ('probably', 'ADV'), ('be', 'VERB'), ('set', 'VERB'), ('*-1', 'X'), ('at', 'ADP'), ('around', 'ADP'), ('8', 'NUM'), ('%', 'NOUN'), ('.', '.'), ('People', 'NOUN'), ('close', 'VERB'), ('to', 'PRT'), ('the', 'DET'), ('utility', 'NOUN'), ('industry', 'NOUN'), ('said', 'VERB'), ('0', 'X'), ('Mr.', 'NOUN'), ('Dingell', 'NOUN'), (\"'s\", 'PRT'), ('proposal', 'NOUN'), ('appears', 'VERB'), ('*-3', 'X'), ('to', 'PRT'), ('guarantee', 'NOUN'), ('only', 'ADV'), ('an', 'DET'), ('estimated', 'VERB'), ('seven-million-ton', 'NOUN'), ('cut', 'VERB'), ('in', 'ADP'), ('annual', 'ADJ'), ('sulfur-dioxide', 'NOUN'), ('emissions', 'NOUN'), ('that', 'ADP'), ('*T*-2', 'X'), ('lead', 'VERB'), ('to', 'PRT'), ('acid', 'ADJ'), ('rain', 'NOUN'), (',', '.'), ('though', 'ADP'), ('additional', 'ADJ'), ('cuts', 'NOUN'), ('could', 'VERB'), ('be', 'VERB'), ('ordered', 'VERB'), ('*-1', 'X'), ('later', 'ADJ'), ('.', '.'), ('The', 'DET'), ('offer', 'NOUN'), (',', '.'), ('which', 'DET'), ('*T*-2', 'X'), ('was', 'VERB'), ('due', 'ADJ'), ('*-3', 'X'), ('to', 'PRT'), ('expire', 'VERB'), ('yesterday', 'NOUN'), (',', '.'), ('is', 'VERB'), ('conditional', 'ADJ'), ('on', 'ADP'), ('50.1', 'NOUN'), ('%', 'NOUN'), ('of', 'ADP'), (\"Dunkin'\", 'NOUN'), ('common', 'ADJ'), ('shares', 'NOUN'), (',', '.'), ('on', 'ADP'), ('a', 'DET'), ('fully', 'ADV'), ('diluted', 'VERB'), ('basis', 'NOUN'), (',', '.'), ('being', 'VERB'), ('tendered', 'VERB'), ('*-1', 'X'), ('and', 'CONJ'), ('on', 'ADP'), ('the', 'DET'), ('withdrawal', 'NOUN'), ('of', 'ADP'), ('the', 'DET'), ('company', 'NOUN'), (\"'s\", 'PRT'), ('poison', 'NOUN'), ('pill', 'NOUN'), ('rights', 'NOUN'), ('plan', 'NOUN'), ('.', '.'), ('David', 'NOUN'), ('A.', 'NOUN'), ('DiLoreto', 'NOUN'), (',', '.'), ('president', 'NOUN'), ('of', 'ADP'), ('metal', 'NOUN'), ('container', 'NOUN'), ('division', 'NOUN'), (',', '.'), ('was', 'VERB'), ('named', 'VERB'), ('*-1', 'X'), ('to', 'PRT'), ('the', 'DET'), ('additional', 'ADJ'), ('post', 'NOUN'), ('of', 'ADP'), ('group', 'NOUN'), ('vice', 'NOUN'), ('president', 'NOUN'), (',', '.'), ('packaging', 'NOUN'), ('products', 'NOUN'), (',', '.'), ('at', 'ADP'), ('this', 'DET'), ('packaging', 'NOUN'), (',', '.'), ('industrial', 'ADJ'), ('and', 'CONJ'), ('aerospace', 'NOUN'), ('products', 'NOUN'), ('concern', 'NOUN'), (',', '.'), ('*-1', 'X'), ('succeeding', 'VERB'), ('Delmont', 'NOUN'), ('A.', 'NOUN'), ('Davis', 'NOUN'), (',', '.'), ('who', 'PRON'), ('*T*-3', 'X'), ('was', 'VERB'), ('named', 'VERB'), ('*-2', 'X'), ('president', 'NOUN'), ('and', 'CONJ'), ('chief', 'NOUN'), ('operating', 'NOUN'), ('officer', 'NOUN'), ('in', 'ADP'), ('August', 'NOUN'), ('.', '.'), ('FreudToy', 'NOUN'), (',', '.'), ('a', 'DET'), ('pillow', 'NOUN'), ('bearing', 'VERB'), ('the', 'DET'), ('likeness', 'NOUN'), ('of', 'ADP'), ('Sigmund', 'NOUN'), ('Freud', 'NOUN'), (',', '.'), ('is', 'VERB'), ('marketed', 'VERB'), ('*-1', 'X'), ('as', 'ADP'), ('a', 'DET'), ('$', '.'), ('24.95', 'NOUN'), ('*U*', 'X'), ('tool', 'NOUN'), ('for', 'ADP'), ('do-it-yourself', 'NOUN'), ('analysis', 'NOUN'), ('.', '.'), ('``', '.'), ('We', 'PRON'), (\"'re\", 'VERB'), ('offering', 'VERB'), ('this', 'DET'), ('plan', 'NOUN'), ('now', 'ADV'), ('because', 'ADP'), ('we', 'PRON'), ('feel', 'VERB'), ('0', 'X'), ('it', 'PRON'), (\"'s\", 'VERB'), ('the', 'DET'), ('right', 'NOUN'), ('time', 'NOUN'), ('.', '.'), (\"''\", '.'), ('Japan', 'NOUN'), (\"'s\", 'PRT'), ('reserves', 'NOUN'), ('of', 'ADP'), ('gold', 'NOUN'), (',', '.'), ('convertible', 'ADJ'), ('foreign', 'ADJ'), ('currencies', 'NOUN'), (',', '.'), ('and', 'CONJ'), ('special', 'ADJ'), ('drawing', 'NOUN'), ('rights', 'NOUN'), ('fell', 'VERB'), ('by', 'ADP'), ('a', 'DET'), ('hefty', 'ADJ'), ('$', '.'), ('1.82', 'NOUN'), ('billion', 'NUM'), ('*U*', 'X'), ('in', 'ADP'), ('October', 'NOUN'), ('to', 'PRT'), ('$', '.'), ('84.29', 'NOUN'), ('billion', 'NUM'), ('*U*', 'X'), (',', '.'), ('the', 'DET'), ('Finance', 'NOUN'), ('Ministry', 'NOUN'), ('said', 'VERB'), ('0', 'X'), ('*T*-2', 'X'), ('.', '.'), ('The', 'DET'), ('airline', 'NOUN'), ('is', 'VERB'), ('attempting', 'VERB'), ('*-1', 'X'), ('to', 'PRT'), ('show', 'VERB'), ('that', 'ADP'), ('Israel', 'NOUN'), ('and', 'CONJ'), ('West', 'NOUN'), ('Germany', 'NOUN'), ('warned', 'VERB'), ('the', 'DET'), ('U.S.', 'NOUN'), ('about', 'ADP'), ('the', 'DET'), ('impending', 'VERB'), ('attack', 'VERB'), ('.', '.'), ('But', 'CONJ'), ('there', 'DET'), ('still', 'ADV'), ('are', 'VERB'), (\"n't\", 'ADV'), ('enough', 'ADV'), ('ringers', 'NOUN'), ('0', 'X'), ('*T*-1', 'X'), ('to', 'PRT'), ('ring', 'VERB'), ('more', 'ADV'), ('than', 'ADP'), ('six', 'NUM'), ('of', 'ADP'), ('the', 'DET'), ('eight', 'NUM'), ('bells', 'NOUN'), ('.', '.'), ('Columbia', 'NOUN'), (',', '.'), ('a', 'DET'), ('longtime', 'NOUN'), ('Drexel', 'NOUN'), ('client', 'NOUN'), (',', '.'), ('wo', 'VERB'), (\"n't\", 'ADV'), ('provide', 'VERB'), ('current', 'ADJ'), ('data', 'NOUN'), ('on', 'ADP'), ('its', 'PRON'), ('junk', 'NOUN'), ('.', '.'), ('You', 'PRON'), ('can', 'VERB'), ('do', 'VERB'), ('all', 'DET'), ('this', 'DET'), ('even', 'ADV'), ('if', 'ADP'), ('you', 'PRON'), (\"'re\", 'VERB'), ('not', 'ADV'), ('a', 'DET'), ('reporter', 'NOUN'), ('or', 'CONJ'), ('a', 'DET'), ('researcher', 'NOUN'), ('or', 'CONJ'), ('a', 'DET'), ('scholar', 'NOUN'), ('or', 'CONJ'), ('a', 'DET'), ('member', 'NOUN'), ('of', 'ADP'), ('Congress', 'NOUN'), ('.', '.'), ('That', 'DET'), ('got', 'VERB'), ('hard', 'ADV'), ('0', 'X'), ('*', 'X'), ('to', 'PRT'), ('take', 'VERB'), ('*T*-1', 'X'), (',', '.'), (\"''\", '.'), ('he', 'PRON'), ('added', 'VERB'), ('*T*-2', 'X'), ('.', '.'), ('Upjohn', 'NOUN'), (',', '.'), ('a', 'DET'), ('rumored', 'VERB'), ('target', 'VERB'), ('within', 'ADP'), ('the', 'DET'), ('drug', 'NOUN'), ('industry', 'NOUN'), (',', '.'), ('advanced', 'VERB'), ('7\\\\/8', 'NUM'), ('to', 'PRT'), ('38', 'NUM'), ('7\\\\/8', 'NUM'), ('.', '.'), ('All', 'DET'), ('of', 'ADP'), ('this', 'DET'), ('must', 'VERB'), ('have', 'VERB'), ('been', 'VERB'), ('enormously', 'NOUN'), ('frustrating', 'NOUN'), ('to', 'PRT'), ('Mr.', 'NOUN'), ('Katzenstein', 'NOUN'), (',', '.'), ('who', 'PRON'), ('*T*-59', 'X'), ('went', 'VERB'), ('to', 'PRT'), ('Sony', 'NOUN'), ('with', 'ADP'), ('degrees', 'NOUN'), ('in', 'ADP'), ('business', 'NOUN'), ('and', 'CONJ'), ('computer', 'NOUN'), ('science', 'NOUN'), ('and', 'CONJ'), ('was', 'VERB'), ('raring', 'NOUN'), ('*-1', 'X'), ('to', 'PRT'), ('invent', 'NOUN'), ('another', 'DET'), ('Walkman', 'NOUN'), ('.', '.'), ('Detroit', 'NOUN'), ('--', '.'), ('IRAs', 'NOUN'), ('.', '.'), ('``', '.'), ('You', 'PRON'), (\"'re\", 'VERB'), ('dead', 'ADJ'), ('in', 'ADP'), ('the', 'DET'), ('water', 'NOUN'), ('if', 'ADP'), ('you', 'PRON'), ('are', 'VERB'), (\"n't\", 'ADV'), ('segmenting', 'NOUN'), ('the', 'DET'), ('market', 'NOUN'), (',', '.'), (\"''\", '.'), ('says', 'VERB'), ('*T*-1', 'X'), ('Anne', 'NOUN'), ('Moore', 'NOUN'), (',', '.'), ('president', 'NOUN'), ('of', 'ADP'), ('Synergistics', 'NOUN'), ('Research', 'NOUN'), ('Corp.', 'NOUN'), (',', '.'), ('a', 'DET'), ('bank', 'NOUN'), ('consulting', 'NOUN'), ('firm', 'NOUN'), ('in', 'ADP'), ('Atlanta', 'NOUN'), ('.', '.'), ('Among', 'ADP'), ('them', 'PRON'), ('are', 'VERB'), ('*T*-1', 'X'), ('differences', 'NOUN'), ('in', 'ADP'), ('savings', 'NOUN'), ('and', 'CONJ'), ('investment', 'NOUN'), ('rates', 'NOUN'), (',', '.'), ('corporate', 'ADJ'), ('structures', 'NOUN'), ('and', 'CONJ'), ('management', 'NOUN'), (',', '.'), ('and', 'CONJ'), ('government', 'NOUN'), ('spending', 'NOUN'), ('.', '.'), ('It', 'PRON'), ('also', 'ADV'), ('issued', 'VERB'), ('a', 'DET'), ('final', 'ADJ'), ('rule', 'NOUN'), ('requiring', 'VERB'), ('auto', 'NOUN'), ('makers', 'NOUN'), ('to', 'PRT'), ('equip', 'NOUN'), ('light', 'NOUN'), ('trucks', 'NOUN'), ('and', 'CONJ'), ('minivans', 'NOUN'), ('with', 'ADP'), ('lap-shoulder', 'NOUN'), ('belts', 'NOUN'), ('for', 'ADP'), ('rear', 'NOUN'), ('seats', 'NOUN'), ('*', 'X'), ('beginning', 'VERB'), ('in', 'ADP'), ('the', 'DET'), ('1992', 'NUM'), ('model', 'NOUN'), ('year', 'NOUN'), ('.', '.'), ('USX', 'NOUN'), ('announced', 'VERB'), ('in', 'ADP'), ('October', 'NOUN'), ('that', 'ADP'), ('it', 'PRON'), ('was', 'VERB'), ('soliciting', 'NOUN'), ('bids', 'NOUN'), ('*', 'X'), ('to', 'PRT'), ('sell', 'VERB'), ('TXO', 'NOUN'), (\"'s\", 'PRT'), ('oil', 'NOUN'), ('and', 'CONJ'), ('gas', 'NOUN'), ('reserves', 'NOUN'), ('.', '.'), ('``', '.'), ('The', 'DET'), ('way', 'NOUN'), ('that', 'ADP'), ('we', 'PRON'), (\"'ve\", 'VERB'), ('been', 'VERB'), ('managing', 'VERB'), ('Campbell', 'NOUN'), ('U.S.A.', 'NOUN'), ('*T*-2', 'X'), ('can', 'VERB'), ('hopefully', 'ADV'), ('spread', 'VERB'), ('to', 'PRT'), ('other', 'ADJ'), ('areas', 'NOUN'), ('of', 'ADP'), ('the', 'DET'), ('company', 'NOUN'), (',', '.'), (\"''\", '.'), ('Mr.', 'NOUN'), ('Baum', 'NOUN'), ('said', 'VERB'), ('*T*-1', 'X'), ('.', '.'), ('When', 'ADV'), ('*-4', 'X'), ('offered', 'VERB'), ('*-3', 'X'), ('a', 'DET'), ('free', 'ADJ'), ('trip', 'NOUN'), ('from', 'ADP'), ('the', 'DET'), ('Bronx', 'NOUN'), (',', '.'), ('Wedtech', 'NOUN'), (\"'s\", 'PRT'), ('home', 'NOUN'), (',', '.'), ('to', 'PRT'), ('Washington', 'NOUN'), (',', '.'), ('D.C.', 'NOUN'), (',', '.'), ('by', 'ADP'), ('one', 'NUM'), ('of', 'ADP'), ('Wedtech', 'NOUN'), (\"'s\", 'PRT'), ('principals', 'NOUN'), ('*T*-2', 'X'), (',', '.'), ('he', 'PRON'), ('tells', 'VERB'), ('the', 'DET'), ('reader', 'NOUN'), (',', '.'), ('``', '.'), ('*-5', 'X'), ('mindful', 'NOUN'), ('of', 'ADP'), ('*', 'X'), ('accepting', 'VERB'), ('anything', 'NOUN'), ('of', 'ADP'), ('value', 'NOUN'), ('from', 'ADP'), ('those', 'DET'), ('0', 'X'), ('I', 'PRON'), ('was', 'VERB'), ('writing', 'VERB'), ('about', 'ADP'), ('*T*-1', 'X'), (',', '.'), ('I', 'PRON'), ('declined', 'VERB'), ('.', '.'), (\"''\", '.'), ('The', 'DET'), ('total', 'ADJ'), ('of', 'ADP'), ('18', 'NUM'), ('deaths', 'NOUN'), ('from', 'ADP'), ('malignant', 'NOUN'), ('mesothelioma', 'NOUN'), (',', '.'), ('lung', 'NOUN'), ('cancer', 'NOUN'), ('and', 'CONJ'), ('asbestosis', 'NOUN'), ('was', 'VERB'), ('far', 'ADV'), ('higher', 'ADJ'), ('than', 'ADP'), ('*', 'X'), ('expected', 'VERB'), ('*?*', 'X'), (',', '.'), ('the', 'DET'), ('researchers', 'NOUN'), ('said', 'VERB'), ('0', 'X'), ('*T*-1', 'X'), ('.', '.'), ('In', 'ADP'), ('October', 'NOUN'), ('1989', 'NUM'), (',', '.'), ('16.9', 'NOUN'), ('%', 'NOUN'), ('said', 'VERB'), ('0', 'X'), ('more', 'ADV'), ('jobs', 'NOUN'), ('will', 'VERB'), ('be', 'VERB'), ('created', 'VERB'), ('*-1', 'X'), ('in', 'ADP'), ('the', 'DET'), ('coming', 'VERB'), ('six', 'NUM'), ('months', 'NOUN'), (',', '.'), ('compared', 'VERB'), ('with', 'ADP'), ('17.4', 'NOUN'), ('%', 'NOUN'), ('in', 'ADP'), ('September', 'NOUN'), ('and', 'CONJ'), ('18.6', 'NOUN'), ('%', 'NOUN'), ('in', 'ADP'), ('October', 'NOUN'), ('1988', 'NUM'), ('.', '.'), ('Tokyu', 'NOUN'), ('Group', 'NOUN'), (',', '.'), ('Mitsubishi', 'NOUN'), ('Estate', 'NOUN'), ('and', 'CONJ'), ('Bridgestone\\\\/Firestone', 'NOUN'), (',', '.'), ('which', 'DET'), ('*T*-1', 'X'), ('advanced', 'VERB'), ('Tuesday', 'NOUN'), (',', '.'), ('declined', 'VERB'), ('on', 'ADP'), ('profit-taking', 'NOUN'), ('.', '.'), ('Traders', 'NOUN'), ('said', 'VERB'), ('0', 'X'), ('prices', 'NOUN'), ('also', 'ADV'), ('were', 'VERB'), ('supported', 'VERB'), ('*-1', 'X'), ('by', 'ADP'), ('widespread', 'ADJ'), ('rumors', 'NOUN'), ('that', 'ADP'), ('the', 'DET'), ('Soviet', 'ADJ'), ('Union', 'NOUN'), ('is', 'VERB'), ('on', 'ADP'), ('the', 'DET'), ('verge', 'NOUN'), ('of', 'ADP'), ('*', 'X'), ('receiving', 'VERB'), ('most', 'ADV'), ('favored', 'VERB'), ('nation', 'NOUN'), ('status', 'NOUN'), ('from', 'ADP'), ('the', 'DET'), ('U.S.', 'NOUN'), ('.', '.'), ('She', 'PRON'), ('became', 'VERB'), ('an', 'DET'), ('abortionist', 'NOUN'), ('accidentally', 'NOUN'), (',', '.'), ('and', 'CONJ'), ('continued', 'VERB'), ('because', 'ADP'), ('it', 'PRON'), ('enabled', 'NOUN'), ('her', 'PRON'), ('to', 'PRT'), ('buy', 'VERB'), ('jam', 'NOUN'), (',', '.'), ('cocoa', 'NOUN'), ('and', 'CONJ'), ('other', 'ADJ'), ('war-rationed', 'NOUN'), ('goodies', 'NOUN'), ('.', '.'), ('New', 'NOUN'), ('York', 'NOUN'), ('City', 'NOUN'), (':', '.'), ('Georgia-Pacific', 'NOUN'), (\"'s\", 'PRT'), ('sales', 'NOUN'), ('climbed', 'VERB'), ('to', 'PRT'), ('$', '.'), ('9.5', 'NUM'), ('billion', 'NUM'), ('*U*', 'X'), ('last', 'ADJ'), ('year', 'NOUN'), (',', '.'), ('compared', 'VERB'), ('with', 'ADP'), ('$', '.'), ('6', 'NUM'), ('billion', 'NUM'), ('*U*', 'X'), ('in', 'ADP'), ('1983', 'NUM'), (',', '.'), ('when', 'ADV'), ('Mr.', 'NOUN'), ('Hahn', 'NOUN'), ('took', 'VERB'), ('the', 'DET'), ('reins', 'NOUN'), ('*T*-1', 'X'), ('.', '.'), ('The', 'DET'), ('rest', 'NOUN'), ('went', 'VERB'), ('to', 'PRT'), ('investors', 'NOUN'), ('from', 'ADP'), ('France', 'NOUN'), ('and', 'CONJ'), ('Hong', 'NOUN'), ('Kong', 'NOUN'), ('.', '.'), ('For', 'ADP'), ('nearly', 'ADV'), ('a', 'DET'), ('decade', 'NOUN'), (',', '.'), ('banks', 'NOUN'), ('have', 'VERB'), ('competed', 'NOUN'), ('for', 'ADP'), ('customers', 'NOUN'), ('primarily', 'ADV'), ('with', 'ADP'), ('the', 'DET'), ('interest', 'NOUN'), ('rates', 'NOUN'), ('0', 'X'), ('they', 'PRON'), ('pay', 'VERB'), ('*T*-1', 'X'), ('on', 'ADP'), ('their', 'PRON'), ('deposits', 'NOUN'), ('and', 'CONJ'), ('charge', 'NOUN'), ('*T*-1', 'X'), ('on', 'ADP'), ('their', 'PRON'), ('loans', 'NOUN'), ('.', '.'), ('Neither', 'DET'), ('company', 'NOUN'), ('would', 'VERB'), ('disclose', 'NOUN'), ('the', 'DET'), ('program', 'NOUN'), (\"'s\", 'PRT'), ('cost', 'VERB'), ('.', '.'), ('In', 'ADP'), ('composite', 'ADJ'), ('New', 'NOUN'), ('York', 'NOUN'), ('Stock', 'NOUN'), ('Exchange', 'NOUN'), ('trading', 'NOUN'), (',', '.'), ('the', 'DET'), ('shares', 'NOUN'), ('closed', 'VERB'), ('at', 'ADP'), ('$', '.'), ('177', 'NUM'), ('*U*', 'X'), (',', '.'), ('up', 'ADV'), ('$', '.'), ('1.50', 'NOUN'), ('*U*', 'X'), ('.', '.'), ('J.L.', 'NOUN'), ('Henry', 'NOUN'), ('&', 'CONJ'), ('Co.', 'NOUN'), (',', '.'), ('Miami', 'NOUN'), (',', '.'), ('and', 'CONJ'), ('a', 'DET'), ('principal', 'NOUN'), ('of', 'ADP'), ('the', 'DET'), ('firm', 'NOUN'), (',', '.'), ('Henry', 'NOUN'), ('I.', 'NOUN'), ('Otero', 'NOUN'), ('of', 'ADP'), ('Miami', 'NOUN'), (',', '.'), ('were', 'VERB'), ('jointly', 'ADV'), ('fined', 'VERB'), ('*-1', 'X'), ('$', '.'), ('30,000', 'NUM'), ('*U*', 'X'), ('and', 'CONJ'), ('expelled', 'VERB'), ('*-1', 'X'), (',', '.'), ('for', 'ADP'), ('alleged', 'ADJ'), ('improper', 'NOUN'), ('use', 'VERB'), ('of', 'ADP'), ('a', 'DET'), ('customer', 'NOUN'), (\"'s\", 'PRT'), ('funds', 'NOUN'), (',', '.'), ('among', 'ADP'), ('other', 'ADJ'), ('things', 'NOUN'), ('.', '.'), ('The', 'DET'), ('first', 'ADJ'), ('Champagne', 'NOUN'), ('0', 'X'), ('*T*-1', 'X'), ('to', 'PRT'), ('crack', 'NOUN'), ('that', 'ADP'), ('price', 'NOUN'), ('barrier', 'NOUN'), ('was', 'VERB'), ('the', 'DET'), ('1979', 'NUM'), ('Salon', 'NOUN'), ('de', 'ADP'), ('Mesnil', 'NOUN'), ('Blanc', 'NOUN'), ('de', 'ADP'), ('Blancs', 'NOUN'), ('.', '.'), ('But', 'CONJ'), ('it', 'PRON'), ('*EXP*-1', 'X'), ('is', 'VERB'), (\"n't\", 'ADV'), ('clear', 'ADJ'), ('yet', 'ADV'), ('whether', 'ADP'), ('the', 'DET'), ('central', 'ADJ'), ('bank', 'NOUN'), ('will', 'VERB'), ('make', 'VERB'), ('such', 'ADJ'), ('a', 'DET'), ('move', 'NOUN'), ('.', '.'), ('January', 'NOUN'), ('platinum', 'NOUN'), ('was', 'VERB'), ('down', 'ADV'), ('$', '.'), ('5.70', 'NOUN'), ('*U*', 'X'), ('an', 'DET'), ('ounce', 'NOUN'), ('at', 'ADP'), ('$', '.'), ('494.50', 'NOUN'), ('*U*', 'X'), ('.', '.')]\n"
     ]
    }
   ],
   "source": [
    "# tagging the test sentences\n",
    "start = time.time()\n",
    "tagged_seq = Viterbi_modified2(test_tagged_words)\n",
    "end = time.time()\n",
    "print(tagged_seq)"
   ]
  },
  {
   "cell_type": "code",
   "execution_count": 56,
   "metadata": {},
   "outputs": [
    {
     "name": "stdout",
     "output_type": "stream",
     "text": [
      "Time taken in seconds:  2742.8710153102875\n"
     ]
    }
   ],
   "source": [
    "# Printing the time\n",
    "difference = end-start\n",
    "print(\"Time taken in seconds: \", difference)"
   ]
  },
  {
   "cell_type": "code",
   "execution_count": 57,
   "metadata": {},
   "outputs": [],
   "source": [
    "# accuracy\n",
    "check = [i for i, j in zip(tagged_seq, test_run_base) if i == j] "
   ]
  },
  {
   "cell_type": "code",
   "execution_count": 58,
   "metadata": {},
   "outputs": [
    {
     "data": {
      "text/plain": [
       "0.9396500884607824"
      ]
     },
     "execution_count": 58,
     "metadata": {},
     "output_type": "execute_result"
    }
   ],
   "source": [
    "accuracy = len(check)/len(tagged_seq)\n",
    "accuracy"
   ]
  },
  {
   "cell_type": "markdown",
   "metadata": {},
   "source": [
    "###############################################################################################################################\n",
    "### Compare the tagging accuracies of the modifications with the vanilla Viterbi algorithm\n",
    "###############################################################################################################################"
   ]
  },
  {
   "cell_type": "markdown",
   "metadata": {},
   "source": [
    "### The tagging accuracy of the test set for Vanilla Viterbi Algorithm is: 0.9137\n",
    "### The tagging accuracy of the test set for modified Viterbi Algorithm - Solution 1 is: 0.9388\n",
    "### The tagging accuracy of the test set for modified Viterbi Algorithm - Solution 2 is: 0.9396 \n",
    "\n",
    "### Thus it could be seen that the tagging accuracy has increased in the modified Viterbi Algorithm for Solution 1 and Solution 2"
   ]
  },
  {
   "cell_type": "markdown",
   "metadata": {},
   "source": [
    "###############################################################################################################################\n",
    "### List down cases which were incorrectly tagged by original POS tagger and got corrected by your modifications\n",
    "###############################################################################################################################"
   ]
  },
  {
   "cell_type": "markdown",
   "metadata": {},
   "source": [
    "### The cases which were originally tagged incorrectly by Vanilla Viterbi based POS tagger are:\n",
    "####  ('science', 'CONJ'),  ('Walkman', 'CONJ'), ('protocols', 'CONJ'),  ('acquirers', 'CONJ')\n",
    "\n",
    "### Using the modified Viterbi Algorithm for Solution 1 and Solution 2, the originally incorrectly tagged cases were corrected as below:\n",
    "#### ('science', 'NOUN), ('Walkman','NOUN), ('protocols', 'NOUN'),  ('acquirers', 'NOUN')"
   ]
  },
  {
   "cell_type": "markdown",
   "metadata": {},
   "source": [
    "####################################################################################\n",
    "### Running the sample test file provided\n",
    "#####################################################################################"
   ]
  },
  {
   "cell_type": "code",
   "execution_count": 74,
   "metadata": {},
   "outputs": [
    {
     "data": {
      "text/plain": [
       "['Android is a mobile operating system developed by Google.',\n",
       " 'Android has been the best-selling OS worldwide on smartphones since 2011 and on tablets since 2013.',\n",
       " \"Google and Twitter made a deal in 2015 that gave Google access to Twitter's firehose.\",\n",
       " 'Twitter is an online news and social networking service on which users post and interact with messages known as tweets.',\n",
       " 'Before entering politics, Donald Trump was a domineering businessman and a television personality.',\n",
       " 'The 2018 FIFA World Cup is the 21st FIFA World Cup, an international football tournament contested once every four years.',\n",
       " 'This is the first World Cup to be held in Eastern Europe and the 11th time that it has been held in Europe.',\n",
       " 'Show me the cheapest round trips from Dallas to Atlanta',\n",
       " 'I would like to see flights from Denver to Philadelphia.',\n",
       " 'Show me the price of the flights leaving Atlanta at about 3 in the afternoon and arriving in San Francisco.',\n",
       " 'NASA invited social media users to experience the launch of ICESAT-2 Satellite.']"
      ]
     },
     "execution_count": 74,
     "metadata": {},
     "output_type": "execute_result"
    }
   ],
   "source": [
    "# Open, read and close the Test_sentences file\n",
    "test_sentences_file = open(\"Test_sentences.txt\",\"r\")\n",
    "test_sentences = test_sentences_file.read()\n",
    "sample_test_file = test_sentences.splitlines()\n",
    "sample_test_file = sample_test_file[:-3] # There are 3 blanks at the end of the Test_sentences.txt file\n",
    "test_sentences_file.close()\n",
    "sample_test_file"
   ]
  },
  {
   "cell_type": "code",
   "execution_count": 75,
   "metadata": {},
   "outputs": [
    {
     "data": {
      "text/plain": [
       "['Android',\n",
       " 'is',\n",
       " 'a',\n",
       " 'mobile',\n",
       " 'operating',\n",
       " 'system',\n",
       " 'developed',\n",
       " 'by',\n",
       " 'Google.',\n",
       " 'Android',\n",
       " 'has',\n",
       " 'been',\n",
       " 'the',\n",
       " 'best-selling',\n",
       " 'OS',\n",
       " 'worldwide',\n",
       " 'on',\n",
       " 'smartphones',\n",
       " 'since',\n",
       " '2011',\n",
       " 'and',\n",
       " 'on',\n",
       " 'tablets',\n",
       " 'since',\n",
       " '2013.',\n",
       " 'Google',\n",
       " 'and',\n",
       " 'Twitter',\n",
       " 'made',\n",
       " 'a',\n",
       " 'deal',\n",
       " 'in',\n",
       " '2015',\n",
       " 'that',\n",
       " 'gave',\n",
       " 'Google',\n",
       " 'access',\n",
       " 'to',\n",
       " \"Twitter's\",\n",
       " 'firehose.',\n",
       " 'Twitter',\n",
       " 'is',\n",
       " 'an',\n",
       " 'online',\n",
       " 'news',\n",
       " 'and',\n",
       " 'social',\n",
       " 'networking',\n",
       " 'service',\n",
       " 'on',\n",
       " 'which',\n",
       " 'users',\n",
       " 'post',\n",
       " 'and',\n",
       " 'interact',\n",
       " 'with',\n",
       " 'messages',\n",
       " 'known',\n",
       " 'as',\n",
       " 'tweets.',\n",
       " 'Before',\n",
       " 'entering',\n",
       " 'politics,',\n",
       " 'Donald',\n",
       " 'Trump',\n",
       " 'was',\n",
       " 'a',\n",
       " 'domineering',\n",
       " 'businessman',\n",
       " 'and',\n",
       " 'a',\n",
       " 'television',\n",
       " 'personality.',\n",
       " 'The',\n",
       " '2018',\n",
       " 'FIFA',\n",
       " 'World',\n",
       " 'Cup',\n",
       " 'is',\n",
       " 'the',\n",
       " '21st',\n",
       " 'FIFA',\n",
       " 'World',\n",
       " 'Cup,',\n",
       " 'an',\n",
       " 'international',\n",
       " 'football',\n",
       " 'tournament',\n",
       " 'contested',\n",
       " 'once',\n",
       " 'every',\n",
       " 'four',\n",
       " 'years.',\n",
       " 'This',\n",
       " 'is',\n",
       " 'the',\n",
       " 'first',\n",
       " 'World',\n",
       " 'Cup',\n",
       " 'to',\n",
       " 'be',\n",
       " 'held',\n",
       " 'in',\n",
       " 'Eastern',\n",
       " 'Europe',\n",
       " 'and',\n",
       " 'the',\n",
       " '11th',\n",
       " 'time',\n",
       " 'that',\n",
       " 'it',\n",
       " 'has',\n",
       " 'been',\n",
       " 'held',\n",
       " 'in',\n",
       " 'Europe.',\n",
       " 'Show',\n",
       " 'me',\n",
       " 'the',\n",
       " 'cheapest',\n",
       " 'round',\n",
       " 'trips',\n",
       " 'from',\n",
       " 'Dallas',\n",
       " 'to',\n",
       " 'Atlanta',\n",
       " 'I',\n",
       " 'would',\n",
       " 'like',\n",
       " 'to',\n",
       " 'see',\n",
       " 'flights',\n",
       " 'from',\n",
       " 'Denver',\n",
       " 'to',\n",
       " 'Philadelphia.',\n",
       " 'Show',\n",
       " 'me',\n",
       " 'the',\n",
       " 'price',\n",
       " 'of',\n",
       " 'the',\n",
       " 'flights',\n",
       " 'leaving',\n",
       " 'Atlanta',\n",
       " 'at',\n",
       " 'about',\n",
       " '3',\n",
       " 'in',\n",
       " 'the',\n",
       " 'afternoon',\n",
       " 'and',\n",
       " 'arriving',\n",
       " 'in',\n",
       " 'San',\n",
       " 'Francisco.',\n",
       " 'NASA',\n",
       " 'invited',\n",
       " 'social',\n",
       " 'media',\n",
       " 'users',\n",
       " 'to',\n",
       " 'experience',\n",
       " 'the',\n",
       " 'launch',\n",
       " 'of',\n",
       " 'ICESAT-2',\n",
       " 'Satellite.']"
      ]
     },
     "execution_count": 75,
     "metadata": {},
     "output_type": "execute_result"
    }
   ],
   "source": [
    "# list of untagged words\n",
    "test_file_words = [tup for sent in sample_test_file for tup in sent.split()]\n",
    "test_file_words"
   ]
  },
  {
   "cell_type": "markdown",
   "metadata": {},
   "source": [
    "### Tagging the words using Vanilla Viterbi Algorithm"
   ]
  },
  {
   "cell_type": "code",
   "execution_count": 76,
   "metadata": {},
   "outputs": [
    {
     "name": "stdout",
     "output_type": "stream",
     "text": [
      "[('Android', 'CONJ'), ('is', 'VERB'), ('a', 'DET'), ('mobile', 'ADJ'), ('operating', 'NOUN'), ('system', 'NOUN'), ('developed', 'VERB'), ('by', 'ADP'), ('Google.', 'CONJ'), ('Android', 'CONJ'), ('has', 'VERB'), ('been', 'VERB'), ('the', 'DET'), ('best-selling', 'ADJ'), ('OS', 'CONJ'), ('worldwide', 'CONJ'), ('on', 'ADP'), ('smartphones', 'CONJ'), ('since', 'ADP'), ('2011', 'CONJ'), ('and', 'CONJ'), ('on', 'ADP'), ('tablets', 'NOUN'), ('since', 'ADP'), ('2013.', 'CONJ'), ('Google', 'CONJ'), ('and', 'CONJ'), ('Twitter', 'CONJ'), ('made', 'VERB'), ('a', 'DET'), ('deal', 'NOUN'), ('in', 'ADP'), ('2015', 'CONJ'), ('that', 'DET'), ('gave', 'VERB'), ('Google', 'CONJ'), ('access', 'NOUN'), ('to', 'PRT'), (\"Twitter's\", 'CONJ'), ('firehose.', 'CONJ'), ('Twitter', 'CONJ'), ('is', 'VERB'), ('an', 'DET'), ('online', 'CONJ'), ('news', 'NOUN'), ('and', 'CONJ'), ('social', 'ADJ'), ('networking', 'NOUN'), ('service', 'NOUN'), ('on', 'ADP'), ('which', 'DET'), ('users', 'NOUN'), ('post', 'NOUN'), ('and', 'CONJ'), ('interact', 'CONJ'), ('with', 'ADP'), ('messages', 'CONJ'), ('known', 'VERB'), ('as', 'ADP'), ('tweets.', 'CONJ'), ('Before', 'ADP'), ('entering', 'VERB'), ('politics,', 'CONJ'), ('Donald', 'NOUN'), ('Trump', 'NOUN'), ('was', 'VERB'), ('a', 'DET'), ('domineering', 'CONJ'), ('businessman', 'NOUN'), ('and', 'CONJ'), ('a', 'DET'), ('television', 'NOUN'), ('personality.', 'CONJ'), ('The', 'DET'), ('2018', 'CONJ'), ('FIFA', 'CONJ'), ('World', 'NOUN'), ('Cup', 'CONJ'), ('is', 'VERB'), ('the', 'DET'), ('21st', 'CONJ'), ('FIFA', 'CONJ'), ('World', 'NOUN'), ('Cup,', 'CONJ'), ('an', 'DET'), ('international', 'ADJ'), ('football', 'NOUN'), ('tournament', 'CONJ'), ('contested', 'CONJ'), ('once', 'ADV'), ('every', 'DET'), ('four', 'NUM'), ('years.', 'CONJ'), ('This', 'DET'), ('is', 'VERB'), ('the', 'DET'), ('first', 'ADJ'), ('World', 'NOUN'), ('Cup', 'CONJ'), ('to', 'PRT'), ('be', 'VERB'), ('held', 'VERB'), ('in', 'ADP'), ('Eastern', 'NOUN'), ('Europe', 'NOUN'), ('and', 'CONJ'), ('the', 'DET'), ('11th', 'ADJ'), ('time', 'NOUN'), ('that', 'ADP'), ('it', 'PRON'), ('has', 'VERB'), ('been', 'VERB'), ('held', 'VERB'), ('in', 'ADP'), ('Europe.', 'CONJ'), ('Show', 'NOUN'), ('me', 'PRON'), ('the', 'DET'), ('cheapest', 'ADJ'), ('round', 'NOUN'), ('trips', 'CONJ'), ('from', 'ADP'), ('Dallas', 'NOUN'), ('to', 'PRT'), ('Atlanta', 'NOUN'), ('I', 'PRON'), ('would', 'VERB'), ('like', 'ADP'), ('to', 'PRT'), ('see', 'VERB'), ('flights', 'NOUN'), ('from', 'ADP'), ('Denver', 'NOUN'), ('to', 'PRT'), ('Philadelphia.', 'CONJ'), ('Show', 'NOUN'), ('me', 'PRON'), ('the', 'DET'), ('price', 'NOUN'), ('of', 'ADP'), ('the', 'DET'), ('flights', 'NOUN'), ('leaving', 'VERB'), ('Atlanta', 'NOUN'), ('at', 'ADP'), ('about', 'ADP'), ('3', 'NUM'), ('in', 'ADP'), ('the', 'DET'), ('afternoon', 'NOUN'), ('and', 'CONJ'), ('arriving', 'CONJ'), ('in', 'ADP'), ('San', 'NOUN'), ('Francisco.', 'CONJ'), ('NASA', 'CONJ'), ('invited', 'CONJ'), ('social', 'ADJ'), ('media', 'NOUN'), ('users', 'NOUN'), ('to', 'PRT'), ('experience', 'NOUN'), ('the', 'DET'), ('launch', 'NOUN'), ('of', 'ADP'), ('ICESAT-2', 'CONJ'), ('Satellite.', 'CONJ')]\n"
     ]
    }
   ],
   "source": [
    "# tagging the words\n",
    "start = time.time()\n",
    "tagged_seq = Viterbi(test_file_words)\n",
    "end = time.time()\n",
    "print(tagged_seq)"
   ]
  },
  {
   "cell_type": "code",
   "execution_count": 77,
   "metadata": {},
   "outputs": [
    {
     "name": "stdout",
     "output_type": "stream",
     "text": [
      "Time taken in seconds:  91.78271150588989\n"
     ]
    }
   ],
   "source": [
    "# Printing the time\n",
    "difference = end-start\n",
    "print(\"Time taken in seconds: \", difference)"
   ]
  },
  {
   "cell_type": "markdown",
   "metadata": {},
   "source": [
    "### Tagging the words in modified Viterbi algorithm - Solution 1 - Probability Based\n",
    "### For words in the corpus, state probability = transition probability * emission probaility\n",
    "### For words not in the corpus, state probability = transition probability"
   ]
  },
  {
   "cell_type": "code",
   "execution_count": 78,
   "metadata": {},
   "outputs": [
    {
     "name": "stdout",
     "output_type": "stream",
     "text": [
      "[('Android', 'NOUN'), ('is', 'VERB'), ('a', 'DET'), ('mobile', 'ADJ'), ('operating', 'NOUN'), ('system', 'NOUN'), ('developed', 'VERB'), ('by', 'ADP'), ('Google.', 'DET'), ('Android', 'NOUN'), ('has', 'VERB'), ('been', 'VERB'), ('the', 'DET'), ('best-selling', 'ADJ'), ('OS', 'NOUN'), ('worldwide', 'NOUN'), ('on', 'ADP'), ('smartphones', 'DET'), ('since', 'ADP'), ('2011', 'DET'), ('and', 'CONJ'), ('on', 'ADP'), ('tablets', 'NOUN'), ('since', 'ADP'), ('2013.', 'DET'), ('Google', 'NOUN'), ('and', 'CONJ'), ('Twitter', 'NOUN'), ('made', 'VERB'), ('a', 'DET'), ('deal', 'NOUN'), ('in', 'ADP'), ('2015', 'DET'), ('that', 'ADP'), ('gave', 'VERB'), ('Google', 'X'), ('access', 'NOUN'), ('to', 'PRT'), (\"Twitter's\", 'VERB'), ('firehose.', 'X'), ('Twitter', 'VERB'), ('is', 'VERB'), ('an', 'DET'), ('online', 'NOUN'), ('news', 'NOUN'), ('and', 'CONJ'), ('social', 'ADJ'), ('networking', 'NOUN'), ('service', 'NOUN'), ('on', 'ADP'), ('which', 'DET'), ('users', 'NOUN'), ('post', 'NOUN'), ('and', 'CONJ'), ('interact', 'NOUN'), ('with', 'ADP'), ('messages', 'DET'), ('known', 'VERB'), ('as', 'ADP'), ('tweets.', 'DET'), ('Before', 'ADP'), ('entering', 'VERB'), ('politics,', 'X'), ('Donald', 'NOUN'), ('Trump', 'NOUN'), ('was', 'VERB'), ('a', 'DET'), ('domineering', 'NOUN'), ('businessman', 'NOUN'), ('and', 'CONJ'), ('a', 'DET'), ('television', 'NOUN'), ('personality.', 'NOUN'), ('The', 'DET'), ('2018', 'NOUN'), ('FIFA', 'NOUN'), ('World', 'NOUN'), ('Cup', 'NOUN'), ('is', 'VERB'), ('the', 'DET'), ('21st', 'NOUN'), ('FIFA', 'NOUN'), ('World', 'NOUN'), ('Cup,', 'NOUN'), ('an', 'DET'), ('international', 'ADJ'), ('football', 'NOUN'), ('tournament', 'NOUN'), ('contested', 'NOUN'), ('once', 'ADV'), ('every', 'DET'), ('four', 'NUM'), ('years.', 'NOUN'), ('This', 'DET'), ('is', 'VERB'), ('the', 'DET'), ('first', 'ADJ'), ('World', 'NOUN'), ('Cup', 'NOUN'), ('to', 'PRT'), ('be', 'VERB'), ('held', 'VERB'), ('in', 'ADP'), ('Eastern', 'NOUN'), ('Europe', 'NOUN'), ('and', 'CONJ'), ('the', 'DET'), ('11th', 'ADJ'), ('time', 'NOUN'), ('that', 'ADP'), ('it', 'PRON'), ('has', 'VERB'), ('been', 'VERB'), ('held', 'VERB'), ('in', 'ADP'), ('Europe.', 'DET'), ('Show', 'NOUN'), ('me', 'PRON'), ('the', 'DET'), ('cheapest', 'ADJ'), ('round', 'NOUN'), ('trips', 'NOUN'), ('from', 'ADP'), ('Dallas', 'NOUN'), ('to', 'PRT'), ('Atlanta', 'NOUN'), ('I', 'PRON'), ('would', 'VERB'), ('like', 'ADP'), ('to', 'PRT'), ('see', 'VERB'), ('flights', 'NOUN'), ('from', 'ADP'), ('Denver', 'NOUN'), ('to', 'PRT'), ('Philadelphia.', 'VERB'), ('Show', 'NOUN'), ('me', 'PRON'), ('the', 'DET'), ('price', 'NOUN'), ('of', 'ADP'), ('the', 'DET'), ('flights', 'NOUN'), ('leaving', 'VERB'), ('Atlanta', 'NOUN'), ('at', 'ADP'), ('about', 'ADP'), ('3', 'NUM'), ('in', 'ADP'), ('the', 'DET'), ('afternoon', 'NOUN'), ('and', 'CONJ'), ('arriving', 'NOUN'), ('in', 'ADP'), ('San', 'NOUN'), ('Francisco.', 'NOUN'), ('NASA', 'NOUN'), ('invited', 'NOUN'), ('social', 'ADJ'), ('media', 'NOUN'), ('users', 'NOUN'), ('to', 'PRT'), ('experience', 'NOUN'), ('the', 'DET'), ('launch', 'NOUN'), ('of', 'ADP'), ('ICESAT-2', 'DET'), ('Satellite.', 'NOUN')]\n"
     ]
    }
   ],
   "source": [
    "# tagging the words\n",
    "start = time.time()\n",
    "tagged_seq = Viterbi_modified1(test_file_words)\n",
    "end = time.time()\n",
    "print(tagged_seq)"
   ]
  },
  {
   "cell_type": "code",
   "execution_count": 79,
   "metadata": {},
   "outputs": [
    {
     "name": "stdout",
     "output_type": "stream",
     "text": [
      "Time taken in seconds:  89.94888973236084\n"
     ]
    }
   ],
   "source": [
    "# Printing the time\n",
    "difference = end-start\n",
    "print(\"Time taken in seconds: \", difference)"
   ]
  },
  {
   "cell_type": "markdown",
   "metadata": {},
   "source": [
    "### Tagging the words in modified Viterbi algorithm - Solution 2 - Rule Based\n",
    "### Assign all unknown words the most frequent POS tag of the corpus"
   ]
  },
  {
   "cell_type": "code",
   "execution_count": 80,
   "metadata": {},
   "outputs": [
    {
     "name": "stdout",
     "output_type": "stream",
     "text": [
      "[('Android', 'NOUN'), ('is', 'VERB'), ('a', 'DET'), ('mobile', 'ADJ'), ('operating', 'NOUN'), ('system', 'NOUN'), ('developed', 'VERB'), ('by', 'ADP'), ('Google.', 'NOUN'), ('Android', 'NOUN'), ('has', 'VERB'), ('been', 'VERB'), ('the', 'DET'), ('best-selling', 'ADJ'), ('OS', 'NOUN'), ('worldwide', 'NOUN'), ('on', 'ADP'), ('smartphones', 'NOUN'), ('since', 'ADP'), ('2011', 'NOUN'), ('and', 'CONJ'), ('on', 'ADP'), ('tablets', 'NOUN'), ('since', 'ADP'), ('2013.', 'NOUN'), ('Google', 'NOUN'), ('and', 'CONJ'), ('Twitter', 'NOUN'), ('made', 'VERB'), ('a', 'DET'), ('deal', 'NOUN'), ('in', 'ADP'), ('2015', 'NOUN'), ('that', 'ADP'), ('gave', 'VERB'), ('Google', 'NOUN'), ('access', 'NOUN'), ('to', 'PRT'), (\"Twitter's\", 'NOUN'), ('firehose.', 'NOUN'), ('Twitter', 'NOUN'), ('is', 'VERB'), ('an', 'DET'), ('online', 'NOUN'), ('news', 'NOUN'), ('and', 'CONJ'), ('social', 'ADJ'), ('networking', 'NOUN'), ('service', 'NOUN'), ('on', 'ADP'), ('which', 'DET'), ('users', 'NOUN'), ('post', 'NOUN'), ('and', 'CONJ'), ('interact', 'NOUN'), ('with', 'ADP'), ('messages', 'NOUN'), ('known', 'VERB'), ('as', 'ADP'), ('tweets.', 'NOUN'), ('Before', 'ADP'), ('entering', 'VERB'), ('politics,', 'NOUN'), ('Donald', 'NOUN'), ('Trump', 'NOUN'), ('was', 'VERB'), ('a', 'DET'), ('domineering', 'NOUN'), ('businessman', 'NOUN'), ('and', 'CONJ'), ('a', 'DET'), ('television', 'NOUN'), ('personality.', 'NOUN'), ('The', 'DET'), ('2018', 'NOUN'), ('FIFA', 'NOUN'), ('World', 'NOUN'), ('Cup', 'NOUN'), ('is', 'VERB'), ('the', 'DET'), ('21st', 'NOUN'), ('FIFA', 'NOUN'), ('World', 'NOUN'), ('Cup,', 'NOUN'), ('an', 'DET'), ('international', 'ADJ'), ('football', 'NOUN'), ('tournament', 'NOUN'), ('contested', 'NOUN'), ('once', 'ADV'), ('every', 'DET'), ('four', 'NUM'), ('years.', 'NOUN'), ('This', 'DET'), ('is', 'VERB'), ('the', 'DET'), ('first', 'ADJ'), ('World', 'NOUN'), ('Cup', 'NOUN'), ('to', 'PRT'), ('be', 'VERB'), ('held', 'VERB'), ('in', 'ADP'), ('Eastern', 'NOUN'), ('Europe', 'NOUN'), ('and', 'CONJ'), ('the', 'DET'), ('11th', 'ADJ'), ('time', 'NOUN'), ('that', 'ADP'), ('it', 'PRON'), ('has', 'VERB'), ('been', 'VERB'), ('held', 'VERB'), ('in', 'ADP'), ('Europe.', 'NOUN'), ('Show', 'NOUN'), ('me', 'PRON'), ('the', 'DET'), ('cheapest', 'ADJ'), ('round', 'NOUN'), ('trips', 'NOUN'), ('from', 'ADP'), ('Dallas', 'NOUN'), ('to', 'PRT'), ('Atlanta', 'NOUN'), ('I', 'PRON'), ('would', 'VERB'), ('like', 'ADP'), ('to', 'PRT'), ('see', 'VERB'), ('flights', 'NOUN'), ('from', 'ADP'), ('Denver', 'NOUN'), ('to', 'PRT'), ('Philadelphia.', 'NOUN'), ('Show', 'NOUN'), ('me', 'PRON'), ('the', 'DET'), ('price', 'NOUN'), ('of', 'ADP'), ('the', 'DET'), ('flights', 'NOUN'), ('leaving', 'VERB'), ('Atlanta', 'NOUN'), ('at', 'ADP'), ('about', 'ADP'), ('3', 'NUM'), ('in', 'ADP'), ('the', 'DET'), ('afternoon', 'NOUN'), ('and', 'CONJ'), ('arriving', 'NOUN'), ('in', 'ADP'), ('San', 'NOUN'), ('Francisco.', 'NOUN'), ('NASA', 'NOUN'), ('invited', 'NOUN'), ('social', 'ADJ'), ('media', 'NOUN'), ('users', 'NOUN'), ('to', 'PRT'), ('experience', 'NOUN'), ('the', 'DET'), ('launch', 'NOUN'), ('of', 'ADP'), ('ICESAT-2', 'NOUN'), ('Satellite.', 'NOUN')]\n"
     ]
    }
   ],
   "source": [
    "# tagging the words\n",
    "start = time.time()\n",
    "tagged_seq = Viterbi_modified2(test_file_words)\n",
    "end = time.time()\n",
    "print(tagged_seq)"
   ]
  },
  {
   "cell_type": "code",
   "execution_count": 81,
   "metadata": {},
   "outputs": [
    {
     "name": "stdout",
     "output_type": "stream",
     "text": [
      "Time taken in seconds:  93.31270909309387\n"
     ]
    }
   ],
   "source": [
    "# Printing the time\n",
    "difference = end-start\n",
    "print(\"Time taken in seconds: \", difference)"
   ]
  },
  {
   "cell_type": "markdown",
   "metadata": {},
   "source": [
    "### Words incorrectly tagged by Vanilla Viterbi Algorithm\n",
    "#### ('Android', 'CONJ'), ('Twitter', 'CONJ'), ('Cup,', 'CONJ'), ('tournament', 'CONJ')\n",
    "\n",
    "### The above mentioned incorrect taggin was corrected as shown below using both the modified Viterbi methods  - Solution 1 and Solution 2\n",
    "#### ('Android', 'NOUN'), ('Twitter', 'NOUN'), ('Cup,', 'NOUN'), ('tournament', 'NOUN')"
   ]
  }
 ],
 "metadata": {
  "kernelspec": {
   "display_name": "Python 3",
   "language": "python",
   "name": "python3"
  },
  "language_info": {
   "codemirror_mode": {
    "name": "ipython",
    "version": 3
   },
   "file_extension": ".py",
   "mimetype": "text/x-python",
   "name": "python",
   "nbconvert_exporter": "python",
   "pygments_lexer": "ipython3",
   "version": "3.8.5"
  }
 },
 "nbformat": 4,
 "nbformat_minor": 2
}
